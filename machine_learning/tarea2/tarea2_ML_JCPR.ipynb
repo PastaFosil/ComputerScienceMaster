{
 "cells": [
  {
   "cell_type": "code",
   "execution_count": 2,
   "metadata": {},
   "outputs": [],
   "source": [
    "import numpy as np\n",
    "from sklearn.datasets import fetch_openml\n",
    "from sklearn.model_selection import train_test_split"
   ]
  },
  {
   "cell_type": "code",
   "execution_count": null,
   "metadata": {},
   "outputs": [],
   "source": [
    "def stochastic_ADAMW(theta, grad=None, gd_params={}, f_params={}):\n",
    "    '''\n",
    "    Descenso de Gradiente Adaptable con Momentum y Decaimiento de Peso (AdamW) en versión estocástica\n",
    "    (se remezclan los datos entre época y época y se usan mini-batches).\n",
    "\n",
    "    Parámetros\n",
    "    -----------\n",
    "    theta     :   vector de parámetros iniciales\n",
    "    grad      :   función que calcula el gradiente, con firma grad(theta, f_params)\n",
    "    gd_params :   diccionario con parámetros del algoritmo:\n",
    "                    - nEpochs    : número de épocas\n",
    "                    - batch_size : tamaño del mini-batch\n",
    "                    - alphaADAM  : tamaño de paso (alpha)\n",
    "                    - eta1       : coeficiente para el primer momento (momentum en la dirección del gradiente, 0 < eta1 < 1)\n",
    "                    - eta2       : coeficiente para el segundo momento (momentum en el cuadrado del gradiente, 0 < eta2 < 1)\n",
    "                    - decay      : factor de decaimiento para el peso (decoupled weight decay)\n",
    "    f_params  :   diccionario con parámetros de la función objetivo:\n",
    "                    - kappa : parámetro de escala (por ejemplo, para rechazo de outliers)\n",
    "                    - X     : matriz de variables independientes (datos de entrada)\n",
    "                    - y     : vector de variables dependientes (etiquetas)\n",
    "\n",
    "    Regresa\n",
    "    -----------\n",
    "    Theta     :   trayectoria de los parámetros. Theta[-1] es el valor final.\n",
    "    '''\n",
    "    import numpy as np\n",
    "\n",
    "    epsilon = 1e-8\n",
    "    nEpochs    = gd_params['nEpochs']\n",
    "    batch_size = gd_params['batch_size']\n",
    "    alpha      = gd_params['alphaADAM']\n",
    "    eta1       = gd_params['eta1']\n",
    "    eta2       = gd_params['eta2']\n",
    "    decay      = gd_params['decay']\n",
    "    \n",
    "    X = f_params['X']\n",
    "    y = f_params['y']\n",
    "    N = X.shape[0]\n",
    "    \n",
    "    Theta = []\n",
    "    \n",
    "    # Inicialización de los momentos\n",
    "    p = np.zeros(theta.shape)\n",
    "    v = np.zeros(theta.shape)\n",
    "    \n",
    "    t_total = 0  # contador global de actualizaciones\n",
    "\n",
    "    # Entrenamiento por épocas\n",
    "    for epoch in range(nEpochs):\n",
    "        # Mezclar aleatoriamente los datos al inicio de cada época\n",
    "        indices = np.arange(N)\n",
    "        np.random.shuffle(indices)\n",
    "        X_shuffled = X[indices]\n",
    "        y_shuffled = y[indices]\n",
    "        \n",
    "        # Iterar sobre mini-batches\n",
    "        for i in range(0, N, batch_size):\n",
    "            t_total += 1\n",
    "            X_batch = X_shuffled[i:i+batch_size]\n",
    "            y_batch = y_shuffled[i:i+batch_size]\n",
    "            \n",
    "            # Parámetros para la función objetivo con el mini-batch actual\n",
    "            batch_params = {\n",
    "                'kappa': f_params['kappa'],\n",
    "                'X': X_batch,\n",
    "                'y': y_batch\n",
    "            }\n",
    "            \n",
    "            # Calcular el gradiente usando el mini-batch actual\n",
    "            g = grad(theta, f_params=batch_params)\n",
    "            \n",
    "            # Actualización de los momentos\n",
    "            p = eta1 * p + (1 - eta1) * g\n",
    "            v = eta2 * v + (1 - eta2) * (g**2)\n",
    "            \n",
    "            # Correcciones de sesgo\n",
    "            p_hat = p / (1 - (eta1 ** t_total))\n",
    "            v_hat = v / (1 - (eta2 ** t_total))\n",
    "            \n",
    "            # Actualización de parámetros usando AdamW (decaimiento desacoplado)\n",
    "            theta = theta - alpha * (p_hat / (np.sqrt(v_hat) + epsilon) + decay * theta)\n",
    "            \n",
    "            Theta.append(theta.copy())\n",
    "    \n",
    "    return np.array(Theta)\n"
   ]
  },
  {
   "cell_type": "markdown",
   "metadata": {},
   "source": [
    "# Carga de la base MNIST"
   ]
  },
  {
   "cell_type": "code",
   "execution_count": 46,
   "metadata": {},
   "outputs": [
    {
     "name": "stderr",
     "output_type": "stream",
     "text": [
      "/home/juancho/.local/lib/python3.10/site-packages/sklearn/datasets/_openml.py:968: FutureWarning: The default value of `parser` will change from `'liac-arff'` to `'auto'` in 1.4. You can set `parser='auto'` to silence this warning. Therefore, an `ImportError` will be raised from 1.4 if the dataset is dense and pandas is not installed. Note that the pandas parser may return different data types. See the Notes Section in fetch_openml's API doc for details.\n",
      "  warn(\n"
     ]
    },
    {
     "name": "stdout",
     "output_type": "stream",
     "text": [
      "(56000, 784) (56000,)\n",
      "(14000, 784) (14000,)\n"
     ]
    }
   ],
   "source": [
    "mnist = fetch_openml(\"mnist_784\")\n",
    "X, y = mnist.data, mnist.target.astype(int)\n",
    "\n",
    "# Separar en conjuntos de entrenamiento y prueba\n",
    "X_train, X_test, y_train, y_test = train_test_split(X, y, test_size=0.2, random_state=42)\n",
    "\n",
    "# Normalizar datos\n",
    "X_train = X_train / 255.0\n",
    "X_test  = X_test  / 255.0\n",
    "\n",
    "X_train = X_train.to_numpy()\n",
    "X_test = X_test.to_numpy()\n",
    "y_train = y_train.to_numpy()\n",
    "y_test = y_test.to_numpy()\n",
    "\n",
    "# dimensiones de los conjuntos\n",
    "print(X_train.shape, y_train.shape)\n",
    "print(X_test.shape, y_test.shape)"
   ]
  },
  {
   "cell_type": "markdown",
   "metadata": {},
   "source": [
    "# Funcion de activacion"
   ]
  },
  {
   "cell_type": "code",
   "execution_count": 17,
   "metadata": {},
   "outputs": [],
   "source": [
    "def phi(x):\n",
    "    return 1/(1+np.exp(-x))\n",
    "def softmax(x):\n",
    "    e = np.exp(x - np.max(x))\n",
    "    return e / e.sum(axis=0)"
   ]
  },
  {
   "cell_type": "markdown",
   "metadata": {},
   "source": [
    "# Funcion de entrenamiento del modelo"
   ]
  },
  {
   "cell_type": "code",
   "execution_count": 41,
   "metadata": {},
   "outputs": [],
   "source": [
    "import numpy as np\n",
    "\n",
    "def phi(x):\n",
    "    return 1 / (1 + np.exp(-x))\n",
    "\n",
    "def softmax(x):\n",
    "    exp_x = np.exp(x - np.max(x, axis=1, keepdims=True))\n",
    "    return exp_x / np.sum(exp_x, axis=1, keepdims=True)\n",
    "\n",
    "def train_model(X, y, gd_params={}, hidden_size=64, output_size=10, learning_rate=1e-4, epochs=30):\n",
    "    epsilon = 1e-8\n",
    "    batch_size = gd_params['batch_size']\n",
    "    alpha      = gd_params['alphaADAM']\n",
    "    eta1       = gd_params['eta1']\n",
    "    eta2       = gd_params['eta2']\n",
    "    decay      = gd_params['decay']\n",
    "\n",
    "    input_size = X.shape[1]\n",
    "    indices = np.arange(X.shape[0])\n",
    "\n",
    "    np.random.seed(0)  # descomentar si queremos replicar el entrenamiento\n",
    "    W_1 = 0.1 * np.random.randn(input_size, hidden_size)\n",
    "    b_1 = 0.1 * np.zeros((1, hidden_size))\n",
    "    W_2 = 0.1 * np.random.randn(hidden_size, output_size)\n",
    "    b_2 = 0.1 * np.zeros((1, output_size))\n",
    "\n",
    "    # Inicialización de los momentos\n",
    "    p_W1 = np.zeros_like(W_1)\n",
    "    p_b1 = np.zeros_like(b_1)\n",
    "    p_W2 = np.zeros_like(W_2)\n",
    "    p_b2 = np.zeros_like(b_2)\n",
    "    v_W1 = np.zeros_like(W_1)\n",
    "    v_b1 = np.zeros_like(b_1)\n",
    "    v_W2 = np.zeros_like(W_2)\n",
    "    v_b2 = np.zeros_like(b_2)\n",
    "\n",
    "    t_total = 0  # contador global de actualizaciones\n",
    "    Losses = []\n",
    "\n",
    "    for epoch in range(epochs):\n",
    "        np.random.shuffle(indices)\n",
    "        epoch_loss = 0.0\n",
    "        n_batches = len(indices) // batch_size\n",
    "\n",
    "        for i in range(0, len(indices), batch_size):\n",
    "            t_total += 1\n",
    "            batch_idx = indices[i : i + batch_size]\n",
    "\n",
    "            X_train = X[batch_idx]\n",
    "            y_train = y[batch_idx]\n",
    "            # Codificación one-hot\n",
    "            y_train_onehot = np.eye(output_size)[y_train]\n",
    "\n",
    "            # Forward\n",
    "            y_0 = X_train\n",
    "            z_1 = y_0 @ W_1 + b_1\n",
    "            y_1 = phi(z_1)\n",
    "            z_2 = y_1 @ W_2 + b_2\n",
    "            y_2 = softmax(z_2)\n",
    "\n",
    "            # Pérdida de este mini‐batch\n",
    "            batch_loss = -np.mean(np.sum(y_train_onehot * np.log(y_2 + epsilon), axis=1))\n",
    "            epoch_loss += batch_loss\n",
    "\n",
    "            # Backpropagation\n",
    "            delta_2 = y_2 - y_train_onehot  # derivada de softmax + entropía cruzada\n",
    "            delta_1 = (delta_2 @ W_2.T) * (y_1 * (1 - y_1))  # derivada sigmoide\n",
    "\n",
    "            grad_W2 = y_1.T @ delta_2\n",
    "            grad_b2 = np.sum(delta_2, axis=0, keepdims=True)  # (1, output_size)\n",
    "            grad_W1 = y_0.T @ delta_1\n",
    "            grad_b1 = np.sum(delta_1, axis=0, keepdims=True)  # (1, hidden_size)\n",
    "\n",
    "            # Actualización de los momentos\n",
    "            p_W1 = eta1 * p_W1 + (1 - eta1) * grad_W1\n",
    "            p_b1 = eta1 * p_b1 + (1 - eta1) * grad_b1\n",
    "            p_W2 = eta1 * p_W2 + (1 - eta1) * grad_W2\n",
    "            p_b2 = eta1 * p_b2 + (1 - eta1) * grad_b2\n",
    "\n",
    "            v_W1 = eta2 * v_W1 + (1 - eta2) * (grad_W1**2)\n",
    "            v_b1 = eta2 * v_b1 + (1 - eta2) * (grad_b1**2)\n",
    "            v_W2 = eta2 * v_W2 + (1 - eta2) * (grad_W2**2)\n",
    "            v_b2 = eta2 * v_b2 + (1 - eta2) * (grad_b2**2)\n",
    "\n",
    "            # Correcciones de sesgo\n",
    "            p_W1_hat = p_W1 / (1 - eta1**t_total)\n",
    "            p_b1_hat = p_b1 / (1 - eta1**t_total)\n",
    "            p_W2_hat = p_W2 / (1 - eta1**t_total)\n",
    "            p_b2_hat = p_b2 / (1 - eta1**t_total)\n",
    "            v_W1_hat = v_W1 / (1 - eta2**t_total)\n",
    "            v_b1_hat = v_b1 / (1 - eta2**t_total)\n",
    "            v_W2_hat = v_W2 / (1 - eta2**t_total)\n",
    "            v_b2_hat = v_b2 / (1 - eta2**t_total)\n",
    "\n",
    "            # Actualización de parámetros usando AdamW (decaimiento desacoplado)\n",
    "            W_1 -= alpha * (p_W1_hat / (np.sqrt(v_W1_hat) + epsilon) + decay * W_1)\n",
    "            b_1 -= alpha * (p_b1_hat / (np.sqrt(v_b1_hat) + epsilon) + decay * b_1)\n",
    "            W_2 -= alpha * (p_W2_hat / (np.sqrt(v_W2_hat) + epsilon) + decay * W_2)\n",
    "            b_2 -= alpha * (p_b2_hat / (np.sqrt(v_b2_hat) + epsilon) + decay * b_2)\n",
    "\n",
    "        # Pérdida promedio de la época\n",
    "        epoch_loss /= n_batches\n",
    "        print(f\"Epoch {epoch}, Loss: {epoch_loss}\")\n",
    "        Losses.append([epoch, epoch_loss])\n",
    "\n",
    "    Losses = np.array(Losses)\n",
    "    return W_1, b_1, W_2, b_2, Losses"
   ]
  },
  {
   "cell_type": "markdown",
   "metadata": {},
   "source": [
    "# Prueba"
   ]
  },
  {
   "cell_type": "code",
   "execution_count": 42,
   "metadata": {},
   "outputs": [],
   "source": [
    "# Parámetros para el algoritmo\n",
    "gd_params = {'alpha'          : 0.1, \n",
    "             'alphaADADELTA'  : 0.7,\n",
    "             'alphaADAM'      : 0.05,\n",
    "             'nIter'          : 100,\n",
    "             'batch_size'     : 200,\n",
    "             'eta'            : 0.9,\n",
    "             'eta1'           : 0.9,\n",
    "             'eta2'           : 0.999,\n",
    "             'decay'          : 0.01}"
   ]
  },
  {
   "cell_type": "code",
   "execution_count": 47,
   "metadata": {},
   "outputs": [
    {
     "name": "stdout",
     "output_type": "stream",
     "text": [
      "Epoch 0, Loss: 0.3140495538196017\n",
      "Epoch 1, Loss: 0.18552078909394842\n",
      "Epoch 2, Loss: 0.1588816568128242\n",
      "Epoch 3, Loss: 0.14989503426002113\n",
      "Epoch 4, Loss: 0.1433401739802839\n",
      "Epoch 5, Loss: 0.13253924863827846\n",
      "Epoch 6, Loss: 0.13583082451835415\n",
      "Epoch 7, Loss: 0.13920990992329385\n",
      "Epoch 8, Loss: 0.13848870434427302\n",
      "Epoch 9, Loss: 0.1373837516494971\n",
      "Epoch 10, Loss: 0.13239066942340433\n",
      "Epoch 11, Loss: 0.12090984155107766\n",
      "Epoch 12, Loss: 0.12633744210599337\n",
      "Epoch 13, Loss: 0.12483098142024193\n",
      "Epoch 14, Loss: 0.12687017561567202\n",
      "Epoch 15, Loss: 0.12871814473653506\n",
      "Epoch 16, Loss: 0.1357553283521728\n",
      "Epoch 17, Loss: 0.12449951774994923\n",
      "Epoch 18, Loss: 0.11726481710135549\n",
      "Epoch 19, Loss: 0.11793358868237286\n",
      "Epoch 20, Loss: 0.1264653717421178\n",
      "Epoch 21, Loss: 0.12348992908886999\n",
      "Epoch 22, Loss: 0.1192853240026653\n",
      "Epoch 23, Loss: 0.12141040816440327\n",
      "Epoch 24, Loss: 0.11986682902377058\n",
      "Epoch 25, Loss: 0.11721908274652375\n",
      "Epoch 26, Loss: 0.11346880593007042\n",
      "Epoch 27, Loss: 0.11984184618775603\n",
      "Epoch 28, Loss: 0.12706023476771527\n",
      "Epoch 29, Loss: 0.11919718981640724\n"
     ]
    }
   ],
   "source": [
    "W_1, b_1, W_2, b_2, Losses = train_model(X_train, y_train, gd_params)"
   ]
  },
  {
   "cell_type": "code",
   "execution_count": 48,
   "metadata": {},
   "outputs": [
    {
     "data": {
      "text/plain": [
       "Text(0.5, 1.0, 'Evolución de la pérdida durante entrenamiento')"
      ]
     },
     "execution_count": 48,
     "metadata": {},
     "output_type": "execute_result"
    },
    {
     "data": {
      "image/png": "[encoded data removed]",
      "text/plain": [
       "<Figure size 1000x300 with 1 Axes>"
      ]
     },
     "metadata": {},
     "output_type": "display_data"
    }
   ],
   "source": [
    "import matplotlib.pyplot as plt\n",
    "\n",
    "plt.figure(figsize=(10,3))\n",
    "plt.plot(Losses[:,0],Losses[:,1])\n",
    "plt.title('Evolución de la pérdida durante entrenamiento')"
   ]
  },
  {
   "cell_type": "code",
   "execution_count": 49,
   "metadata": {},
   "outputs": [
    {
     "name": "stdout",
     "output_type": "stream",
     "text": [
      "Exactitud de Prueba (Test accuracy): 94.87857142857142%\n"
     ]
    }
   ],
   "source": [
    "z_1 = X_test @ W_1 + b_1\n",
    "y_1 = phi(z_1)\n",
    "z_2 = y_1 @ W_2 + b_2\n",
    "y_2 = softmax(z_2)\n",
    "\n",
    "# Predicciones: índice con mayor probabilidad para cada ejemplo\n",
    "predictions = np.argmax(y_2, axis=1)\n",
    "y_test = np.array(y_test)\n",
    "\n",
    "# Calcular Exactitud: porcentaje de clasificaciones correctas\n",
    "accuracy = np.mean(predictions == y_test)\n",
    "print(f\"Exactitud de Prueba (Test accuracy): {accuracy * 100}%\")\n"
   ]
  }
 ],
 "metadata": {
  "kernelspec": {
   "display_name": "Python 3",
   "language": "python",
   "name": "python3"
  },
  "language_info": {
   "codemirror_mode": {
    "name": "ipython",
    "version": 3
   },
   "file_extension": ".py",
   "mimetype": "text/x-python",
   "name": "python",
   "nbconvert_exporter": "python",
   "pygments_lexer": "ipython3",
   "version": "3.10.12"
  }
 },
 "nbformat": 4,
 "nbformat_minor": 2
}
