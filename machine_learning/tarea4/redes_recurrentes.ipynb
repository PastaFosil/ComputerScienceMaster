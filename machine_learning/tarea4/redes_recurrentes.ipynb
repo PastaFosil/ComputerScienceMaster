{
 "cells": [
  {
   "cell_type": "code",
   "execution_count": null,
   "id": "4086e7cd",
   "metadata": {},
   "outputs": [
    {
     "name": "stderr",
     "output_type": "stream",
     "text": [
      "2025-04-27 13:32:09.670164: E external/local_xla/xla/stream_executor/cuda/cuda_dnn.cc:9261] Unable to register cuDNN factory: Attempting to register factory for plugin cuDNN when one has already been registered\n",
      "2025-04-27 13:32:09.670192: E external/local_xla/xla/stream_executor/cuda/cuda_fft.cc:607] Unable to register cuFFT factory: Attempting to register factory for plugin cuFFT when one has already been registered\n",
      "2025-04-27 13:32:09.670963: E external/local_xla/xla/stream_executor/cuda/cuda_blas.cc:1515] Unable to register cuBLAS factory: Attempting to register factory for plugin cuBLAS when one has already been registered\n",
      "2025-04-27 13:32:09.675960: I tensorflow/core/platform/cpu_feature_guard.cc:182] This TensorFlow binary is optimized to use available CPU instructions in performance-critical operations.\n",
      "To enable the following instructions: AVX2 FMA, in other operations, rebuild TensorFlow with the appropriate compiler flags.\n",
      "2025-04-27 13:32:10.322910: W tensorflow/compiler/tf2tensorrt/utils/py_utils.cc:38] TF-TRT Warning: Could not find TensorRT\n"
     ]
    }
   ],
   "source": [
    "# para no usar GPU\n",
    "import os\n",
    "os.environ[\"CUDA_VISIBLE_DEVICES\"] = \"-1\"\n",
    "\n",
    "import tensorflow as tf"
   ]
  },
  {
   "cell_type": "code",
   "execution_count": 16,
   "id": "7593fee1",
   "metadata": {},
   "outputs": [
    {
     "name": "stderr",
     "output_type": "stream",
     "text": [
      "[*********************100%***********************]  9 of 9 completed\n"
     ]
    }
   ],
   "source": [
    "import yfinance as yf\n",
    "import pandas as pd\n",
    "import numpy as np\n",
    "from sklearn.preprocessing import MinMaxScaler\n",
    "\n",
    "# lista de acciones y precio de petroleo y oro\n",
    "tickers = ['GOOG', 'AMZN', 'META', 'TSLA', 'AAPL', 'MSFT', 'NVDA', 'CL=F', 'GC=F']\n",
    "data = yf.download(tickers, start='2010-01-01', end='2024-12-31', auto_adjust=False)['Adj Close']\n",
    "data = data.ffill().bfill()"
   ]
  },
  {
   "cell_type": "code",
   "execution_count": 17,
   "id": "07ab436f",
   "metadata": {},
   "outputs": [
    {
     "data": {
      "text/html": [
       "<div>\n",
       "<style scoped>\n",
       "    .dataframe tbody tr th:only-of-type {\n",
       "        vertical-align: middle;\n",
       "    }\n",
       "\n",
       "    .dataframe tbody tr th {\n",
       "        vertical-align: top;\n",
       "    }\n",
       "\n",
       "    .dataframe thead th {\n",
       "        text-align: right;\n",
       "    }\n",
       "</style>\n",
       "<table border=\"1\" class=\"dataframe\">\n",
       "  <thead>\n",
       "    <tr style=\"text-align: right;\">\n",
       "      <th>Ticker</th>\n",
       "      <th>AAPL</th>\n",
       "      <th>AMZN</th>\n",
       "      <th>CL=F</th>\n",
       "      <th>GC=F</th>\n",
       "      <th>GOOG</th>\n",
       "      <th>META</th>\n",
       "      <th>MSFT</th>\n",
       "      <th>NVDA</th>\n",
       "      <th>TSLA</th>\n",
       "    </tr>\n",
       "    <tr>\n",
       "      <th>Date</th>\n",
       "      <th></th>\n",
       "      <th></th>\n",
       "      <th></th>\n",
       "      <th></th>\n",
       "      <th></th>\n",
       "      <th></th>\n",
       "      <th></th>\n",
       "      <th></th>\n",
       "      <th></th>\n",
       "    </tr>\n",
       "  </thead>\n",
       "  <tbody>\n",
       "    <tr>\n",
       "      <th>2010-01-04</th>\n",
       "      <td>6.440329</td>\n",
       "      <td>6.695000</td>\n",
       "      <td>81.510002</td>\n",
       "      <td>1117.699951</td>\n",
       "      <td>15.536652</td>\n",
       "      <td>38.050671</td>\n",
       "      <td>23.254049</td>\n",
       "      <td>0.423883</td>\n",
       "      <td>1.592667</td>\n",
       "    </tr>\n",
       "    <tr>\n",
       "      <th>2010-01-05</th>\n",
       "      <td>6.451466</td>\n",
       "      <td>6.734500</td>\n",
       "      <td>81.769997</td>\n",
       "      <td>1118.099976</td>\n",
       "      <td>15.468232</td>\n",
       "      <td>38.050671</td>\n",
       "      <td>23.261568</td>\n",
       "      <td>0.430073</td>\n",
       "      <td>1.592667</td>\n",
       "    </tr>\n",
       "    <tr>\n",
       "      <th>2010-01-06</th>\n",
       "      <td>6.348847</td>\n",
       "      <td>6.612500</td>\n",
       "      <td>83.180000</td>\n",
       "      <td>1135.900024</td>\n",
       "      <td>15.078297</td>\n",
       "      <td>38.050671</td>\n",
       "      <td>23.118811</td>\n",
       "      <td>0.432824</td>\n",
       "      <td>1.592667</td>\n",
       "    </tr>\n",
       "    <tr>\n",
       "      <th>2010-01-07</th>\n",
       "      <td>6.337111</td>\n",
       "      <td>6.500000</td>\n",
       "      <td>82.660004</td>\n",
       "      <td>1133.099976</td>\n",
       "      <td>14.727282</td>\n",
       "      <td>38.050671</td>\n",
       "      <td>22.878386</td>\n",
       "      <td>0.424342</td>\n",
       "      <td>1.592667</td>\n",
       "    </tr>\n",
       "    <tr>\n",
       "      <th>2010-01-08</th>\n",
       "      <td>6.379240</td>\n",
       "      <td>6.676000</td>\n",
       "      <td>82.750000</td>\n",
       "      <td>1138.199951</td>\n",
       "      <td>14.923614</td>\n",
       "      <td>38.050671</td>\n",
       "      <td>23.036158</td>\n",
       "      <td>0.425259</td>\n",
       "      <td>1.592667</td>\n",
       "    </tr>\n",
       "    <tr>\n",
       "      <th>...</th>\n",
       "      <td>...</td>\n",
       "      <td>...</td>\n",
       "      <td>...</td>\n",
       "      <td>...</td>\n",
       "      <td>...</td>\n",
       "      <td>...</td>\n",
       "      <td>...</td>\n",
       "      <td>...</td>\n",
       "      <td>...</td>\n",
       "    </tr>\n",
       "    <tr>\n",
       "      <th>2024-12-23</th>\n",
       "      <td>254.989655</td>\n",
       "      <td>225.059998</td>\n",
       "      <td>69.239998</td>\n",
       "      <td>2612.300049</td>\n",
       "      <td>195.766968</td>\n",
       "      <td>599.316772</td>\n",
       "      <td>434.379028</td>\n",
       "      <td>139.657150</td>\n",
       "      <td>430.600006</td>\n",
       "    </tr>\n",
       "    <tr>\n",
       "      <th>2024-12-24</th>\n",
       "      <td>257.916443</td>\n",
       "      <td>229.050003</td>\n",
       "      <td>70.099998</td>\n",
       "      <td>2620.000000</td>\n",
       "      <td>197.345184</td>\n",
       "      <td>607.209778</td>\n",
       "      <td>438.450836</td>\n",
       "      <td>140.207108</td>\n",
       "      <td>462.279999</td>\n",
       "    </tr>\n",
       "    <tr>\n",
       "      <th>2024-12-26</th>\n",
       "      <td>258.735504</td>\n",
       "      <td>227.050003</td>\n",
       "      <td>69.620003</td>\n",
       "      <td>2638.800049</td>\n",
       "      <td>196.875717</td>\n",
       "      <td>602.813660</td>\n",
       "      <td>437.233276</td>\n",
       "      <td>139.917130</td>\n",
       "      <td>454.130005</td>\n",
       "    </tr>\n",
       "    <tr>\n",
       "      <th>2024-12-27</th>\n",
       "      <td>255.309296</td>\n",
       "      <td>223.750000</td>\n",
       "      <td>70.599998</td>\n",
       "      <td>2617.199951</td>\n",
       "      <td>193.819183</td>\n",
       "      <td>599.276855</td>\n",
       "      <td>429.668457</td>\n",
       "      <td>136.997391</td>\n",
       "      <td>431.660004</td>\n",
       "    </tr>\n",
       "    <tr>\n",
       "      <th>2024-12-30</th>\n",
       "      <td>251.923019</td>\n",
       "      <td>221.300003</td>\n",
       "      <td>70.989998</td>\n",
       "      <td>2606.100098</td>\n",
       "      <td>192.470734</td>\n",
       "      <td>590.714417</td>\n",
       "      <td>423.979858</td>\n",
       "      <td>137.477356</td>\n",
       "      <td>417.410004</td>\n",
       "    </tr>\n",
       "  </tbody>\n",
       "</table>\n",
       "<p>3773 rows × 9 columns</p>\n",
       "</div>"
      ],
      "text/plain": [
       "Ticker            AAPL        AMZN       CL=F         GC=F        GOOG  \\\n",
       "Date                                                                     \n",
       "2010-01-04    6.440329    6.695000  81.510002  1117.699951   15.536652   \n",
       "2010-01-05    6.451466    6.734500  81.769997  1118.099976   15.468232   \n",
       "2010-01-06    6.348847    6.612500  83.180000  1135.900024   15.078297   \n",
       "2010-01-07    6.337111    6.500000  82.660004  1133.099976   14.727282   \n",
       "2010-01-08    6.379240    6.676000  82.750000  1138.199951   14.923614   \n",
       "...                ...         ...        ...          ...         ...   \n",
       "2024-12-23  254.989655  225.059998  69.239998  2612.300049  195.766968   \n",
       "2024-12-24  257.916443  229.050003  70.099998  2620.000000  197.345184   \n",
       "2024-12-26  258.735504  227.050003  69.620003  2638.800049  196.875717   \n",
       "2024-12-27  255.309296  223.750000  70.599998  2617.199951  193.819183   \n",
       "2024-12-30  251.923019  221.300003  70.989998  2606.100098  192.470734   \n",
       "\n",
       "Ticker            META        MSFT        NVDA        TSLA  \n",
       "Date                                                        \n",
       "2010-01-04   38.050671   23.254049    0.423883    1.592667  \n",
       "2010-01-05   38.050671   23.261568    0.430073    1.592667  \n",
       "2010-01-06   38.050671   23.118811    0.432824    1.592667  \n",
       "2010-01-07   38.050671   22.878386    0.424342    1.592667  \n",
       "2010-01-08   38.050671   23.036158    0.425259    1.592667  \n",
       "...                ...         ...         ...         ...  \n",
       "2024-12-23  599.316772  434.379028  139.657150  430.600006  \n",
       "2024-12-24  607.209778  438.450836  140.207108  462.279999  \n",
       "2024-12-26  602.813660  437.233276  139.917130  454.130005  \n",
       "2024-12-27  599.276855  429.668457  136.997391  431.660004  \n",
       "2024-12-30  590.714417  423.979858  137.477356  417.410004  \n",
       "\n",
       "[3773 rows x 9 columns]"
      ]
     },
     "execution_count": 17,
     "metadata": {},
     "output_type": "execute_result"
    }
   ],
   "source": [
    "data"
   ]
  },
  {
   "cell_type": "code",
   "execution_count": 18,
   "id": "6453f070",
   "metadata": {},
   "outputs": [],
   "source": [
    "def create_windows(data, window_size=101, max_samples=3000):\n",
    "    series = []\n",
    "    for i in range(0, len(data)-window_size+1, 1):\n",
    "        window = data.iloc[i:i+window_size].T\n",
    "        series.append(window.values)\n",
    "        if len(series) == max_samples:\n",
    "            break\n",
    "    return np.array(series)"
   ]
  },
  {
   "cell_type": "code",
   "execution_count": 19,
   "id": "a5e0c915",
   "metadata": {},
   "outputs": [
    {
     "name": "stdout",
     "output_type": "stream",
     "text": [
      "Datos preparados:\n",
      "X shape: (3000, 9, 100)\n",
      "Y shape: (3000, 9, 1)\n"
     ]
    }
   ],
   "source": [
    "# escalamiento de datos para que estén entre 0 y 1\n",
    "scaler = MinMaxScaler()\n",
    "data_scaled = scaler.fit_transform(data)\n",
    "data_scaled = pd.DataFrame(data_scaled, index=data.index, columns=data.columns)\n",
    "\n",
    "series = create_windows(data_scaled)\n",
    "\n",
    "X = series[:, :, :100]\n",
    "Y = series[:, :, 100:]\n",
    "\n",
    "print(\"Datos preparados:\")\n",
    "print(\"X shape:\", X.shape)\n",
    "print(\"Y shape:\", Y.shape)\n"
   ]
  },
  {
   "cell_type": "code",
   "execution_count": 20,
   "id": "c159bc34",
   "metadata": {},
   "outputs": [],
   "source": [
    "import tensorflow as tf\n",
    "from sklearn.model_selection import train_test_split\n",
    "\n",
    "# Asumimos que tienes: \n",
    "# X → (3000, 9, 100), Y → (3000, 9, 1)\n",
    "\n",
    "# Transponer para que sea (batch, time, features)\n",
    "X_tf = np.transpose(X, (0, 2, 1))  # (3000, 100, 9)\n",
    "Y_tf = Y.squeeze(-1)  # (3000, 9)\n",
    "\n",
    "# Dividir en entrenamiento y prueba\n",
    "X_train, X_test, Y_train, Y_test = train_test_split(X_tf, Y_tf, test_size=0.2, random_state=42)\n"
   ]
  },
  {
   "cell_type": "code",
   "execution_count": 21,
   "id": "8e16fd84",
   "metadata": {},
   "outputs": [
    {
     "name": "stdout",
     "output_type": "stream",
     "text": [
      "Model: \"sequential_2\"\n",
      "_________________________________________________________________\n",
      " Layer (type)                Output Shape              Param #   \n",
      "=================================================================\n",
      " gru_4 (GRU)                 (None, 100, 128)          53376     \n",
      "                                                                 \n",
      " dropout_1 (Dropout)         (None, 100, 128)          0         \n",
      "                                                                 \n",
      " gru_5 (GRU)                 (None, 64)                37248     \n",
      "                                                                 \n",
      " dense_2 (Dense)             (None, 9)                 585       \n",
      "                                                                 \n",
      "=================================================================\n",
      "Total params: 91209 (356.29 KB)\n",
      "Trainable params: 91209 (356.29 KB)\n",
      "Non-trainable params: 0 (0.00 Byte)\n",
      "_________________________________________________________________\n"
     ]
    }
   ],
   "source": [
    "from tensorflow.keras.models import Sequential\n",
    "from tensorflow.keras.layers import GRU, Dense, Dropout\n",
    "\n",
    "model = Sequential([\n",
    "    GRU(128, return_sequences=True, input_shape=(100, 9)),\n",
    "    Dropout(0.2),\n",
    "    GRU(64),\n",
    "    Dense(9)\n",
    "])\n",
    "\n",
    "model.compile(optimizer='adam', loss='mse')\n",
    "model.summary()\n"
   ]
  },
  {
   "cell_type": "code",
   "execution_count": 22,
   "id": "ebb75d3e",
   "metadata": {},
   "outputs": [
    {
     "name": "stdout",
     "output_type": "stream",
     "text": [
      "Epoch 1/10\n",
      "38/38 [==============================] - 9s 152ms/step - loss: 0.0133 - val_loss: 0.0015\n",
      "Epoch 2/10\n",
      "38/38 [==============================] - 5s 128ms/step - loss: 0.0014 - val_loss: 5.2579e-04\n",
      "Epoch 3/10\n",
      "38/38 [==============================] - 5s 134ms/step - loss: 8.9214e-04 - val_loss: 3.8668e-04\n",
      "Epoch 4/10\n",
      "38/38 [==============================] - 5s 124ms/step - loss: 6.8240e-04 - val_loss: 3.1160e-04\n",
      "Epoch 5/10\n",
      "38/38 [==============================] - 5s 137ms/step - loss: 5.9964e-04 - val_loss: 2.5842e-04\n",
      "Epoch 6/10\n",
      "38/38 [==============================] - 5s 122ms/step - loss: 5.0158e-04 - val_loss: 2.2377e-04\n",
      "Epoch 7/10\n",
      "38/38 [==============================] - 5s 133ms/step - loss: 4.4699e-04 - val_loss: 2.4994e-04\n",
      "Epoch 8/10\n",
      "38/38 [==============================] - 5s 122ms/step - loss: 4.0259e-04 - val_loss: 1.8902e-04\n",
      "Epoch 9/10\n",
      "38/38 [==============================] - 5s 137ms/step - loss: 3.7966e-04 - val_loss: 1.8211e-04\n",
      "Epoch 10/10\n",
      "38/38 [==============================] - 5s 124ms/step - loss: 3.3977e-04 - val_loss: 1.7968e-04\n"
     ]
    }
   ],
   "source": [
    "history = model.fit(\n",
    "    X_train, Y_train,\n",
    "    validation_data=(X_test, Y_test),\n",
    "    epochs=10,\n",
    "    batch_size=64\n",
    ")"
   ]
  },
  {
   "cell_type": "code",
   "execution_count": 26,
   "id": "c89d0d23",
   "metadata": {},
   "outputs": [
    {
     "name": "stdout",
     "output_type": "stream",
     "text": [
      "19/19 [==============================] - 0s 15ms/step - loss: 1.7968e-04\n",
      "MSE en test: 0.000180\n"
     ]
    }
   ],
   "source": [
    "loss = model.evaluate(X_test, Y_test)\n",
    "print(f\"MSE en test: {loss:.6f}\")"
   ]
  },
  {
   "cell_type": "code",
   "execution_count": 27,
   "id": "a6670248",
   "metadata": {},
   "outputs": [
    {
     "name": "stdout",
     "output_type": "stream",
     "text": [
      "Loss predictor trivial: 0.000040\n",
      "Loss GRU entrenado: 0.000180\n"
     ]
    }
   ],
   "source": [
    "baseline_pred = X_test[:, -1, :]\n",
    "baseline_loss = tf.reduce_mean(tf.square(baseline_pred - Y_test)).numpy()\n",
    "\n",
    "print(f\"Loss predictor trivial: {baseline_loss:.6f}\")\n",
    "print(f\"Loss GRU entrenado: {loss:.6f}\")"
   ]
  }
 ],
 "metadata": {
  "kernelspec": {
   "display_name": "Python 3",
   "language": "python",
   "name": "python3"
  },
  "language_info": {
   "codemirror_mode": {
    "name": "ipython",
    "version": 3
   },
   "file_extension": ".py",
   "mimetype": "text/x-python",
   "name": "python",
   "nbconvert_exporter": "python",
   "pygments_lexer": "ipython3",
   "version": "3.10.12"
  }
 },
 "nbformat": 4,
 "nbformat_minor": 5
}
