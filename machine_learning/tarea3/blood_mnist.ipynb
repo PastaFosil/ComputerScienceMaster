{
 "cells": [
  {
   "cell_type": "code",
   "execution_count": 1,
   "metadata": {},
   "outputs": [],
   "source": [
    "def resumen(model=None):\n",
    "    '''\n",
    "    '''\n",
    "    header = '{:4} {:16} {:24} {:24} {:10}'.format('#', 'Layer Name','Layer Input Shape','Layer Output Shape','Parameters'\n",
    "    )\n",
    "    print('='*(len(header)))\n",
    "    print(header)\n",
    "    print('='*(len(header)))\n",
    "    count=0\n",
    "    count_trainable=0\n",
    "    for i, layer in enumerate(model.layers):\n",
    "        count_trainable += layer.count_params() if layer.trainable else 0\n",
    "        input_shape = '{}'.format(layer.input_shape)\n",
    "        output_shape = '{}'.format(layer.output_shape)\n",
    "        str = '{:<4d} {:16} {:24} {:24} {:10}'.format(i,layer.name, input_shape, output_shape, layer.count_params())\n",
    "        print(str)\n",
    "        count += layer.count_params()\n",
    "    print('_'*(len(header)))\n",
    "    print('Total Parameters : ', count)\n",
    "    print('Total Trainable Parameters : ', count_trainable)\n",
    "    print('Total No-Trainable Parameters : ', count-count_trainable)\n",
    "    \n",
    "  \n",
    "vgg16=None"
   ]
  },
  {
   "cell_type": "code",
   "execution_count": 2,
   "metadata": {},
   "outputs": [
    {
     "name": "stderr",
     "output_type": "stream",
     "text": [
      "2025-04-05 23:19:22.197607: I tensorflow/tsl/cuda/cudart_stub.cc:28] Could not find cuda drivers on your machine, GPU will not be used.\n",
      "2025-04-05 23:19:22.465305: I tensorflow/tsl/cuda/cudart_stub.cc:28] Could not find cuda drivers on your machine, GPU will not be used.\n",
      "2025-04-05 23:19:22.466352: I tensorflow/core/platform/cpu_feature_guard.cc:182] This TensorFlow binary is optimized to use available CPU instructions in performance-critical operations.\n",
      "To enable the following instructions: AVX2 FMA, in other operations, rebuild TensorFlow with the appropriate compiler flags.\n",
      "2025-04-05 23:19:23.681023: W tensorflow/compiler/tf2tensorrt/utils/py_utils.cc:38] TF-TRT Warning: Could not find TensorRT\n",
      "2025-04-05 23:19:27.016137: I tensorflow/compiler/xla/stream_executor/cuda/cuda_gpu_executor.cc:995] successful NUMA node read from SysFS had negative value (-1), but there must be at least one NUMA node, so returning NUMA node zero. See more at https://github.com/torvalds/linux/blob/v6.0/Documentation/ABI/testing/sysfs-bus-pci#L344-L355\n",
      "2025-04-05 23:19:27.016562: W tensorflow/core/common_runtime/gpu/gpu_device.cc:1960] Cannot dlopen some GPU libraries. Please make sure the missing libraries mentioned above are installed properly if you would like to use GPU. Follow the guide at https://www.tensorflow.org/install/gpu for how to download and setup the required libraries for your platform.\n",
      "Skipping registering GPU devices...\n"
     ]
    },
    {
     "name": "stdout",
     "output_type": "stream",
     "text": [
      "==================================================================================\n",
      "#    Layer Name       Layer Input Shape        Layer Output Shape       Parameters\n",
      "==================================================================================\n",
      "0    input_1          [(None, 150, 150, 3)]    [(None, 150, 150, 3)]             0\n",
      "1    block1_conv1     (None, 150, 150, 3)      (None, 150, 150, 64)           1792\n",
      "2    block1_conv2     (None, 150, 150, 64)     (None, 150, 150, 64)          36928\n",
      "3    block1_pool      (None, 150, 150, 64)     (None, 75, 75, 64)                0\n",
      "4    block2_conv1     (None, 75, 75, 64)       (None, 75, 75, 128)           73856\n",
      "5    block2_conv2     (None, 75, 75, 128)      (None, 75, 75, 128)          147584\n",
      "6    block2_pool      (None, 75, 75, 128)      (None, 37, 37, 128)               0\n",
      "7    block3_conv1     (None, 37, 37, 128)      (None, 37, 37, 256)          295168\n",
      "8    block3_conv2     (None, 37, 37, 256)      (None, 37, 37, 256)          590080\n",
      "9    block3_conv3     (None, 37, 37, 256)      (None, 37, 37, 256)          590080\n",
      "10   block3_pool      (None, 37, 37, 256)      (None, 18, 18, 256)               0\n",
      "11   block4_conv1     (None, 18, 18, 256)      (None, 18, 18, 512)         1180160\n",
      "12   block4_conv2     (None, 18, 18, 512)      (None, 18, 18, 512)         2359808\n",
      "13   block4_conv3     (None, 18, 18, 512)      (None, 18, 18, 512)         2359808\n",
      "14   block4_pool      (None, 18, 18, 512)      (None, 9, 9, 512)                 0\n",
      "15   block5_conv1     (None, 9, 9, 512)        (None, 9, 9, 512)           2359808\n",
      "16   block5_conv2     (None, 9, 9, 512)        (None, 9, 9, 512)           2359808\n",
      "17   block5_conv3     (None, 9, 9, 512)        (None, 9, 9, 512)           2359808\n",
      "18   block5_pool      (None, 9, 9, 512)        (None, 4, 4, 512)                 0\n",
      "__________________________________________________________________________________\n",
      "Total Parameters :  14714688\n",
      "Total Trainable Parameters :  14714688\n",
      "Total No-Trainable Parameters :  0\n"
     ]
    }
   ],
   "source": [
    "from tensorflow.keras.applications import VGG16\n",
    "\n",
    "conv_base = VGG16(weights='imagenet',\n",
    "                  include_top=False,\n",
    "                  input_shape=(150, 150, 3))\n",
    "    \n",
    "resumen(conv_base)"
   ]
  },
  {
   "cell_type": "code",
   "execution_count": 3,
   "metadata": {},
   "outputs": [],
   "source": [
    "from tensorflow.keras import layers\n",
    "from tensorflow.keras import models\n",
    "convNN = models.Sequential()"
   ]
  },
  {
   "cell_type": "code",
   "execution_count": 4,
   "metadata": {},
   "outputs": [],
   "source": [
    "from medmnist.dataset import BloodMNIST\n",
    "import numpy as np"
   ]
  },
  {
   "cell_type": "code",
   "execution_count": 6,
   "metadata": {},
   "outputs": [
    {
     "name": "stdout",
     "output_type": "stream",
     "text": [
      "Using downloaded and verified file: /home/juancho/.medmnist/bloodmnist.npz\n"
     ]
    }
   ],
   "source": [
    "train_dataset = BloodMNIST(split='train', download=True)\n",
    "#val_dataset = BloodMNIST(split='val', download=True)\n",
    "#test_dataset = BloodMNIST(split='test', download=True)"
   ]
  },
  {
   "cell_type": "code",
   "execution_count": 7,
   "metadata": {},
   "outputs": [],
   "source": [
    "x_train, y_train = train_dataset.imgs, train_dataset.labels\n",
    "#x_val, y_val = val_dataset.imgs, val_dataset.labels\n",
    "#x_test, y_test = test_dataset.imgs, test_dataset.labels"
   ]
  },
  {
   "cell_type": "code",
   "execution_count": 7,
   "metadata": {},
   "outputs": [
    {
     "name": "stdout",
     "output_type": "stream",
     "text": [
      "Train shape: (11959, 28, 28, 3), Labels shape: (11959, 1)\n"
     ]
    }
   ],
   "source": [
    "print(f\"Train shape: {x_train.shape}, Labels shape: {y_train.shape}\")"
   ]
  },
  {
   "cell_type": "code",
   "execution_count": null,
   "metadata": {},
   "outputs": [],
   "source": []
  }
 ],
 "metadata": {
  "kernelspec": {
   "display_name": "Python 3",
   "language": "python",
   "name": "python3"
  },
  "language_info": {
   "codemirror_mode": {
    "name": "ipython",
    "version": 3
   },
   "file_extension": ".py",
   "mimetype": "text/x-python",
   "name": "python",
   "nbconvert_exporter": "python",
   "pygments_lexer": "ipython3",
   "version": "3.10.12"
  }
 },
 "nbformat": 4,
 "nbformat_minor": 2
}
