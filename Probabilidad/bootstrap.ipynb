{
 "cells": [
  {
   "cell_type": "code",
   "execution_count": 18,
   "metadata": {},
   "outputs": [],
   "source": [
    "import numpy as np\n",
    "import random\n",
    "import math"
   ]
  },
  {
   "cell_type": "code",
   "execution_count": 17,
   "metadata": {},
   "outputs": [
    {
     "name": "stdout",
     "output_type": "stream",
     "text": [
      "1.1465383827669682\n"
     ]
    }
   ],
   "source": [
    "t = np.array([5.38, 4.40, 4.24, 5.47, 3.72, 3.58, 2.64, 5.68, 3.97, 5.89, 4.94, 6.74, 4.70, 5.80, 3.33, 6.49, 3.69, 6.23, 4.08, 4.40])\n",
    "n = len(t)\n",
    "mean = np.mean(t)\n",
    "dev = np.std(t,ddof=1)\n",
    "print(dev)\n",
    "mean_hipo = 5\n"
   ]
  },
  {
   "cell_type": "markdown",
   "metadata": {},
   "source": [
    "# Resultados asintoticos"
   ]
  },
  {
   "cell_type": "code",
   "execution_count": 19,
   "metadata": {},
   "outputs": [
    {
     "name": "stdout",
     "output_type": "stream",
     "text": [
      "Valor p calculado manualmente: 0.3665373222349164\n"
     ]
    }
   ],
   "source": [
    "Z = (mean-mean_hipo)/(dev/np.sqrt(n))\n",
    "def normal_cdf(z):\n",
    "    return 0.5 * (1 + math.erf(z / math.sqrt(2)))\n",
    "\n",
    "# Calcular el valor p\n",
    "p_asintotico = 2 * (1 - normal_cdf(abs(Z)))\n",
    "print(\"Valor p calculado manualmente:\", p_asintotico)"
   ]
  },
  {
   "cell_type": "markdown",
   "metadata": {},
   "source": [
    "# Bootstraping"
   ]
  },
  {
   "cell_type": "code",
   "execution_count": 28,
   "metadata": {},
   "outputs": [
    {
     "name": "stdout",
     "output_type": "stream",
     "text": [
      "Valor p por bootstrap:  0.5354\n"
     ]
    }
   ],
   "source": [
    "boots = 10000\n",
    "count = 0\n",
    "\n",
    "for i in range(boots):\n",
    "    boot_sample = [random.choice(t) for j in range(n)]\n",
    "    mean_boot = np.mean(boot_sample)\n",
    "    if abs(mean_boot-mean_hipo)>=abs(mean-mean_hipo):\n",
    "        count += 1\n",
    "\n",
    "p_boot = count/boots\n",
    "print(\"Valor p por bootstrap: \", p_boot)"
   ]
  }
 ],
 "metadata": {
  "kernelspec": {
   "display_name": "Python 3",
   "language": "python",
   "name": "python3"
  },
  "language_info": {
   "codemirror_mode": {
    "name": "ipython",
    "version": 3
   },
   "file_extension": ".py",
   "mimetype": "text/x-python",
   "name": "python",
   "nbconvert_exporter": "python",
   "pygments_lexer": "ipython3",
   "version": "3.10.12"
  }
 },
 "nbformat": 4,
 "nbformat_minor": 2
}
