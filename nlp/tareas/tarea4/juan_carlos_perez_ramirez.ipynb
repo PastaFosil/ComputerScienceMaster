{
 "cells": [
  {
   "cell_type": "markdown",
   "metadata": {},
   "source": [
    "# Juan Carlos Perez Ramirez\n",
    "## Procesamiento de Lenguaje Natural\n",
    "## Tarea 4: Modelo de Lenguaje de Política"
   ]
  },
  {
   "cell_type": "markdown",
   "metadata": {},
   "source": [
    "# Preprocesamiento y tratamiento de datos\n",
    "Se limpiaron los saltos de linea y espacios multiples, asi como los \"|\". Se empleo el tokenizador de oraciones de nltk, que separa las oraciones de acuerdo a la aparicion de puntos (sin contar los de abreviaturas), signos de interrogacion y exclamacion, etc."
   ]
  },
  {
   "cell_type": "code",
   "execution_count": 1,
   "metadata": {},
   "outputs": [],
   "source": [
    "import glob\n",
    "def files_to_string(directory, pattern):\n",
    "    '''\n",
    "    Lee todos los archivos de un directorio que satisfacen el patron dado,\n",
    "    los almacena en una lista de strings y los devuelve.\n",
    "    '''\n",
    "    contents = {}\n",
    "\n",
    "    for file in glob.glob(directory + pattern):\n",
    "        with open(file, 'r', encoding=\"utf-8\") as f:\n",
    "            contents[file[-14:-4]] = f.read()\n",
    "    \n",
    "    return contents"
   ]
  },
  {
   "cell_type": "code",
   "execution_count": 2,
   "metadata": {},
   "outputs": [],
   "source": [
    "file_path = \"../../Corpus/estenograficas_limpias_por_fecha/\"\n",
    "data = files_to_string(file_path, \"*\")"
   ]
  },
  {
   "cell_type": "code",
   "execution_count": 3,
   "metadata": {},
   "outputs": [],
   "source": [
    "from unidecode import unidecode\n",
    "corpus = \"\"\n",
    "corpus = corpus.join(data.values()).lower()\n",
    "#corpus = unidecode(corpus)"
   ]
  },
  {
   "cell_type": "code",
   "execution_count": 4,
   "metadata": {},
   "outputs": [],
   "source": [
    "import re\n",
    "import string\n",
    "\n",
    "corpus = re.sub(r\"\\d+\", \"\", corpus)\n",
    "corpus = re.sub(r\"\\s+\", \" \", corpus).strip()\n",
    "corpus = corpus.replace(\"|\", \"\")\n"
   ]
  },
  {
   "cell_type": "code",
   "execution_count": 5,
   "metadata": {},
   "outputs": [
    {
     "data": {
      "text/plain": [
       "'versión estenográfica. conferencia de prensa de la presidenta claudia sheinbaum pardo del de octubre'"
      ]
     },
     "execution_count": 5,
     "metadata": {},
     "output_type": "execute_result"
    }
   ],
   "source": [
    "corpus[:100]"
   ]
  },
  {
   "cell_type": "code",
   "execution_count": 5,
   "metadata": {},
   "outputs": [
    {
     "name": "stderr",
     "output_type": "stream",
     "text": [
      "[nltk_data] Downloading package punkt to /home/juancho/nltk_data...\n",
      "[nltk_data]   Package punkt is already up-to-date!\n"
     ]
    }
   ],
   "source": [
    "import nltk\n",
    "nltk.download('punkt')\n",
    "from nltk.tokenize import sent_tokenize"
   ]
  },
  {
   "cell_type": "code",
   "execution_count": 6,
   "metadata": {},
   "outputs": [],
   "source": [
    "oraciones = sent_tokenize(corpus, language='spanish')"
   ]
  },
  {
   "cell_type": "code",
   "execution_count": 7,
   "metadata": {},
   "outputs": [
    {
     "data": {
      "text/plain": [
       "['versión estenográfica.',\n",
       " 'conferencia de prensa de la presidenta claudia sheinbaum pardo del de octubre de  presidencia de la república  gobierno  gob.mx interruptor de navegación trámites gobierno english interruptor de navegación versiones estenográficas prensa protección de datos personales transparencia inicio presidencia de la república blog aa+ aa- publicaciones recientes nuevo -- :: - versión estenográfica.',\n",
       " 'entrega de tarjetas del programa de mejoramiento de vivienda para el bienestar nuevo -- :: - versión estenográfica.',\n",
       " 'entrega de tarjetas vivienda para el bienestar nuevo -- :: - versión estenográfica.',\n",
       " 'entrega de tarjetas vivienda para el bienestar nuevo -- :: - versión estenográfica.']"
      ]
     },
     "execution_count": 7,
     "metadata": {},
     "output_type": "execute_result"
    }
   ],
   "source": [
    "oraciones[:5]"
   ]
  },
  {
   "cell_type": "code",
   "execution_count": 8,
   "metadata": {},
   "outputs": [],
   "source": [
    "from nltk.probability import FreqDist\n",
    "\n",
    "class NgramData:\n",
    "\n",
    "    def __init__(self, vocab_max, tokenizer):\n",
    "        self.vocab_max = vocab_max\n",
    "        self.tokenizer = tokenizer\n",
    "        self.UNK = \"<unk>\"\n",
    "        self.SOS = \"<s>\"\n",
    "        self.EOS = \"</s>\"\n",
    "        self.final_vocabulary = set()\n",
    "\n",
    "    def fit(self, raw_texts):\n",
    "        freq_dist = FreqDist()\n",
    "        tokenized_corpus = []\n",
    "\n",
    "        for txt in raw_texts:\n",
    "            tokens = self.tokenizer.tokenize(txt)\n",
    "            tokenized_corpus.append(tokens)\n",
    "            for w in tokens:\n",
    "                freq_dist[w] += 1\n",
    "\n",
    "        self.final_vocabulary = set(tok for tok, _ in freq_dist.most_common(self.vocab_max))\n",
    "        self.final_vocabulary.update([self.UNK, self.SOS, self.EOS])\n",
    "\n",
    "        transformed_corpus = [self.transform(tokens) for tokens in tokenized_corpus]\n",
    "\n",
    "        return transformed_corpus\n",
    "    \n",
    "    def mask_oov(self, word):\n",
    "        return self.UNK if word not in self.final_vocabulary else word\n",
    "    \n",
    "    def add_sos_eos(self, tokens):\n",
    "        return [self.SOS, self.SOS, self.SOS] + tokens + [self.EOS]\n",
    "\n",
    "    def transform(self, tokens):\n",
    "        transformed = [self.mask_oov(w) for w in tokens]\n",
    "        transformed = self.add_sos_eos(transformed)\n",
    "        return transformed\n"
   ]
  },
  {
   "cell_type": "markdown",
   "metadata": {},
   "source": [
    "# Modelo de Lenguaje y Evaluación\n",
    "## Tetragram"
   ]
  },
  {
   "cell_type": "code",
   "execution_count": 9,
   "metadata": {},
   "outputs": [],
   "source": [
    "import math\n",
    "class TetragramLanguageModel:\n",
    "\n",
    "    def __init__(self, lambda_tetra=0.4, lambda_tri=0.3, lambda_bi=0.2, lambda_uni=0.1):\n",
    "        \n",
    "        self.lambda_tetra = lambda_tetra\n",
    "        self.lambda_tri = lambda_tri\n",
    "        self.lambda_bi = lambda_bi\n",
    "        self.lambda_uni = lambda_uni\n",
    "\n",
    "        # Contadores\n",
    "        self.unigram_counts = {}\n",
    "        self.bigram_counts = {}\n",
    "        self.trigram_counts = {}\n",
    "        self.tetragram_counts = {}\n",
    "\n",
    "        self.vocab = 0\n",
    "        self.total_tokens = 0\n",
    "        self.V = 0\n",
    "\n",
    "    def set_lambdas(self, lambda_tetra, lambda_tri, lambda_bi, lambda_uni):\n",
    "\n",
    "        self.lambda_tetra = lambda_tetra\n",
    "        self.lambda_tri = lambda_tri\n",
    "        self.lambda_bi = lambda_bi\n",
    "        self.lambda_uni = lambda_uni\n",
    "\n",
    "    def train(self, transformed_corpus, final_vocabulary):\n",
    "        self.vocab = set(final_vocabulary)\n",
    "        self.V = len(final_vocabulary)\n",
    "\n",
    "        for tokens in transformed_corpus:\n",
    "            for i, w in enumerate(tokens):\n",
    "\n",
    "                # Unigramas\n",
    "                self.unigram_counts[w] = self.unigram_counts.get(w, 0) + 1\n",
    "\n",
    "                # Bigramas\n",
    "                if i > 0:\n",
    "                    w_prev = tokens[i-1]\n",
    "                    self.bigram_counts[(w_prev, w)] = self.bigram_counts.get((w_prev, w), 0) + 1\n",
    "\n",
    "                # Trigramas\n",
    "                if i > 1:\n",
    "                    w_prev2 = tokens[i-2]\n",
    "                    self.trigram_counts[(w_prev2, w_prev, w)] = self.trigram_counts.get((w_prev2, w_prev, w), 0) + 1\n",
    "\n",
    "                # Tetragramas\n",
    "                if i > 2:\n",
    "                    w_prev3 = tokens[i-3]\n",
    "                    self.tetragram_counts[(w_prev3, w_prev2, w_prev, w)] = self.tetragram_counts.get((w_prev3, w_prev2, w_prev, w), 0) + 1\n",
    "                    \n",
    "        self.total_tokens = sum(self.unigram_counts.values())\n",
    "\n",
    "    def mask_oov(self, word):\n",
    "        return \"<unk>\" if word not in self.vocab else word\n",
    "\n",
    "    def unigram_probability(self, w):\n",
    "        return (self.unigram_counts.get(self.mask_oov(w), 0) + 1) / (self.total_tokens + self.V)\n",
    "\n",
    "    def bigram_probability(self, w_prev, w):\n",
    "        w_prev = self.mask_oov(w_prev)\n",
    "        w = self.mask_oov(w)\n",
    "        numerator = self.bigram_counts.get((w_prev, w), 0) + 1\n",
    "        denominator = self.unigram_counts.get(w_prev, 0) + self.V\n",
    "        return numerator / denominator\n",
    "\n",
    "    def trigram_probability(self, w_prev2, w_prev, w):\n",
    "        w_prev2 = self.mask_oov(w_prev2)\n",
    "        w_prev = self.mask_oov(w_prev)\n",
    "        w = self.mask_oov(w)\n",
    "        numerator = self.trigram_counts.get((w_prev2, w_prev, w), 0) + 1\n",
    "        denominator = self.bigram_counts.get((w_prev2, w_prev), 0) + self.V\n",
    "        return numerator / denominator\n",
    "\n",
    "    def tetragram_probability(self, w_prev3, w_prev2, w_prev, w):\n",
    "        w_prev3 = self.mask_oov(w_prev3)\n",
    "        w_prev2 = self.mask_oov(w_prev2)\n",
    "        w_prev = self.mask_oov(w_prev)\n",
    "        w = self.mask_oov(w)\n",
    "        numerator = self.tetragram_counts.get((w_prev3, w_prev2, w_prev, w), 0) + 1\n",
    "        denominator = self.trigram_counts.get((w_prev3, w_prev2, w_prev), 0) + self.V\n",
    "        return numerator / denominator\n",
    "\n",
    "    def probability_of_word(self, w_prev3, w_prev2, w_prev, w):\n",
    "        return self.lambda_tetra * self.tetragram_probability(w_prev3, w_prev2, w_prev, w) + \\\n",
    "                self.lambda_tri * self.trigram_probability(w_prev2, w_prev, w) + \\\n",
    "                self.lambda_bi * self.bigram_probability(w_prev, w) + \\\n",
    "                self.lambda_uni * self.unigram_probability(w)\n",
    "\n",
    "    def sequence_probability(self, sequence):\n",
    "        log_prob = 0.0\n",
    "        l = len(sequence)\n",
    "        for i in range(3, l):\n",
    "            context = sequence[i-3:i]\n",
    "            w = sequence[i]\n",
    "            p = self.probability_of_word(context[-3], context[-2], context[-1], w)\n",
    "            log_prob += math.log(p + 1e-10)  # Para evitar log(0)\n",
    "\n",
    "        return log_prob  # Devuelve la log-probabilidad sin hacer exp()\n",
    "\n",
    "\n",
    "\n",
    "    def check_prob(self):\n",
    "        print(sum(self.unigram_probability(w) for w in self.vocab))\n",
    "        print(sum(self.bigram_probability(\"hola\", w) for w in self.vocab))\n",
    "        print(sum(self.trigram_probability(\"hola\", \"como\", w) for w in self.vocab))\n",
    "        print(sum(self.tetragram_probability(\"hola\", \"como\", \"te\", w) for w in self.vocab))\n"
   ]
  },
  {
   "cell_type": "code",
   "execution_count": 10,
   "metadata": {},
   "outputs": [],
   "source": [
    "import numpy as np\n",
    "\n",
    "indices = np.arange(len(oraciones))\n",
    "np.random.shuffle(indices)\n",
    "\n",
    "train_size = int(len(indices) * 0.8)\n",
    "val_size = int(len(indices) * 0.1)\n",
    "\n",
    "train_indices = indices[:train_size]\n",
    "val_indices = indices[train_size:train_size + val_size]\n",
    "test_indices = indices[train_size + val_size:]\n",
    "\n",
    "train_corpus = [oraciones[i] for i in train_indices]\n",
    "val_corpus = [oraciones[i] for i in val_indices]\n",
    "test_corpus = [oraciones[i] for i in test_indices]"
   ]
  },
  {
   "cell_type": "markdown",
   "metadata": {},
   "source": [
    "## Entrenamiento\n",
    "Se separo el corpus total en una parte de entrenamiento (80% de los datos), una de validacion y una de prueba (10% cada una), entrenando a los cuatro modelos de lenguaje con el primer set, usando un vocabulario de 40 mil tokens (mas los tokens especiales de inicio y fin de linea y token desconocido).\n",
    "\n",
    "Los tokens no vistos se enmascaran con el simbolo \"\\<unk\\>\" para evitar probabilidades nulas."
   ]
  },
  {
   "cell_type": "code",
   "execution_count": 11,
   "metadata": {},
   "outputs": [],
   "source": [
    "from nltk.tokenize import sent_tokenize, RegexpTokenizer\n",
    "tokenizer = RegexpTokenizer(r\"[a-zA-ZáéíóúüñÁÉÍÓÚÜÑ]+\")\n",
    "\n",
    "ngram_data = NgramData(40000, tokenizer)\n",
    "transformed_corpus = ngram_data.fit(train_corpus)\n",
    "final_vocab = ngram_data.final_vocabulary"
   ]
  },
  {
   "cell_type": "code",
   "execution_count": 12,
   "metadata": {},
   "outputs": [],
   "source": [
    "tetra_lm = TetragramLanguageModel(lambda_tetra=1, lambda_tri=0, lambda_bi=0, lambda_uni=0)\n",
    "tri_lm = TetragramLanguageModel(lambda_tetra=0, lambda_tri=1, lambda_bi=0, lambda_uni=0)\n",
    "bi_lm = TetragramLanguageModel(lambda_tetra=0, lambda_tri=0, lambda_bi=1, lambda_uni=0)\n",
    "uni_lm = TetragramLanguageModel(lambda_tetra=0, lambda_tri=0, lambda_bi=0, lambda_uni=1)"
   ]
  },
  {
   "cell_type": "code",
   "execution_count": 13,
   "metadata": {},
   "outputs": [
    {
     "name": "stdout",
     "output_type": "stream",
     "text": [
      "Tetra listo\n",
      "Tri listo\n",
      "Bi listo\n",
      "Uni listo\n"
     ]
    }
   ],
   "source": [
    "tetra_lm.train(transformed_corpus, final_vocab)\n",
    "print(\"Tetra listo\")\n",
    "tri_lm.train(transformed_corpus, final_vocab)\n",
    "print(\"Tri listo\")\n",
    "bi_lm.train(transformed_corpus, final_vocab)\n",
    "print(\"Bi listo\")\n",
    "uni_lm.train(transformed_corpus, final_vocab)\n",
    "print(\"Uni listo\")"
   ]
  },
  {
   "cell_type": "markdown",
   "metadata": {},
   "source": [
    "A continuacion se muestran dos ejemplos: uno con una secuencia de palabras presentes en el vocabulario y otra con un token no visto."
   ]
  },
  {
   "cell_type": "code",
   "execution_count": 17,
   "metadata": {},
   "outputs": [
    {
     "name": "stdout",
     "output_type": "stream",
     "text": [
      "Todas las palabras estan en el corpus.\n",
      "\n",
      "P('oposición' | 'políticos', 'de', 'la') = 0.0001249625112466\n",
      "\n",
      "P('oposición' | 'de', 'la') = 0.0018416206261510\n",
      "\n",
      "P('oposición' | 'la') = 0.0017329854728229\n",
      "\n",
      "P('oposición') = 0.0000820228100446\n"
     ]
    }
   ],
   "source": [
    "w_prev3, w_prev2, w_prev, w = \"políticos\", \"de\", \"la\", \"oposición\"\n",
    "words = [w_prev3, w_prev2, w_prev, w]\n",
    "\n",
    "is_there = True\n",
    "for word in words:\n",
    "    is_there = is_there and word in final_vocab\n",
    "    if not is_there:\n",
    "        print(f\"La palabra '{word}' no esta en el corpus.\")\n",
    "        break\n",
    "if is_there:\n",
    "    print(\"Todas las palabras estan en el corpus.\")\n",
    "\n",
    "p_w = tetra_lm.tetragram_probability(*words)\n",
    "print(f\"\\nP('{w}' | '{w_prev3}', '{w_prev2}', '{w_prev}') = {p_w:.16f}\")\n",
    "\n",
    "p_w = tri_lm.trigram_probability(*words[1:])\n",
    "print(f\"\\nP('{w}' | '{w_prev2}', '{w_prev}') = {p_w:.16f}\")\n",
    "\n",
    "p_w = bi_lm.bigram_probability(*words[2:])\n",
    "print(f\"\\nP('{w}' | '{w_prev}') = {p_w:.16f}\")\n",
    "\n",
    "p_w = uni_lm.unigram_probability(w)\n",
    "print(f\"\\nP('{w}') = {p_w:.16f}\")"
   ]
  },
  {
   "cell_type": "code",
   "execution_count": 22,
   "metadata": {},
   "outputs": [
    {
     "name": "stdout",
     "output_type": "stream",
     "text": [
      "La palabra 'picafresa' no esta en el corpus.\n",
      "\n",
      "P('picafresa' | 'políticos', 'de', 'la') = 0.0001249625112466\n",
      "\n",
      "P('picafresa' | 'de', 'la') = 0.0018416206261510\n",
      "\n",
      "P('picafresa' | 'la') = 0.0017329854728229\n",
      "\n",
      "P('picafresa') = 0.0044435652126803\n"
     ]
    }
   ],
   "source": [
    "w = \"picafresa\"\n",
    "if not w in final_vocab:\n",
    "    print(f\"La palabra '{w}' no esta en el corpus.\")\n",
    "\n",
    "p_w = tetra_lm.tetragram_probability(*words)\n",
    "print(f\"\\nP('{w}' | '{w_prev3}', '{w_prev2}', '{w_prev}') = {p_w:.16f}\")\n",
    "\n",
    "p_w = tri_lm.trigram_probability(*words[1:])\n",
    "print(f\"\\nP('{w}' | '{w_prev2}', '{w_prev}') = {p_w:.16f}\")\n",
    "\n",
    "p_w = bi_lm.bigram_probability(*words[2:])\n",
    "print(f\"\\nP('{w}' | '{w_prev}') = {p_w:.16f}\")\n",
    "\n",
    "p_w = uni_lm.unigram_probability(w)\n",
    "print(f\"\\nP('{w}') = {p_w:.16f}\")"
   ]
  },
  {
   "cell_type": "markdown",
   "metadata": {},
   "source": [
    "La estrategia empleada para palabras no nulas parece funcionar, si bien, debido a que las palabras que no quedaron en el vocabulario final se agrupan bajo el token desconocido, la probabilidad de aparicion de palabras no vistas es bastante alta, llevando a casos como este en el que la palabra \"picafresa\" tiene una probabilidad de aparicion mas alta que \"oposición\"."
   ]
  },
  {
   "cell_type": "markdown",
   "metadata": {},
   "source": [
    "## Modelo interpolado (lambdas sugeridas)\n",
    "\n",
    "Con las particiones detalladas arriba, se calculo la perplejidad para los modelos con los conjuntos de lambdas sugeridas, modificando sus valores en el modelo de tetragramas entrenado previamente."
   ]
  },
  {
   "cell_type": "code",
   "execution_count": 16,
   "metadata": {},
   "outputs": [],
   "source": [
    "import math\n",
    "\n",
    "def perplexity(model, corpus):\n",
    "    l = len(corpus)\n",
    "    log_prob = 0.0\n",
    "    for i in range(3, l):\n",
    "        w_prev3 = corpus[i-3]\n",
    "        w_prev2 = corpus[i-2]\n",
    "        w_prev = corpus[i-1]\n",
    "        w = corpus[i]\n",
    "        p = model.probability_of_word(w_prev3, w_prev2, w_prev, w)\n",
    "        log_prob += math.log(p + 1e-10)\n",
    "    return math.exp(-log_prob / l)"
   ]
  },
  {
   "cell_type": "code",
   "execution_count": 29,
   "metadata": {},
   "outputs": [],
   "source": [
    "val_txt = ''.join(val_corpus)\n",
    "test_txt = ''.join(test_corpus)\n",
    "transformed_val = ngram_data.fit([val_txt])\n",
    "transformed_test = ngram_data.fit([test_txt])"
   ]
  },
  {
   "cell_type": "markdown",
   "metadata": {},
   "source": [
    "El mejor valor de la perplejidad alcanzada es bastante alto, atribuible al reducido tamano del corpus asi como a la presencia de basura en los documentos empleados para el entrenamiento."
   ]
  },
  {
   "cell_type": "code",
   "execution_count": 30,
   "metadata": {},
   "outputs": [
    {
     "name": "stdout",
     "output_type": "stream",
     "text": [
      "Perplejidad en validación: 828.1654233712904\n",
      "\n",
      "Perplejidad en validación: 480.6488924929459\n",
      "\n",
      "Perplejidad en validación: 598.923852110968\n",
      "\n",
      "Mejores lambdas seleccionadas: (0.1, 0.2, 0.3, 0.4)\n"
     ]
    }
   ],
   "source": [
    "# Definir tres conjuntos de lambdas\n",
    "lambda_sets = [\n",
    "    (0.4, 0.3, 0.2, 0.1),\n",
    "    (0.1, 0.2, 0.3, 0.4),\n",
    "    (0.1, 0.4, 0.4, 0.1)\n",
    "]\n",
    "\n",
    "best_lambda = None\n",
    "best_perplexity = float('inf')\n",
    "\n",
    "for lambdas in lambda_sets:\n",
    "    tetra_lm.set_lambdas(*lambdas)\n",
    "    \n",
    "    # Calcular perplejidad en validación\n",
    "    val_perplexity = perplexity(tetra_lm, transformed_val[0])\n",
    "    print(f\"Perplejidad en validación: {val_perplexity}\\n\")\n",
    "    \n",
    "    # Guardar el mejor modelo\n",
    "    if val_perplexity < best_perplexity:\n",
    "        best_perplexity = val_perplexity\n",
    "        best_lambda = lambdas\n",
    "\n",
    "print(f\"Mejores lambdas seleccionadas: {best_lambda}\")\n"
   ]
  },
  {
   "cell_type": "markdown",
   "metadata": {},
   "source": [
    "La perplejidad medida en el corpus de prueba es bastante similar al observado en el conjunto de validacion, indicando un buen desempeno del modelo al tratar con secuencias no vistas."
   ]
  },
  {
   "cell_type": "code",
   "execution_count": 31,
   "metadata": {},
   "outputs": [
    {
     "name": "stdout",
     "output_type": "stream",
     "text": [
      "Perplejidad en test: 483.3050425132002\n"
     ]
    }
   ],
   "source": [
    "tetra_lm.set_lambdas(*best_lambda)\n",
    "test_perplexity = perplexity(tetra_lm, transformed_test[0])\n",
    "print(f\"Perplejidad en test: {test_perplexity}\")"
   ]
  },
  {
   "cell_type": "markdown",
   "metadata": {},
   "source": [
    "Mi companera Kathia Rangel Pompa me ayudo con la siguiente funcion, puesto que mi intento por implementarla tardaba demasiado tiempo. "
   ]
  },
  {
   "cell_type": "code",
   "execution_count": 63,
   "metadata": {},
   "outputs": [],
   "source": [
    "import numpy as np\n",
    "\n",
    "def expectation_maximization(model, val_sequence, max_iter=10):\n",
    "    N = 4\n",
    "    lambdas = np.array([0.25, 0.25, 0.25, 0.25])\n",
    "    perplexities = []\n",
    "\n",
    "    for i in range(max_iter):\n",
    "        # Entrenar modelo con lambdas actuales\n",
    "        model.set_lambdas(*lambdas)\n",
    "        \n",
    "        q_m = np.zeros((len(val_sequence)-3, N))\n",
    "\n",
    "        # E-step\n",
    "        for m in range(3, len(val_sequence)):\n",
    "            w_prev3, w_prev2, w_prev, w = val_sequence[m-3], val_sequence[m-2], val_sequence[m-1], val_sequence[m]\n",
    "\n",
    "            p_4 = model.tetragram_probability(w_prev3, w_prev2, w_prev, w)\n",
    "            p_3 = model.trigram_probability(w_prev2, w_prev, w)\n",
    "            p_2 = model.bigram_probability(w_prev, w)\n",
    "            p_1 = model.unigram_probability(w)\n",
    "\n",
    "            probs = np.array([p_4, p_3, p_2, p_1])\n",
    "\n",
    "            q = probs * lambdas\n",
    "            q /= q.sum() # Normalizamos\n",
    "            q_m[m-3] = q\n",
    "\n",
    "        # M-step\n",
    "        lambdas = q_m.mean(axis=0)\n",
    "\n",
    "        # Calcular perplejidad\n",
    "        ppl = perplexity(model, val_sequence)\n",
    "        perplexities.append(ppl)\n",
    "\n",
    "        if i % 2 == 0:\n",
    "            print(f\"Iteration: {i}, Perplejidad: {ppl}\")\n",
    "\n",
    "    return lambdas, perplexities"
   ]
  },
  {
   "cell_type": "markdown",
   "metadata": {},
   "source": [
    "Al emplear EM se alcanzo una perplejidad muy similar a la mejor de las observadas en los conjuntos de lambdas anteriores, y dado que la convergencia mejora muy poco entre las ultimas iteraciones parece indicar que posiblemente sea el mejor resultado alcanzable por el modelo en estas circunstancias."
   ]
  },
  {
   "cell_type": "code",
   "execution_count": 64,
   "metadata": {},
   "outputs": [
    {
     "name": "stdout",
     "output_type": "stream",
     "text": [
      "Iteration: 0, Perplejidad: 589.2285644387551\n",
      "Iteration: 2, Perplejidad: 402.8371860169364\n",
      "Iteration: 4, Perplejidad: 389.1047611298884\n",
      "Iteration: 6, Perplejidad: 386.4106180111605\n",
      "Iteration: 8, Perplejidad: 385.6031428432458\n",
      "[2.41138675e-06 1.59294668e-03 6.39186374e-01 3.59218268e-01]\n"
     ]
    }
   ],
   "source": [
    "lambdas, perplexities = expectation_maximization(tetra_lm, transformed_val[0])\n",
    "print(lambdas)"
   ]
  },
  {
   "cell_type": "code",
   "execution_count": 65,
   "metadata": {},
   "outputs": [
    {
     "data": {
      "image/png": "[encoded data removed]",
      "text/plain": [
       "<Figure size 640x480 with 1 Axes>"
      ]
     },
     "metadata": {},
     "output_type": "display_data"
    }
   ],
   "source": [
    "import matplotlib.pyplot as plt\n",
    "\n",
    "plt.plot(perplexities)\n",
    "plt.xlabel(\"Iteración\")\n",
    "plt.ylabel(\"PPL\")\n",
    "plt.title(\"Evolución de la perplejidad\")\n",
    "plt.show()"
   ]
  },
  {
   "cell_type": "markdown",
   "metadata": {},
   "source": [
    "## Generación de Texto\n",
    "Se propone que, al calcular la probabilidad del tetragrama que incluye como token final \"\\</s\\>\", se multiplique su probabilidad por un factor alpha. Con cada iteracion, el valor de alpha se vuelve un poco mas grande (se multiplica por si mismo) para que, conforme avanza el algoritmo se vuelva mas probable elegir ese token"
   ]
  },
  {
   "cell_type": "code",
   "execution_count": 15,
   "metadata": {},
   "outputs": [],
   "source": [
    "V = list(final_vocab)\n",
    "tetra_lm.set_lambdas(*lambdas)"
   ]
  },
  {
   "cell_type": "markdown",
   "metadata": {},
   "source": [
    "## Generar texto\n",
    "Para la generacion de texto, se elige una palabra inicial al azar (asegurandose de que no es un final de linea). Hecho esto, se van agregando palabras a la oracion generada, calculando las probabilidades de los n-gramas segun su tamano, y tomando las secuencias mas probables tomando todas las palabras del vocabulario.\n",
    "\n",
    "Fue necesario agregar una condicion para no agregar los tokens de inicio de linea ni de palabra desconocida dentro de la oracion. El hecho de que la aparicion de inicios de linea **despues** de otro token podria deberse a que, dado que el modelo empleado toma en cuenta unigramas, la probabilidad de aparicion de este token sea mayor a la de otras palabras en el contexto dado."
   ]
  },
  {
   "cell_type": "code",
   "execution_count": 67,
   "metadata": {},
   "outputs": [],
   "source": [
    "import random\n",
    "\n",
    "def generate_text(V, model, max_words=50, n=15, alpha=1.00001):\n",
    "    sentence = []\n",
    "\n",
    "    # Asegurar que la primera palabra no sea \"</s>\"\n",
    "    while not sentence or sentence[0] == \"</s>\":\n",
    "        sentence = [random.choice(V)]\n",
    "\n",
    "    for _ in range(max_words - 1):\n",
    "        candidates = []\n",
    "        for word in V:\n",
    "            if word in [\"<s>\", \"<unk>\"]:  # No se debe generar <s> ni <unk> dentro de la oración\n",
    "                continue\n",
    "\n",
    "            if len(sentence) == 1:\n",
    "                prob = model.bigram_probability(sentence[-1], word)\n",
    "            elif len(sentence) == 2:\n",
    "                prob = model.trigram_probability(sentence[-2], sentence[-1], word)\n",
    "            else:\n",
    "                prob = model.probability_of_word(sentence[-3], sentence[-2], sentence[-1], word)\n",
    "\n",
    "            # Aumentar la probabilidad de `</s>` a medida que la oración crece\n",
    "            if word == \"</s>\":\n",
    "                prob *= alpha\n",
    "                alpha *= alpha\n",
    "\n",
    "            candidates.append((prob, word))\n",
    "\n",
    "        # Ordenar por probabilidad descendente y tomar los mejores n candidatos\n",
    "        candidates.sort(reverse=True, key=lambda x: x[0])\n",
    "        words = [word for _, word in candidates[:n]]\n",
    "        probs = [prob for prob, _ in candidates[:n]]\n",
    "\n",
    "        # Elegir palabra de manera ponderada por probabilidad\n",
    "        word = random.choices(words, weights=probs, k=1)[0]\n",
    "        sentence.append(word)\n",
    "\n",
    "        if word == \"</s>\":\n",
    "            break\n",
    "\n",
    "    return \" \".join(sentence)"
   ]
  },
  {
   "cell_type": "markdown",
   "metadata": {},
   "source": [
    "Al observar las secuencias generadas es evidente la aparicion de secuencias repetidas, debido a que se trata de palabras que suelen ser muy utilizadas en el mismo contexto y en secuencias diferentes (por ejemplo, \"y el de la que se\"), volviendo su repeticion en la secuencia bastante probable."
   ]
  },
  {
   "cell_type": "code",
   "execution_count": 69,
   "metadata": {},
   "outputs": [
    {
     "name": "stdout",
     "output_type": "stream",
     "text": [
      "ponerme acudió atención porque si hay un en un la gente porque las elecciones de la corrupción </s>\n",
      "exconvento atención importaran el los pueblos es que se que la conferencia de méxico y de que de la </s>\n",
      "compañeritos prosperó importaran a el caso de méxico </s>\n",
      "detuvo a juan y </s>\n",
      "azvi prosperó calumniaban por ciento el caso de la defensa </s>\n"
     ]
    }
   ],
   "source": [
    "for _ in range(5):\n",
    "    print(generate_text(V, tetra_lm, n=25))"
   ]
  },
  {
   "cell_type": "markdown",
   "metadata": {},
   "source": [
    "## Generar texto con semilla\n",
    "La modificacion hecha respecto a la funcion anterior consistio en eliminar la eleccion de una palabra inicial y los casos para oraciones de menos de 3 palabras, quedando solo la generacion a partir de tetragramas."
   ]
  },
  {
   "cell_type": "code",
   "execution_count": 71,
   "metadata": {},
   "outputs": [],
   "source": [
    "import random\n",
    "\n",
    "def generate_text_from_seed(seed, V, model, max_words=50, n=15, alpha=1.00001):\n",
    "    sentence = seed\n",
    "\n",
    "    for _ in range(max_words - 1):\n",
    "        candidates = []\n",
    "        for word in V:\n",
    "            if word in [\"<s>\", \"<unk>\"]:  # No se debe generar <s> ni <unk> dentro de la oración\n",
    "                continue\n",
    "\n",
    "            prob = model.probability_of_word(sentence[-3], sentence[-2], sentence[-1], word)\n",
    "\n",
    "            # Aumentar la probabilidad de `</s>` a medida que la oración crece\n",
    "            if word == \"</s>\":\n",
    "                prob *= alpha\n",
    "                alpha *= alpha\n",
    "\n",
    "            candidates.append((prob, word))\n",
    "\n",
    "        # Ordenar por probabilidad descendente y tomar los mejores n candidatos\n",
    "        candidates.sort(reverse=True, key=lambda x: x[0])\n",
    "        words = [word for _, word in candidates[:n]]\n",
    "        probs = [prob for prob, _ in candidates[:n]]\n",
    "\n",
    "        # Elegir palabra de manera ponderada por probabilidad\n",
    "        word = random.choices(words, weights=probs, k=1)[0]\n",
    "        sentence.append(word)\n",
    "\n",
    "        if word == \"</s>\":\n",
    "            break\n",
    "\n",
    "    return \" \".join(sentence)"
   ]
  },
  {
   "cell_type": "markdown",
   "metadata": {},
   "source": [
    "Se observan secuencias mas largas ligeramente mas coherentes que las observables en el caso anterior, dado que el contexto ingresado reduce bastante las secuencias que pueden generarse limitandolas a oraciones mas reconocibles."
   ]
  },
  {
   "cell_type": "code",
   "execution_count": 74,
   "metadata": {},
   "outputs": [
    {
     "name": "stdout",
     "output_type": "stream",
     "text": [
      "<s> <s> <s> y no en de las </s>\n",
      "andrés manuel lópez obrador bueno el gobierno federal </s>\n"
     ]
    }
   ],
   "source": [
    "print(generate_text_from_seed([\"<s>\", \"<s>\", \"<s>\"], V, tetra_lm))\n",
    "print(generate_text_from_seed([\"andrés\", \"manuel\", \"lópez\"], V, tetra_lm))"
   ]
  },
  {
   "cell_type": "markdown",
   "metadata": {},
   "source": [
    "## Permutacion de tokens\n",
    "Una vez generadas todas las permutaciones, se calculan las probabilidades de todas, se ordenan y se devuelven las 5 mayores y las 5 menores, observando correctamente como las primeras tienen mas sentido que las segundas."
   ]
  },
  {
   "cell_type": "code",
   "execution_count": 17,
   "metadata": {},
   "outputs": [],
   "source": [
    "from itertools import permutations\n",
    "\n",
    "def top_permutations(model, sentence, k = 5):\n",
    "    tokens = sentence.split()\n",
    "    p = list(permutations(tokens))\n",
    "    probs = []\n",
    "\n",
    "    for sequence in p:\n",
    "        p = math.exp(model.sequence_probability(sequence))\n",
    "        probs.append((' '.join(sequence), p))\n",
    "\n",
    "    probs = sorted(probs, key=lambda x: x[1])\n",
    "    top = probs[-k:]\n",
    "    bottom = probs[:k]\n",
    "\n",
    "    return top, bottom"
   ]
  },
  {
   "cell_type": "code",
   "execution_count": 18,
   "metadata": {},
   "outputs": [
    {
     "name": "stdout",
     "output_type": "stream",
     "text": [
      "Oración: sino gano me voy a la chingada\n",
      "\n",
      "Top:\n",
      "chingada sino gano me voy a la - 5.982246272716484e-08\n",
      "sino gano chingada me voy a la - 5.982452086903397e-08\n",
      "gano sino chingada me voy a la - 5.982452086903397e-08\n",
      "gano chingada sino me voy a la - 6.987079996692766e-08\n",
      "chingada gano sino me voy a la - 6.987079996692766e-08\n",
      "\n",
      "Bottom:\n",
      "me la a chingada sino voy gano - 1.082067184003965e-18\n",
      "la me a chingada sino voy gano - 1.082079333266404e-18\n",
      "me la a chingada voy gano sino - 1.0922775094238117e-18\n",
      "la me a chingada voy gano sino - 1.0922897733260035e-18\n",
      "me la a chingada voy sino gano - 1.1388677682246309e-18\n",
      "\n",
      "\n",
      "Oración: ya se va a acabar la corrupción\n",
      "\n",
      "Top:\n",
      "acabar ya se va a la corrupción - 3.2410238553290115e-06\n",
      "ya acabar corrupción se va a la - 3.5814492916629095e-06\n",
      "acabar ya corrupción se va a la - 3.5814492916629095e-06\n",
      "corrupción acabar ya se va a la - 2.3057249021089386e-05\n",
      "acabar corrupción ya se va a la - 2.3057284412373972e-05\n",
      "\n",
      "Bottom:\n",
      "se a la acabar va ya corrupción - 6.927360298202056e-15\n",
      "a se la acabar va ya corrupción - 6.9341980715986535e-15\n",
      "la a se acabar va ya corrupción - 7.30319118387357e-15\n",
      "a la se acabar va ya corrupción - 7.303199542252052e-15\n",
      "se a la acabar ya corrupción va - 7.756448264978614e-15\n",
      "\n",
      "\n",
      "Oración: el presidente de la republica\n",
      "\n",
      "Top:\n",
      "presidente el republica de la - 0.001527366665235028\n",
      "presidente republica el de la - 0.00246420443340866\n",
      "republica presidente el de la - 0.002464344919998928\n",
      "el republica presidente de la - 0.0034753977879176242\n",
      "republica el presidente de la - 0.0034791189619930107\n",
      "\n",
      "Bottom:\n",
      "la el de republica presidente - 2.1040248221069145e-09\n",
      "el la de republica presidente - 2.112535143034166e-09\n",
      "la de el republica presidente - 3.8454685001881855e-09\n",
      "de la el republica presidente - 3.847816379282011e-09\n",
      "la presidente de republica el - 8.207064956471403e-09\n",
      "\n",
      "\n"
     ]
    }
   ],
   "source": [
    "oraciones = [\"sino gano me voy a la chingada\", \"ya se va a acabar la corrupción\", \"el presidente de la republica\"]\n",
    "for o in oraciones:\n",
    "    top, bottom = top_permutations(tetra_lm, o)\n",
    "    print(f\"Oración: {o}\")\n",
    "    print(\"\\nTop:\")\n",
    "    for seq, prob in top:\n",
    "        print(f\"{seq} - {prob}\")\n",
    "    print(\"\\nBottom:\")\n",
    "    for seq, prob in bottom:\n",
    "        print(f\"{seq} - {prob}\")\n",
    "    print(\"\\n\")"
   ]
  },
  {
   "cell_type": "markdown",
   "metadata": {},
   "source": [
    "## 5 palabras mas probables dadas las 3 primeras\n",
    "Ayude a mi companero Isaac Barron Jimenez con la siguiente funcion\n",
    "\n",
    "Se observa que las palabras devueltas por el algoritmo tienen, efectivamente, sentido dentro del contexto ingresado."
   ]
  },
  {
   "cell_type": "code",
   "execution_count": 22,
   "metadata": {},
   "outputs": [],
   "source": [
    "def top5_next_word(model, word1, word2, word3):\n",
    "    probs = [(w, model.probability_of_word(word1, word2, word3, w)) for w in model.vocab]\n",
    "    probs = sorted(probs, key=lambda x: x[1], reverse=True)\n",
    "    return probs[:5]"
   ]
  },
  {
   "cell_type": "code",
   "execution_count": 23,
   "metadata": {},
   "outputs": [
    {
     "name": "stdout",
     "output_type": "stream",
     "text": [
      "[('obrador', 0.3370457999973343), ('<s>', 0.03978256940808791), ('de', 0.017766097468775645), ('</s>', 0.013621542215995961), ('que', 0.011950694070485714)]\n"
     ]
    }
   ],
   "source": [
    "print(top5_next_word(tetra_lm, \"andrés\", \"manuel\", \"lópez\"))"
   ]
  },
  {
   "cell_type": "markdown",
   "metadata": {},
   "source": [
    "# El Ahorcado\n",
    "Se implifico el codigo para que, en lugar de generar todas las posibles palabras que se forman por permutacion, insercion y eliminacion de letras, genere solo aquellas que se producen al reemplazar un \"\\_\" por una letra.\n",
    "\n",
    "Entre las pruebas se incluyen strings de 3 y 4 \"\\_\", con lo que el algoritmo devuelve las palabras mas comunes de 3 y 4 letras, respectivamente."
   ]
  },
  {
   "cell_type": "code",
   "execution_count": 95,
   "metadata": {},
   "outputs": [],
   "source": [
    "import re\n",
    "from collections import Counter\n",
    "\n",
    "def words(text): return re.findall(r'\\w+', text.lower())\n",
    "\n",
    "WORDS = Counter(words(open('../../Corpus/big.txt').read()))\n",
    "\n",
    "def P(word, N=sum(WORDS.values())): \n",
    "    \"Probability of `word`.\"\n",
    "    return WORDS[word] / N\n",
    "\n",
    "def hangman(word): \n",
    "    \"Most probable spelling correction for word.\"\n",
    "    return max(candidates(word), key=P)\n",
    "\n",
    "def candidates(word): \n",
    "    \"Generate possible spelling corrections for word.\"\n",
    "    return (known([word]) or known(generate_possible_words(word)) or [word])\n",
    "\n",
    "def known(words): \n",
    "    \"The subset of `words` that appear in the dictionary of WORDS.\"\n",
    "    return set(w for w in words if w in WORDS)\n",
    "\n",
    "from itertools import product\n",
    "import string\n",
    "\n",
    "def generate_possible_words(pattern):\n",
    "    letters    = 'abcdefghijklmnopqrstuvwxyz'\n",
    "    blanks = pattern.count('_')  # Contar la cantidad de '_'\n",
    "    \n",
    "    # Generar todas las combinaciones posibles de letras para los espacios vacíos\n",
    "    replacements = product(letters, repeat=blanks)\n",
    "    \n",
    "    words = []\n",
    "    for replacement in replacements:\n",
    "        temp_pattern = list(pattern)  # Convertir el string en una lista mutable\n",
    "        rep_index = 0  # Índice para recorrer replacement\n",
    "        \n",
    "        # Reemplazar cada '_' por una letra del alfabeto\n",
    "        for i, char in enumerate(temp_pattern):\n",
    "            if char == '_':\n",
    "                temp_pattern[i] = replacement[rep_index]\n",
    "                rep_index += 1\n",
    "        \n",
    "        words.append(\"\".join(temp_pattern))  # Convertir lista a string y agregar a la lista de palabras\n",
    "    \n",
    "    return words"
   ]
  },
  {
   "cell_type": "code",
   "execution_count": 103,
   "metadata": {},
   "outputs": [
    {
     "name": "stdout",
     "output_type": "stream",
     "text": [
      "pe_p_e -> people\n",
      "phi__sop_y -> philosophy\n",
      "si_nif_c_nc_ -> significance\n",
      "c_mp_t_r -> computer\n",
      "a_tifi__a_ -> artificial\n",
      "_m__nit_ -> immunity\n",
      "a__le_e -> athlete\n",
      "f_r_e -> force\n",
      "___ -> the\n",
      "____ -> that\n"
     ]
    }
   ],
   "source": [
    "patterns = [\"pe_p_e\", \"phi__sop_y\", \"si_nif_c_nc_\", \"c_mp_t_r\", \"a_tifi__a_\", \"_m__nit_\", \"a__le_e\", \"f_r_e\", \"___\", \"____\"]\n",
    "for pattern in patterns:\n",
    "    print(f'{pattern} -> {hangman(pattern)}')"
   ]
  },
  {
   "cell_type": "markdown",
   "metadata": {},
   "source": [
    "Una manera de integrar el modelo de Norvig al modelo de lenguaje seria que, al analizar secuencias que posean una probabilidad de ocurrencia anormalmente baja (\"anormal\" respecto a algun umbral), encuentre la palabra que esta fuera de lugar al calcular su probabilidad de ocurrencia dentro del contexto y corregirla con el modelo de Norvig. Esto encontraria y corregiria errores como el caso de \"In the science off Maths ...\" asi como otros mas complejos, por ejemplo el caso de que mas de una palabra este escrita incorrectamente."
   ]
  }
 ],
 "metadata": {
  "kernelspec": {
   "display_name": "Python 3",
   "language": "python",
   "name": "python3"
  },
  "language_info": {
   "codemirror_mode": {
    "name": "ipython",
    "version": 3
   },
   "file_extension": ".py",
   "mimetype": "text/x-python",
   "name": "python",
   "nbconvert_exporter": "python",
   "pygments_lexer": "ipython3",
   "version": "3.10.12"
  }
 },
 "nbformat": 4,
 "nbformat_minor": 2
}
