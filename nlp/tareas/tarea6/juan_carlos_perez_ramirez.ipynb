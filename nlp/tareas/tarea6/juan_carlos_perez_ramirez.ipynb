{
 "cells": [
  {
   "cell_type": "markdown",
   "id": "6e236b4d",
   "metadata": {},
   "source": [
    "# Juan Carlos Perez Ramirez\n",
    "## Procesamiento de Lenguaje Natural\n",
    "## Tarea 6: Hierarchical Attention\n",
    "\n",
    "### Corpus limpio generado\n",
    "Los archivos de entrenamiento y de validacion se encuentran en https://drive.google.com/drive/folders/1WfVIBr6H1YLqSsuGzQ8mFGvKg-xCBLu_?usp=sharing\n",
    "\n",
    "### Preprocesamiento\n",
    "Se construye un archivo csv con la estructura tweet1\\</s\\>tweet2\\</s\\>tweet3\\</s\\>nacionalidad, sustituyendo las urls por el token \\<url\\> y las menciones por USER."
   ]
  },
  {
   "cell_type": "code",
   "execution_count": 1,
   "id": "9025f74c",
   "metadata": {},
   "outputs": [],
   "source": [
    "import os\n",
    "import xml.etree.ElementTree as ET\n",
    "import re\n",
    "\n",
    "# Rutas de entrada y salida\n",
    "split = \"val\"\n",
    "dir = \"es_\" + split\n",
    "path = \"../../corpus/2025AuthorProfiling_Train_Val/\"\n",
    "truth = path + dir + '/truth.txt'  # Tu archivo con los identificadores\n",
    "xml_dir = path + dir  # Carpeta donde están los archivos XML\n",
    "docs_file = path + split + '.csv'\n",
    "\n",
    "# Abrimos los archivos de salida\n",
    "with open(docs_file, 'w', encoding='utf-8') as f_textos, \\\n",
    "     open(truth, 'r', encoding='utf-8') as f_in:\n",
    "\n",
    "    for linea in f_in:\n",
    "        partes = linea.strip().split(\":::\")\n",
    "        if len(partes) != 3:\n",
    "            continue  # Saltamos líneas mal formateadas\n",
    "\n",
    "        identificador = partes[0]\n",
    "        nacionalidad = partes[2]\n",
    "        archivo_xml = os.path.join(xml_dir, f\"{identificador}.xml\")\n",
    "\n",
    "        if not os.path.exists(archivo_xml):\n",
    "            print(f\"Archivo {archivo_xml} no encontrado, saltando.\")\n",
    "            continue\n",
    "\n",
    "        try:\n",
    "            tree = ET.parse(archivo_xml)\n",
    "            root = tree.getroot()\n",
    "            documentos = root.find('documents')\n",
    "\n",
    "            # Guardamos todos los tweets en una lista\n",
    "            tweets = []\n",
    "            for doc in documentos.findall('document'):\n",
    "                texto = doc.text.strip()\n",
    "                texto = re.sub(r\"http\\S+|www\\S+|https\\S+\", \"<url>\", texto)  # sustituye URLs por \"<url>\"\n",
    "                texto = re.sub(r\"@\\w+\", \"USER\", texto)\n",
    "                texto = texto.replace('\\n', ' ')  # elimina saltos de línea dentro del tweet\n",
    "                tweets.append(texto)\n",
    "\n",
    "            if tweets:\n",
    "                linea_usuario = \" </s> \".join(tweets) + \" </s>\" + nacionalidad + \"\\n\"\n",
    "                f_textos.write(linea_usuario)\n",
    "\n",
    "        except Exception as e:\n",
    "            print(f\"Error procesando {archivo_xml}: {e}\")\n",
    "\n"
   ]
  },
  {
   "cell_type": "code",
   "execution_count": 2,
   "id": "de859ff7",
   "metadata": {},
   "outputs": [
    {
     "name": "stderr",
     "output_type": "stream",
     "text": [
      "[nltk_data] Downloading package punkt to /home/juancho/nltk_data...\n",
      "[nltk_data]   Package punkt is already up-to-date!\n"
     ]
    }
   ],
   "source": [
    "import pandas as pd\n",
    "import pickle\n",
    "import numpy as np\n",
    "import nltk\n",
    "nltk.download('punkt')\n",
    "from tqdm.auto import tqdm\n",
    "import copy\n",
    "\n",
    "import torch\n",
    "from torch import nn, optim\n",
    "from torch.utils.data import Dataset, DataLoader\n",
    "from torch.nn.utils.rnn import pad_sequence, pad_packed_sequence, pack_padded_sequence\n",
    "import torch.nn.functional as F\n",
    "\n",
    "from sklearn.metrics import f1_score"
   ]
  },
  {
   "cell_type": "code",
   "execution_count": 26,
   "id": "2d28afb7",
   "metadata": {},
   "outputs": [],
   "source": [
    "class author_profiling_dataset(Dataset):\n",
    "    def __init__(self, split):\n",
    "        super(Dataset, self).__init__()\n",
    "        self.load_data(split)\n",
    "        self.vocab, self.emb_mat = self.load_vocab_embeddings()\n",
    "        \n",
    "    def __len__(self):\n",
    "        return len(self.data)\n",
    "\n",
    "    def __getitem__(self, index):\n",
    "        tweet_texts = self.data.iloc[index]['tweets']  # Lista de strings\n",
    "        label = self.data.iloc[index]['target']\n",
    "\n",
    "        tweet_word_ids = []\n",
    "        tweet_tokens = []\n",
    "\n",
    "        for tweet in tweet_texts:\n",
    "            words, word_ids = self.preprocessed_text(tweet)\n",
    "            \n",
    "            # Si está vacío, lo ignoramos\n",
    "            if len(word_ids) == 0:\n",
    "                continue\n",
    "            \n",
    "            tweet_word_ids.append(word_ids)\n",
    "            tweet_tokens.append(words)\n",
    "\n",
    "        # Si todos los tweets estaban vacíos, agregamos uno con [UNK] para evitar errores\n",
    "        if len(tweet_word_ids) == 0:\n",
    "            tweet_word_ids.append([1])  # [UNK]\n",
    "            tweet_tokens.append(['[UNK]'])\n",
    "\n",
    "        return tweet_word_ids, label, tweet_tokens\n",
    "\n",
    "        \n",
    "    def preprocessed_text(self, text):\n",
    "        words = nltk.TweetTokenizer().tokenize(text)\n",
    "        \n",
    "        # Convertir a minúsculas y filtrar si hace falta (opcional)\n",
    "        words = [w.lower() for w in words]\n",
    "\n",
    "        word_ids = [\n",
    "            self.vocab[word] if word in self.vocab else 1  # [UNK]\n",
    "            for word in words\n",
    "        ]\n",
    "\n",
    "        return words, word_ids\n",
    "\n",
    "\n",
    "    def load_data(self, split):\n",
    "        textos = []\n",
    "        etiquetas = []\n",
    "\n",
    "        with open(f'{split}.csv', 'r', encoding='utf-8') as f:\n",
    "            for line in f:\n",
    "                if \"</s>\" in line:\n",
    "                    l = line.strip().split(\"</s>\")\n",
    "                    tweet_list = l[:-1]\n",
    "                    tweet_list = [t.strip() for t in tweet_list if t.strip()]\n",
    "                    textos.append(tweet_list)\n",
    "                    etiquetas.append(l[-1])\n",
    "\n",
    "\n",
    "        self.data = pd.DataFrame({'tweets': textos, 'target': etiquetas})\n",
    "        self.label_map = {l: i for i, l in enumerate(sorted(set(etiquetas)))}\n",
    "        self.data['target'] = self.data['target'].map(self.label_map)\n",
    "\n",
    "        print(f\"Clases: {self.label_map}\")\n",
    "\n",
    "\n",
    "    def load_vocab_embeddings(self):\n",
    "        '''Embeddings preentrenados en twitter.\n",
    "           emb_mat: Matriz de embeddings. Un vector de tamaño 200 para cada palabra del vocabulario.\n",
    "           vocab: Diccionario, asigna a cada palabra su renglón correspondiente en la matriz de embeddings.\n",
    "        '''\n",
    "        embeddings_list = []\n",
    "        self.vocab_dict = {}\n",
    "        vocab = {}\n",
    "        with open('word2vec_col.txt', 'r') as f:\n",
    "            for i, line in enumerate(f):\n",
    "                if i!=0:\n",
    "                    values = line.split()\n",
    "                    self.vocab_dict[i+1] = values[0]\n",
    "                    vocab[values[0]] = i+1\n",
    "                    vector = np.asarray(values[1:], \"float32\")\n",
    "                    embeddings_list.append(vector)\n",
    "        embeddings_list.insert(0,np.mean(np.vstack(embeddings_list), axis=0))\n",
    "        embeddings_list.insert(0,np.zeros(100))\n",
    "        self.vocab_dict[0] = '[PAD]'\n",
    "        self.vocab_dict[1] = '[UNK]'\n",
    "        vocab['[PAD]'] = 0\n",
    "        vocab['[UNK]'] = 1\n",
    "        emb_mat = np.vstack(embeddings_list)\n",
    "\n",
    "        return vocab, emb_mat\n",
    "\n",
    "    def get_weights(self):\n",
    "        counts = self.data['target'].value_counts().sort_index()\n",
    "        maxi = counts.max()\n",
    "        weights = [maxi / count for count in counts]\n",
    "        return torch.tensor(weights, dtype=torch.float32)\n",
    "\n",
    "\n",
    "    def collate_fn(self, batch):\n",
    "        \"\"\"\n",
    "        batch: lista de tuplas (tweet_word_ids, label, tweet_tokens)\n",
    "            - tweet_word_ids: List[List[int]] (lista de tweets, cada uno como lista de ids)\n",
    "            - label: int\n",
    "            - tweet_tokens: List[List[str]] (opcional, para debugging)\n",
    "        \"\"\"\n",
    "\n",
    "        doc_lengths = []             # batch_size (número de tweets por autor)\n",
    "        tweet_lengths_batch = []     # batch_size x num_tweets (longitudes de palabras)\n",
    "        tweet_sequences_batch = []   # batch_size x num_tweets x num_words\n",
    "\n",
    "        labels = []                  # batch_size\n",
    "        tokens = []                  # batch_size x num_tweets x num_words\n",
    "\n",
    "        for tweet_ids, label, tweet_tokens in batch:\n",
    "            # Rellenar tweets vacíos con [UNK] (id=1)\n",
    "            tweet_tensors = [\n",
    "                torch.tensor(t if len(t) > 0 else [1]) for t in tweet_ids\n",
    "            ]\n",
    "            tweet_lengths = []\n",
    "            cleaned_tweets = []\n",
    "\n",
    "            for t in tweet_ids:\n",
    "                if len(t) == 0:\n",
    "                    cleaned_tweets.append(torch.tensor([1]))  # [UNK]\n",
    "                    tweet_lengths.append(1)\n",
    "                else:\n",
    "                    cleaned_tweets.append(torch.tensor(t))\n",
    "                    tweet_lengths.append(len(t))\n",
    "\n",
    "            tweet_tensors = cleaned_tweets\n",
    "\n",
    "\n",
    "            tweet_sequences_batch.append(tweet_tensors)\n",
    "            tweet_lengths_batch.append(tweet_lengths)\n",
    "            doc_lengths.append(len(tweet_ids))\n",
    "            labels.append(label)\n",
    "            tokens.append(tweet_tokens)\n",
    "\n",
    "        max_tweets = max(doc_lengths)\n",
    "        max_words = max([max(l) if l else 0 for l in tweet_lengths_batch])\n",
    "\n",
    "        # Padding a nivel de palabra\n",
    "        for i in range(len(tweet_sequences_batch)):\n",
    "            tweet_tensors = tweet_sequences_batch[i]\n",
    "            padded_tweets = pad_sequence(tweet_tensors, batch_first=True, padding_value=0)  # (num_tweets_i, max_words_i)\n",
    "\n",
    "            # Pad a max_words por tweet\n",
    "            if padded_tweets.shape[1] < max_words:\n",
    "                pad_width = max_words - padded_tweets.shape[1]\n",
    "                padding = torch.zeros((padded_tweets.shape[0], pad_width), dtype=torch.long)\n",
    "                padded_tweets = torch.cat([padded_tweets, padding], dim=1)\n",
    "\n",
    "            # Pad a max_tweets por autor\n",
    "            if padded_tweets.shape[0] < max_tweets:\n",
    "                pad_height = max_tweets - padded_tweets.shape[0]\n",
    "                padding = torch.zeros((pad_height, max_words), dtype=torch.long)\n",
    "                padded_tweets = torch.cat([padded_tweets, padding], dim=0)\n",
    "\n",
    "            tweet_sequences_batch[i] = padded_tweets\n",
    "\n",
    "        tweet_tensor = torch.stack(tweet_sequences_batch)   # (batch_size, max_tweets, max_words)\n",
    "        label_tensor = torch.tensor(labels)\n",
    "        doc_lengths = torch.tensor(doc_lengths)\n",
    "        tweet_lengths_batch = [tl + [0]*(max_tweets - len(tl)) for tl in tweet_lengths_batch]\n",
    "        tweet_lengths_tensor = torch.tensor(tweet_lengths_batch)\n",
    "\n",
    "        return tweet_tensor, doc_lengths, tweet_lengths_tensor, label_tensor, tokens\n"
   ]
  },
  {
   "cell_type": "code",
   "execution_count": 4,
   "id": "a7be2a58",
   "metadata": {},
   "outputs": [
    {
     "name": "stderr",
     "output_type": "stream",
     "text": [
      "[nltk_data] Downloading package punkt to /home/juancho/nltk_data...\n",
      "[nltk_data]   Package punkt is already up-to-date!\n"
     ]
    }
   ],
   "source": [
    "import pandas as pd\n",
    "import pickle\n",
    "import numpy as np\n",
    "import nltk\n",
    "nltk.download('punkt')\n",
    "from tqdm.auto import tqdm\n",
    "import copy\n",
    "\n",
    "import torch\n",
    "from torch import nn, optim\n",
    "from torch.utils.data import Dataset, DataLoader\n",
    "from torch.nn.utils.rnn import pad_sequence, pad_packed_sequence, pack_padded_sequence\n",
    "import torch.nn.functional as F\n",
    "\n",
    "from sklearn.metrics import f1_score"
   ]
  },
  {
   "cell_type": "markdown",
   "id": "24c19959",
   "metadata": {},
   "source": [
    "# Clasificador con atencion jerarquica"
   ]
  },
  {
   "cell_type": "code",
   "execution_count": null,
   "id": "b02512aa",
   "metadata": {},
   "outputs": [],
   "source": [
    "class Attention(nn.Module):\n",
    "    def __init__(self, hidden_size):\n",
    "        super().__init__()\n",
    "        self.proy = nn.Linear(hidden_size * 2, hidden_size)\n",
    "        self.u_w = nn.Parameter(torch.randn(hidden_size))\n",
    "\n",
    "    def forward(self, h_it, mask=None):\n",
    "        \"\"\"\n",
    "        h_it: tensor (batch_size, seq_len, hidden_size*2) — anotaciones de palabras (o tweets)\n",
    "        mask: tensor (batch_size, seq_len) — 0 donde hay padding\n",
    "        \"\"\"\n",
    "        u_it = torch.tanh(self.proy(h_it))\n",
    "        alpha_it = torch.matmul(u_it, self.u_w)\n",
    "        \n",
    "        if mask is not None:\n",
    "            mask = mask.to(alpha_it.device)\n",
    "            alpha_it = alpha_it.masked_fill(mask == 0, -1e9)\n",
    "            \n",
    "        alpha_it = F.softmax(alpha_it, dim=1)\n",
    "        s_i = torch.sum(h_it * alpha_it.unsqueeze(-1), dim=1)\n",
    "        return s_i, alpha_it\n"
   ]
  },
  {
   "cell_type": "code",
   "execution_count": null,
   "id": "5e425c8a",
   "metadata": {},
   "outputs": [],
   "source": [
    "class HAN(nn.Module):\n",
    "    def __init__(self, num_classes, emb_mat, hidden_size=128):\n",
    "        super().__init__()\n",
    "        \n",
    "        vocab_size, emb_dim = emb_mat.shape\n",
    "        \n",
    "        # Embeddings\n",
    "        with torch.no_grad():\n",
    "            self.embeddings = nn.Embedding.from_pretrained(\n",
    "                torch.tensor(emb_mat, dtype=torch.float32),\n",
    "                freeze=True\n",
    "            )\n",
    "\n",
    "        # WORD\n",
    "        self.word_encoder = nn.GRU(\n",
    "            input_size=emb_dim,\n",
    "            hidden_size=hidden_size,\n",
    "            batch_first=True,\n",
    "            bidirectional=True\n",
    "        )\n",
    "        self.word_attention = Attention(hidden_size)\n",
    "\n",
    "        # SENTENCE\n",
    "        self.sent_encoder = nn.GRU(\n",
    "            input_size=hidden_size * 2,\n",
    "            hidden_size=hidden_size,\n",
    "            batch_first=True,\n",
    "            bidirectional=True\n",
    "        )\n",
    "        self.sent_attention = Attention(hidden_size)\n",
    "\n",
    "        # Clasificador\n",
    "        self.classifier = nn.Linear(hidden_size * 2, num_classes)\n",
    "\n",
    "    def forward(self, x, doc_lengths, tweet_lengths):\n",
    "        \"\"\"\n",
    "        x: (batch_size, max_tweets, max_words)\n",
    "        doc_lengths: número real de tweets por autor (batch_size,)\n",
    "        tweet_lengths: número real de palabras por tweet (batch_size, max_tweets)\n",
    "        \"\"\"\n",
    "\n",
    "        batch_size, max_tweets, max_words = x.size()\n",
    "\n",
    "        # WORD-LEVEL\n",
    "        x = x.view(-1, max_words)\n",
    "        tweet_lengths = tweet_lengths.view(-1)\n",
    "        tweet_lengths = tweet_lengths.clamp(min=1)\n",
    "        mask_words = (x != 0)\n",
    "\n",
    "        x_emb = self.embeddings(x)\n",
    "\n",
    "        packed_words = nn.utils.rnn.pack_padded_sequence(\n",
    "            x_emb, tweet_lengths.cpu(), batch_first=True, enforce_sorted=False\n",
    "        )\n",
    "        h_it, _ = self.word_encoder(packed_words)\n",
    "        h_it, _ = nn.utils.rnn.pad_packed_sequence(h_it, batch_first=True)\n",
    "\n",
    "        s_i, alpha_it = self.word_attention(h_it, mask_words)\n",
    "\n",
    "        # Guarda atención de palabras\n",
    "        self.word_attn_scores = alpha_it.view(batch_size, max_tweets, -1)  # shape: (batch_size, max_tweets, max_words)\n",
    "\n",
    "        # SENTENCE-LEVEL\n",
    "        s_i = s_i.view(batch_size, max_tweets, -1)\n",
    "        mask_sents = (doc_lengths.unsqueeze(1) > torch.arange(max_tweets).to(doc_lengths.device)).int()\n",
    "\n",
    "        h_i, _ = self.sent_encoder(s_i)\n",
    "        v, alpha_i = self.sent_attention(h_i, mask_sents)\n",
    "\n",
    "        # Guarda atención de tweets\n",
    "        self.sent_attn_scores = alpha_i  # shape: (batch_size, max_tweets)\n",
    "\n",
    "        # CLASIFICACIÓN\n",
    "        logits = self.classifier(v)\n",
    "        return logits\n"
   ]
  },
  {
   "cell_type": "code",
   "execution_count": 87,
   "id": "d0dbdcfb",
   "metadata": {},
   "outputs": [],
   "source": [
    "def eval_model(model, dataloader, criterion, device, attention_level='sent'):\n",
    "    with torch.no_grad():\n",
    "        model.eval()\n",
    "        losses = []\n",
    "        preds = torch.empty(0).long()\n",
    "        targets = torch.empty(0).long()\n",
    "        scores_list = []\n",
    "        words_list = []\n",
    "        pred_list = []\n",
    "\n",
    "        for data in tqdm(dataloader):\n",
    "            torch.cuda.empty_cache()\n",
    "            seq, seq_len, tweet_lens, labels, words = data\n",
    "            seq, labels = seq.to(device), labels.to(device)\n",
    "\n",
    "            output = model(seq, seq_len, tweet_lens)\n",
    "            loss = criterion(output, labels)\n",
    "            losses.append(loss.item())\n",
    "\n",
    "            predictions = output.argmax(1).cpu()\n",
    "            preds = torch.cat([preds, predictions], dim=0)\n",
    "            targets = torch.cat([targets, labels.cpu()], dim=0)\n",
    "\n",
    "            # Elegimos qué atención guardar\n",
    "            if attention_level == 'sent' and hasattr(model, \"sent_attn_scores\"):\n",
    "                scores = model.sent_attn_scores.cpu().tolist()\n",
    "            elif attention_level == 'word' and hasattr(model, \"word_attn_scores\"):\n",
    "                scores = model.word_attn_scores.cpu().tolist()\n",
    "            else:\n",
    "                scores = []\n",
    "\n",
    "            scores_list += scores\n",
    "            pred_list += predictions.tolist()\n",
    "            words_list += words\n",
    "\n",
    "        model.train()\n",
    "        preds = preds.numpy()\n",
    "        targets = targets.numpy()\n",
    "        f1 = f1_score(targets, preds, average='macro')\n",
    "\n",
    "        return np.mean(losses), f1, scores_list, words_list, pred_list\n",
    "\n"
   ]
  },
  {
   "cell_type": "code",
   "execution_count": 8,
   "id": "f4d2724d",
   "metadata": {},
   "outputs": [],
   "source": [
    "batch_size=32"
   ]
  },
  {
   "cell_type": "code",
   "execution_count": 27,
   "id": "546b3426",
   "metadata": {},
   "outputs": [
    {
     "name": "stdout",
     "output_type": "stream",
     "text": [
      "Clases: {'argentina': 0, 'chile': 1, 'colombia': 2, 'mexico': 3, 'peru': 4, 'spain': 5, 'venezuela': 6}\n",
      "Clases: {'argentina': 0, 'chile': 1, 'colombia': 2, 'mexico': 3, 'peru': 4, 'spain': 5, 'venezuela': 6}\n"
     ]
    }
   ],
   "source": [
    "train_dataset = author_profiling_dataset('train')\n",
    "test_dataset = author_profiling_dataset('val')\n",
    "train_dataloader = DataLoader(train_dataset, batch_size=batch_size, collate_fn = train_dataset.collate_fn, shuffle=True)\n",
    "test_dataloader = DataLoader(test_dataset, batch_size=batch_size, collate_fn = test_dataset.collate_fn, shuffle=False)"
   ]
  },
  {
   "cell_type": "code",
   "execution_count": 58,
   "id": "f83f60cb",
   "metadata": {},
   "outputs": [],
   "source": [
    "lr = 0.0001\n",
    "epochs = 20\n",
    "device = torch.device('cuda')\n",
    "weight_decay=0.0001\n",
    "beta1=0\n",
    "beta2=0.999"
   ]
  },
  {
   "cell_type": "code",
   "execution_count": 74,
   "id": "3e31f232",
   "metadata": {},
   "outputs": [],
   "source": [
    "num_classes = len(train_dataset.label_map.keys())\n",
    "model = HAN(num_classes=num_classes, emb_mat=train_dataset.emb_mat).to(device)\n",
    "optimizer = optim.Adam(model.parameters(), lr=lr,weight_decay=weight_decay, betas = (beta1, beta2))\n",
    "weight = train_dataset.get_weights().to(device)\n",
    "criterion = nn.CrossEntropyLoss(weight = weight)"
   ]
  },
  {
   "cell_type": "code",
   "execution_count": 89,
   "id": "5702dc13",
   "metadata": {},
   "outputs": [
    {
     "data": {
      "application/vnd.jupyter.widget-view+json": {
       "model_id": "145ab29d83d947daa5a135beb108ffd7",
       "version_major": 2,
       "version_minor": 0
      },
      "text/plain": [
       "  0%|          | 0/105 [00:00<?, ?it/s]"
      ]
     },
     "metadata": {},
     "output_type": "display_data"
    },
    {
     "data": {
      "application/vnd.jupyter.widget-view+json": {
       "model_id": "49b75980c3ba4f779c8b69e4eb7a980b",
       "version_major": 2,
       "version_minor": 0
      },
      "text/plain": [
       "  0%|          | 0/105 [00:00<?, ?it/s]"
      ]
     },
     "metadata": {},
     "output_type": "display_data"
    },
    {
     "data": {
      "application/vnd.jupyter.widget-view+json": {
       "model_id": "8237a51a1c3f4a83a8929e03e9b5ff6f",
       "version_major": 2,
       "version_minor": 0
      },
      "text/plain": [
       "  0%|          | 0/27 [00:00<?, ?it/s]"
      ]
     },
     "metadata": {},
     "output_type": "display_data"
    },
    {
     "name": "stdout",
     "output_type": "stream",
     "text": [
      "epoch: 0\n",
      "train_loss: 0.27891 | val_loss: 0.93510 | train_f1: 0.91974 | val_f1: 0.75143\n"
     ]
    },
    {
     "data": {
      "application/vnd.jupyter.widget-view+json": {
       "model_id": "adbcaaec75554aacb948db1e29069334",
       "version_major": 2,
       "version_minor": 0
      },
      "text/plain": [
       "  0%|          | 0/105 [00:00<?, ?it/s]"
      ]
     },
     "metadata": {},
     "output_type": "display_data"
    },
    {
     "data": {
      "application/vnd.jupyter.widget-view+json": {
       "model_id": "40f51198957b4a46b46f965b457ba46d",
       "version_major": 2,
       "version_minor": 0
      },
      "text/plain": [
       "  0%|          | 0/105 [00:00<?, ?it/s]"
      ]
     },
     "metadata": {},
     "output_type": "display_data"
    },
    {
     "data": {
      "application/vnd.jupyter.widget-view+json": {
       "model_id": "4ff5256541f743a5aaedae040a40e114",
       "version_major": 2,
       "version_minor": 0
      },
      "text/plain": [
       "  0%|          | 0/27 [00:00<?, ?it/s]"
      ]
     },
     "metadata": {},
     "output_type": "display_data"
    },
    {
     "name": "stdout",
     "output_type": "stream",
     "text": [
      "epoch: 1\n",
      "train_loss: 0.23925 | val_loss: 0.90516 | train_f1: 0.93567 | val_f1: 0.75608\n"
     ]
    },
    {
     "data": {
      "application/vnd.jupyter.widget-view+json": {
       "model_id": "99be19e486004386af6d3cd5573ffe19",
       "version_major": 2,
       "version_minor": 0
      },
      "text/plain": [
       "  0%|          | 0/105 [00:00<?, ?it/s]"
      ]
     },
     "metadata": {},
     "output_type": "display_data"
    },
    {
     "data": {
      "application/vnd.jupyter.widget-view+json": {
       "model_id": "787c97eeda2a4d24a1086b33c090c35e",
       "version_major": 2,
       "version_minor": 0
      },
      "text/plain": [
       "  0%|          | 0/105 [00:00<?, ?it/s]"
      ]
     },
     "metadata": {},
     "output_type": "display_data"
    },
    {
     "data": {
      "application/vnd.jupyter.widget-view+json": {
       "model_id": "bf60e8eb641e411487bf1ce192c533a9",
       "version_major": 2,
       "version_minor": 0
      },
      "text/plain": [
       "  0%|          | 0/27 [00:00<?, ?it/s]"
      ]
     },
     "metadata": {},
     "output_type": "display_data"
    },
    {
     "name": "stdout",
     "output_type": "stream",
     "text": [
      "epoch: 2\n",
      "train_loss: 0.24572 | val_loss: 0.92388 | train_f1: 0.92858 | val_f1: 0.75577\n"
     ]
    },
    {
     "data": {
      "application/vnd.jupyter.widget-view+json": {
       "model_id": "a93a4dbe35394e03918de8d542677563",
       "version_major": 2,
       "version_minor": 0
      },
      "text/plain": [
       "  0%|          | 0/105 [00:00<?, ?it/s]"
      ]
     },
     "metadata": {},
     "output_type": "display_data"
    },
    {
     "data": {
      "application/vnd.jupyter.widget-view+json": {
       "model_id": "4edf5ab5a99d40e885d3369958b88124",
       "version_major": 2,
       "version_minor": 0
      },
      "text/plain": [
       "  0%|          | 0/105 [00:00<?, ?it/s]"
      ]
     },
     "metadata": {},
     "output_type": "display_data"
    },
    {
     "data": {
      "application/vnd.jupyter.widget-view+json": {
       "model_id": "446fd5476e404dff90f887496b108347",
       "version_major": 2,
       "version_minor": 0
      },
      "text/plain": [
       "  0%|          | 0/27 [00:00<?, ?it/s]"
      ]
     },
     "metadata": {},
     "output_type": "display_data"
    },
    {
     "name": "stdout",
     "output_type": "stream",
     "text": [
      "epoch: 3\n",
      "train_loss: 0.21888 | val_loss: 0.91262 | train_f1: 0.94473 | val_f1: 0.76314\n"
     ]
    },
    {
     "data": {
      "application/vnd.jupyter.widget-view+json": {
       "model_id": "f1f330b8a0144eaa97649c1e70b88d77",
       "version_major": 2,
       "version_minor": 0
      },
      "text/plain": [
       "  0%|          | 0/105 [00:00<?, ?it/s]"
      ]
     },
     "metadata": {},
     "output_type": "display_data"
    },
    {
     "data": {
      "application/vnd.jupyter.widget-view+json": {
       "model_id": "14be14a6a6d141e5891e54c395d20fa8",
       "version_major": 2,
       "version_minor": 0
      },
      "text/plain": [
       "  0%|          | 0/105 [00:00<?, ?it/s]"
      ]
     },
     "metadata": {},
     "output_type": "display_data"
    },
    {
     "data": {
      "application/vnd.jupyter.widget-view+json": {
       "model_id": "0f7839b1915e41e3a6d3587cc17f3e1a",
       "version_major": 2,
       "version_minor": 0
      },
      "text/plain": [
       "  0%|          | 0/27 [00:00<?, ?it/s]"
      ]
     },
     "metadata": {},
     "output_type": "display_data"
    },
    {
     "name": "stdout",
     "output_type": "stream",
     "text": [
      "epoch: 4\n",
      "train_loss: 0.32253 | val_loss: 1.02507 | train_f1: 0.90559 | val_f1: 0.74029\n"
     ]
    },
    {
     "data": {
      "application/vnd.jupyter.widget-view+json": {
       "model_id": "fcf15beebfc342288699e5c4aad783b3",
       "version_major": 2,
       "version_minor": 0
      },
      "text/plain": [
       "  0%|          | 0/105 [00:00<?, ?it/s]"
      ]
     },
     "metadata": {},
     "output_type": "display_data"
    },
    {
     "data": {
      "application/vnd.jupyter.widget-view+json": {
       "model_id": "e54c366e84f442cc81f1f09f8acd7fb0",
       "version_major": 2,
       "version_minor": 0
      },
      "text/plain": [
       "  0%|          | 0/105 [00:00<?, ?it/s]"
      ]
     },
     "metadata": {},
     "output_type": "display_data"
    },
    {
     "data": {
      "application/vnd.jupyter.widget-view+json": {
       "model_id": "a8159e94e4bc4c43888b61e7be12ab5b",
       "version_major": 2,
       "version_minor": 0
      },
      "text/plain": [
       "  0%|          | 0/27 [00:00<?, ?it/s]"
      ]
     },
     "metadata": {},
     "output_type": "display_data"
    },
    {
     "name": "stdout",
     "output_type": "stream",
     "text": [
      "epoch: 5\n",
      "train_loss: 0.21283 | val_loss: 0.91021 | train_f1: 0.94297 | val_f1: 0.77543\n"
     ]
    },
    {
     "data": {
      "application/vnd.jupyter.widget-view+json": {
       "model_id": "383b53800b1d4f6a888be83354f6e70d",
       "version_major": 2,
       "version_minor": 0
      },
      "text/plain": [
       "  0%|          | 0/105 [00:00<?, ?it/s]"
      ]
     },
     "metadata": {},
     "output_type": "display_data"
    },
    {
     "data": {
      "application/vnd.jupyter.widget-view+json": {
       "model_id": "ba51e483c9db46cf9288fbcfb35c2507",
       "version_major": 2,
       "version_minor": 0
      },
      "text/plain": [
       "  0%|          | 0/105 [00:00<?, ?it/s]"
      ]
     },
     "metadata": {},
     "output_type": "display_data"
    },
    {
     "data": {
      "application/vnd.jupyter.widget-view+json": {
       "model_id": "8de44a285fd0479cb3907d056602ac7d",
       "version_major": 2,
       "version_minor": 0
      },
      "text/plain": [
       "  0%|          | 0/27 [00:00<?, ?it/s]"
      ]
     },
     "metadata": {},
     "output_type": "display_data"
    },
    {
     "name": "stdout",
     "output_type": "stream",
     "text": [
      "epoch: 6\n",
      "train_loss: 0.19103 | val_loss: 0.95203 | train_f1: 0.94835 | val_f1: 0.75670\n"
     ]
    },
    {
     "data": {
      "application/vnd.jupyter.widget-view+json": {
       "model_id": "5be7062b78be4898aa9af96c6db7df8c",
       "version_major": 2,
       "version_minor": 0
      },
      "text/plain": [
       "  0%|          | 0/105 [00:00<?, ?it/s]"
      ]
     },
     "metadata": {},
     "output_type": "display_data"
    },
    {
     "data": {
      "application/vnd.jupyter.widget-view+json": {
       "model_id": "91524e5186744d82898dc738122b6b2f",
       "version_major": 2,
       "version_minor": 0
      },
      "text/plain": [
       "  0%|          | 0/105 [00:00<?, ?it/s]"
      ]
     },
     "metadata": {},
     "output_type": "display_data"
    },
    {
     "data": {
      "application/vnd.jupyter.widget-view+json": {
       "model_id": "4bdc31421bb44cd89a459e10494555d0",
       "version_major": 2,
       "version_minor": 0
      },
      "text/plain": [
       "  0%|          | 0/27 [00:00<?, ?it/s]"
      ]
     },
     "metadata": {},
     "output_type": "display_data"
    },
    {
     "name": "stdout",
     "output_type": "stream",
     "text": [
      "epoch: 7\n",
      "train_loss: 0.15999 | val_loss: 0.92780 | train_f1: 0.96249 | val_f1: 0.75929\n"
     ]
    },
    {
     "data": {
      "application/vnd.jupyter.widget-view+json": {
       "model_id": "881b951e804347d28a24c041cfe4f50c",
       "version_major": 2,
       "version_minor": 0
      },
      "text/plain": [
       "  0%|          | 0/105 [00:00<?, ?it/s]"
      ]
     },
     "metadata": {},
     "output_type": "display_data"
    },
    {
     "data": {
      "application/vnd.jupyter.widget-view+json": {
       "model_id": "11366da8c7fd487483bc294bfbc413ab",
       "version_major": 2,
       "version_minor": 0
      },
      "text/plain": [
       "  0%|          | 0/105 [00:00<?, ?it/s]"
      ]
     },
     "metadata": {},
     "output_type": "display_data"
    },
    {
     "data": {
      "application/vnd.jupyter.widget-view+json": {
       "model_id": "4420327c487948df97a8b088fd48db69",
       "version_major": 2,
       "version_minor": 0
      },
      "text/plain": [
       "  0%|          | 0/27 [00:00<?, ?it/s]"
      ]
     },
     "metadata": {},
     "output_type": "display_data"
    },
    {
     "name": "stdout",
     "output_type": "stream",
     "text": [
      "epoch: 8\n",
      "train_loss: 0.15188 | val_loss: 0.93338 | train_f1: 0.96520 | val_f1: 0.76343\n"
     ]
    },
    {
     "data": {
      "application/vnd.jupyter.widget-view+json": {
       "model_id": "4209ce7fe2254f41ab13e8d97a386552",
       "version_major": 2,
       "version_minor": 0
      },
      "text/plain": [
       "  0%|          | 0/105 [00:00<?, ?it/s]"
      ]
     },
     "metadata": {},
     "output_type": "display_data"
    },
    {
     "data": {
      "application/vnd.jupyter.widget-view+json": {
       "model_id": "6ac58e86ef77450c9f60f9dac702a0d6",
       "version_major": 2,
       "version_minor": 0
      },
      "text/plain": [
       "  0%|          | 0/105 [00:00<?, ?it/s]"
      ]
     },
     "metadata": {},
     "output_type": "display_data"
    },
    {
     "data": {
      "application/vnd.jupyter.widget-view+json": {
       "model_id": "8c2e9ddc6b1d4af2bbd41bbb3e3f369d",
       "version_major": 2,
       "version_minor": 0
      },
      "text/plain": [
       "  0%|          | 0/27 [00:00<?, ?it/s]"
      ]
     },
     "metadata": {},
     "output_type": "display_data"
    },
    {
     "name": "stdout",
     "output_type": "stream",
     "text": [
      "epoch: 9\n",
      "train_loss: 0.14500 | val_loss: 0.97125 | train_f1: 0.96912 | val_f1: 0.76352\n"
     ]
    },
    {
     "data": {
      "application/vnd.jupyter.widget-view+json": {
       "model_id": "5b706e6725aa4430bc0dfff70f677191",
       "version_major": 2,
       "version_minor": 0
      },
      "text/plain": [
       "  0%|          | 0/105 [00:00<?, ?it/s]"
      ]
     },
     "metadata": {},
     "output_type": "display_data"
    },
    {
     "data": {
      "application/vnd.jupyter.widget-view+json": {
       "model_id": "fe3c38523faa4b0dbd27295419732878",
       "version_major": 2,
       "version_minor": 0
      },
      "text/plain": [
       "  0%|          | 0/105 [00:00<?, ?it/s]"
      ]
     },
     "metadata": {},
     "output_type": "display_data"
    },
    {
     "data": {
      "application/vnd.jupyter.widget-view+json": {
       "model_id": "3c7599ef5348402e8538e9b05ddf3bf0",
       "version_major": 2,
       "version_minor": 0
      },
      "text/plain": [
       "  0%|          | 0/27 [00:00<?, ?it/s]"
      ]
     },
     "metadata": {},
     "output_type": "display_data"
    },
    {
     "name": "stdout",
     "output_type": "stream",
     "text": [
      "epoch: 10\n",
      "train_loss: 0.12710 | val_loss: 0.95032 | train_f1: 0.97146 | val_f1: 0.76656\n"
     ]
    },
    {
     "data": {
      "application/vnd.jupyter.widget-view+json": {
       "model_id": "166d1d595ce84c44a8997d463cd90bfd",
       "version_major": 2,
       "version_minor": 0
      },
      "text/plain": [
       "  0%|          | 0/105 [00:00<?, ?it/s]"
      ]
     },
     "metadata": {},
     "output_type": "display_data"
    },
    {
     "data": {
      "application/vnd.jupyter.widget-view+json": {
       "model_id": "4e3ef6b47c824822a5bf17e2bb2bcd76",
       "version_major": 2,
       "version_minor": 0
      },
      "text/plain": [
       "  0%|          | 0/105 [00:00<?, ?it/s]"
      ]
     },
     "metadata": {},
     "output_type": "display_data"
    },
    {
     "data": {
      "application/vnd.jupyter.widget-view+json": {
       "model_id": "18b83159f852429d8d2aec396cfe375b",
       "version_major": 2,
       "version_minor": 0
      },
      "text/plain": [
       "  0%|          | 0/27 [00:00<?, ?it/s]"
      ]
     },
     "metadata": {},
     "output_type": "display_data"
    },
    {
     "name": "stdout",
     "output_type": "stream",
     "text": [
      "epoch: 11\n",
      "train_loss: 0.13463 | val_loss: 0.99445 | train_f1: 0.96833 | val_f1: 0.76635\n"
     ]
    },
    {
     "data": {
      "application/vnd.jupyter.widget-view+json": {
       "model_id": "6d05fb9224d44fb19c818afefe2bb9e4",
       "version_major": 2,
       "version_minor": 0
      },
      "text/plain": [
       "  0%|          | 0/105 [00:00<?, ?it/s]"
      ]
     },
     "metadata": {},
     "output_type": "display_data"
    },
    {
     "data": {
      "application/vnd.jupyter.widget-view+json": {
       "model_id": "bea20169ea244631800d54858cb4ac20",
       "version_major": 2,
       "version_minor": 0
      },
      "text/plain": [
       "  0%|          | 0/105 [00:00<?, ?it/s]"
      ]
     },
     "metadata": {},
     "output_type": "display_data"
    },
    {
     "data": {
      "application/vnd.jupyter.widget-view+json": {
       "model_id": "f4a050c772a64014b24487f4a5f58098",
       "version_major": 2,
       "version_minor": 0
      },
      "text/plain": [
       "  0%|          | 0/27 [00:00<?, ?it/s]"
      ]
     },
     "metadata": {},
     "output_type": "display_data"
    },
    {
     "name": "stdout",
     "output_type": "stream",
     "text": [
      "epoch: 12\n",
      "train_loss: 0.11236 | val_loss: 0.98270 | train_f1: 0.97859 | val_f1: 0.75594\n"
     ]
    },
    {
     "data": {
      "application/vnd.jupyter.widget-view+json": {
       "model_id": "10d730975e6343c19963549baec63e16",
       "version_major": 2,
       "version_minor": 0
      },
      "text/plain": [
       "  0%|          | 0/105 [00:00<?, ?it/s]"
      ]
     },
     "metadata": {},
     "output_type": "display_data"
    },
    {
     "data": {
      "application/vnd.jupyter.widget-view+json": {
       "model_id": "84ab327fdbfe4ed2ba784e47d8e89178",
       "version_major": 2,
       "version_minor": 0
      },
      "text/plain": [
       "  0%|          | 0/105 [00:00<?, ?it/s]"
      ]
     },
     "metadata": {},
     "output_type": "display_data"
    },
    {
     "data": {
      "application/vnd.jupyter.widget-view+json": {
       "model_id": "b4dec434bcc346cb9a0daa3eea4ea668",
       "version_major": 2,
       "version_minor": 0
      },
      "text/plain": [
       "  0%|          | 0/27 [00:00<?, ?it/s]"
      ]
     },
     "metadata": {},
     "output_type": "display_data"
    },
    {
     "name": "stdout",
     "output_type": "stream",
     "text": [
      "epoch: 13\n",
      "train_loss: 0.17007 | val_loss: 0.92731 | train_f1: 0.95942 | val_f1: 0.75886\n"
     ]
    },
    {
     "data": {
      "application/vnd.jupyter.widget-view+json": {
       "model_id": "ecdd8a1ac2b04bb8bc42ace795f54f40",
       "version_major": 2,
       "version_minor": 0
      },
      "text/plain": [
       "  0%|          | 0/105 [00:00<?, ?it/s]"
      ]
     },
     "metadata": {},
     "output_type": "display_data"
    },
    {
     "data": {
      "application/vnd.jupyter.widget-view+json": {
       "model_id": "a6d9f4fe9dea4e45b325f7cd4b931a95",
       "version_major": 2,
       "version_minor": 0
      },
      "text/plain": [
       "  0%|          | 0/105 [00:00<?, ?it/s]"
      ]
     },
     "metadata": {},
     "output_type": "display_data"
    },
    {
     "data": {
      "application/vnd.jupyter.widget-view+json": {
       "model_id": "fc99eeefc17d4d5da594891ee5ee5130",
       "version_major": 2,
       "version_minor": 0
      },
      "text/plain": [
       "  0%|          | 0/27 [00:00<?, ?it/s]"
      ]
     },
     "metadata": {},
     "output_type": "display_data"
    },
    {
     "name": "stdout",
     "output_type": "stream",
     "text": [
      "epoch: 14\n",
      "train_loss: 0.12822 | val_loss: 0.99089 | train_f1: 0.97231 | val_f1: 0.75146\n"
     ]
    },
    {
     "data": {
      "application/vnd.jupyter.widget-view+json": {
       "model_id": "45b3eddd5b70479082d22e0aeb4ebdf0",
       "version_major": 2,
       "version_minor": 0
      },
      "text/plain": [
       "  0%|          | 0/105 [00:00<?, ?it/s]"
      ]
     },
     "metadata": {},
     "output_type": "display_data"
    },
    {
     "data": {
      "application/vnd.jupyter.widget-view+json": {
       "model_id": "2eb0a93bb8cc4df983d82a14220d7b93",
       "version_major": 2,
       "version_minor": 0
      },
      "text/plain": [
       "  0%|          | 0/105 [00:00<?, ?it/s]"
      ]
     },
     "metadata": {},
     "output_type": "display_data"
    },
    {
     "data": {
      "application/vnd.jupyter.widget-view+json": {
       "model_id": "a7e85aa7a4ac4aa4988a3f04fda073bc",
       "version_major": 2,
       "version_minor": 0
      },
      "text/plain": [
       "  0%|          | 0/27 [00:00<?, ?it/s]"
      ]
     },
     "metadata": {},
     "output_type": "display_data"
    },
    {
     "name": "stdout",
     "output_type": "stream",
     "text": [
      "epoch: 15\n",
      "train_loss: 0.15326 | val_loss: 1.05436 | train_f1: 0.96397 | val_f1: 0.75062\n"
     ]
    },
    {
     "data": {
      "application/vnd.jupyter.widget-view+json": {
       "model_id": "0fae90659bfc46f9be5f7da60dc591af",
       "version_major": 2,
       "version_minor": 0
      },
      "text/plain": [
       "  0%|          | 0/105 [00:00<?, ?it/s]"
      ]
     },
     "metadata": {},
     "output_type": "display_data"
    },
    {
     "data": {
      "application/vnd.jupyter.widget-view+json": {
       "model_id": "c01b891214dd41d7ae25e3f154e28ddd",
       "version_major": 2,
       "version_minor": 0
      },
      "text/plain": [
       "  0%|          | 0/105 [00:00<?, ?it/s]"
      ]
     },
     "metadata": {},
     "output_type": "display_data"
    },
    {
     "data": {
      "application/vnd.jupyter.widget-view+json": {
       "model_id": "246a4d7999ac4af8a4ad1c8799e1a2a7",
       "version_major": 2,
       "version_minor": 0
      },
      "text/plain": [
       "  0%|          | 0/27 [00:00<?, ?it/s]"
      ]
     },
     "metadata": {},
     "output_type": "display_data"
    },
    {
     "name": "stdout",
     "output_type": "stream",
     "text": [
      "epoch: 16\n",
      "train_loss: 0.10284 | val_loss: 0.96762 | train_f1: 0.98275 | val_f1: 0.76881\n"
     ]
    },
    {
     "data": {
      "application/vnd.jupyter.widget-view+json": {
       "model_id": "96adf683d5cd4deebfcf44f3f2202bb7",
       "version_major": 2,
       "version_minor": 0
      },
      "text/plain": [
       "  0%|          | 0/105 [00:00<?, ?it/s]"
      ]
     },
     "metadata": {},
     "output_type": "display_data"
    },
    {
     "data": {
      "application/vnd.jupyter.widget-view+json": {
       "model_id": "0e8b44e3c09945b4ba44f135993ecd72",
       "version_major": 2,
       "version_minor": 0
      },
      "text/plain": [
       "  0%|          | 0/105 [00:00<?, ?it/s]"
      ]
     },
     "metadata": {},
     "output_type": "display_data"
    },
    {
     "data": {
      "application/vnd.jupyter.widget-view+json": {
       "model_id": "4bc254e322b0485f868cb883f8703450",
       "version_major": 2,
       "version_minor": 0
      },
      "text/plain": [
       "  0%|          | 0/27 [00:00<?, ?it/s]"
      ]
     },
     "metadata": {},
     "output_type": "display_data"
    },
    {
     "name": "stdout",
     "output_type": "stream",
     "text": [
      "epoch: 17\n",
      "train_loss: 0.12050 | val_loss: 1.03027 | train_f1: 0.97065 | val_f1: 0.76815\n"
     ]
    },
    {
     "data": {
      "application/vnd.jupyter.widget-view+json": {
       "model_id": "247625bf1ef5450f9fab866098f08787",
       "version_major": 2,
       "version_minor": 0
      },
      "text/plain": [
       "  0%|          | 0/105 [00:00<?, ?it/s]"
      ]
     },
     "metadata": {},
     "output_type": "display_data"
    },
    {
     "data": {
      "application/vnd.jupyter.widget-view+json": {
       "model_id": "b32a0035abf7454186e78358a76ba1d6",
       "version_major": 2,
       "version_minor": 0
      },
      "text/plain": [
       "  0%|          | 0/105 [00:00<?, ?it/s]"
      ]
     },
     "metadata": {},
     "output_type": "display_data"
    },
    {
     "data": {
      "application/vnd.jupyter.widget-view+json": {
       "model_id": "857f70e17066456985aae2103718d5a7",
       "version_major": 2,
       "version_minor": 0
      },
      "text/plain": [
       "  0%|          | 0/27 [00:00<?, ?it/s]"
      ]
     },
     "metadata": {},
     "output_type": "display_data"
    },
    {
     "name": "stdout",
     "output_type": "stream",
     "text": [
      "epoch: 18\n",
      "train_loss: 0.07970 | val_loss: 1.00086 | train_f1: 0.98692 | val_f1: 0.77457\n"
     ]
    },
    {
     "data": {
      "application/vnd.jupyter.widget-view+json": {
       "model_id": "fb8631a9199342cba7bdca63bbae7a46",
       "version_major": 2,
       "version_minor": 0
      },
      "text/plain": [
       "  0%|          | 0/105 [00:00<?, ?it/s]"
      ]
     },
     "metadata": {},
     "output_type": "display_data"
    },
    {
     "data": {
      "application/vnd.jupyter.widget-view+json": {
       "model_id": "c4395d90950343ceb28d7c34f546f1ba",
       "version_major": 2,
       "version_minor": 0
      },
      "text/plain": [
       "  0%|          | 0/105 [00:00<?, ?it/s]"
      ]
     },
     "metadata": {},
     "output_type": "display_data"
    },
    {
     "data": {
      "application/vnd.jupyter.widget-view+json": {
       "model_id": "e0865cffe22440b7a91b5b16d1917722",
       "version_major": 2,
       "version_minor": 0
      },
      "text/plain": [
       "  0%|          | 0/27 [00:00<?, ?it/s]"
      ]
     },
     "metadata": {},
     "output_type": "display_data"
    },
    {
     "name": "stdout",
     "output_type": "stream",
     "text": [
      "epoch: 19\n",
      "train_loss: 0.06925 | val_loss: 0.99165 | train_f1: 0.98990 | val_f1: 0.77350\n"
     ]
    }
   ],
   "source": [
    "best_val_f1 = 0\n",
    "for epoch in range(epochs):\n",
    "    model.train()\n",
    "    for data in tqdm(train_dataloader):\n",
    "        optimizer.zero_grad()\n",
    "        \n",
    "        tweet_tensor, doc_lengths, tweet_lengths_tensor, labels, _ = data\n",
    "        tweet_tensor = tweet_tensor.to(device)\n",
    "        labels = labels.to(device)\n",
    "        doc_lengths = doc_lengths.to(device)\n",
    "        tweet_lengths_tensor = tweet_lengths_tensor.to(device)\n",
    "\n",
    "        output = model(tweet_tensor, doc_lengths, tweet_lengths_tensor)\n",
    "        loss = criterion(output, labels)\n",
    "        loss.backward()\n",
    "        optimizer.step()\n",
    "\n",
    "    torch.cuda.empty_cache()\n",
    "\n",
    "    model.eval()\n",
    "    with torch.no_grad():\n",
    "        train_loss, train_f1, train_scores, train_words, train_pred = eval_model(\n",
    "            model, train_dataloader, criterion, device, attention_level='sent'\n",
    "        )\n",
    "        val_loss, val_f1, _, _, _ = eval_model(\n",
    "            model, test_dataloader, criterion, device, attention_level='sent'\n",
    "        )\n",
    "\n",
    "    print(f'epoch: {epoch}')\n",
    "    print(f'train_loss: {train_loss:.5f} | val_loss: {val_loss:.5f} | train_f1: {train_f1:.5f} | val_f1: {val_f1:.5f}')\n",
    "    \n",
    "    if val_f1 > best_val_f1:\n",
    "        best_val_f1 = val_f1\n",
    "        best_state_dict = copy.deepcopy(model.state_dict())\n"
   ]
  },
  {
   "cell_type": "code",
   "execution_count": 90,
   "id": "c91ed271",
   "metadata": {},
   "outputs": [
    {
     "data": {
      "application/vnd.jupyter.widget-view+json": {
       "model_id": "65c9410070734a3097b2ea4bad345371",
       "version_major": 2,
       "version_minor": 0
      },
      "text/plain": [
       "  0%|          | 0/105 [00:00<?, ?it/s]"
      ]
     },
     "metadata": {},
     "output_type": "display_data"
    },
    {
     "data": {
      "application/vnd.jupyter.widget-view+json": {
       "model_id": "5a0281eb49864a71b3b049a562cb144c",
       "version_major": 2,
       "version_minor": 0
      },
      "text/plain": [
       "  0%|          | 0/27 [00:00<?, ?it/s]"
      ]
     },
     "metadata": {},
     "output_type": "display_data"
    },
    {
     "name": "stdout",
     "output_type": "stream",
     "text": [
      "train_loss: 0.212829 | train_f1: 0.942975\n",
      "test_loss: 0.910213 | test_f1: 0.775427\n"
     ]
    }
   ],
   "source": [
    "model.load_state_dict(best_state_dict)\n",
    "train_loss, train_f1, train_scores, train_words, train_pred = eval_model(\n",
    "            model, train_dataloader, criterion, device, attention_level='sent'\n",
    "        )\n",
    "test_loss, test_f1, _, _, _ = eval_model(\n",
    "            model, test_dataloader, criterion, device, attention_level='sent'\n",
    "        )\n",
    "print('train_loss: %5f | train_f1: %5f'%(train_loss, train_f1))\n",
    "print('test_loss: %5f | test_f1: %5f'%(test_loss, test_f1)) "
   ]
  },
  {
   "cell_type": "markdown",
   "id": "02929827",
   "metadata": {},
   "source": [
    "Desde la primera epoca se observa un valor de F1 del 91\\% en el conjunto de entrenamiento, y con un maximo de 94%, indicando que se trata de una arquitectura muy poderosa para este tipo de tarea; sin embargo, su costo computacional tanto de tiempo como de memoria es demasiado alto, de manera que el uso de modelos mas simples (como BoW) continua siendo atractivo"
   ]
  },
  {
   "cell_type": "markdown",
   "id": "9a5313c5",
   "metadata": {},
   "source": [
    "# Visualizacion"
   ]
  },
  {
   "cell_type": "code",
   "execution_count": 83,
   "id": "02fba656",
   "metadata": {},
   "outputs": [
    {
     "name": "stderr",
     "output_type": "stream",
     "text": [
      "/tmp/ipykernel_9089/2656899777.py:7: MatplotlibDeprecationWarning: The get_cmap function was deprecated in Matplotlib 3.7 and will be removed in 3.11. Use ``matplotlib.colormaps[name]`` or ``matplotlib.colormaps.get_cmap()`` or ``pyplot.get_cmap()`` instead.\n",
      "  cmap = matplotlib.cm.get_cmap('Reds')\n"
     ]
    },
    {
     "data": {
      "text/html": [
       "<span class=\"barcode\"; style=\"color: black; background-color: #fff5f0\">&nbsp &nbsp</span><span class=\"barcode\"; style=\"color: black; background-color: #fff2eb\">&nbsp &nbsp</span><span class=\"barcode\"; style=\"color: black; background-color: #ffeee7\">&nbsp &nbsp</span><span class=\"barcode\"; style=\"color: black; background-color: #ffebe2\">&nbsp &nbsp</span><span class=\"barcode\"; style=\"color: black; background-color: #fee8dd\">&nbsp &nbsp</span><span class=\"barcode\"; style=\"color: black; background-color: #fee4d8\">&nbsp &nbsp</span><span class=\"barcode\"; style=\"color: black; background-color: #fee1d3\">&nbsp &nbsp</span><span class=\"barcode\"; style=\"color: black; background-color: #fedbcc\">&nbsp &nbsp</span><span class=\"barcode\"; style=\"color: black; background-color: #fdd5c4\">&nbsp &nbsp</span><span class=\"barcode\"; style=\"color: black; background-color: #fdcebb\">&nbsp &nbsp</span><span class=\"barcode\"; style=\"color: black; background-color: #fdc9b3\">&nbsp &nbsp</span><span class=\"barcode\"; style=\"color: black; background-color: #fcc3ab\">&nbsp &nbsp</span><span class=\"barcode\"; style=\"color: black; background-color: #fcbda4\">&nbsp &nbsp</span><span class=\"barcode\"; style=\"color: black; background-color: #fcb79c\">&nbsp &nbsp</span><span class=\"barcode\"; style=\"color: black; background-color: #fcaf93\">&nbsp &nbsp</span><span class=\"barcode\"; style=\"color: black; background-color: #fca98c\">&nbsp &nbsp</span><span class=\"barcode\"; style=\"color: black; background-color: #fca285\">&nbsp &nbsp</span><span class=\"barcode\"; style=\"color: black; background-color: #fc9c7d\">&nbsp &nbsp</span><span class=\"barcode\"; style=\"color: black; background-color: #fc9474\">&nbsp &nbsp</span><span class=\"barcode\"; style=\"color: black; background-color: #fc8e6e\">&nbsp &nbsp</span><span class=\"barcode\"; style=\"color: black; background-color: #fc8767\">&nbsp &nbsp</span><span class=\"barcode\"; style=\"color: black; background-color: #fc8161\">&nbsp &nbsp</span><span class=\"barcode\"; style=\"color: black; background-color: #fb7b5b\">&nbsp &nbsp</span><span class=\"barcode\"; style=\"color: black; background-color: #fb7353\">&nbsp &nbsp</span><span class=\"barcode\"; style=\"color: black; background-color: #fb6d4d\">&nbsp &nbsp</span><span class=\"barcode\"; style=\"color: black; background-color: #fa6648\">&nbsp &nbsp</span><span class=\"barcode\"; style=\"color: black; background-color: #f85f43\">&nbsp &nbsp</span><span class=\"barcode\"; style=\"color: black; background-color: #f6563d\">&nbsp &nbsp</span><span class=\"barcode\"; style=\"color: black; background-color: #f44f39\">&nbsp &nbsp</span><span class=\"barcode\"; style=\"color: black; background-color: #f24734\">&nbsp &nbsp</span><span class=\"barcode\"; style=\"color: black; background-color: #f0402f\">&nbsp &nbsp</span><span class=\"barcode\"; style=\"color: black; background-color: #ed392b\">&nbsp &nbsp</span><span class=\"barcode\"; style=\"color: black; background-color: #e63328\">&nbsp &nbsp</span><span class=\"barcode\"; style=\"color: black; background-color: #e12d26\">&nbsp &nbsp</span><span class=\"barcode\"; style=\"color: black; background-color: #db2824\">&nbsp &nbsp</span><span class=\"barcode\"; style=\"color: black; background-color: #d52221\">&nbsp &nbsp</span><span class=\"barcode\"; style=\"color: black; background-color: #cf1c1f\">&nbsp &nbsp</span><span class=\"barcode\"; style=\"color: black; background-color: #c9181d\">&nbsp &nbsp</span><span class=\"barcode\"; style=\"color: black; background-color: #c3161b\">&nbsp &nbsp</span><span class=\"barcode\"; style=\"color: black; background-color: #bd151a\">&nbsp &nbsp</span><span class=\"barcode\"; style=\"color: black; background-color: #b71319\">&nbsp &nbsp</span><span class=\"barcode\"; style=\"color: black; background-color: #b01217\">&nbsp &nbsp</span><span class=\"barcode\"; style=\"color: black; background-color: #aa1016\">&nbsp &nbsp</span><span class=\"barcode\"; style=\"color: black; background-color: #a30f15\">&nbsp &nbsp</span><span class=\"barcode\"; style=\"color: black; background-color: #9a0c14\">&nbsp &nbsp</span><span class=\"barcode\"; style=\"color: black; background-color: #8e0912\">&nbsp &nbsp</span><span class=\"barcode\"; style=\"color: black; background-color: #840711\">&nbsp &nbsp</span><span class=\"barcode\"; style=\"color: black; background-color: #7a0510\">&nbsp &nbsp</span><span class=\"barcode\"; style=\"color: black; background-color: #71020e\">&nbsp &nbsp</span><span class=\"barcode\"; style=\"color: black; background-color: #67000d\">&nbsp &nbsp</span>"
      ],
      "text/plain": [
       "<IPython.core.display.HTML object>"
      ]
     },
     "metadata": {},
     "output_type": "display_data"
    }
   ],
   "source": [
    "att = np.linspace(0,1,50)\n",
    "p = [' ']*50\n",
    "s = colorize(p, att)\n",
    "# to display in ipython notebook\n",
    "display(HTML(s))"
   ]
  },
  {
   "cell_type": "markdown",
   "id": "bc61d1df",
   "metadata": {},
   "source": [
    "## A nivel palabra"
   ]
  },
  {
   "cell_type": "code",
   "execution_count": 95,
   "id": "5688d389",
   "metadata": {},
   "outputs": [
    {
     "data": {
      "application/vnd.jupyter.widget-view+json": {
       "model_id": "c6e77c48eadb489e88b5db00a7fb390c",
       "version_major": 2,
       "version_minor": 0
      },
      "text/plain": [
       "  0%|          | 0/105 [00:00<?, ?it/s]"
      ]
     },
     "metadata": {},
     "output_type": "display_data"
    },
    {
     "data": {
      "application/vnd.jupyter.widget-view+json": {
       "model_id": "1bdce48d410f48e184a98ad031aba124",
       "version_major": 2,
       "version_minor": 0
      },
      "text/plain": [
       "  0%|          | 0/105 [00:00<?, ?it/s]"
      ]
     },
     "metadata": {},
     "output_type": "display_data"
    },
    {
     "data": {
      "application/vnd.jupyter.widget-view+json": {
       "model_id": "85247752dea94502a474bbf323d82473",
       "version_major": 2,
       "version_minor": 0
      },
      "text/plain": [
       "  0%|          | 0/27 [00:00<?, ?it/s]"
      ]
     },
     "metadata": {},
     "output_type": "display_data"
    },
    {
     "name": "stdout",
     "output_type": "stream",
     "text": [
      "epoch: 0\n",
      "train_loss: 0.19691 | val_loss: 0.94329 | train_f1: 0.94866 | val_f1: 0.75829\n"
     ]
    },
    {
     "data": {
      "application/vnd.jupyter.widget-view+json": {
       "model_id": "1ef4d5cb69d949b5bd5a9d6a48d2f865",
       "version_major": 2,
       "version_minor": 0
      },
      "text/plain": [
       "  0%|          | 0/105 [00:00<?, ?it/s]"
      ]
     },
     "metadata": {},
     "output_type": "display_data"
    },
    {
     "data": {
      "application/vnd.jupyter.widget-view+json": {
       "model_id": "41f10a3d3aa0484b9af1b25927ea27db",
       "version_major": 2,
       "version_minor": 0
      },
      "text/plain": [
       "  0%|          | 0/105 [00:00<?, ?it/s]"
      ]
     },
     "metadata": {},
     "output_type": "display_data"
    },
    {
     "data": {
      "application/vnd.jupyter.widget-view+json": {
       "model_id": "b63318c4d39e49c283c51ba9dba035a4",
       "version_major": 2,
       "version_minor": 0
      },
      "text/plain": [
       "  0%|          | 0/27 [00:00<?, ?it/s]"
      ]
     },
     "metadata": {},
     "output_type": "display_data"
    },
    {
     "name": "stdout",
     "output_type": "stream",
     "text": [
      "epoch: 1\n",
      "train_loss: 0.16739 | val_loss: 0.91875 | train_f1: 0.95929 | val_f1: 0.76561\n"
     ]
    },
    {
     "data": {
      "application/vnd.jupyter.widget-view+json": {
       "model_id": "86f4c8ca40bf4dc182dd3aff75a9d91c",
       "version_major": 2,
       "version_minor": 0
      },
      "text/plain": [
       "  0%|          | 0/105 [00:00<?, ?it/s]"
      ]
     },
     "metadata": {},
     "output_type": "display_data"
    },
    {
     "data": {
      "application/vnd.jupyter.widget-view+json": {
       "model_id": "761eafab470f467ca6ea14587d11c6b1",
       "version_major": 2,
       "version_minor": 0
      },
      "text/plain": [
       "  0%|          | 0/105 [00:00<?, ?it/s]"
      ]
     },
     "metadata": {},
     "output_type": "display_data"
    },
    {
     "data": {
      "application/vnd.jupyter.widget-view+json": {
       "model_id": "1117b35af1df46afa3fbc86462e7042e",
       "version_major": 2,
       "version_minor": 0
      },
      "text/plain": [
       "  0%|          | 0/27 [00:00<?, ?it/s]"
      ]
     },
     "metadata": {},
     "output_type": "display_data"
    },
    {
     "name": "stdout",
     "output_type": "stream",
     "text": [
      "epoch: 2\n",
      "train_loss: 0.16472 | val_loss: 0.91809 | train_f1: 0.96101 | val_f1: 0.77467\n"
     ]
    },
    {
     "data": {
      "application/vnd.jupyter.widget-view+json": {
       "model_id": "409e701677c54d6c8eb0bf471c32fc3a",
       "version_major": 2,
       "version_minor": 0
      },
      "text/plain": [
       "  0%|          | 0/105 [00:00<?, ?it/s]"
      ]
     },
     "metadata": {},
     "output_type": "display_data"
    },
    {
     "data": {
      "application/vnd.jupyter.widget-view+json": {
       "model_id": "9f74fc32bfb3479fb0a5e3349ed42a84",
       "version_major": 2,
       "version_minor": 0
      },
      "text/plain": [
       "  0%|          | 0/105 [00:00<?, ?it/s]"
      ]
     },
     "metadata": {},
     "output_type": "display_data"
    },
    {
     "data": {
      "application/vnd.jupyter.widget-view+json": {
       "model_id": "d62d64123f7f4bb3b27365d4c01c3c0f",
       "version_major": 2,
       "version_minor": 0
      },
      "text/plain": [
       "  0%|          | 0/27 [00:00<?, ?it/s]"
      ]
     },
     "metadata": {},
     "output_type": "display_data"
    },
    {
     "name": "stdout",
     "output_type": "stream",
     "text": [
      "epoch: 3\n",
      "train_loss: 0.13935 | val_loss: 0.95927 | train_f1: 0.97086 | val_f1: 0.76423\n"
     ]
    },
    {
     "data": {
      "application/vnd.jupyter.widget-view+json": {
       "model_id": "8e0a60321cfb406fa3d67cf39312cc18",
       "version_major": 2,
       "version_minor": 0
      },
      "text/plain": [
       "  0%|          | 0/105 [00:00<?, ?it/s]"
      ]
     },
     "metadata": {},
     "output_type": "display_data"
    },
    {
     "data": {
      "application/vnd.jupyter.widget-view+json": {
       "model_id": "498252046a04430da594bc6f01a9da70",
       "version_major": 2,
       "version_minor": 0
      },
      "text/plain": [
       "  0%|          | 0/105 [00:00<?, ?it/s]"
      ]
     },
     "metadata": {},
     "output_type": "display_data"
    },
    {
     "data": {
      "application/vnd.jupyter.widget-view+json": {
       "model_id": "da9063a798df4859af8e693e7e6d6b2e",
       "version_major": 2,
       "version_minor": 0
      },
      "text/plain": [
       "  0%|          | 0/27 [00:00<?, ?it/s]"
      ]
     },
     "metadata": {},
     "output_type": "display_data"
    },
    {
     "name": "stdout",
     "output_type": "stream",
     "text": [
      "epoch: 4\n",
      "train_loss: 0.22647 | val_loss: 1.07241 | train_f1: 0.93825 | val_f1: 0.75497\n"
     ]
    },
    {
     "data": {
      "application/vnd.jupyter.widget-view+json": {
       "model_id": "09085bc2befb41169407b48af6ffc74d",
       "version_major": 2,
       "version_minor": 0
      },
      "text/plain": [
       "  0%|          | 0/105 [00:00<?, ?it/s]"
      ]
     },
     "metadata": {},
     "output_type": "display_data"
    },
    {
     "data": {
      "application/vnd.jupyter.widget-view+json": {
       "model_id": "1f93f8eb37d14a26bf5e9ec01b890c57",
       "version_major": 2,
       "version_minor": 0
      },
      "text/plain": [
       "  0%|          | 0/105 [00:00<?, ?it/s]"
      ]
     },
     "metadata": {},
     "output_type": "display_data"
    },
    {
     "data": {
      "application/vnd.jupyter.widget-view+json": {
       "model_id": "fc13d2746db9417486e230a5284059ec",
       "version_major": 2,
       "version_minor": 0
      },
      "text/plain": [
       "  0%|          | 0/27 [00:00<?, ?it/s]"
      ]
     },
     "metadata": {},
     "output_type": "display_data"
    },
    {
     "name": "stdout",
     "output_type": "stream",
     "text": [
      "epoch: 5\n",
      "train_loss: 0.11757 | val_loss: 0.97304 | train_f1: 0.97502 | val_f1: 0.76269\n"
     ]
    },
    {
     "data": {
      "application/vnd.jupyter.widget-view+json": {
       "model_id": "d48baff60b314c8c868bc8323f96be78",
       "version_major": 2,
       "version_minor": 0
      },
      "text/plain": [
       "  0%|          | 0/105 [00:00<?, ?it/s]"
      ]
     },
     "metadata": {},
     "output_type": "display_data"
    },
    {
     "data": {
      "application/vnd.jupyter.widget-view+json": {
       "model_id": "f46bdbc9860841398310a5446940ccbb",
       "version_major": 2,
       "version_minor": 0
      },
      "text/plain": [
       "  0%|          | 0/105 [00:00<?, ?it/s]"
      ]
     },
     "metadata": {},
     "output_type": "display_data"
    },
    {
     "data": {
      "application/vnd.jupyter.widget-view+json": {
       "model_id": "eed7ca2e9e4a458ebc49dffec83b0b84",
       "version_major": 2,
       "version_minor": 0
      },
      "text/plain": [
       "  0%|          | 0/27 [00:00<?, ?it/s]"
      ]
     },
     "metadata": {},
     "output_type": "display_data"
    },
    {
     "name": "stdout",
     "output_type": "stream",
     "text": [
      "epoch: 6\n",
      "train_loss: 0.24338 | val_loss: 1.19242 | train_f1: 0.93398 | val_f1: 0.74505\n"
     ]
    },
    {
     "data": {
      "application/vnd.jupyter.widget-view+json": {
       "model_id": "65ff203c631d467e91273692a6114953",
       "version_major": 2,
       "version_minor": 0
      },
      "text/plain": [
       "  0%|          | 0/105 [00:00<?, ?it/s]"
      ]
     },
     "metadata": {},
     "output_type": "display_data"
    },
    {
     "data": {
      "application/vnd.jupyter.widget-view+json": {
       "model_id": "daa9dfdcebd3483685681a47c3ea9795",
       "version_major": 2,
       "version_minor": 0
      },
      "text/plain": [
       "  0%|          | 0/105 [00:00<?, ?it/s]"
      ]
     },
     "metadata": {},
     "output_type": "display_data"
    },
    {
     "data": {
      "application/vnd.jupyter.widget-view+json": {
       "model_id": "664389d18dfc4aa8beb45625c0c74483",
       "version_major": 2,
       "version_minor": 0
      },
      "text/plain": [
       "  0%|          | 0/27 [00:00<?, ?it/s]"
      ]
     },
     "metadata": {},
     "output_type": "display_data"
    },
    {
     "name": "stdout",
     "output_type": "stream",
     "text": [
      "epoch: 7\n",
      "train_loss: 0.10040 | val_loss: 1.01067 | train_f1: 0.98334 | val_f1: 0.76645\n"
     ]
    },
    {
     "data": {
      "application/vnd.jupyter.widget-view+json": {
       "model_id": "bfef7c3dc17547acbd111d083ead06be",
       "version_major": 2,
       "version_minor": 0
      },
      "text/plain": [
       "  0%|          | 0/105 [00:00<?, ?it/s]"
      ]
     },
     "metadata": {},
     "output_type": "display_data"
    },
    {
     "data": {
      "application/vnd.jupyter.widget-view+json": {
       "model_id": "84e1fecf40f244a9a2b6ea25e98536bc",
       "version_major": 2,
       "version_minor": 0
      },
      "text/plain": [
       "  0%|          | 0/105 [00:00<?, ?it/s]"
      ]
     },
     "metadata": {},
     "output_type": "display_data"
    },
    {
     "data": {
      "application/vnd.jupyter.widget-view+json": {
       "model_id": "2c14f039980848cea66987ed80796cdf",
       "version_major": 2,
       "version_minor": 0
      },
      "text/plain": [
       "  0%|          | 0/27 [00:00<?, ?it/s]"
      ]
     },
     "metadata": {},
     "output_type": "display_data"
    },
    {
     "name": "stdout",
     "output_type": "stream",
     "text": [
      "epoch: 8\n",
      "train_loss: 0.08880 | val_loss: 0.99082 | train_f1: 0.98484 | val_f1: 0.76268\n"
     ]
    },
    {
     "data": {
      "application/vnd.jupyter.widget-view+json": {
       "model_id": "c9e7c8f5c54e461189196587bd5e9a9b",
       "version_major": 2,
       "version_minor": 0
      },
      "text/plain": [
       "  0%|          | 0/105 [00:00<?, ?it/s]"
      ]
     },
     "metadata": {},
     "output_type": "display_data"
    },
    {
     "data": {
      "application/vnd.jupyter.widget-view+json": {
       "model_id": "ed615f83727e460bb4e965daf35902ec",
       "version_major": 2,
       "version_minor": 0
      },
      "text/plain": [
       "  0%|          | 0/105 [00:00<?, ?it/s]"
      ]
     },
     "metadata": {},
     "output_type": "display_data"
    },
    {
     "data": {
      "application/vnd.jupyter.widget-view+json": {
       "model_id": "b9ef847651ed4ecaa7cf66f179173ba3",
       "version_major": 2,
       "version_minor": 0
      },
      "text/plain": [
       "  0%|          | 0/27 [00:00<?, ?it/s]"
      ]
     },
     "metadata": {},
     "output_type": "display_data"
    },
    {
     "name": "stdout",
     "output_type": "stream",
     "text": [
      "epoch: 9\n",
      "train_loss: 0.20113 | val_loss: 1.03843 | train_f1: 0.94265 | val_f1: 0.75752\n"
     ]
    },
    {
     "data": {
      "application/vnd.jupyter.widget-view+json": {
       "model_id": "a3fdd8dbcd4e42e8bf794fd34cc07f09",
       "version_major": 2,
       "version_minor": 0
      },
      "text/plain": [
       "  0%|          | 0/105 [00:00<?, ?it/s]"
      ]
     },
     "metadata": {},
     "output_type": "display_data"
    },
    {
     "data": {
      "application/vnd.jupyter.widget-view+json": {
       "model_id": "0b88a83554f1471aac3ddc09a900d310",
       "version_major": 2,
       "version_minor": 0
      },
      "text/plain": [
       "  0%|          | 0/105 [00:00<?, ?it/s]"
      ]
     },
     "metadata": {},
     "output_type": "display_data"
    },
    {
     "data": {
      "application/vnd.jupyter.widget-view+json": {
       "model_id": "d5ce4f7db0a44043a1cf3d5ed2ce9d23",
       "version_major": 2,
       "version_minor": 0
      },
      "text/plain": [
       "  0%|          | 0/27 [00:00<?, ?it/s]"
      ]
     },
     "metadata": {},
     "output_type": "display_data"
    },
    {
     "name": "stdout",
     "output_type": "stream",
     "text": [
      "epoch: 10\n",
      "train_loss: 0.18857 | val_loss: 1.02984 | train_f1: 0.95119 | val_f1: 0.76719\n"
     ]
    },
    {
     "data": {
      "application/vnd.jupyter.widget-view+json": {
       "model_id": "10bf322fe97b41a48c65f1a008bb8e14",
       "version_major": 2,
       "version_minor": 0
      },
      "text/plain": [
       "  0%|          | 0/105 [00:00<?, ?it/s]"
      ]
     },
     "metadata": {},
     "output_type": "display_data"
    },
    {
     "data": {
      "application/vnd.jupyter.widget-view+json": {
       "model_id": "2860e44411cd4c33aba06a421ff6d6a9",
       "version_major": 2,
       "version_minor": 0
      },
      "text/plain": [
       "  0%|          | 0/105 [00:00<?, ?it/s]"
      ]
     },
     "metadata": {},
     "output_type": "display_data"
    },
    {
     "data": {
      "application/vnd.jupyter.widget-view+json": {
       "model_id": "3fb95b0da85046c0bbd541e60368830b",
       "version_major": 2,
       "version_minor": 0
      },
      "text/plain": [
       "  0%|          | 0/27 [00:00<?, ?it/s]"
      ]
     },
     "metadata": {},
     "output_type": "display_data"
    },
    {
     "name": "stdout",
     "output_type": "stream",
     "text": [
      "epoch: 11\n",
      "train_loss: 0.12937 | val_loss: 0.95891 | train_f1: 0.97610 | val_f1: 0.75966\n"
     ]
    },
    {
     "data": {
      "application/vnd.jupyter.widget-view+json": {
       "model_id": "ab6da5c443a740ab836b931d45c5d9ee",
       "version_major": 2,
       "version_minor": 0
      },
      "text/plain": [
       "  0%|          | 0/105 [00:00<?, ?it/s]"
      ]
     },
     "metadata": {},
     "output_type": "display_data"
    },
    {
     "data": {
      "application/vnd.jupyter.widget-view+json": {
       "model_id": "00b171278c6746c1a10f728b076bdd9a",
       "version_major": 2,
       "version_minor": 0
      },
      "text/plain": [
       "  0%|          | 0/105 [00:00<?, ?it/s]"
      ]
     },
     "metadata": {},
     "output_type": "display_data"
    },
    {
     "data": {
      "application/vnd.jupyter.widget-view+json": {
       "model_id": "e57914d753c84c08b1459ff470f6c3aa",
       "version_major": 2,
       "version_minor": 0
      },
      "text/plain": [
       "  0%|          | 0/27 [00:00<?, ?it/s]"
      ]
     },
     "metadata": {},
     "output_type": "display_data"
    },
    {
     "name": "stdout",
     "output_type": "stream",
     "text": [
      "epoch: 12\n",
      "train_loss: 0.09872 | val_loss: 1.01112 | train_f1: 0.98185 | val_f1: 0.76892\n"
     ]
    },
    {
     "data": {
      "application/vnd.jupyter.widget-view+json": {
       "model_id": "9f92e9b50f2b451f8564b5242cbbbf28",
       "version_major": 2,
       "version_minor": 0
      },
      "text/plain": [
       "  0%|          | 0/105 [00:00<?, ?it/s]"
      ]
     },
     "metadata": {},
     "output_type": "display_data"
    },
    {
     "data": {
      "application/vnd.jupyter.widget-view+json": {
       "model_id": "f03faac559b94329b8ef02584f7030d3",
       "version_major": 2,
       "version_minor": 0
      },
      "text/plain": [
       "  0%|          | 0/105 [00:00<?, ?it/s]"
      ]
     },
     "metadata": {},
     "output_type": "display_data"
    },
    {
     "data": {
      "application/vnd.jupyter.widget-view+json": {
       "model_id": "560690bb51004f8597868dc3cbf2ec4e",
       "version_major": 2,
       "version_minor": 0
      },
      "text/plain": [
       "  0%|          | 0/27 [00:00<?, ?it/s]"
      ]
     },
     "metadata": {},
     "output_type": "display_data"
    },
    {
     "name": "stdout",
     "output_type": "stream",
     "text": [
      "epoch: 13\n",
      "train_loss: 0.09195 | val_loss: 0.95928 | train_f1: 0.98245 | val_f1: 0.77085\n"
     ]
    },
    {
     "data": {
      "application/vnd.jupyter.widget-view+json": {
       "model_id": "99adbd1a6e5f45ea9df74a353cbf4b84",
       "version_major": 2,
       "version_minor": 0
      },
      "text/plain": [
       "  0%|          | 0/105 [00:00<?, ?it/s]"
      ]
     },
     "metadata": {},
     "output_type": "display_data"
    },
    {
     "data": {
      "application/vnd.jupyter.widget-view+json": {
       "model_id": "a5b0a9e079254d5aa23adaa69b25100a",
       "version_major": 2,
       "version_minor": 0
      },
      "text/plain": [
       "  0%|          | 0/105 [00:00<?, ?it/s]"
      ]
     },
     "metadata": {},
     "output_type": "display_data"
    },
    {
     "data": {
      "application/vnd.jupyter.widget-view+json": {
       "model_id": "fa6cbc7d08314efa9b882c7ed2ff1a98",
       "version_major": 2,
       "version_minor": 0
      },
      "text/plain": [
       "  0%|          | 0/27 [00:00<?, ?it/s]"
      ]
     },
     "metadata": {},
     "output_type": "display_data"
    },
    {
     "name": "stdout",
     "output_type": "stream",
     "text": [
      "epoch: 14\n",
      "train_loss: 0.07176 | val_loss: 0.99827 | train_f1: 0.98929 | val_f1: 0.77196\n"
     ]
    },
    {
     "data": {
      "application/vnd.jupyter.widget-view+json": {
       "model_id": "d3b1c3c735374f1088a8e4e9dce6c6b6",
       "version_major": 2,
       "version_minor": 0
      },
      "text/plain": [
       "  0%|          | 0/105 [00:00<?, ?it/s]"
      ]
     },
     "metadata": {},
     "output_type": "display_data"
    },
    {
     "data": {
      "application/vnd.jupyter.widget-view+json": {
       "model_id": "133f1be3cd9740e5848c4cfc6993c126",
       "version_major": 2,
       "version_minor": 0
      },
      "text/plain": [
       "  0%|          | 0/105 [00:00<?, ?it/s]"
      ]
     },
     "metadata": {},
     "output_type": "display_data"
    },
    {
     "data": {
      "application/vnd.jupyter.widget-view+json": {
       "model_id": "c6088ec0d9874398b849a25a871dde64",
       "version_major": 2,
       "version_minor": 0
      },
      "text/plain": [
       "  0%|          | 0/27 [00:00<?, ?it/s]"
      ]
     },
     "metadata": {},
     "output_type": "display_data"
    },
    {
     "name": "stdout",
     "output_type": "stream",
     "text": [
      "epoch: 15\n",
      "train_loss: 0.06172 | val_loss: 0.99566 | train_f1: 0.99048 | val_f1: 0.77228\n"
     ]
    },
    {
     "data": {
      "application/vnd.jupyter.widget-view+json": {
       "model_id": "1d79690eb0be49239047f5780ad3a309",
       "version_major": 2,
       "version_minor": 0
      },
      "text/plain": [
       "  0%|          | 0/105 [00:00<?, ?it/s]"
      ]
     },
     "metadata": {},
     "output_type": "display_data"
    },
    {
     "data": {
      "application/vnd.jupyter.widget-view+json": {
       "model_id": "229f94bbb9874a899869ec9c8e6092e7",
       "version_major": 2,
       "version_minor": 0
      },
      "text/plain": [
       "  0%|          | 0/105 [00:00<?, ?it/s]"
      ]
     },
     "metadata": {},
     "output_type": "display_data"
    },
    {
     "data": {
      "application/vnd.jupyter.widget-view+json": {
       "model_id": "19e6ff773d9741e89abb67cb8b9ea456",
       "version_major": 2,
       "version_minor": 0
      },
      "text/plain": [
       "  0%|          | 0/27 [00:00<?, ?it/s]"
      ]
     },
     "metadata": {},
     "output_type": "display_data"
    },
    {
     "name": "stdout",
     "output_type": "stream",
     "text": [
      "epoch: 16\n",
      "train_loss: 0.05443 | val_loss: 1.01185 | train_f1: 0.99197 | val_f1: 0.78108\n"
     ]
    },
    {
     "data": {
      "application/vnd.jupyter.widget-view+json": {
       "model_id": "8cadc0ba6dc6493681e382f7555289b7",
       "version_major": 2,
       "version_minor": 0
      },
      "text/plain": [
       "  0%|          | 0/105 [00:00<?, ?it/s]"
      ]
     },
     "metadata": {},
     "output_type": "display_data"
    },
    {
     "data": {
      "application/vnd.jupyter.widget-view+json": {
       "model_id": "b19c20b44c724febb1941a9d41c33706",
       "version_major": 2,
       "version_minor": 0
      },
      "text/plain": [
       "  0%|          | 0/105 [00:00<?, ?it/s]"
      ]
     },
     "metadata": {},
     "output_type": "display_data"
    },
    {
     "data": {
      "application/vnd.jupyter.widget-view+json": {
       "model_id": "a16a35debdb64f739dd0fbf9f95989bd",
       "version_major": 2,
       "version_minor": 0
      },
      "text/plain": [
       "  0%|          | 0/27 [00:00<?, ?it/s]"
      ]
     },
     "metadata": {},
     "output_type": "display_data"
    },
    {
     "name": "stdout",
     "output_type": "stream",
     "text": [
      "epoch: 17\n",
      "train_loss: 0.05157 | val_loss: 1.01782 | train_f1: 0.99167 | val_f1: 0.76953\n"
     ]
    },
    {
     "data": {
      "application/vnd.jupyter.widget-view+json": {
       "model_id": "fe80335c672c45999e5f4cdae8a4fa5a",
       "version_major": 2,
       "version_minor": 0
      },
      "text/plain": [
       "  0%|          | 0/105 [00:00<?, ?it/s]"
      ]
     },
     "metadata": {},
     "output_type": "display_data"
    },
    {
     "data": {
      "application/vnd.jupyter.widget-view+json": {
       "model_id": "ab834a8b64ae45c9ba9399d003ca8a22",
       "version_major": 2,
       "version_minor": 0
      },
      "text/plain": [
       "  0%|          | 0/105 [00:00<?, ?it/s]"
      ]
     },
     "metadata": {},
     "output_type": "display_data"
    },
    {
     "data": {
      "application/vnd.jupyter.widget-view+json": {
       "model_id": "a19b019a80a7406eb2d777ac1cba9102",
       "version_major": 2,
       "version_minor": 0
      },
      "text/plain": [
       "  0%|          | 0/27 [00:00<?, ?it/s]"
      ]
     },
     "metadata": {},
     "output_type": "display_data"
    },
    {
     "name": "stdout",
     "output_type": "stream",
     "text": [
      "epoch: 18\n",
      "train_loss: 0.04949 | val_loss: 1.02244 | train_f1: 0.99227 | val_f1: 0.77437\n"
     ]
    },
    {
     "data": {
      "application/vnd.jupyter.widget-view+json": {
       "model_id": "76bc26a52f3c4338be02be6f098403c1",
       "version_major": 2,
       "version_minor": 0
      },
      "text/plain": [
       "  0%|          | 0/105 [00:00<?, ?it/s]"
      ]
     },
     "metadata": {},
     "output_type": "display_data"
    },
    {
     "data": {
      "application/vnd.jupyter.widget-view+json": {
       "model_id": "d773889b7177431f8ef697d95ee1d7e3",
       "version_major": 2,
       "version_minor": 0
      },
      "text/plain": [
       "  0%|          | 0/105 [00:00<?, ?it/s]"
      ]
     },
     "metadata": {},
     "output_type": "display_data"
    },
    {
     "data": {
      "application/vnd.jupyter.widget-view+json": {
       "model_id": "dc5506dd064b405db30510cea237436e",
       "version_major": 2,
       "version_minor": 0
      },
      "text/plain": [
       "  0%|          | 0/27 [00:00<?, ?it/s]"
      ]
     },
     "metadata": {},
     "output_type": "display_data"
    },
    {
     "name": "stdout",
     "output_type": "stream",
     "text": [
      "epoch: 19\n",
      "train_loss: 0.04355 | val_loss: 1.03514 | train_f1: 0.99316 | val_f1: 0.77790\n"
     ]
    }
   ],
   "source": [
    "best_val_f1 = 0\n",
    "for epoch in range(epochs):\n",
    "    model.train()\n",
    "    for data in tqdm(train_dataloader):\n",
    "        optimizer.zero_grad()\n",
    "        \n",
    "        tweet_tensor, doc_lengths, tweet_lengths_tensor, labels, _ = data\n",
    "        tweet_tensor = tweet_tensor.to(device)\n",
    "        labels = labels.to(device)\n",
    "        doc_lengths = doc_lengths.to(device)\n",
    "        tweet_lengths_tensor = tweet_lengths_tensor.to(device)\n",
    "\n",
    "        output = model(tweet_tensor, doc_lengths, tweet_lengths_tensor)\n",
    "        loss = criterion(output, labels)\n",
    "        loss.backward()\n",
    "        optimizer.step()\n",
    "\n",
    "    torch.cuda.empty_cache()\n",
    "\n",
    "    model.eval()\n",
    "    with torch.no_grad():\n",
    "        train_loss, train_f1, train_scores, train_words, train_pred = eval_model(\n",
    "            model, train_dataloader, criterion, device, attention_level='word'\n",
    "        )\n",
    "        val_loss, val_f1, _, _, _ = eval_model(\n",
    "            model, test_dataloader, criterion, device, attention_level='word'\n",
    "        )\n",
    "\n",
    "    print(f'epoch: {epoch}')\n",
    "    print(f'train_loss: {train_loss:.5f} | val_loss: {val_loss:.5f} | train_f1: {train_f1:.5f} | val_f1: {val_f1:.5f}')\n",
    "    \n",
    "    if val_f1 > best_val_f1:\n",
    "        best_val_f1 = val_f1\n",
    "        best_state_dict = copy.deepcopy(model.state_dict())\n"
   ]
  },
  {
   "cell_type": "code",
   "execution_count": 97,
   "id": "c97804d6",
   "metadata": {},
   "outputs": [
    {
     "name": "stdout",
     "output_type": "stream",
     "text": [
      "Predicción: peru\n"
     ]
    },
    {
     "name": "stderr",
     "output_type": "stream",
     "text": [
      "/tmp/ipykernel_9089/4251296781.py:6: MatplotlibDeprecationWarning: The get_cmap function was deprecated in Matplotlib 3.7 and will be removed in 3.11. Use ``matplotlib.colormaps[name]`` or ``matplotlib.colormaps.get_cmap()`` or ``pyplot.get_cmap()`` instead.\n",
      "  cmap = matplotlib.cm.get_cmap('Reds')\n"
     ]
    },
    {
     "data": {
      "text/html": [
       "<div style=\"margin:4px 0;\"><span style=\"color: black; background-color: #fff5f0\">&nbsp;cuidado&nbsp;</span><span style=\"color: black; background-color: #fff5f0\">&nbsp;!&nbsp;</span><span style=\"color: black; background-color: #fff5f0\">&nbsp;!&nbsp;</span><span style=\"color: black; background-color: #fff5f0\">&nbsp;!&nbsp;</span><span style=\"color: black; background-color: #fff5f0\">&nbsp;radiación&nbsp;</span><span style=\"color: black; background-color: #fff5f0\">&nbsp;aumenta&nbsp;</span><span style=\"color: black; background-color: #fff5f0\">&nbsp;hasta&nbsp;</span><span style=\"color: black; background-color: #fff5f0\">&nbsp;en&nbsp;</span><span style=\"color: black; background-color: #fff5f0\">&nbsp;45&nbsp;</span><span style=\"color: black; background-color: #fff5f0\">&nbsp;%&nbsp;</span><span style=\"color: black; background-color: #fff5f0\">&nbsp;en&nbsp;</span><span style=\"color: black; background-color: #fff5f0\">&nbsp;suelos&nbsp;</span><span style=\"color: black; background-color: #fff5f0\">&nbsp;de&nbsp;</span><span style=\"color: black; background-color: #fff5f0\">&nbsp;concreto&nbsp;</span><span style=\"color: black; background-color: #fff5f0\">&nbsp;o&nbsp;</span><span style=\"color: black; background-color: #fff5f0\">&nbsp;en&nbsp;</span><span style=\"color: black; background-color: #fff5f0\">&nbsp;arena&nbsp;</span><span style=\"color: black; background-color: #fff5f0\">&nbsp;<url>&nbsp;</span><span style=\"color: black; background-color: #fff5f0\">&nbsp;vía&nbsp;</span><span style=\"color: black; background-color: #67000d\">&nbsp;user&nbsp;</span></div><div style=\"margin:4px 0;\"><span style=\"color: black; background-color: #fff5f0\">&nbsp;laurie&nbsp;</span><span style=\"color: black; background-color: #fff5f0\">&nbsp;:&nbsp;</span><span style=\"color: black; background-color: #fff5f0\">&nbsp;más&nbsp;</span><span style=\"color: black; background-color: #fff5f0\">&nbsp;que&nbsp;</span><span style=\"color: black; background-color: #fff5f0\">&nbsp;subir&nbsp;</span><span style=\"color: black; background-color: #67000d\">&nbsp;precio&nbsp;</span><span style=\"color: black; background-color: #fff5f0\">&nbsp;,&nbsp;</span><span style=\"color: black; background-color: #fff5f0\">&nbsp;deberían&nbsp;</span><span style=\"color: black; background-color: #fff5f0\">&nbsp;existir&nbsp;</span><span style=\"color: black; background-color: #fff5f0\">&nbsp;mejores&nbsp;</span><span style=\"color: black; background-color: #fff5f0\">&nbsp;maneras&nbsp;</span><span style=\"color: black; background-color: #fff5f0\">&nbsp;para&nbsp;</span><span style=\"color: black; background-color: #fff5f0\">&nbsp;incentivar&nbsp;</span><span style=\"color: black; background-color: #fff5f0\">&nbsp;uso&nbsp;</span><span style=\"color: black; background-color: #fff5f0\">&nbsp;responsable&nbsp;</span><span style=\"color: black; background-color: #fff5f0\">&nbsp;y&nbsp;</span><span style=\"color: black; background-color: #fff5f0\">&nbsp;eficiente&nbsp;</span><span style=\"color: black; background-color: #fff5f0\">&nbsp;del&nbsp;</span><span style=\"color: black; background-color: #fff5f0\">&nbsp;agua&nbsp;</span><span style=\"color: black; background-color: #fff5f0\">&nbsp;.&nbsp;</span><span style=\"color: black; background-color: #fff5f0\">&nbsp;<url>&nbsp;</span></div><div style=\"margin:4px 0;\"><span style=\"color: black; background-color: #fff4ef\">&nbsp;comparto&nbsp;</span><span style=\"color: black; background-color: #fff5f0\">&nbsp;con&nbsp;</span><span style=\"color: black; background-color: #fff5f0\">&nbsp;ustedes&nbsp;</span><span style=\"color: black; background-color: #fff5f0\">&nbsp;una&nbsp;</span><span style=\"color: black; background-color: #fff5f0\">&nbsp;nueva&nbsp;</span><span style=\"color: black; background-color: #fff5f0\">&nbsp;edición&nbsp;</span><span style=\"color: black; background-color: #71020e\">&nbsp;de&nbsp;</span><span style=\"color: black; background-color: #fff2ec\">&nbsp;mi&nbsp;</span><span style=\"color: black; background-color: #fff5f0\">&nbsp;periódico&nbsp;</span><span style=\"color: black; background-color: #fff5f0\">&nbsp;digital&nbsp;</span><span style=\"color: black; background-color: #fff5f0\">&nbsp;\"&nbsp;</span><span style=\"color: black; background-color: #fff5f0\">&nbsp;intriga&nbsp;</span><span style=\"color: black; background-color: #fff5f0\">&nbsp;personal&nbsp;</span><span style=\"color: black; background-color: #fff5f0\">&nbsp;\"&nbsp;</span><span style=\"color: black; background-color: #fff5f0\">&nbsp;.&nbsp;</span><span style=\"color: black; background-color: #fff5f0\">&nbsp;está&nbsp;</span><span style=\"color: black; background-color: #fff5f0\">&nbsp;disponible&nbsp;</span><span style=\"color: black; background-color: #fff5f0\">&nbsp;aquí&nbsp;</span><span style=\"color: black; background-color: #fff5f0\">&nbsp;:&nbsp;</span><span style=\"color: black; background-color: #fff5f0\">&nbsp;<url>&nbsp;</span></div><div style=\"margin:4px 0;\"><span style=\"color: black; background-color: #fff5f0\">&nbsp;una&nbsp;</span><span style=\"color: black; background-color: #fff5f0\">&nbsp;prioridad&nbsp;</span><span style=\"color: black; background-color: #fff5f0\">&nbsp;de&nbsp;</span><span style=\"color: black; background-color: #fff5f0\">&nbsp;la&nbsp;</span><span style=\"color: black; background-color: #fff5f0\">&nbsp;paz&nbsp;</span><span style=\"color: black; background-color: #fff5f0\">&nbsp;en&nbsp;</span><span style=\"color: black; background-color: #67000d\">&nbsp;colombia&nbsp;</span><span style=\"color: black; background-color: #fff5f0\">&nbsp;:&nbsp;</span><span style=\"color: black; background-color: #fff5f0\">&nbsp;la&nbsp;</span><span style=\"color: black; background-color: #fff5f0\">&nbsp;reincorporación&nbsp;</span><span style=\"color: black; background-color: #fff5f0\">&nbsp;de&nbsp;</span><span style=\"color: black; background-color: #fff5f0\">&nbsp;niños&nbsp;</span><span style=\"color: black; background-color: #fff5f0\">&nbsp;y&nbsp;</span><span style=\"color: black; background-color: #fff5f0\">&nbsp;adolescentes&nbsp;</span><span style=\"color: black; background-color: #fff5f0\">&nbsp;a&nbsp;</span><span style=\"color: black; background-color: #fff5f0\">&nbsp;la&nbsp;</span><span style=\"color: black; background-color: #fff5f0\">&nbsp;sociedad&nbsp;</span><span style=\"color: black; background-color: #fff5f0\">&nbsp;civil&nbsp;</span><span style=\"color: black; background-color: #fff5f0\">&nbsp;<url>&nbsp;</span></div><div style=\"margin:4px 0;\"><span style=\"color: black; background-color: #fff5f0\">&nbsp;citan&nbsp;</span><span style=\"color: black; background-color: #fff5f0\">&nbsp;a&nbsp;</span><span style=\"color: black; background-color: #fff5f0\">&nbsp;ministra&nbsp;</span><span style=\"color: black; background-color: #fff5f0\">&nbsp;martens&nbsp;</span><span style=\"color: black; background-color: #fff5f0\">&nbsp;por&nbsp;</span><span style=\"color: black; background-color: #fff5f0\">&nbsp;el&nbsp;</span><span style=\"color: black; background-color: #fff5f0\">&nbsp;currículo&nbsp;</span><span style=\"color: black; background-color: #fff5f0\">&nbsp;educativo&nbsp;</span><span style=\"color: black; background-color: #fff5f0\">&nbsp;<url>&nbsp;</span><span style=\"color: black; background-color: #fff5f0\">&nbsp;vía&nbsp;</span><span style=\"color: black; background-color: #67000d\">&nbsp;user&nbsp;</span></div><div style=\"margin:4px 0;\"><span style=\"color: black; background-color: #fff5f0\">&nbsp;“&nbsp;</span><span style=\"color: black; background-color: #fff5f0\">&nbsp;la&nbsp;</span><span style=\"color: black; background-color: #fff5f0\">&nbsp;bicicleta&nbsp;</span><span style=\"color: black; background-color: #fff5f0\">&nbsp;nos&nbsp;</span><span style=\"color: black; background-color: #fff4ef\">&nbsp;une&nbsp;</span><span style=\"color: black; background-color: #fff0e8\">&nbsp;,&nbsp;</span><span style=\"color: black; background-color: #fff5f0\">&nbsp;nos&nbsp;</span><span style=\"color: black; background-color: #f75b40\">&nbsp;iguala&nbsp;</span><span style=\"color: black; background-color: #ffeee6\">&nbsp;y&nbsp;</span><span style=\"color: black; background-color: #fff5f0\">&nbsp;nos&nbsp;</span><span style=\"color: black; background-color: #fff5f0\">&nbsp;comunica&nbsp;</span><span style=\"color: black; background-color: #fff5f0\">&nbsp;”&nbsp;</span><span style=\"color: black; background-color: #fff5f0\">&nbsp;<url>&nbsp;</span><span style=\"color: black; background-color: #fff5f0\">&nbsp;vía&nbsp;</span><span style=\"color: black; background-color: #fc9474\">&nbsp;user&nbsp;</span></div><div style=\"margin:4px 0;\"><span style=\"color: black; background-color: #fff4ef\">&nbsp;dolor&nbsp;</span><span style=\"color: black; background-color: #fff5f0\">&nbsp;de&nbsp;</span><span style=\"color: black; background-color: #fff5f0\">&nbsp;cabeza&nbsp;</span><span style=\"color: black; background-color: #fff5f0\">&nbsp;en&nbsp;</span><span style=\"color: black; background-color: #fff5f0\">&nbsp;el&nbsp;</span><span style=\"color: black; background-color: #fff5f0\">&nbsp;ombligo&nbsp;</span><span style=\"color: black; background-color: #fff5f0\">&nbsp;del&nbsp;</span><span style=\"color: black; background-color: #7a0510\">&nbsp;mundo&nbsp;</span><span style=\"color: black; background-color: #fff5f0\">&nbsp;[&nbsp;</span><span style=\"color: black; background-color: #fff5f0\">&nbsp;análisis&nbsp;</span><span style=\"color: black; background-color: #fff5f0\">&nbsp;]&nbsp;</span><span style=\"color: black; background-color: #fff5f0\">&nbsp;<url>&nbsp;</span><span style=\"color: black; background-color: #fff5f0\">&nbsp;vía&nbsp;</span><span style=\"color: black; background-color: #fff0e8\">&nbsp;user&nbsp;</span></div><div style=\"margin:4px 0;\"><span style=\"color: black; background-color: #fff5f0\">&nbsp;lean&nbsp;</span><span style=\"color: black; background-color: #fff5f0\">&nbsp;a&nbsp;</span><span style=\"color: black; background-color: #8a0812\">&nbsp;user&nbsp;</span><span style=\"color: black; background-color: #fff4ef\">&nbsp;:&nbsp;</span><span style=\"color: black; background-color: #fff5f0\">&nbsp;\"&nbsp;</span><span style=\"color: black; background-color: #fff5f0\">&nbsp;la&nbsp;</span><span style=\"color: black; background-color: #fff5f0\">&nbsp;corrupción&nbsp;</span><span style=\"color: black; background-color: #fff5f0\">&nbsp;es&nbsp;</span><span style=\"color: black; background-color: #fff5f0\">&nbsp;una&nbsp;</span><span style=\"color: black; background-color: #fff5f0\">&nbsp;lacra&nbsp;</span><span style=\"color: black; background-color: #feeae1\">&nbsp;que&nbsp;</span><span style=\"color: black; background-color: #fff5f0\">&nbsp;no&nbsp;</span><span style=\"color: black; background-color: #fff5f0\">&nbsp;está&nbsp;</span><span style=\"color: black; background-color: #fff5f0\">&nbsp;asociada&nbsp;</span><span style=\"color: black; background-color: #fff5f0\">&nbsp;a&nbsp;</span><span style=\"color: black; background-color: #fff5f0\">&nbsp;una&nbsp;</span><span style=\"color: black; background-color: #fff5f0\">&nbsp;ideología&nbsp;</span><span style=\"color: black; background-color: #fff5f0\">&nbsp;en&nbsp;</span><span style=\"color: black; background-color: #fff5f0\">&nbsp;particular&nbsp;</span><span style=\"color: black; background-color: #fff5f0\">&nbsp;\"&nbsp;</span><span style=\"color: black; background-color: #fff5f0\">&nbsp;.&nbsp;</span><span style=\"color: black; background-color: #fff5f0\">&nbsp;<url>&nbsp;</span></div><div style=\"margin:4px 0;\"><span style=\"color: black; background-color: #fff5f0\">&nbsp;juan&nbsp;</span><span style=\"color: black; background-color: #fff5f0\">&nbsp;josé&nbsp;</span><span style=\"color: black; background-color: #fff5f0\">&nbsp;garrido&nbsp;</span><span style=\"color: black; background-color: #fff5f0\">&nbsp;:&nbsp;</span><span style=\"color: black; background-color: #fff5f0\">&nbsp;\"&nbsp;</span><span style=\"color: black; background-color: #fff5f0\">&nbsp;no&nbsp;</span><span style=\"color: black; background-color: #fff5f0\">&nbsp;hay&nbsp;</span><span style=\"color: black; background-color: #fff5f0\">&nbsp;excusas&nbsp;</span><span style=\"color: black; background-color: #fff5f0\">&nbsp;\"&nbsp;</span><span style=\"color: black; background-color: #fff5f0\">&nbsp;.&nbsp;</span><span style=\"color: black; background-color: #fdd5c4\">&nbsp;seguirá&nbsp;</span><span style=\"color: black; background-color: #fff5f0\">&nbsp;habiendo&nbsp;</span><span style=\"color: black; background-color: #fff3ed\">&nbsp;corrupción&nbsp;</span><span style=\"color: black; background-color: #fff5f0\">&nbsp;si&nbsp;</span><span style=\"color: black; background-color: #fff5f0\">&nbsp;no&nbsp;</span><span style=\"color: black; background-color: #fff5f0\">&nbsp;hay&nbsp;</span><span style=\"color: black; background-color: #fff5f0\">&nbsp;reforma&nbsp;</span><span style=\"color: black; background-color: #fff5f0\">&nbsp;institucional&nbsp;</span><span style=\"color: black; background-color: #fff5f0\">&nbsp;.&nbsp;</span><span style=\"color: black; background-color: #fff5f0\">&nbsp;<url>&nbsp;</span><span style=\"color: black; background-color: #fff5f0\">&nbsp;vía&nbsp;</span><span style=\"color: black; background-color: #b61319\">&nbsp;user&nbsp;</span></div><div style=\"margin:4px 0;\"><span style=\"color: black; background-color: #fff5f0\">&nbsp;martin&nbsp;</span><span style=\"color: black; background-color: #fff5f0\">&nbsp;tanaka&nbsp;</span><span style=\"color: black; background-color: #fff5f0\">&nbsp;:&nbsp;</span><span style=\"color: black; background-color: #fff5f0\">&nbsp;el&nbsp;</span><span style=\"color: black; background-color: #fff5f0\">&nbsp;final&nbsp;</span><span style=\"color: black; background-color: #fff5f0\">&nbsp;del&nbsp;</span><span style=\"color: black; background-color: #820711\">&nbsp;sueño&nbsp;</span><span style=\"color: black; background-color: #fff5f0\">&nbsp;tecnocrático&nbsp;</span><span style=\"color: black; background-color: #fff5f0\">&nbsp;<url>&nbsp;</span><span style=\"color: black; background-color: #fff5f0\">&nbsp;vía&nbsp;</span><span style=\"color: black; background-color: #ffece3\">&nbsp;user&nbsp;</span></div><div style=\"margin:4px 0;\"><span style=\"color: black; background-color: #fff5f0\">&nbsp;sol&nbsp;</span><span style=\"color: black; background-color: #fff5f0\">&nbsp;carreño&nbsp;</span><span style=\"color: black; background-color: #fff5f0\">&nbsp;:&nbsp;</span><span style=\"color: black; background-color: #fff5f0\">&nbsp;\"&nbsp;</span><span style=\"color: black; background-color: #fff4ee\">&nbsp;lo&nbsp;</span><span style=\"color: black; background-color: #e63328\">&nbsp;que&nbsp;</span><span style=\"color: black; background-color: #fca98c\">&nbsp;le&nbsp;</span><span style=\"color: black; background-color: #fff5f0\">&nbsp;está&nbsp;</span><span style=\"color: black; background-color: #fff5f0\">&nbsp;faltando&nbsp;</span><span style=\"color: black; background-color: #fff5f0\">&nbsp;al&nbsp;</span><span style=\"color: black; background-color: #fff4ee\">&nbsp;gobierno&nbsp;</span><span style=\"color: black; background-color: #fff5f0\">&nbsp;de&nbsp;</span><span style=\"color: black; background-color: #fff4ef\">&nbsp;ppk&nbsp;</span><span style=\"color: black; background-color: #fff4ef\">&nbsp;es&nbsp;</span><span style=\"color: black; background-color: #fff5f0\">&nbsp;mostrar&nbsp;</span><span style=\"color: black; background-color: #fff5f0\">&nbsp;justamente&nbsp;</span><span style=\"color: black; background-color: #fff5f0\">&nbsp;eso&nbsp;</span><span style=\"color: black; background-color: #fff5f0\">&nbsp;:&nbsp;</span><span style=\"color: black; background-color: #fff5f0\">&nbsp;liderazgo&nbsp;</span><span style=\"color: black; background-color: #fff5f0\">&nbsp;político&nbsp;</span><span style=\"color: black; background-color: #fff5f0\">&nbsp;\"&nbsp;</span><span style=\"color: black; background-color: #fff5f0\">&nbsp;.&nbsp;</span><span style=\"color: black; background-color: #fff5f0\">&nbsp;<url>&nbsp;</span></div><div style=\"margin:4px 0;\"><span style=\"color: black; background-color: #fff5f0\">&nbsp;lean&nbsp;</span><span style=\"color: black; background-color: #fff5f0\">&nbsp;el&nbsp;</span><span style=\"color: black; background-color: #fff5f0\">&nbsp;artículo&nbsp;</span><span style=\"color: black; background-color: #fff5f0\">&nbsp;de&nbsp;</span><span style=\"color: black; background-color: #f14432\">&nbsp;user&nbsp;</span><span style=\"color: black; background-color: #fff5f0\">&nbsp;y&nbsp;</span><span style=\"color: black; background-color: #fff5f0\">&nbsp;la&nbsp;</span><span style=\"color: black; background-color: #fff5f0\">&nbsp;caída&nbsp;</span><span style=\"color: black; background-color: #fff5f0\">&nbsp;de&nbsp;</span><span style=\"color: black; background-color: #fff5f0\">&nbsp;toledo&nbsp;</span><span style=\"color: black; background-color: #fff5f0\">&nbsp;,&nbsp;</span><span style=\"color: black; background-color: #fff5f0\">&nbsp;quien&nbsp;</span><span style=\"color: black; background-color: #fff5f0\">&nbsp;fue&nbsp;</span><span style=\"color: black; background-color: #fff5f0\">&nbsp;en&nbsp;</span><span style=\"color: black; background-color: #fff5f0\">&nbsp;algún&nbsp;</span><span style=\"color: black; background-color: #fff5f0\">&nbsp;momento&nbsp;</span><span style=\"color: black; background-color: #fff5f0\">&nbsp;\"&nbsp;</span><span style=\"color: black; background-color: #fff5f0\">&nbsp;la&nbsp;</span><span style=\"color: black; background-color: #fff5f0\">&nbsp;esperanza&nbsp;</span><span style=\"color: black; background-color: #fff5f0\">&nbsp;de&nbsp;</span><span style=\"color: black; background-color: #fff5f0\">&nbsp;un&nbsp;</span><span style=\"color: black; background-color: #fc8a6a\">&nbsp;país&nbsp;</span><span style=\"color: black; background-color: #fff5f0\">&nbsp;\"&nbsp;</span><span style=\"color: black; background-color: #fff5f0\">&nbsp;<url>&nbsp;</span></div><div style=\"margin:4px 0;\"><span style=\"color: black; background-color: #fff4ef\">&nbsp;es&nbsp;</span><span style=\"color: black; background-color: #fff5f0\">&nbsp;seguro&nbsp;</span><span style=\"color: black; background-color: #fee7dc\">&nbsp;que&nbsp;</span><span style=\"color: black; background-color: #fff5f0\">&nbsp;reconstrucción&nbsp;</span><span style=\"color: black; background-color: #fff5f0\">&nbsp;del&nbsp;</span><span style=\"color: black; background-color: #fff5f0\">&nbsp;puente&nbsp;</span><span style=\"color: black; background-color: #d52221\">&nbsp;de&nbsp;</span><span style=\"color: black; background-color: #fff5f0\">&nbsp;la&nbsp;</span><span style=\"color: black; background-color: #fff4ee\">&nbsp;prialé&nbsp;</span><span style=\"color: black; background-color: #fff5f0\">&nbsp;podría&nbsp;</span><span style=\"color: black; background-color: #fff5f0\">&nbsp;hacerse&nbsp;</span><span style=\"color: black; background-color: #fff5f0\">&nbsp;más&nbsp;</span><span style=\"color: black; background-color: #fff5f0\">&nbsp;rápido&nbsp;</span><span style=\"color: black; background-color: #fff5f0\">&nbsp;.&nbsp;</span><span style=\"color: black; background-color: #fee5d8\">&nbsp;año&nbsp;</span><span style=\"color: black; background-color: #fee8dd\">&nbsp;y&nbsp;</span><span style=\"color: black; background-color: #fff5f0\">&nbsp;medio&nbsp;</span><span style=\"color: black; background-color: #fff5f0\">&nbsp;?&nbsp;</span><span style=\"color: black; background-color: #fff5f0\">&nbsp;<url>&nbsp;</span></div><div style=\"margin:4px 0;\"><span style=\"color: black; background-color: #fff5f0\">&nbsp;fallas&nbsp;</span><span style=\"color: black; background-color: #fff5f0\">&nbsp;de&nbsp;</span><span style=\"color: black; background-color: #fff5f0\">&nbsp;criterio&nbsp;</span><span style=\"color: black; background-color: #fff5f0\">&nbsp;de&nbsp;</span><span style=\"color: black; background-color: #fff4ef\">&nbsp;ppk&nbsp;</span><span style=\"color: black; background-color: #fff5f0\">&nbsp;sobre&nbsp;</span><span style=\"color: black; background-color: #fff5f0\">&nbsp;donde&nbsp;</span><span style=\"color: black; background-color: #fff5f0\">&nbsp;estar&nbsp;</span><span style=\"color: black; background-color: #fff5f0\">&nbsp;:&nbsp;</span><span style=\"color: black; background-color: #fff5f0\">&nbsp;en&nbsp;</span><span style=\"color: black; background-color: #fff5f0\">&nbsp;chinchero&nbsp;</span><span style=\"color: black; background-color: #fff5f0\">&nbsp;o&nbsp;</span><span style=\"color: black; background-color: #fff5f0\">&nbsp;con&nbsp;</span><span style=\"color: black; background-color: #ffebe2\">&nbsp;afectados&nbsp;</span><span style=\"color: black; background-color: #fff5f0\">&nbsp;por&nbsp;</span><span style=\"color: black; background-color: #fff5f0\">&nbsp;huaicos&nbsp;</span><span style=\"color: black; background-color: #fff5f0\">&nbsp;.&nbsp;</span><span style=\"color: black; background-color: #fff5f0\">&nbsp;<url>&nbsp;</span><span style=\"color: black; background-color: #fff5f0\">&nbsp;vía&nbsp;</span><span style=\"color: black; background-color: #8c0912\">&nbsp;user&nbsp;</span></div><div style=\"margin:4px 0;\"><span style=\"color: black; background-color: #fee7dc\">&nbsp;user&nbsp;</span><span style=\"color: black; background-color: #980c13\">&nbsp;user&nbsp;</span><span style=\"color: black; background-color: #fff5f0\">&nbsp;no&nbsp;</span><span style=\"color: black; background-color: #fff5f0\">&nbsp;es&nbsp;</span><span style=\"color: black; background-color: #fff5f0\">&nbsp;un&nbsp;</span><span style=\"color: black; background-color: #fff5f0\">&nbsp;modelo&nbsp;</span><span style=\"color: black; background-color: #fff5f0\">&nbsp;replicable&nbsp;</span><span style=\"color: black; background-color: #fff5f0\">&nbsp;y&nbsp;</span><span style=\"color: black; background-color: #fff5f0\">&nbsp;no&nbsp;</span><span style=\"color: black; background-color: #fff5f0\">&nbsp;aumenta&nbsp;</span><span style=\"color: black; background-color: #fff5f0\">&nbsp;la&nbsp;</span><span style=\"color: black; background-color: #fff5f0\">&nbsp;equidad&nbsp;</span><span style=\"color: black; background-color: #fff5f0\">&nbsp;en&nbsp;</span><span style=\"color: black; background-color: #fff5f0\">&nbsp;el&nbsp;</span><span style=\"color: black; background-color: #fff3ed\">&nbsp;sistema&nbsp;</span><span style=\"color: black; background-color: #fff5f0\">&nbsp;educativo&nbsp;</span><span style=\"color: black; background-color: #fff5f0\">&nbsp;.&nbsp;</span></div><div style=\"margin:4px 0;\"><span style=\"color: black; background-color: #fc8d6d\">&nbsp;user&nbsp;</span><span style=\"color: black; background-color: #fa6547\">&nbsp;user&nbsp;</span><span style=\"color: black; background-color: #fff5f0\">&nbsp;va&nbsp;</span><span style=\"color: black; background-color: #fff5f0\">&nbsp;a&nbsp;</span><span style=\"color: black; background-color: #fff5f0\">&nbsp;probar&nbsp;</span><span style=\"color: black; background-color: #fff4ee\">&nbsp;lo&nbsp;</span><span style=\"color: black; background-color: #fff3ed\">&nbsp;que&nbsp;</span><span style=\"color: black; background-color: #fff1ea\">&nbsp;es&nbsp;</span><span style=\"color: black; background-color: #fff3ed\">&nbsp;obvio&nbsp;</span><span style=\"color: black; background-color: #fff4ee\">&nbsp;:&nbsp;</span><span style=\"color: black; background-color: #fff5f0\">&nbsp;si&nbsp;</span><span style=\"color: black; background-color: #fff5f0\">&nbsp;eliges&nbsp;</span><span style=\"color: black; background-color: #fff5f0\">&nbsp;a&nbsp;</span><span style=\"color: black; background-color: #fff5f0\">&nbsp;los&nbsp;</span><span style=\"color: black; background-color: #fff5f0\">&nbsp;mejores&nbsp;</span><span style=\"color: black; background-color: #fff4ef\">&nbsp;estudiantes&nbsp;</span><span style=\"color: black; background-color: #fff5f0\">&nbsp;y&nbsp;</span><span style=\"color: black; background-color: #fff5f0\">&nbsp;gastas&nbsp;</span><span style=\"color: black; background-color: #fff5f0\">&nbsp;10&nbsp;</span><span style=\"color: black; background-color: #fff5f0\">&nbsp;veces&nbsp;</span><span style=\"color: black; background-color: #fff5f0\">&nbsp;más&nbsp;</span><span style=\"color: black; background-color: #fff5f0\">&nbsp;en&nbsp;</span><span style=\"color: black; background-color: #fff5f0\">&nbsp;ellos&nbsp;</span><span style=\"color: black; background-color: #fff4ee\">&nbsp;que&nbsp;</span><span style=\"color: black; background-color: #fff5f0\">&nbsp;el&nbsp;</span><span style=\"color: black; background-color: #fff5f0\">&nbsp;resto&nbsp;</span><span style=\"color: black; background-color: #fff5f0\">&nbsp;...&nbsp;</span></div><div style=\"margin:4px 0;\"><span style=\"color: black; background-color: #fff4ef\">&nbsp;comparto&nbsp;</span><span style=\"color: black; background-color: #fff5f0\">&nbsp;con&nbsp;</span><span style=\"color: black; background-color: #fff5f0\">&nbsp;ustedes&nbsp;</span><span style=\"color: black; background-color: #fff5f0\">&nbsp;una&nbsp;</span><span style=\"color: black; background-color: #fff5f0\">&nbsp;nueva&nbsp;</span><span style=\"color: black; background-color: #fff5f0\">&nbsp;edición&nbsp;</span><span style=\"color: black; background-color: #71020e\">&nbsp;de&nbsp;</span><span style=\"color: black; background-color: #fff2ec\">&nbsp;mi&nbsp;</span><span style=\"color: black; background-color: #fff5f0\">&nbsp;periódico&nbsp;</span><span style=\"color: black; background-color: #fff5f0\">&nbsp;digital&nbsp;</span><span style=\"color: black; background-color: #fff5f0\">&nbsp;\"&nbsp;</span><span style=\"color: black; background-color: #fff5f0\">&nbsp;intriga&nbsp;</span><span style=\"color: black; background-color: #fff5f0\">&nbsp;personal&nbsp;</span><span style=\"color: black; background-color: #fff5f0\">&nbsp;\"&nbsp;</span><span style=\"color: black; background-color: #fff5f0\">&nbsp;.&nbsp;</span><span style=\"color: black; background-color: #fff5f0\">&nbsp;está&nbsp;</span><span style=\"color: black; background-color: #fff5f0\">&nbsp;disponible&nbsp;</span><span style=\"color: black; background-color: #fff5f0\">&nbsp;aquí&nbsp;</span><span style=\"color: black; background-color: #fff5f0\">&nbsp;:&nbsp;</span><span style=\"color: black; background-color: #fff5f0\">&nbsp;<url>&nbsp;</span></div><div style=\"margin:4px 0;\"><span style=\"color: black; background-color: #fff5f0\">&nbsp;la&nbsp;</span><span style=\"color: black; background-color: #fff5f0\">&nbsp;equidad&nbsp;</span><span style=\"color: black; background-color: #6b010e\">&nbsp;de&nbsp;</span><span style=\"color: black; background-color: #fff5f0\">&nbsp;género&nbsp;</span><span style=\"color: black; background-color: #fff5f0\">&nbsp;es&nbsp;</span><span style=\"color: black; background-color: #fff5f0\">&nbsp;aún&nbsp;</span><span style=\"color: black; background-color: #fff5f0\">&nbsp;un&nbsp;</span><span style=\"color: black; background-color: #fff5f0\">&nbsp;tema&nbsp;</span><span style=\"color: black; background-color: #fff5f0\">&nbsp;pendiente&nbsp;</span><span style=\"color: black; background-color: #fff5f0\">&nbsp;:&nbsp;</span><span style=\"color: black; background-color: #fff5f0\">&nbsp;veamos&nbsp;</span><span style=\"color: black; background-color: #fff5f0\">&nbsp;el&nbsp;</span><span style=\"color: black; background-color: #fff5f0\">&nbsp;tiempo&nbsp;</span><span style=\"color: black; background-color: #fff5f0\">&nbsp;que&nbsp;</span><span style=\"color: black; background-color: #fff5f0\">&nbsp;dan&nbsp;</span><span style=\"color: black; background-color: #fff5f0\">&nbsp;docentes&nbsp;</span><span style=\"color: black; background-color: #fff5f0\">&nbsp;a&nbsp;</span><span style=\"color: black; background-color: #fff5f0\">&nbsp;cada&nbsp;</span><span style=\"color: black; background-color: #fff5f0\">&nbsp;niño&nbsp;</span><span style=\"color: black; background-color: #fff5f0\">&nbsp;o&nbsp;</span><span style=\"color: black; background-color: #fff5f0\">&nbsp;niña&nbsp;</span><span style=\"color: black; background-color: #fff5f0\">&nbsp;;&nbsp;</span><span style=\"color: black; background-color: #fff5f0\">&nbsp;examinemos&nbsp;</span><span style=\"color: black; background-color: #fff5f0\">&nbsp;el&nbsp;</span><span style=\"color: black; background-color: #fff5f0\">&nbsp;c&nbsp;</span><span style=\"color: black; background-color: #fff5f0\">&nbsp;…&nbsp;</span><span style=\"color: black; background-color: #fff5f0\">&nbsp;<url>&nbsp;</span></div><div style=\"margin:4px 0;\"><span style=\"color: black; background-color: #fff5f0\">&nbsp;interesante&nbsp;</span><span style=\"color: black; background-color: #fff5f0\">&nbsp;encuesta&nbsp;</span><span style=\"color: black; background-color: #fff5f0\">&nbsp;en&nbsp;</span><span style=\"color: black; background-color: #fee3d7\">&nbsp;diversos&nbsp;</span><span style=\"color: black; background-color: #fff5f0\">&nbsp;países&nbsp;</span><span style=\"color: black; background-color: #fff5f0\">&nbsp;sobre&nbsp;</span><span style=\"color: black; background-color: #fff5f0\">&nbsp;el&nbsp;</span><span style=\"color: black; background-color: #f85d42\">&nbsp;factor&nbsp;</span><span style=\"color: black; background-color: #fc9879\">&nbsp;que&nbsp;</span><span style=\"color: black; background-color: #fff5f0\">&nbsp;se&nbsp;</span><span style=\"color: black; background-color: #fff5f0\">&nbsp;considera&nbsp;</span><span style=\"color: black; background-color: #fff5f0\">&nbsp;más&nbsp;</span><span style=\"color: black; background-color: #fff5f0\">&nbsp;importante&nbsp;</span><span style=\"color: black; background-color: #fff5f0\">&nbsp;para&nbsp;</span><span style=\"color: black; background-color: #fff5f0\">&nbsp;definir&nbsp;</span><span style=\"color: black; background-color: #fff5f0\">&nbsp;la&nbsp;</span><span style=\"color: black; background-color: #fff5f0\">&nbsp;nacionalida&nbsp;</span><span style=\"color: black; background-color: #fff5f0\">&nbsp;…&nbsp;</span><span style=\"color: black; background-color: #fff5f0\">&nbsp;<url>&nbsp;</span></div><div style=\"margin:4px 0;\"><span style=\"color: black; background-color: #6d010e\">&nbsp;user&nbsp;</span><span style=\"color: black; background-color: #fff5f0\">&nbsp;analiza&nbsp;</span><span style=\"color: black; background-color: #fff5f0\">&nbsp;el&nbsp;</span><span style=\"color: black; background-color: #fff5f0\">&nbsp;conflicto&nbsp;</span><span style=\"color: black; background-color: #fff5f0\">&nbsp;entre&nbsp;</span><span style=\"color: black; background-color: #fff5f0\">&nbsp;el&nbsp;</span><span style=\"color: black; background-color: #fff5f0\">&nbsp;mp&nbsp;</span><span style=\"color: black; background-color: #fff5f0\">&nbsp;y&nbsp;</span><span style=\"color: black; background-color: #fff5f0\">&nbsp;el&nbsp;</span><span style=\"color: black; background-color: #fff5f0\">&nbsp;congreso&nbsp;</span><span style=\"color: black; background-color: #fff5f0\">&nbsp;,&nbsp;</span><span style=\"color: black; background-color: #fff5f0\">&nbsp;lo&nbsp;</span><span style=\"color: black; background-color: #fff5f0\">&nbsp;de&nbsp;</span><span style=\"color: black; background-color: #fff5f0\">&nbsp;chincheros&nbsp;</span><span style=\"color: black; background-color: #fff4ef\">&nbsp;y&nbsp;</span><span style=\"color: black; background-color: #fff5f0\">&nbsp;comunicore&nbsp;</span><span style=\"color: black; background-color: #fff5f0\">&nbsp;.&nbsp;</span><span style=\"color: black; background-color: #fff5f0\">&nbsp;conclusión&nbsp;</span><span style=\"color: black; background-color: #fff5f0\">&nbsp;:&nbsp;</span><span style=\"color: black; background-color: #fff5f0\">&nbsp;enlodados&nbsp;</span><span style=\"color: black; background-color: #fff5f0\">&nbsp;!&nbsp;</span><span style=\"color: black; background-color: #fff5f0\">&nbsp;!&nbsp;</span><span style=\"color: black; background-color: #fff5f0\">&nbsp;!&nbsp;</span><span style=\"color: black; background-color: #fff5f0\">&nbsp;<url>&nbsp;</span></div><div style=\"margin:4px 0;\"><span style=\"color: black; background-color: #fff4ef\">&nbsp;comparto&nbsp;</span><span style=\"color: black; background-color: #fff5f0\">&nbsp;con&nbsp;</span><span style=\"color: black; background-color: #fff5f0\">&nbsp;ustedes&nbsp;</span><span style=\"color: black; background-color: #fff5f0\">&nbsp;una&nbsp;</span><span style=\"color: black; background-color: #fff5f0\">&nbsp;nueva&nbsp;</span><span style=\"color: black; background-color: #fff5f0\">&nbsp;edición&nbsp;</span><span style=\"color: black; background-color: #71020e\">&nbsp;de&nbsp;</span><span style=\"color: black; background-color: #fff2ec\">&nbsp;mi&nbsp;</span><span style=\"color: black; background-color: #fff5f0\">&nbsp;periódico&nbsp;</span><span style=\"color: black; background-color: #fff5f0\">&nbsp;digital&nbsp;</span><span style=\"color: black; background-color: #fff5f0\">&nbsp;\"&nbsp;</span><span style=\"color: black; background-color: #fff5f0\">&nbsp;intriga&nbsp;</span><span style=\"color: black; background-color: #fff5f0\">&nbsp;personal&nbsp;</span><span style=\"color: black; background-color: #fff5f0\">&nbsp;\"&nbsp;</span><span style=\"color: black; background-color: #fff5f0\">&nbsp;.&nbsp;</span><span style=\"color: black; background-color: #fff5f0\">&nbsp;está&nbsp;</span><span style=\"color: black; background-color: #fff5f0\">&nbsp;disponible&nbsp;</span><span style=\"color: black; background-color: #fff5f0\">&nbsp;aquí&nbsp;</span><span style=\"color: black; background-color: #fff5f0\">&nbsp;:&nbsp;</span><span style=\"color: black; background-color: #fff5f0\">&nbsp;<url>&nbsp;</span><span style=\"color: black; background-color: #fff5f0\">&nbsp;#educación&nbsp;</span></div><div style=\"margin:4px 0;\"><span style=\"color: black; background-color: #fff5f0\">&nbsp;utilidad&nbsp;</span><span style=\"color: black; background-color: #fff5f0\">&nbsp;dudosa&nbsp;</span><span style=\"color: black; background-color: #fff5f0\">&nbsp;.&nbsp;</span><span style=\"color: black; background-color: #fff5f0\">&nbsp;pero&nbsp;</span><span style=\"color: black; background-color: #fff5f0\">&nbsp;,&nbsp;</span><span style=\"color: black; background-color: #fff5f0\">&nbsp;además&nbsp;</span><span style=\"color: black; background-color: #fff5f0\">&nbsp;,&nbsp;</span><span style=\"color: black; background-color: #fff5f0\">&nbsp;es&nbsp;</span><span style=\"color: black; background-color: #fff5f0\">&nbsp;inaceptable&nbsp;</span><span style=\"color: black; background-color: #fff5f0\">&nbsp;que&nbsp;</span><span style=\"color: black; background-color: #fff5f0\">&nbsp;chicos&nbsp;</span><span style=\"color: black; background-color: #fff5f0\">&nbsp;pasen&nbsp;</span><span style=\"color: black; background-color: #fff5f0\">&nbsp;horas&nbsp;</span><span style=\"color: black; background-color: #fff5f0\">&nbsp;en&nbsp;</span><span style=\"color: black; background-color: #69000d\">&nbsp;casa&nbsp;</span><span style=\"color: black; background-color: #fff5f0\">&nbsp;dedicados&nbsp;</span><span style=\"color: black; background-color: #fff5f0\">&nbsp;a&nbsp;</span><span style=\"color: black; background-color: #fff5f0\">&nbsp;ello&nbsp;</span><span style=\"color: black; background-color: #fff5f0\">&nbsp;.&nbsp;</span><span style=\"color: black; background-color: #fff5f0\">&nbsp;<url>&nbsp;</span></div><div style=\"margin:4px 0;\"><span style=\"color: black; background-color: #fff5f0\">&nbsp;santiago&nbsp;</span><span style=\"color: black; background-color: #fff5f0\">&nbsp;roncagliolo&nbsp;</span><span style=\"color: black; background-color: #fff5f0\">&nbsp;:&nbsp;</span><span style=\"color: black; background-color: #fff5f0\">&nbsp;el&nbsp;</span><span style=\"color: black; background-color: #fff5f0\">&nbsp;reality&nbsp;</span><span style=\"color: black; background-color: #75030f\">&nbsp;show&nbsp;</span><span style=\"color: black; background-color: #fff5f0\">&nbsp;que&nbsp;</span><span style=\"color: black; background-color: #fff5f0\">&nbsp;implica&nbsp;</span><span style=\"color: black; background-color: #fff5f0\">&nbsp;hasta&nbsp;</span><span style=\"color: black; background-color: #fff5f0\">&nbsp;ahora&nbsp;</span><span style=\"color: black; background-color: #fff5f0\">&nbsp;la&nbsp;</span><span style=\"color: black; background-color: #fff5f0\">&nbsp;presidencia&nbsp;</span><span style=\"color: black; background-color: #fff5f0\">&nbsp;de&nbsp;</span><span style=\"color: black; background-color: #fff5f0\">&nbsp;trump&nbsp;</span><span style=\"color: black; background-color: #fff5f0\">&nbsp;.&nbsp;</span><span style=\"color: black; background-color: #fff5f0\">&nbsp;<url>&nbsp;</span><span style=\"color: black; background-color: #fff5f0\">&nbsp;vía&nbsp;</span><span style=\"color: black; background-color: #fff0e9\">&nbsp;user&nbsp;</span></div><div style=\"margin:4px 0;\"><span style=\"color: black; background-color: #fff0e8\">&nbsp;estudiantes&nbsp;</span><span style=\"color: black; background-color: #fee3d7\">&nbsp;chinos&nbsp;</span><span style=\"color: black; background-color: #fff5f0\">&nbsp;en&nbsp;</span><span style=\"color: black; background-color: #fff4ef\">&nbsp;los&nbsp;</span><span style=\"color: black; background-color: #ac1117\">&nbsp;eeuu&nbsp;</span><span style=\"color: black; background-color: #fff4ef\">&nbsp;.&nbsp;</span><span style=\"color: black; background-color: #fff5f0\">&nbsp;largo&nbsp;</span><span style=\"color: black; background-color: #fff5f0\">&nbsp;artículo&nbsp;</span><span style=\"color: black; background-color: #fff5f0\">&nbsp;en&nbsp;</span><span style=\"color: black; background-color: #fff5f0\">&nbsp;el&nbsp;</span><span style=\"color: black; background-color: #fff5f0\">&nbsp;nyt&nbsp;</span><span style=\"color: black; background-color: #fff5f0\">&nbsp;.&nbsp;</span><span style=\"color: black; background-color: #fff5f0\">&nbsp;<url>&nbsp;</span></div><div style=\"margin:4px 0;\"><span style=\"color: black; background-color: #fff5f0\">&nbsp;mapas&nbsp;</span><span style=\"color: black; background-color: #fff5f0\">&nbsp;y&nbsp;</span><span style=\"color: black; background-color: #fff5f0\">&nbsp;estadísticas&nbsp;</span><span style=\"color: black; background-color: #fff5f0\">&nbsp;sobre&nbsp;</span><span style=\"color: black; background-color: #fff5f0\">&nbsp;la&nbsp;</span><span style=\"color: black; background-color: #fff5f0\">&nbsp;frontera&nbsp;</span><span style=\"color: black; background-color: #fff5f0\">&nbsp;entre&nbsp;</span><span style=\"color: black; background-color: #67000d\">&nbsp;méxico&nbsp;</span><span style=\"color: black; background-color: #fff5f0\">&nbsp;y&nbsp;</span><span style=\"color: black; background-color: #fff5f0\">&nbsp;los&nbsp;</span><span style=\"color: black; background-color: #fff5f0\">&nbsp;eeuu&nbsp;</span><span style=\"color: black; background-color: #fff5f0\">&nbsp;.&nbsp;</span><span style=\"color: black; background-color: #fff5f0\">&nbsp;parte&nbsp;</span><span style=\"color: black; background-color: #fff5f0\">&nbsp;del&nbsp;</span><span style=\"color: black; background-color: #fff5f0\">&nbsp;muro&nbsp;</span><span style=\"color: black; background-color: #fff5f0\">&nbsp;ya&nbsp;</span><span style=\"color: black; background-color: #fff5f0\">&nbsp;existe&nbsp;</span><span style=\"color: black; background-color: #fff5f0\">&nbsp;.&nbsp;</span><span style=\"color: black; background-color: #fff5f0\">&nbsp;<url>&nbsp;</span></div><div style=\"margin:4px 0;\"><span style=\"color: black; background-color: #fff5f0\">&nbsp;preocupante&nbsp;</span><span style=\"color: black; background-color: #fff5f0\">&nbsp;:&nbsp;</span><span style=\"color: black; background-color: #fff5f0\">&nbsp;\"&nbsp;</span><span style=\"color: black; background-color: #fff5f0\">&nbsp;caída&nbsp;</span><span style=\"color: black; background-color: #fff5f0\">&nbsp;en&nbsp;</span><span style=\"color: black; background-color: #fff5f0\">&nbsp;aprobación&nbsp;</span><span style=\"color: black; background-color: #fff5f0\">&nbsp;presidencial&nbsp;</span><span style=\"color: black; background-color: #fff5f0\">&nbsp;continuará&nbsp;</span><span style=\"color: black; background-color: #fff5f0\">&nbsp;\"&nbsp;</span><span style=\"color: black; background-color: #fff5f0\">&nbsp;,&nbsp;</span><span style=\"color: black; background-color: #fff5f0\">&nbsp;advierte&nbsp;</span><span style=\"color: black; background-color: #fff5f0\">&nbsp;urpi&nbsp;</span><span style=\"color: black; background-color: #fff5f0\">&nbsp;torrado&nbsp;</span><span style=\"color: black; background-color: #fff5f0\">&nbsp;<url>&nbsp;</span><span style=\"color: black; background-color: #fff5f0\">&nbsp;vía&nbsp;</span><span style=\"color: black; background-color: #69000d\">&nbsp;user&nbsp;</span></div><div style=\"margin:4px 0;\"><span style=\"color: black; background-color: #fff5f0\">&nbsp;octavio&nbsp;</span><span style=\"color: black; background-color: #fff5f0\">&nbsp;paz&nbsp;</span><span style=\"color: black; background-color: #fff5f0\">&nbsp;:&nbsp;</span><span style=\"color: black; background-color: #fff5f0\">&nbsp;\"&nbsp;</span><span style=\"color: black; background-color: #fff5f0\">&nbsp;los&nbsp;</span><span style=\"color: black; background-color: #fff5f0\">&nbsp;gringos&nbsp;</span><span style=\"color: black; background-color: #fff5f0\">&nbsp;no&nbsp;</span><span style=\"color: black; background-color: #fff5f0\">&nbsp;saben&nbsp;</span><span style=\"color: black; background-color: #fff5f0\">&nbsp;escuchar&nbsp;</span><span style=\"color: black; background-color: #fff5f0\">&nbsp;y&nbsp;</span><span style=\"color: black; background-color: #fff5f0\">&nbsp;los&nbsp;</span><span style=\"color: black; background-color: #67000d\">&nbsp;mexicanos&nbsp;</span><span style=\"color: black; background-color: #fff5f0\">&nbsp;no&nbsp;</span><span style=\"color: black; background-color: #fff5f0\">&nbsp;sabemos&nbsp;</span><span style=\"color: black; background-color: #fff5f0\">&nbsp;hablar&nbsp;</span><span style=\"color: black; background-color: #fff5f0\">&nbsp;\"&nbsp;</span><span style=\"color: black; background-color: #fff5f0\">&nbsp;.&nbsp;</span><span style=\"color: black; background-color: #fff5f0\">&nbsp;<url>&nbsp;</span><span style=\"color: black; background-color: #fff5f0\">&nbsp;vía&nbsp;</span><span style=\"color: black; background-color: #fff5f0\">&nbsp;user&nbsp;</span></div><div style=\"margin:4px 0;\"><span style=\"color: black; background-color: #fff5f0\">&nbsp;patricia&nbsp;</span><span style=\"color: black; background-color: #fff5f0\">&nbsp;teullet&nbsp;</span><span style=\"color: black; background-color: #fff5f0\">&nbsp;:&nbsp;</span><span style=\"color: black; background-color: #fff5f0\">&nbsp;se&nbsp;</span><span style=\"color: black; background-color: #fff5f0\">&nbsp;comienza&nbsp;</span><span style=\"color: black; background-color: #fff5f0\">&nbsp;con&nbsp;</span><span style=\"color: black; background-color: #fff5f0\">&nbsp;el&nbsp;</span><span style=\"color: black; background-color: #fff5f0\">&nbsp;bullying&nbsp;</span><span style=\"color: black; background-color: #fff5f0\">&nbsp;en&nbsp;</span><span style=\"color: black; background-color: #fff5f0\">&nbsp;el&nbsp;</span><span style=\"color: black; background-color: #fff5f0\">&nbsp;colegio&nbsp;</span><span style=\"color: black; background-color: #fff5f0\">&nbsp;y&nbsp;</span><span style=\"color: black; background-color: #fff5f0\">&nbsp;luego&nbsp;</span><span style=\"color: black; background-color: #fff5f0\">&nbsp;se&nbsp;</span><span style=\"color: black; background-color: #fff5f0\">&nbsp;convierte&nbsp;</span><span style=\"color: black; background-color: #fff5f0\">&nbsp;en&nbsp;</span><span style=\"color: black; background-color: #fff2eb\">&nbsp;matón&nbsp;</span><span style=\"color: black; background-color: #fff5f0\">&nbsp;.&nbsp;</span><span style=\"color: black; background-color: #fff5f0\">&nbsp;<url>&nbsp;</span><span style=\"color: black; background-color: #fff5f0\">&nbsp;vía&nbsp;</span><span style=\"color: black; background-color: #75030f\">&nbsp;user&nbsp;</span></div><div style=\"margin:4px 0;\"><span style=\"color: black; background-color: #fff3ed\">&nbsp;iván&nbsp;</span><span style=\"color: black; background-color: #fff5f0\">&nbsp;alonso&nbsp;</span><span style=\"color: black; background-color: #fff1ea\">&nbsp;y&nbsp;</span><span style=\"color: black; background-color: #fff5f0\">&nbsp;explicación&nbsp;</span><span style=\"color: black; background-color: #fff5f0\">&nbsp;didáctica&nbsp;</span><span style=\"color: black; background-color: #fff5f0\">&nbsp;de&nbsp;</span><span style=\"color: black; background-color: #fff5f0\">&nbsp;quién&nbsp;</span><span style=\"color: black; background-color: #fff5f0\">&nbsp;pagará&nbsp;</span><span style=\"color: black; background-color: #fff5f0\">&nbsp;finalmente&nbsp;</span><span style=\"color: black; background-color: #fff5f0\">&nbsp;el&nbsp;</span><span style=\"color: black; background-color: #fff1ea\">&nbsp;muro&nbsp;</span><span style=\"color: black; background-color: #fff5f0\">&nbsp;:&nbsp;</span><span style=\"color: black; background-color: #fff5f0\">&nbsp;el&nbsp;</span><span style=\"color: black; background-color: #8a0812\">&nbsp;ciudadano&nbsp;</span><span style=\"color: black; background-color: #fff5f0\">&nbsp;estaunidense&nbsp;</span><span style=\"color: black; background-color: #fff5f0\">&nbsp;de&nbsp;</span><span style=\"color: black; background-color: #fff5f0\">&nbsp;a&nbsp;</span><span style=\"color: black; background-color: #fff5f0\">&nbsp;pie&nbsp;</span><span style=\"color: black; background-color: #fff5f0\">&nbsp;.&nbsp;</span><span style=\"color: black; background-color: #fff5f0\">&nbsp;<url>&nbsp;</span></div><div style=\"margin:4px 0;\"><span style=\"color: black; background-color: #fff5f0\">&nbsp;prescripción&nbsp;</span><span style=\"color: black; background-color: #fff5f0\">&nbsp;de&nbsp;</span><span style=\"color: black; background-color: #fff5f0\">&nbsp;caso&nbsp;</span><span style=\"color: black; background-color: #fff5f0\">&nbsp;comunicore&nbsp;</span><span style=\"color: black; background-color: #fff5f0\">&nbsp;:&nbsp;</span><span style=\"color: black; background-color: #fff5f0\">&nbsp;un&nbsp;</span><span style=\"color: black; background-color: #fff5f0\">&nbsp;ejemplo&nbsp;</span><span style=\"color: black; background-color: #fff5f0\">&nbsp;de&nbsp;</span><span style=\"color: black; background-color: #fff5f0\">&nbsp;que&nbsp;</span><span style=\"color: black; background-color: #fff5f0\">&nbsp;la&nbsp;</span><span style=\"color: black; background-color: #fff5f0\">&nbsp;corrupción&nbsp;</span><span style=\"color: black; background-color: #fff5f0\">&nbsp;sigue&nbsp;</span><span style=\"color: black; background-color: #fff3ed\">&nbsp;vivita&nbsp;</span><span style=\"color: black; background-color: #fff5f0\">&nbsp;y&nbsp;</span><span style=\"color: black; background-color: #77040f\">&nbsp;coleando&nbsp;</span><span style=\"color: black; background-color: #fff5f0\">&nbsp;.&nbsp;</span><span style=\"color: black; background-color: #fff5f0\">&nbsp;<url>&nbsp;</span><span style=\"color: black; background-color: #fff5f0\">&nbsp;vía&nbsp;</span><span style=\"color: black; background-color: #fff3ed\">&nbsp;user&nbsp;</span></div><div style=\"margin:4px 0;\"><span style=\"color: black; background-color: #fff5f0\">&nbsp;terrible&nbsp;</span><span style=\"color: black; background-color: #fff5f0\">&nbsp;conclusión&nbsp;</span><span style=\"color: black; background-color: #fff5f0\">&nbsp;de&nbsp;</span><span style=\"color: black; background-color: #fff2eb\">&nbsp;user&nbsp;</span><span style=\"color: black; background-color: #fff5f0\">&nbsp;:&nbsp;</span><span style=\"color: black; background-color: #fff5f0\">&nbsp;\"&nbsp;</span><span style=\"color: black; background-color: #fff5f0\">&nbsp;adiós&nbsp;</span><span style=\"color: black; background-color: #fff5f0\">&nbsp;a&nbsp;</span><span style=\"color: black; background-color: #fee3d7\">&nbsp;sueños&nbsp;</span><span style=\"color: black; background-color: #fff5f0\">&nbsp;de&nbsp;</span><span style=\"color: black; background-color: #fff5f0\">&nbsp;legado&nbsp;</span><span style=\"color: black; background-color: #fff5f0\">&nbsp;para&nbsp;</span><span style=\"color: black; background-color: #fff5f0\">&nbsp;el&nbsp;</span><span style=\"color: black; background-color: #fff5f0\">&nbsp;2021&nbsp;</span><span style=\"color: black; background-color: #fff5f0\">&nbsp;.&nbsp;</span><span style=\"color: black; background-color: #fff5f0\">&nbsp;de&nbsp;</span><span style=\"color: black; background-color: #a60f15\">&nbsp;hecho&nbsp;</span><span style=\"color: black; background-color: #fff5f0\">&nbsp;,&nbsp;</span><span style=\"color: black; background-color: #fff5f0\">&nbsp;ahora&nbsp;</span><span style=\"color: black; background-color: #fff5f0\">&nbsp;el&nbsp;</span><span style=\"color: black; background-color: #fff5f0\">&nbsp;sueño&nbsp;</span><span style=\"color: black; background-color: #fff5f0\">&nbsp;será&nbsp;</span><span style=\"color: black; background-color: #fff5f0\">&nbsp;llegar&nbsp;</span><span style=\"color: black; background-color: #fff5f0\">&nbsp;al&nbsp;</span><span style=\"color: black; background-color: #fff5f0\">&nbsp;2021&nbsp;</span><span style=\"color: black; background-color: #fff5f0\">&nbsp;\"&nbsp;</span><span style=\"color: black; background-color: #fff5f0\">&nbsp;<url>&nbsp;</span></div><div style=\"margin:4px 0;\"><span style=\"color: black; background-color: #f14432\">&nbsp;habría&nbsp;</span><span style=\"color: black; background-color: #fc9373\">&nbsp;que&nbsp;</span><span style=\"color: black; background-color: #fff5f0\">&nbsp;saber&nbsp;</span><span style=\"color: black; background-color: #fff5f0\">&nbsp;a&nbsp;</span><span style=\"color: black; background-color: #fff5f0\">&nbsp;quienes&nbsp;</span><span style=\"color: black; background-color: #fff5f0\">&nbsp;entrevistan&nbsp;</span><span style=\"color: black; background-color: #fff4ef\">&nbsp;para&nbsp;</span><span style=\"color: black; background-color: #fff5f0\">&nbsp;hacer&nbsp;</span><span style=\"color: black; background-color: #fff5f0\">&nbsp;estos&nbsp;</span><span style=\"color: black; background-color: #fff5f0\">&nbsp;rankings&nbsp;</span><span style=\"color: black; background-color: #fff5f0\">&nbsp;!&nbsp;</span><span style=\"color: black; background-color: #fff5f0\">&nbsp;!&nbsp;</span><span style=\"color: black; background-color: #fff4ef\">&nbsp;!&nbsp;</span><span style=\"color: black; background-color: #fff4ee\">&nbsp;<url>&nbsp;</span></div><div style=\"margin:4px 0;\"><span style=\"color: black; background-color: #fff5f0\">&nbsp;josé&nbsp;</span><span style=\"color: black; background-color: #fff5f0\">&nbsp;luis&nbsp;</span><span style=\"color: black; background-color: #fff5f0\">&nbsp;navarro&nbsp;</span><span style=\"color: black; background-color: #fff5f0\">&nbsp;,&nbsp;</span><span style=\"color: black; background-color: #fff5f0\">&nbsp;maestro&nbsp;</span><span style=\"color: black; background-color: #fff5f0\">&nbsp;del&nbsp;</span><span style=\"color: black; background-color: #fff5f0\">&nbsp;año&nbsp;</span><span style=\"color: black; background-color: #fff5f0\">&nbsp;2009&nbsp;</span><span style=\"color: black; background-color: #fff5f0\">&nbsp;en&nbsp;</span><span style=\"color: black; background-color: #67000d\">&nbsp;california&nbsp;</span><span style=\"color: black; background-color: #fff5f0\">&nbsp;.&nbsp;</span><span style=\"color: black; background-color: #fff5f0\">&nbsp;un&nbsp;</span><span style=\"color: black; background-color: #fff5f0\">&nbsp;maestro&nbsp;</span><span style=\"color: black; background-color: #fff5f0\">&nbsp;cambió&nbsp;</span><span style=\"color: black; background-color: #fff5f0\">&nbsp;su&nbsp;</span><span style=\"color: black; background-color: #fff5f0\">&nbsp;vida&nbsp;</span><span style=\"color: black; background-color: #fff5f0\">&nbsp;.&nbsp;</span><span style=\"color: black; background-color: #fff5f0\">&nbsp;luego&nbsp;</span><span style=\"color: black; background-color: #fff5f0\">&nbsp;él&nbsp;</span><span style=\"color: black; background-color: #fff5f0\">&nbsp;estudió&nbsp;</span><span style=\"color: black; background-color: #fff5f0\">&nbsp;y&nbsp;</span><span style=\"color: black; background-color: #fff5f0\">&nbsp;decidió&nbsp;</span><span style=\"color: black; background-color: #fff5f0\">&nbsp;cambiar&nbsp;</span><span style=\"color: black; background-color: #fff5f0\">&nbsp;…&nbsp;</span><span style=\"color: black; background-color: #fff5f0\">&nbsp;<url>&nbsp;</span></div><div style=\"margin:4px 0;\"><span style=\"color: black; background-color: #a50f15\">&nbsp;corea&nbsp;</span><span style=\"color: black; background-color: #fff0e9\">&nbsp;,&nbsp;</span><span style=\"color: black; background-color: #fee5d9\">&nbsp;¿&nbsp;</span><span style=\"color: black; background-color: #fff5f0\">&nbsp;modelo&nbsp;</span><span style=\"color: black; background-color: #fff5f0\">&nbsp;a&nbsp;</span><span style=\"color: black; background-color: #fff5f0\">&nbsp;imitar&nbsp;</span><span style=\"color: black; background-color: #fff5f0\">&nbsp;para&nbsp;</span><span style=\"color: black; background-color: #fff5f0\">&nbsp;mejorar&nbsp;</span><span style=\"color: black; background-color: #fff5f0\">&nbsp;modelo&nbsp;</span><span style=\"color: black; background-color: #fff5f0\">&nbsp;educativo&nbsp;</span><span style=\"color: black; background-color: #fff5f0\">&nbsp;?&nbsp;</span><span style=\"color: black; background-color: #fff5f0\">&nbsp;tengo&nbsp;</span><span style=\"color: black; background-color: #fff5f0\">&nbsp;mis&nbsp;</span><span style=\"color: black; background-color: #fff5f0\">&nbsp;dudas&nbsp;</span><span style=\"color: black; background-color: #fff5f0\">&nbsp;<url>&nbsp;</span></div><div style=\"margin:4px 0;\"><span style=\"color: black; background-color: #fff5f0\">&nbsp;buen&nbsp;</span><span style=\"color: black; background-color: #fff0e8\">&nbsp;artículo&nbsp;</span><span style=\"color: black; background-color: #fff5f0\">&nbsp;de&nbsp;</span><span style=\"color: black; background-color: #7a0510\">&nbsp;user&nbsp;</span><span style=\"color: black; background-color: #fff5f0\">&nbsp;.&nbsp;</span><span style=\"color: black; background-color: #fff5f0\">&nbsp;perder&nbsp;</span><span style=\"color: black; background-color: #fff5f0\">&nbsp;tanto&nbsp;</span><span style=\"color: black; background-color: #fff5f0\">&nbsp;la&nbsp;</span><span style=\"color: black; background-color: #fff5f0\">&nbsp;confianza&nbsp;</span><span style=\"color: black; background-color: #fff5f0\">&nbsp;en&nbsp;</span><span style=\"color: black; background-color: #fff5f0\">&nbsp;apenas&nbsp;</span><span style=\"color: black; background-color: #fff5f0\">&nbsp;6&nbsp;</span><span style=\"color: black; background-color: #fff5f0\">&nbsp;meses&nbsp;</span><span style=\"color: black; background-color: #fff5f0\">&nbsp;preocupa&nbsp;</span><span style=\"color: black; background-color: #fff5f0\">&nbsp;.&nbsp;</span><span style=\"color: black; background-color: #fff5f0\">&nbsp;ppk&nbsp;</span><span style=\"color: black; background-color: #fff5f0\">&nbsp;tiene&nbsp;</span><span style=\"color: black; background-color: #fff5f0\">&nbsp;aún&nbsp;</span><span style=\"color: black; background-color: #fff5f0\">&nbsp;4&nbsp;</span><span style=\"color: black; background-color: #fff5f0\">&nbsp;años&nbsp;</span><span style=\"color: black; background-color: #fff5f0\">&nbsp;y&nbsp;</span><span style=\"color: black; background-color: #fff5f0\">&nbsp;medio&nbsp;</span><span style=\"color: black; background-color: #fff5f0\">&nbsp;para&nbsp;</span><span style=\"color: black; background-color: #fff5f0\">&nbsp;gobernar&nbsp;</span><span style=\"color: black; background-color: #fff5f0\">&nbsp;.&nbsp;</span></div><div style=\"margin:4px 0;\"><span style=\"color: black; background-color: #fff4ef\">&nbsp;comparto&nbsp;</span><span style=\"color: black; background-color: #fff5f0\">&nbsp;con&nbsp;</span><span style=\"color: black; background-color: #fff5f0\">&nbsp;ustedes&nbsp;</span><span style=\"color: black; background-color: #fff5f0\">&nbsp;una&nbsp;</span><span style=\"color: black; background-color: #fff5f0\">&nbsp;nueva&nbsp;</span><span style=\"color: black; background-color: #fff5f0\">&nbsp;edición&nbsp;</span><span style=\"color: black; background-color: #71020e\">&nbsp;de&nbsp;</span><span style=\"color: black; background-color: #fff2ec\">&nbsp;mi&nbsp;</span><span style=\"color: black; background-color: #fff5f0\">&nbsp;periódico&nbsp;</span><span style=\"color: black; background-color: #fff5f0\">&nbsp;digital&nbsp;</span><span style=\"color: black; background-color: #fff5f0\">&nbsp;\"&nbsp;</span><span style=\"color: black; background-color: #fff5f0\">&nbsp;intriga&nbsp;</span><span style=\"color: black; background-color: #fff5f0\">&nbsp;personal&nbsp;</span><span style=\"color: black; background-color: #fff5f0\">&nbsp;\"&nbsp;</span><span style=\"color: black; background-color: #fff5f0\">&nbsp;.&nbsp;</span><span style=\"color: black; background-color: #fff5f0\">&nbsp;está&nbsp;</span><span style=\"color: black; background-color: #fff5f0\">&nbsp;disponible&nbsp;</span><span style=\"color: black; background-color: #fff5f0\">&nbsp;aquí&nbsp;</span><span style=\"color: black; background-color: #fff5f0\">&nbsp;:&nbsp;</span><span style=\"color: black; background-color: #fff5f0\">&nbsp;<url>&nbsp;</span></div><div style=\"margin:4px 0;\"><span style=\"color: black; background-color: #fff5f0\">&nbsp;son&nbsp;</span><span style=\"color: black; background-color: #fff5f0\">&nbsp;solo&nbsp;</span><span style=\"color: black; background-color: #fff5f0\">&nbsp;6&nbsp;</span><span style=\"color: black; background-color: #fff5f0\">&nbsp;meses&nbsp;</span><span style=\"color: black; background-color: #fff5f0\">&nbsp;y&nbsp;</span><span style=\"color: black; background-color: #fff5f0\">&nbsp;muchos&nbsp;</span><span style=\"color: black; background-color: #fff5f0\">&nbsp;ciudadanos&nbsp;</span><span style=\"color: black; background-color: #fff5f0\">&nbsp;desencantados&nbsp;</span><span style=\"color: black; background-color: #fff5f0\">&nbsp;.&nbsp;</span><span style=\"color: black; background-color: #fff5f0\">&nbsp;dé&nbsp;</span><span style=\"color: black; background-color: #fff5f0\">&nbsp;señales&nbsp;</span><span style=\"color: black; background-color: #fff5f0\">&nbsp;de&nbsp;</span><span style=\"color: black; background-color: #fff5f0\">&nbsp;confianza&nbsp;</span><span style=\"color: black; background-color: #fff5f0\">&nbsp;!&nbsp;</span><span style=\"color: black; background-color: #fff5f0\">&nbsp;!&nbsp;</span><span style=\"color: black; background-color: #fff5f0\">&nbsp;<url>&nbsp;</span><span style=\"color: black; background-color: #fff5f0\">&nbsp;vía&nbsp;</span><span style=\"color: black; background-color: #67000d\">&nbsp;user&nbsp;</span></div><div style=\"margin:4px 0;\"><span style=\"color: black; background-color: #fff5f0\">&nbsp;radio&nbsp;</span><span style=\"color: black; background-color: #fee1d4\">&nbsp;nacional&nbsp;</span><span style=\"color: black; background-color: #fff4ef\">&nbsp;emitirá&nbsp;</span><span style=\"color: black; background-color: #fff5f0\">&nbsp;el&nbsp;</span><span style=\"color: black; background-color: #fff5f0\">&nbsp;primer&nbsp;</span><span style=\"color: black; background-color: #fff5f0\">&nbsp;noticiero&nbsp;</span><span style=\"color: black; background-color: #fff5f0\">&nbsp;en&nbsp;</span><span style=\"color: black; background-color: #fff5f0\">&nbsp;aimara&nbsp;</span><span style=\"color: black; background-color: #fff5f0\">&nbsp;<url>&nbsp;</span><span style=\"color: black; background-color: #fff5f0\">&nbsp;vía&nbsp;</span><span style=\"color: black; background-color: #a50f15\">&nbsp;user&nbsp;</span></div><div style=\"margin:4px 0;\"><span style=\"color: black; background-color: #fff5f0\">&nbsp;carlos&nbsp;</span><span style=\"color: black; background-color: #fff1ea\">&nbsp;rivera&nbsp;</span><span style=\"color: black; background-color: #fff5f0\">&nbsp;sobre&nbsp;</span><span style=\"color: black; background-color: #fff4ee\">&nbsp;caso&nbsp;</span><span style=\"color: black; background-color: #fff5f0\">&nbsp;comunicore&nbsp;</span><span style=\"color: black; background-color: #fff5f0\">&nbsp;:&nbsp;</span><span style=\"color: black; background-color: #fff5f0\">&nbsp;“&nbsp;</span><span style=\"color: black; background-color: #fff5f0\">&nbsp;es&nbsp;</span><span style=\"color: black; background-color: #fff5f0\">&nbsp;el&nbsp;</span><span style=\"color: black; background-color: #fff5f0\">&nbsp;peor&nbsp;</span><span style=\"color: black; background-color: #fff5f0\">&nbsp;mensaje&nbsp;</span><span style=\"color: black; background-color: #fff5f0\">&nbsp;para&nbsp;</span><span style=\"color: black; background-color: #fff5f0\">&nbsp;el&nbsp;</span><span style=\"color: black; background-color: #820711\">&nbsp;país&nbsp;</span><span style=\"color: black; background-color: #fff5f0\">&nbsp;”&nbsp;</span><span style=\"color: black; background-color: #fff5f0\">&nbsp;<url>&nbsp;</span><span style=\"color: black; background-color: #fff5f0\">&nbsp;vía&nbsp;</span><span style=\"color: black; background-color: #fff1ea\">&nbsp;user&nbsp;</span></div><div style=\"margin:4px 0;\"><span style=\"color: black; background-color: #fff5f0\">&nbsp;inaceptable&nbsp;</span><span style=\"color: black; background-color: #fff5f0\">&nbsp;que&nbsp;</span><span style=\"color: black; background-color: #fff5f0\">&nbsp;presidente&nbsp;</span><span style=\"color: black; background-color: #fff5f0\">&nbsp;sedapar&nbsp;</span><span style=\"color: black; background-color: #fff5f0\">&nbsp;diga&nbsp;</span><span style=\"color: black; background-color: #fff5f0\">&nbsp;que&nbsp;</span><span style=\"color: black; background-color: #fff5f0\">&nbsp;no&nbsp;</span><span style=\"color: black; background-color: #fff5f0\">&nbsp;sabe&nbsp;</span><span style=\"color: black; background-color: #fff5f0\">&nbsp;cuándo&nbsp;</span><span style=\"color: black; background-color: #fff5f0\">&nbsp;se&nbsp;</span><span style=\"color: black; background-color: #fff5f0\">&nbsp;repondrá&nbsp;</span><span style=\"color: black; background-color: #fff5f0\">&nbsp;servicio&nbsp;</span><span style=\"color: black; background-color: #fff5f0\">&nbsp;de&nbsp;</span><span style=\"color: black; background-color: #fff5f0\">&nbsp;agua&nbsp;</span><span style=\"color: black; background-color: #fff5f0\">&nbsp;en&nbsp;</span><span style=\"color: black; background-color: #67000d\">&nbsp;arequipa&nbsp;</span><span style=\"color: black; background-color: #fff5f0\">&nbsp;.&nbsp;</span><span style=\"color: black; background-color: #fff5f0\">&nbsp;<url>&nbsp;</span></div><div style=\"margin:4px 0;\"><span style=\"color: black; background-color: #67000d\">&nbsp;colombia&nbsp;</span><span style=\"color: black; background-color: #fff5f0\">&nbsp;:&nbsp;</span><span style=\"color: black; background-color: #fff5f0\">&nbsp;adiós&nbsp;</span><span style=\"color: black; background-color: #fff5f0\">&nbsp;a&nbsp;</span><span style=\"color: black; background-color: #fff5f0\">&nbsp;las&nbsp;</span><span style=\"color: black; background-color: #fff5f0\">&nbsp;armas&nbsp;</span><span style=\"color: black; background-color: #fff5f0\">&nbsp;<url>&nbsp;</span><span style=\"color: black; background-color: #fff5f0\">&nbsp;vía&nbsp;</span><span style=\"color: black; background-color: #fff5f0\">&nbsp;user&nbsp;</span></div><div style=\"margin:4px 0;\"><span style=\"color: black; background-color: #fff5f0\">&nbsp;contraloría&nbsp;</span><span style=\"color: black; background-color: #fff5f0\">&nbsp;advirtió&nbsp;</span><span style=\"color: black; background-color: #fff5f0\">&nbsp;que&nbsp;</span><span style=\"color: black; background-color: #fff5f0\">&nbsp;contrato&nbsp;</span><span style=\"color: black; background-color: #fff5f0\">&nbsp;de&nbsp;</span><span style=\"color: black; background-color: #fff5f0\">&nbsp;chinchero&nbsp;</span><span style=\"color: black; background-color: #fff5f0\">&nbsp;era&nbsp;</span><span style=\"color: black; background-color: #fff5f0\">&nbsp;un&nbsp;</span><span style=\"color: black; background-color: #fff5f0\">&nbsp;riesgo&nbsp;</span><span style=\"color: black; background-color: #fff5f0\">&nbsp;.&nbsp;</span><span style=\"color: black; background-color: #fff5f0\">&nbsp;aún&nbsp;</span><span style=\"color: black; background-color: #fff5f0\">&nbsp;así&nbsp;</span><span style=\"color: black; background-color: #fff5f0\">&nbsp;se&nbsp;</span><span style=\"color: black; background-color: #fff5f0\">&nbsp;firmará&nbsp;</span><span style=\"color: black; background-color: #fff5f0\">&nbsp;adenda&nbsp;</span><span style=\"color: black; background-color: #fff5f0\">&nbsp;.&nbsp;</span><span style=\"color: black; background-color: #fff5f0\">&nbsp;<url>&nbsp;</span><span style=\"color: black; background-color: #fff5f0\">&nbsp;vía&nbsp;</span><span style=\"color: black; background-color: #69000d\">&nbsp;user&nbsp;</span></div><div style=\"margin:4px 0;\"><span style=\"color: black; background-color: #fff5f0\">&nbsp;¿&nbsp;</span><span style=\"color: black; background-color: #fff5f0\">&nbsp;quién&nbsp;</span><span style=\"color: black; background-color: #fff5f0\">&nbsp;juega&nbsp;</span><span style=\"color: black; background-color: #fff5f0\">&nbsp;con&nbsp;</span><span style=\"color: black; background-color: #fff5f0\">&nbsp;la&nbsp;</span><span style=\"color: black; background-color: #fff5f0\">&nbsp;salud&nbsp;</span><span style=\"color: black; background-color: #fff5f0\">&nbsp;pública&nbsp;</span><span style=\"color: black; background-color: #fff5f0\">&nbsp;?&nbsp;</span><span style=\"color: black; background-color: #fff5f0\">&nbsp;,&nbsp;</span><span style=\"color: black; background-color: #fff5f0\">&nbsp;por&nbsp;</span><span style=\"color: black; background-color: #fff5f0\">&nbsp;óscar&nbsp;</span><span style=\"color: black; background-color: #feeae1\">&nbsp;ugarte&nbsp;</span><span style=\"color: black; background-color: #fff4ef\">&nbsp;<url>&nbsp;</span><span style=\"color: black; background-color: #fff5f0\">&nbsp;vía&nbsp;</span><span style=\"color: black; background-color: #8e0912\">&nbsp;user&nbsp;</span></div><div style=\"margin:4px 0;\"><span style=\"color: black; background-color: #fff5f0\">&nbsp;¿&nbsp;</span><span style=\"color: black; background-color: #fff5f0\">&nbsp;por&nbsp;</span><span style=\"color: black; background-color: #fff5f0\">&nbsp;qué&nbsp;</span><span style=\"color: black; background-color: #fff2ec\">&nbsp;hay&nbsp;</span><span style=\"color: black; background-color: #fff5f0\">&nbsp;huaicos&nbsp;</span><span style=\"color: black; background-color: #fff3ed\">&nbsp;y&nbsp;</span><span style=\"color: black; background-color: #fff5f0\">&nbsp;lluvias&nbsp;</span><span style=\"color: black; background-color: #fff5f0\">&nbsp;si&nbsp;</span><span style=\"color: black; background-color: #fff5f0\">&nbsp;no&nbsp;</span><span style=\"color: black; background-color: #fff5f0\">&nbsp;tenemos&nbsp;</span><span style=\"color: black; background-color: #fff5f0\">&nbsp;fenómeno&nbsp;</span><span style=\"color: black; background-color: #fff5f0\">&nbsp;el&nbsp;</span><span style=\"color: black; background-color: #fff5f0\">&nbsp;niño&nbsp;</span><span style=\"color: black; background-color: #fff5f0\">&nbsp;?&nbsp;</span><span style=\"color: black; background-color: #fff5f0\">&nbsp;<url>&nbsp;</span><span style=\"color: black; background-color: #fff5f0\">&nbsp;vía&nbsp;</span><span style=\"color: black; background-color: #7a0510\">&nbsp;user&nbsp;</span></div><div style=\"margin:4px 0;\"><span style=\"color: black; background-color: #fff4ee\">&nbsp;está&nbsp;</span><span style=\"color: black; background-color: #d52221\">&nbsp;bien&nbsp;</span><span style=\"color: black; background-color: #fcb398\">&nbsp;que&nbsp;</span><span style=\"color: black; background-color: #fff5f0\">&nbsp;se&nbsp;</span><span style=\"color: black; background-color: #fff5f0\">&nbsp;promuevan&nbsp;</span><span style=\"color: black; background-color: #fff5f0\">&nbsp;acuerdos&nbsp;</span><span style=\"color: black; background-color: #fff5f0\">&nbsp;y&nbsp;</span><span style=\"color: black; background-color: #fff5f0\">&nbsp;menos&nbsp;</span><span style=\"color: black; background-color: #fff5f0\">&nbsp;litigios&nbsp;</span><span style=\"color: black; background-color: #fff5f0\">&nbsp;pero&nbsp;</span><span style=\"color: black; background-color: #fff5f0\">&nbsp;no&nbsp;</span><span style=\"color: black; background-color: #fff5f0\">&nbsp;olvidar&nbsp;</span><span style=\"color: black; background-color: #fff5f0\">&nbsp;que&nbsp;</span><span style=\"color: black; background-color: #fff5f0\">&nbsp;relación&nbsp;</span><span style=\"color: black; background-color: #fff5f0\">&nbsp;es&nbsp;</span><span style=\"color: black; background-color: #fff5f0\">&nbsp;asimétrica&nbsp;</span><span style=\"color: black; background-color: #fff5f0\">&nbsp;en&nbsp;</span><span style=\"color: black; background-color: #fff5f0\">&nbsp;muchos&nbsp;</span><span style=\"color: black; background-color: #fff5f0\">&nbsp;casos&nbsp;</span><span style=\"color: black; background-color: #fff5f0\">&nbsp;.&nbsp;</span><span style=\"color: black; background-color: #fff5f0\">&nbsp;<url>&nbsp;</span></div><div style=\"margin:4px 0;\"><span style=\"color: black; background-color: #fff5f0\">&nbsp;0&nbsp;</span><span style=\"color: black; background-color: #fff5f0\">&nbsp;%&nbsp;</span><span style=\"color: black; background-color: #fff5f0\">&nbsp;ejecución&nbsp;</span><span style=\"color: black; background-color: #fff5f0\">&nbsp;!&nbsp;</span><span style=\"color: black; background-color: #fff5f0\">&nbsp;!&nbsp;</span><span style=\"color: black; background-color: #fff5f0\">&nbsp;!&nbsp;</span><span style=\"color: black; background-color: #fff5f0\">&nbsp;en&nbsp;</span><span style=\"color: black; background-color: #fee8de\">&nbsp;qué&nbsp;</span><span style=\"color: black; background-color: #8c0912\">&nbsp;estaban&nbsp;</span><span style=\"color: black; background-color: #fff5f0\">&nbsp;pensando&nbsp;</span><span style=\"color: black; background-color: #fff5f0\">&nbsp;!&nbsp;</span><span style=\"color: black; background-color: #fff5f0\">&nbsp;!&nbsp;</span><span style=\"color: black; background-color: #fff5f0\">&nbsp;!&nbsp;</span><span style=\"color: black; background-color: #fff5f0\">&nbsp;<url>&nbsp;</span></div><div style=\"margin:4px 0;\"><span style=\"color: black; background-color: #fff2eb\">&nbsp;maria&nbsp;</span><span style=\"color: black; background-color: #fff2ec\">&nbsp;luisa&nbsp;</span><span style=\"color: black; background-color: #fff5f0\">&nbsp;fornara&nbsp;</span><span style=\"color: black; background-color: #fff4ef\">&nbsp;(&nbsp;</span><span style=\"color: black; background-color: #fff5f0\">&nbsp;unicef&nbsp;</span><span style=\"color: black; background-color: #fff5f0\">&nbsp;):&nbsp;</span><span style=\"color: black; background-color: #fff5f0\">&nbsp;los&nbsp;</span><span style=\"color: black; background-color: #fff5f0\">&nbsp;niños&nbsp;</span><span style=\"color: black; background-color: #fff5f0\">&nbsp;deben&nbsp;</span><span style=\"color: black; background-color: #fff5f0\">&nbsp;vivir&nbsp;</span><span style=\"color: black; background-color: #fff5f0\">&nbsp;en&nbsp;</span><span style=\"color: black; background-color: #fff1ea\">&nbsp;familias&nbsp;</span><span style=\"color: black; background-color: #a10e15\">&nbsp;y&nbsp;</span><span style=\"color: black; background-color: #fff5f0\">&nbsp;no&nbsp;</span><span style=\"color: black; background-color: #fff5f0\">&nbsp;en&nbsp;</span><span style=\"color: black; background-color: #ffeee7\">&nbsp;albergues&nbsp;</span><span style=\"color: black; background-color: #fff5f0\">&nbsp;.&nbsp;</span><span style=\"color: black; background-color: #fff5f0\">&nbsp;<url>&nbsp;</span></div><div style=\"margin:4px 0;\"><span style=\"color: black; background-color: #fff4ef\">&nbsp;comparto&nbsp;</span><span style=\"color: black; background-color: #fff5f0\">&nbsp;con&nbsp;</span><span style=\"color: black; background-color: #fff5f0\">&nbsp;ustedes&nbsp;</span><span style=\"color: black; background-color: #fff5f0\">&nbsp;una&nbsp;</span><span style=\"color: black; background-color: #fff5f0\">&nbsp;nueva&nbsp;</span><span style=\"color: black; background-color: #fff5f0\">&nbsp;edición&nbsp;</span><span style=\"color: black; background-color: #71020e\">&nbsp;de&nbsp;</span><span style=\"color: black; background-color: #fff2ec\">&nbsp;mi&nbsp;</span><span style=\"color: black; background-color: #fff5f0\">&nbsp;periódico&nbsp;</span><span style=\"color: black; background-color: #fff5f0\">&nbsp;digital&nbsp;</span><span style=\"color: black; background-color: #fff5f0\">&nbsp;\"&nbsp;</span><span style=\"color: black; background-color: #fff5f0\">&nbsp;intriga&nbsp;</span><span style=\"color: black; background-color: #fff5f0\">&nbsp;personal&nbsp;</span><span style=\"color: black; background-color: #fff5f0\">&nbsp;\"&nbsp;</span><span style=\"color: black; background-color: #fff5f0\">&nbsp;.&nbsp;</span><span style=\"color: black; background-color: #fff5f0\">&nbsp;está&nbsp;</span><span style=\"color: black; background-color: #fff5f0\">&nbsp;disponible&nbsp;</span><span style=\"color: black; background-color: #fff5f0\">&nbsp;aquí&nbsp;</span><span style=\"color: black; background-color: #fff5f0\">&nbsp;:&nbsp;</span><span style=\"color: black; background-color: #fff5f0\">&nbsp;<url>&nbsp;</span></div><div style=\"margin:4px 0;\"><span style=\"color: black; background-color: #fff5f0\">&nbsp;¡&nbsp;</span><span style=\"color: black; background-color: #6b010e\">&nbsp;tu&nbsp;</span><span style=\"color: black; background-color: #fff4ef\">&nbsp;proyecto&nbsp;</span><span style=\"color: black; background-color: #fff5f0\">&nbsp;se&nbsp;</span><span style=\"color: black; background-color: #fff5f0\">&nbsp;pudrió&nbsp;</span><span style=\"color: black; background-color: #fff5f0\">&nbsp;,&nbsp;</span><span style=\"color: black; background-color: #fff5f0\">&nbsp;tecnócrata&nbsp;</span><span style=\"color: black; background-color: #fff5f0\">&nbsp;!&nbsp;</span><span style=\"color: black; background-color: #fff5f0\">&nbsp;,&nbsp;</span><span style=\"color: black; background-color: #fff5f0\">&nbsp;por&nbsp;</span><span style=\"color: black; background-color: #fff5f0\">&nbsp;fernando&nbsp;</span><span style=\"color: black; background-color: #fff5f0\">&nbsp;vivas&nbsp;</span><span style=\"color: black; background-color: #fff5f0\">&nbsp;<url>&nbsp;</span><span style=\"color: black; background-color: #fff5f0\">&nbsp;vía&nbsp;</span><span style=\"color: black; background-color: #fff5f0\">&nbsp;user&nbsp;</span></div><div style=\"margin:4px 0;\"><span style=\"color: black; background-color: #fff5f0\">&nbsp;mirada&nbsp;</span><span style=\"color: black; background-color: #fff5f0\">&nbsp;optimista&nbsp;</span><span style=\"color: black; background-color: #fff5f0\">&nbsp;sobre&nbsp;</span><span style=\"color: black; background-color: #fff5f0\">&nbsp;el&nbsp;</span><span style=\"color: black; background-color: #fff5f0\">&nbsp;proceso&nbsp;</span><span style=\"color: black; background-color: #fff5f0\">&nbsp;de&nbsp;</span><span style=\"color: black; background-color: #fff5f0\">&nbsp;paz&nbsp;</span><span style=\"color: black; background-color: #67000d\">&nbsp;colombiano&nbsp;</span><span style=\"color: black; background-color: #fff5f0\">&nbsp;.&nbsp;</span><span style=\"color: black; background-color: #fff5f0\">&nbsp;<url>&nbsp;</span><span style=\"color: black; background-color: #fff5f0\">&nbsp;vía&nbsp;</span><span style=\"color: black; background-color: #fff5f0\">&nbsp;user&nbsp;</span></div><div style=\"margin:4px 0;\"><span style=\"color: black; background-color: #fff5f0\">&nbsp;interesante&nbsp;</span><span style=\"color: black; background-color: #fff0e9\">&nbsp;artículo&nbsp;</span><span style=\"color: black; background-color: #fff5f0\">&nbsp;de&nbsp;</span><span style=\"color: black; background-color: #fff2eb\">&nbsp;rosana&nbsp;</span><span style=\"color: black; background-color: #fff5f0\">&nbsp;cueva&nbsp;</span><span style=\"color: black; background-color: #fff5f0\">&nbsp;:&nbsp;</span><span style=\"color: black; background-color: #fff5f0\">&nbsp;alguien&nbsp;</span><span style=\"color: black; background-color: #fff5f0\">&nbsp;debe&nbsp;</span><span style=\"color: black; background-color: #fff5f0\">&nbsp;personificar&nbsp;</span><span style=\"color: black; background-color: #fff5f0\">&nbsp;la&nbsp;</span><span style=\"color: black; background-color: #fff5f0\">&nbsp;lucha&nbsp;</span><span style=\"color: black; background-color: #fff5f0\">&nbsp;anticorrupción&nbsp;</span><span style=\"color: black; background-color: #fff4ef\">&nbsp;pero&nbsp;</span><span style=\"color: black; background-color: #fff5f0\">&nbsp;no&nbsp;</span><span style=\"color: black; background-color: #fff5f0\">&nbsp;se&nbsp;</span><span style=\"color: black; background-color: #860811\">&nbsp;ve&nbsp;</span><span style=\"color: black; background-color: #fff5f0\">&nbsp;a&nbsp;</span><span style=\"color: black; background-color: #fff5f0\">&nbsp;nadie&nbsp;</span><span style=\"color: black; background-color: #fff5f0\">&nbsp;.&nbsp;</span><span style=\"color: black; background-color: #fff5f0\">&nbsp;<url>&nbsp;</span></div><div style=\"margin:4px 0;\"><span style=\"color: black; background-color: #fff5f0\">&nbsp;aunque&nbsp;</span><span style=\"color: black; background-color: #fff5f0\">&nbsp;lean&nbsp;</span><span style=\"color: black; background-color: #fff5f0\">&nbsp;,&nbsp;</span><span style=\"color: black; background-color: #fff5f0\">&nbsp;no&nbsp;</span><span style=\"color: black; background-color: #fff5f0\">&nbsp;entederán&nbsp;</span><span style=\"color: black; background-color: #fff5f0\">&nbsp;.&nbsp;</span><span style=\"color: black; background-color: #fff5f0\">&nbsp;así&nbsp;</span><span style=\"color: black; background-color: #fff5f0\">&nbsp;funcionan&nbsp;</span><span style=\"color: black; background-color: #fff5f0\">&nbsp;los&nbsp;</span><span style=\"color: black; background-color: #fff5f0\">&nbsp;prejuicios&nbsp;</span><span style=\"color: black; background-color: #fff5f0\">&nbsp;(&nbsp;</span><span style=\"color: black; background-color: #fff5f0\">&nbsp;pre-juicios&nbsp;</span><span style=\"color: black; background-color: #fff5f0\">&nbsp;)&nbsp;</span><span style=\"color: black; background-color: #fff5f0\">&nbsp;<url>&nbsp;</span><span style=\"color: black; background-color: #fff5f0\">&nbsp;vía&nbsp;</span><span style=\"color: black; background-color: #67000d\">&nbsp;user&nbsp;</span></div><div style=\"margin:4px 0;\"><span style=\"color: black; background-color: #fff5f0\">&nbsp;¿&nbsp;</span><span style=\"color: black; background-color: #fff5f0\">&nbsp;y&nbsp;</span><span style=\"color: black; background-color: #fff5f0\">&nbsp;todo&nbsp;</span><span style=\"color: black; background-color: #fff5f0\">&nbsp;el&nbsp;</span><span style=\"color: black; background-color: #fff5f0\">&nbsp;proceso&nbsp;</span><span style=\"color: black; background-color: #fff5f0\">&nbsp;de&nbsp;</span><span style=\"color: black; background-color: #fff5f0\">&nbsp;transferencia&nbsp;</span><span style=\"color: black; background-color: #fff5f0\">&nbsp;?&nbsp;</span><span style=\"color: black; background-color: #fff5f0\">&nbsp;¿&nbsp;</span><span style=\"color: black; background-color: #fff5f0\">&nbsp;en&nbsp;</span><span style=\"color: black; background-color: #fff5f0\">&nbsp;que&nbsp;</span><span style=\"color: black; background-color: #fff5f0\">&nbsp;quedará&nbsp;</span><span style=\"color: black; background-color: #fff5f0\">&nbsp;?&nbsp;</span><span style=\"color: black; background-color: #fff5f0\">&nbsp;el&nbsp;</span><span style=\"color: black; background-color: #fff5f0\">&nbsp;daño&nbsp;</span><span style=\"color: black; background-color: #fff5f0\">&nbsp;ya&nbsp;</span><span style=\"color: black; background-color: #fff5f0\">&nbsp;está&nbsp;</span><span style=\"color: black; background-color: #7a0510\">&nbsp;hecho&nbsp;</span><span style=\"color: black; background-color: #fff5f0\">&nbsp;...&nbsp;</span><span style=\"color: black; background-color: #fff5f0\">&nbsp;<url>&nbsp;</span><span style=\"color: black; background-color: #fff5f0\">&nbsp;vía&nbsp;</span><span style=\"color: black; background-color: #ffeee7\">&nbsp;user&nbsp;</span></div><div style=\"margin:4px 0;\"><span style=\"color: black; background-color: #fff5f0\">&nbsp;otro&nbsp;</span><span style=\"color: black; background-color: #fff5f0\">&nbsp;conflicto&nbsp;</span><span style=\"color: black; background-color: #fff5f0\">&nbsp;más&nbsp;</span><span style=\"color: black; background-color: #fff5f0\">&nbsp;...&nbsp;</span><span style=\"color: black; background-color: #fff5f0\">&nbsp;esperemos&nbsp;</span><span style=\"color: black; background-color: #fff5f0\">&nbsp;que&nbsp;</span><span style=\"color: black; background-color: #fff5f0\">&nbsp;no&nbsp;</span><span style=\"color: black; background-color: #fff5f0\">&nbsp;se&nbsp;</span><span style=\"color: black; background-color: #fff5f0\">&nbsp;vaya&nbsp;</span><span style=\"color: black; background-color: #fff5f0\">&nbsp;de&nbsp;</span><span style=\"color: black; background-color: #fff5f0\">&nbsp;las&nbsp;</span><span style=\"color: black; background-color: #fff5f0\">&nbsp;manos&nbsp;</span><span style=\"color: black; background-color: #fff5f0\">&nbsp;.&nbsp;</span><span style=\"color: black; background-color: #fff5f0\">&nbsp;<url>&nbsp;</span><span style=\"color: black; background-color: #fff5f0\">&nbsp;vía&nbsp;</span><span style=\"color: black; background-color: #69000d\">&nbsp;user&nbsp;</span></div><div style=\"margin:4px 0;\"><span style=\"color: black; background-color: #fff5f0\">&nbsp;¿&nbsp;</span><span style=\"color: black; background-color: #fff5f0\">&nbsp;debemos&nbsp;</span><span style=\"color: black; background-color: #fff5f0\">&nbsp;esperar&nbsp;</span><span style=\"color: black; background-color: #fff5f0\">&nbsp;mayor&nbsp;</span><span style=\"color: black; background-color: #fff5f0\">&nbsp;indignación&nbsp;</span><span style=\"color: black; background-color: #fff5f0\">&nbsp;ciudadana&nbsp;</span><span style=\"color: black; background-color: #fff5f0\">&nbsp;por&nbsp;</span><span style=\"color: black; background-color: #fff5f0\">&nbsp;la&nbsp;</span><span style=\"color: black; background-color: #fff5f0\">&nbsp;corrupción&nbsp;</span><span style=\"color: black; background-color: #fff5f0\">&nbsp;?&nbsp;</span><span style=\"color: black; background-color: #fff5f0\">&nbsp;lean&nbsp;</span><span style=\"color: black; background-color: #fff5f0\">&nbsp;a&nbsp;</span><span style=\"color: black; background-color: #fff5f0\">&nbsp;mirko&nbsp;</span><span style=\"color: black; background-color: #fff5f0\">&nbsp;lauer&nbsp;</span><span style=\"color: black; background-color: #fff5f0\">&nbsp;.&nbsp;</span><span style=\"color: black; background-color: #fff5f0\">&nbsp;<url>&nbsp;</span><span style=\"color: black; background-color: #fff5f0\">&nbsp;vía&nbsp;</span><span style=\"color: black; background-color: #69000d\">&nbsp;user&nbsp;</span></div><div style=\"margin:4px 0;\"><span style=\"color: black; background-color: #fff5f0\">&nbsp;peajes&nbsp;</span><span style=\"color: black; background-color: #fff5f0\">&nbsp;y&nbsp;</span><span style=\"color: black; background-color: #ea362a\">&nbsp;sentido&nbsp;</span><span style=\"color: black; background-color: #fff5f0\">&nbsp;común&nbsp;</span><span style=\"color: black; background-color: #fff5f0\">&nbsp;:&nbsp;</span><span style=\"color: black; background-color: #fff5f0\">&nbsp;no&nbsp;</span><span style=\"color: black; background-color: #fff5f0\">&nbsp;poner&nbsp;</span><span style=\"color: black; background-color: #fff5f0\">&nbsp;peajes&nbsp;</span><span style=\"color: black; background-color: #fff5f0\">&nbsp;sin&nbsp;</span><span style=\"color: black; background-color: #fff5f0\">&nbsp;mejoras&nbsp;</span><span style=\"color: black; background-color: #fff5f0\">&nbsp;percibidad&nbsp;</span><span style=\"color: black; background-color: #fff5f0\">&nbsp;por&nbsp;</span><span style=\"color: black; background-color: #fff5f0\">&nbsp;la&nbsp;</span><span style=\"color: black; background-color: #fff5f0\">&nbsp;población&nbsp;</span><span style=\"color: black; background-color: #fff5f0\">&nbsp;.&nbsp;</span><span style=\"color: black; background-color: #fff5f0\">&nbsp;<url>&nbsp;</span><span style=\"color: black; background-color: #fff5f0\">&nbsp;vía&nbsp;</span><span style=\"color: black; background-color: #fc997a\">&nbsp;user&nbsp;</span></div><div style=\"margin:4px 0;\"><span style=\"color: black; background-color: #fff5f0\">&nbsp;continua&nbsp;</span><span style=\"color: black; background-color: #fff5f0\">&nbsp;debate&nbsp;</span><span style=\"color: black; background-color: #fff5f0\">&nbsp;entre&nbsp;</span><span style=\"color: black; background-color: #fff5f0\">&nbsp;bullard&nbsp;</span><span style=\"color: black; background-color: #fff5f0\">&nbsp;y&nbsp;</span><span style=\"color: black; background-color: #fff5f0\">&nbsp;defilipi&nbsp;</span><span style=\"color: black; background-color: #fff5f0\">&nbsp;.&nbsp;</span><span style=\"color: black; background-color: #fff5f0\">&nbsp;el&nbsp;</span><span style=\"color: black; background-color: #fff4ef\">&nbsp;tema&nbsp;</span><span style=\"color: black; background-color: #fff5f0\">&nbsp;de&nbsp;</span><span style=\"color: black; background-color: #fff5f0\">&nbsp;fondo&nbsp;</span><span style=\"color: black; background-color: #fff5f0\">&nbsp;:&nbsp;</span><span style=\"color: black; background-color: #fff5f0\">&nbsp;lo&nbsp;</span><span style=\"color: black; background-color: #fff5f0\">&nbsp;público&nbsp;</span><span style=\"color: black; background-color: #fff5f0\">&nbsp;y&nbsp;</span><span style=\"color: black; background-color: #fff5f0\">&nbsp;qué&nbsp;</span><span style=\"color: black; background-color: #fff5f0\">&nbsp;cargar&nbsp;</span><span style=\"color: black; background-color: #fff5f0\">&nbsp;al&nbsp;</span><span style=\"color: black; background-color: #fc8060\">&nbsp;ciudadano&nbsp;</span><span style=\"color: black; background-color: #fff5f0\">&nbsp;.&nbsp;</span><span style=\"color: black; background-color: #fff5f0\">&nbsp;<url>&nbsp;</span><span style=\"color: black; background-color: #fff5f0\">&nbsp;vía&nbsp;</span><span style=\"color: black; background-color: #f5533b\">&nbsp;user&nbsp;</span></div><div style=\"margin:4px 0;\"><span style=\"color: black; background-color: #c3161b\">&nbsp;hay&nbsp;</span><span style=\"color: black; background-color: #fdd0bc\">&nbsp;que&nbsp;</span><span style=\"color: black; background-color: #fff5f0\">&nbsp;preguntar&nbsp;</span><span style=\"color: black; background-color: #fff5f0\">&nbsp;siempre&nbsp;</span><span style=\"color: black; background-color: #ffeee7\">&nbsp;por&nbsp;</span><span style=\"color: black; background-color: #fff5f0\">&nbsp;el&nbsp;</span><span style=\"color: black; background-color: #fff5f0\">&nbsp;genérico&nbsp;</span><span style=\"color: black; background-color: #fff5f0\">&nbsp;...&nbsp;</span><span style=\"color: black; background-color: #fff5f0\">&nbsp;<url>&nbsp;</span></div><div style=\"margin:4px 0;\"><span style=\"color: black; background-color: #fff5f0\">&nbsp;88&nbsp;</span><span style=\"color: black; background-color: #fff5f0\">&nbsp;%&nbsp;</span><span style=\"color: black; background-color: #fff5f0\">&nbsp;de&nbsp;</span><span style=\"color: black; background-color: #fff5f0\">&nbsp;trabajos&nbsp;</span><span style=\"color: black; background-color: #fff5f0\">&nbsp;industriales&nbsp;</span><span style=\"color: black; background-color: #fff5f0\">&nbsp;perdidos&nbsp;</span><span style=\"color: black; background-color: #fff5f0\">&nbsp;en&nbsp;</span><span style=\"color: black; background-color: #fff5f0\">&nbsp;los&nbsp;</span><span style=\"color: black; background-color: #fff5f0\">&nbsp;ee.uu&nbsp;</span><span style=\"color: black; background-color: #fff5f0\">&nbsp;.&nbsp;</span><span style=\"color: black; background-color: #fff5f0\">&nbsp;no&nbsp;</span><span style=\"color: black; background-color: #fff5f0\">&nbsp;se&nbsp;</span><span style=\"color: black; background-color: #fff5f0\">&nbsp;debe&nbsp;</span><span style=\"color: black; background-color: #fff5f0\">&nbsp;a&nbsp;</span><span style=\"color: black; background-color: #fff5f0\">&nbsp;que&nbsp;</span><span style=\"color: black; background-color: #fff5f0\">&nbsp;fueron&nbsp;</span><span style=\"color: black; background-color: #fff5f0\">&nbsp;a&nbsp;</span><span style=\"color: black; background-color: #67000d\">&nbsp;méxico&nbsp;</span><span style=\"color: black; background-color: #fff5f0\">&nbsp;sino&nbsp;</span><span style=\"color: black; background-color: #fff5f0\">&nbsp;por&nbsp;</span><span style=\"color: black; background-color: #fff5f0\">&nbsp;cambio&nbsp;</span><span style=\"color: black; background-color: #fff5f0\">&nbsp;tecnológico&nbsp;</span><span style=\"color: black; background-color: #fff5f0\">&nbsp;.&nbsp;</span><span style=\"color: black; background-color: #fff5f0\">&nbsp;<url>&nbsp;</span></div><div style=\"margin:4px 0;\"><span style=\"color: black; background-color: #fdd3c1\">&nbsp;esperamos&nbsp;</span><span style=\"color: black; background-color: #ef3c2c\">&nbsp;,&nbsp;</span><span style=\"color: black; background-color: #fff1ea\">&nbsp;como&nbsp;</span><span style=\"color: black; background-color: #fff5f0\">&nbsp;señala&nbsp;</span><span style=\"color: black; background-color: #fff5f0\">&nbsp;ja&nbsp;</span><span style=\"color: black; background-color: #fff5f0\">&nbsp;hernández&nbsp;</span><span style=\"color: black; background-color: #fff5f0\">&nbsp;,&nbsp;</span><span style=\"color: black; background-color: #fff0e8\">&nbsp;que&nbsp;</span><span style=\"color: black; background-color: #fff5f0\">&nbsp;el&nbsp;</span><span style=\"color: black; background-color: #fff4ef\">&nbsp;minedu&nbsp;</span><span style=\"color: black; background-color: #fee3d6\">&nbsp;no&nbsp;</span><span style=\"color: black; background-color: #fff5f0\">&nbsp;ceda&nbsp;</span><span style=\"color: black; background-color: #fff5f0\">&nbsp;en&nbsp;</span><span style=\"color: black; background-color: #fff5f0\">&nbsp;defender&nbsp;</span><span style=\"color: black; background-color: #fff5f0\">&nbsp;un&nbsp;</span><span style=\"color: black; background-color: #fff5f0\">&nbsp;currículo&nbsp;</span><span style=\"color: black; background-color: #fff5f0\">&nbsp;que&nbsp;</span><span style=\"color: black; background-color: #fff5f0\">&nbsp;impulsa&nbsp;</span><span style=\"color: black; background-color: #fff5f0\">&nbsp;la&nbsp;</span><span style=\"color: black; background-color: #fff5f0\">&nbsp;equidad&nbsp;</span><span style=\"color: black; background-color: #fff1ea\">&nbsp;de&nbsp;</span><span style=\"color: black; background-color: #fff5f0\">&nbsp;género&nbsp;</span><span style=\"color: black; background-color: #fff5f0\">&nbsp;.&nbsp;</span><span style=\"color: black; background-color: #fff5f0\">&nbsp;<url>&nbsp;</span></div><div style=\"margin:4px 0;\"><span style=\"color: black; background-color: #fff5f0\">&nbsp;experiencia&nbsp;</span><span style=\"color: black; background-color: #fff5f0\">&nbsp;interesante&nbsp;</span><span style=\"color: black; background-color: #fff5f0\">&nbsp;en&nbsp;</span><span style=\"color: black; background-color: #fee5d8\">&nbsp;portland&nbsp;</span><span style=\"color: black; background-color: #ffeee6\">&nbsp;,&nbsp;</span><span style=\"color: black; background-color: #fff2ec\">&nbsp;ee.uu&nbsp;</span><span style=\"color: black; background-color: #fff1ea\">&nbsp;.&nbsp;</span><span style=\"color: black; background-color: #fff4ef\">&nbsp;para&nbsp;</span><span style=\"color: black; background-color: #fff5f0\">&nbsp;involucrar&nbsp;</span><span style=\"color: black; background-color: #fff5f0\">&nbsp;a&nbsp;</span><span style=\"color: black; background-color: #fff5f0\">&nbsp;los&nbsp;</span><span style=\"color: black; background-color: #fff5f0\">&nbsp;estudiantes&nbsp;</span><span style=\"color: black; background-color: #fff5f0\">&nbsp;en&nbsp;</span><span style=\"color: black; background-color: #fff5f0\">&nbsp;el&nbsp;</span><span style=\"color: black; background-color: #fff5f0\">&nbsp;estudio&nbsp;</span><span style=\"color: black; background-color: #fff5f0\">&nbsp;de&nbsp;</span><span style=\"color: black; background-color: #fff5f0\">&nbsp;los&nbsp;</span><span style=\"color: black; background-color: #fff5f0\">&nbsp;temas&nbsp;</span><span style=\"color: black; background-color: #bc141a\">&nbsp;de&nbsp;</span><span style=\"color: black; background-color: #fff5f0\">&nbsp;la&nbsp;</span><span style=\"color: black; background-color: #fff4ef\">&nbsp;comun&nbsp;</span><span style=\"color: black; background-color: #fff5f0\">&nbsp;…&nbsp;</span><span style=\"color: black; background-color: #fff5f0\">&nbsp;<url>&nbsp;</span></div><div style=\"margin:4px 0;\"><span style=\"color: black; background-color: #fff5f0\">&nbsp;trabajando&nbsp;</span><span style=\"color: black; background-color: #fff5f0\">&nbsp;el&nbsp;</span><span style=\"color: black; background-color: #fcb79c\">&nbsp;enfoque&nbsp;</span><span style=\"color: black; background-color: #fb7c5c\">&nbsp;de&nbsp;</span><span style=\"color: black; background-color: #fcbda4\">&nbsp;género&nbsp;</span><span style=\"color: black; background-color: #ffeee6\">&nbsp;desde&nbsp;</span><span style=\"color: black; background-color: #fff4ef\">&nbsp;pequeños&nbsp;</span><span style=\"color: black; background-color: #fff5f0\">&nbsp;podemos&nbsp;</span><span style=\"color: black; background-color: #fff5f0\">&nbsp;impulsar&nbsp;</span><span style=\"color: black; background-color: #fff5f0\">&nbsp;relaciones&nbsp;</span><span style=\"color: black; background-color: #fff5f0\">&nbsp;y&nbsp;</span><span style=\"color: black; background-color: #fff5f0\">&nbsp;formas&nbsp;</span><span style=\"color: black; background-color: #fff5f0\">&nbsp;de&nbsp;</span><span style=\"color: black; background-color: #fff5f0\">&nbsp;conducta&nbsp;</span><span style=\"color: black; background-color: #fff5f0\">&nbsp;más&nbsp;</span><span style=\"color: black; background-color: #fff5f0\">&nbsp;equitativas&nbsp;</span><span style=\"color: black; background-color: #fff5f0\">&nbsp;.&nbsp;</span><span style=\"color: black; background-color: #fff5f0\">&nbsp;<url>&nbsp;</span></div><div style=\"margin:4px 0;\"><span style=\"color: black; background-color: #fff5f0\">&nbsp;user&nbsp;</span><span style=\"color: black; background-color: #fff5f0\">&nbsp;espero&nbsp;</span><span style=\"color: black; background-color: #fff5f0\">&nbsp;que&nbsp;</span><span style=\"color: black; background-color: #fff5f0\">&nbsp;tus&nbsp;</span><span style=\"color: black; background-color: #fff5f0\">&nbsp;predicciones&nbsp;</span><span style=\"color: black; background-color: #fff5f0\">&nbsp;no&nbsp;</span><span style=\"color: black; background-color: #fff5f0\">&nbsp;se&nbsp;</span><span style=\"color: black; background-color: #fff5f0\">&nbsp;cumplan&nbsp;</span><span style=\"color: black; background-color: #fff5f0\">&nbsp;,&nbsp;</span><span style=\"color: black; background-color: #fff5f0\">&nbsp;por&nbsp;</span><span style=\"color: black; background-color: #fff5f0\">&nbsp;el&nbsp;</span><span style=\"color: black; background-color: #fff5f0\">&nbsp;bien&nbsp;</span><span style=\"color: black; background-color: #fff5f0\">&nbsp;del&nbsp;</span><span style=\"color: black; background-color: #67000d\">&nbsp;país&nbsp;</span><span style=\"color: black; background-color: #fff5f0\">&nbsp;.&nbsp;</span><span style=\"color: black; background-color: #fff5f0\">&nbsp;pero&nbsp;</span><span style=\"color: black; background-color: #fff5f0\">&nbsp;esto&nbsp;</span><span style=\"color: black; background-color: #fff5f0\">&nbsp;es&nbsp;</span><span style=\"color: black; background-color: #fff5f0\">&nbsp;como&nbsp;</span><span style=\"color: black; background-color: #fff5f0\">&nbsp;los&nbsp;</span><span style=\"color: black; background-color: #fff5f0\">&nbsp;huaicos&nbsp;</span><span style=\"color: black; background-color: #fff5f0\">&nbsp;...&nbsp;</span></div><div style=\"margin:4px 0;\"><span style=\"color: black; background-color: #fff5f0\">&nbsp;esperemos&nbsp;</span><span style=\"color: black; background-color: #ffeee6\">&nbsp;que&nbsp;</span><span style=\"color: black; background-color: #fff5f0\">&nbsp;las&nbsp;</span><span style=\"color: black; background-color: #fff5f0\">&nbsp;quebradas&nbsp;</span><span style=\"color: black; background-color: #fff5f0\">&nbsp;aguanten&nbsp;</span><span style=\"color: black; background-color: #840711\">&nbsp;y&nbsp;</span><span style=\"color: black; background-color: #fff5f0\">&nbsp;no&nbsp;</span><span style=\"color: black; background-color: #fff5f0\">&nbsp;haya&nbsp;</span><span style=\"color: black; background-color: #fff5f0\">&nbsp;más&nbsp;</span><span style=\"color: black; background-color: #fff5f0\">&nbsp;huaycos&nbsp;</span><span style=\"color: black; background-color: #fff4ef\">&nbsp;...&nbsp;</span><span style=\"color: black; background-color: #fff4ee\">&nbsp;<url>&nbsp;</span></div><div style=\"margin:4px 0;\"><span style=\"color: black; background-color: #fb7151\">&nbsp;tremendo&nbsp;</span><span style=\"color: black; background-color: #fff5f0\">&nbsp;análisis&nbsp;</span><span style=\"color: black; background-color: #fff5f0\">&nbsp;de&nbsp;</span><span style=\"color: black; background-color: #f96245\">&nbsp;user&nbsp;</span><span style=\"color: black; background-color: #fff5f0\">&nbsp;.&nbsp;</span><span style=\"color: black; background-color: #fff5f0\">&nbsp;¿&nbsp;</span><span style=\"color: black; background-color: #fff5f0\">&nbsp;problema&nbsp;</span><span style=\"color: black; background-color: #fff5f0\">&nbsp;de&nbsp;</span><span style=\"color: black; background-color: #fff5f0\">&nbsp;asesores&nbsp;</span><span style=\"color: black; background-color: #fff5f0\">&nbsp;?&nbsp;</span><span style=\"color: black; background-color: #fff5f0\">&nbsp;¿&nbsp;</span><span style=\"color: black; background-color: #fff5f0\">&nbsp;o&nbsp;</span><span style=\"color: black; background-color: #fff5f0\">&nbsp;es&nbsp;</span><span style=\"color: black; background-color: #fff5f0\">&nbsp;que&nbsp;</span><span style=\"color: black; background-color: #fff5f0\">&nbsp;el&nbsp;</span><span style=\"color: black; background-color: #fff5f0\">&nbsp;propio&nbsp;</span><span style=\"color: black; background-color: #fff5f0\">&nbsp;ppk&nbsp;</span><span style=\"color: black; background-color: #fff5f0\">&nbsp;no&nbsp;</span><span style=\"color: black; background-color: #fff5f0\">&nbsp;entiende&nbsp;</span><span style=\"color: black; background-color: #fff5f0\">&nbsp;la&nbsp;</span><span style=\"color: black; background-color: #fff5f0\">&nbsp;magnitud&nbsp;</span><span style=\"color: black; background-color: #fff5f0\">&nbsp;del&nbsp;</span><span style=\"color: black; background-color: #fff5f0\">&nbsp;drama&nbsp;</span><span style=\"color: black; background-color: #fff5f0\">&nbsp;?&nbsp;</span><span style=\"color: black; background-color: #fff5f0\">&nbsp;<url>&nbsp;</span></div><div style=\"margin:4px 0;\"><span style=\"color: black; background-color: #fff4ef\">&nbsp;comparto&nbsp;</span><span style=\"color: black; background-color: #fff5f0\">&nbsp;con&nbsp;</span><span style=\"color: black; background-color: #fff5f0\">&nbsp;ustedes&nbsp;</span><span style=\"color: black; background-color: #fff5f0\">&nbsp;una&nbsp;</span><span style=\"color: black; background-color: #fff5f0\">&nbsp;nueva&nbsp;</span><span style=\"color: black; background-color: #fff5f0\">&nbsp;edición&nbsp;</span><span style=\"color: black; background-color: #71020e\">&nbsp;de&nbsp;</span><span style=\"color: black; background-color: #fff2ec\">&nbsp;mi&nbsp;</span><span style=\"color: black; background-color: #fff5f0\">&nbsp;periódico&nbsp;</span><span style=\"color: black; background-color: #fff5f0\">&nbsp;digital&nbsp;</span><span style=\"color: black; background-color: #fff5f0\">&nbsp;\"&nbsp;</span><span style=\"color: black; background-color: #fff5f0\">&nbsp;intriga&nbsp;</span><span style=\"color: black; background-color: #fff5f0\">&nbsp;personal&nbsp;</span><span style=\"color: black; background-color: #fff5f0\">&nbsp;\"&nbsp;</span><span style=\"color: black; background-color: #fff5f0\">&nbsp;.&nbsp;</span><span style=\"color: black; background-color: #fff5f0\">&nbsp;está&nbsp;</span><span style=\"color: black; background-color: #fff5f0\">&nbsp;disponible&nbsp;</span><span style=\"color: black; background-color: #fff5f0\">&nbsp;aquí&nbsp;</span><span style=\"color: black; background-color: #fff5f0\">&nbsp;:&nbsp;</span><span style=\"color: black; background-color: #fff5f0\">&nbsp;<url>&nbsp;</span><span style=\"color: black; background-color: #fff5f0\">&nbsp;#sunedu&nbsp;</span></div><div style=\"margin:4px 0;\"><span style=\"color: black; background-color: #6d010e\">&nbsp;user&nbsp;</span><span style=\"color: black; background-color: #fff5f0\">&nbsp;si&nbsp;</span><span style=\"color: black; background-color: #fff5f0\">&nbsp;la&nbsp;</span><span style=\"color: black; background-color: #fff5f0\">&nbsp;ministra&nbsp;</span><span style=\"color: black; background-color: #fff5f0\">&nbsp;tiene&nbsp;</span><span style=\"color: black; background-color: #fff5f0\">&nbsp;que&nbsp;</span><span style=\"color: black; background-color: #fff5f0\">&nbsp;visitar&nbsp;</span><span style=\"color: black; background-color: #fff5f0\">&nbsp;hospitales&nbsp;</span><span style=\"color: black; background-color: #fff5f0\">&nbsp;\"&nbsp;</span><span style=\"color: black; background-color: #fff5f0\">&nbsp;para&nbsp;</span><span style=\"color: black; background-color: #fff5f0\">&nbsp;que&nbsp;</span><span style=\"color: black; background-color: #fff5f0\">&nbsp;las&nbsp;</span><span style=\"color: black; background-color: #fff5f0\">&nbsp;cosas&nbsp;</span><span style=\"color: black; background-color: #fff5f0\">&nbsp;comiencen&nbsp;</span><span style=\"color: black; background-color: #fff5f0\">&nbsp;a&nbsp;</span><span style=\"color: black; background-color: #fff5f0\">&nbsp;funcionar&nbsp;</span><span style=\"color: black; background-color: #fff5f0\">&nbsp;\"&nbsp;</span><span style=\"color: black; background-color: #fff4ef\">&nbsp;estamos&nbsp;</span><span style=\"color: black; background-color: #fff4ee\">&nbsp;graves&nbsp;</span><span style=\"color: black; background-color: #fff5f0\">&nbsp;.&nbsp;</span></div><div style=\"margin:4px 0;\"><span style=\"color: black; background-color: #fff4ef\">&nbsp;comparto&nbsp;</span><span style=\"color: black; background-color: #fff5f0\">&nbsp;con&nbsp;</span><span style=\"color: black; background-color: #fff5f0\">&nbsp;ustedes&nbsp;</span><span style=\"color: black; background-color: #fff5f0\">&nbsp;una&nbsp;</span><span style=\"color: black; background-color: #fff5f0\">&nbsp;nueva&nbsp;</span><span style=\"color: black; background-color: #fff5f0\">&nbsp;edición&nbsp;</span><span style=\"color: black; background-color: #71020e\">&nbsp;de&nbsp;</span><span style=\"color: black; background-color: #fff2ec\">&nbsp;mi&nbsp;</span><span style=\"color: black; background-color: #fff5f0\">&nbsp;periódico&nbsp;</span><span style=\"color: black; background-color: #fff5f0\">&nbsp;digital&nbsp;</span><span style=\"color: black; background-color: #fff5f0\">&nbsp;\"&nbsp;</span><span style=\"color: black; background-color: #fff5f0\">&nbsp;intriga&nbsp;</span><span style=\"color: black; background-color: #fff5f0\">&nbsp;personal&nbsp;</span><span style=\"color: black; background-color: #fff5f0\">&nbsp;\"&nbsp;</span><span style=\"color: black; background-color: #fff5f0\">&nbsp;.&nbsp;</span><span style=\"color: black; background-color: #fff5f0\">&nbsp;está&nbsp;</span><span style=\"color: black; background-color: #fff5f0\">&nbsp;disponible&nbsp;</span><span style=\"color: black; background-color: #fff5f0\">&nbsp;aquí&nbsp;</span><span style=\"color: black; background-color: #fff5f0\">&nbsp;:&nbsp;</span><span style=\"color: black; background-color: #fff5f0\">&nbsp;<url>&nbsp;</span></div><div style=\"margin:4px 0;\"><span style=\"color: black; background-color: #fff4ef\">&nbsp;comparto&nbsp;</span><span style=\"color: black; background-color: #fff5f0\">&nbsp;con&nbsp;</span><span style=\"color: black; background-color: #fff5f0\">&nbsp;ustedes&nbsp;</span><span style=\"color: black; background-color: #fff5f0\">&nbsp;una&nbsp;</span><span style=\"color: black; background-color: #fff5f0\">&nbsp;nueva&nbsp;</span><span style=\"color: black; background-color: #fff5f0\">&nbsp;edición&nbsp;</span><span style=\"color: black; background-color: #71020e\">&nbsp;de&nbsp;</span><span style=\"color: black; background-color: #fff2ec\">&nbsp;mi&nbsp;</span><span style=\"color: black; background-color: #fff5f0\">&nbsp;periódico&nbsp;</span><span style=\"color: black; background-color: #fff5f0\">&nbsp;digital&nbsp;</span><span style=\"color: black; background-color: #fff5f0\">&nbsp;\"&nbsp;</span><span style=\"color: black; background-color: #fff5f0\">&nbsp;intriga&nbsp;</span><span style=\"color: black; background-color: #fff5f0\">&nbsp;personal&nbsp;</span><span style=\"color: black; background-color: #fff5f0\">&nbsp;\"&nbsp;</span><span style=\"color: black; background-color: #fff5f0\">&nbsp;.&nbsp;</span><span style=\"color: black; background-color: #fff5f0\">&nbsp;está&nbsp;</span><span style=\"color: black; background-color: #fff5f0\">&nbsp;disponible&nbsp;</span><span style=\"color: black; background-color: #fff5f0\">&nbsp;aquí&nbsp;</span><span style=\"color: black; background-color: #fff5f0\">&nbsp;:&nbsp;</span><span style=\"color: black; background-color: #fff5f0\">&nbsp;<url>&nbsp;</span></div><div style=\"margin:4px 0;\"><span style=\"color: black; background-color: #fff4ef\">&nbsp;comparto&nbsp;</span><span style=\"color: black; background-color: #fff5f0\">&nbsp;con&nbsp;</span><span style=\"color: black; background-color: #fff5f0\">&nbsp;ustedes&nbsp;</span><span style=\"color: black; background-color: #fff5f0\">&nbsp;una&nbsp;</span><span style=\"color: black; background-color: #fff5f0\">&nbsp;nueva&nbsp;</span><span style=\"color: black; background-color: #fff5f0\">&nbsp;edición&nbsp;</span><span style=\"color: black; background-color: #71020e\">&nbsp;de&nbsp;</span><span style=\"color: black; background-color: #fff2ec\">&nbsp;mi&nbsp;</span><span style=\"color: black; background-color: #fff5f0\">&nbsp;periódico&nbsp;</span><span style=\"color: black; background-color: #fff5f0\">&nbsp;digital&nbsp;</span><span style=\"color: black; background-color: #fff5f0\">&nbsp;\"&nbsp;</span><span style=\"color: black; background-color: #fff5f0\">&nbsp;intriga&nbsp;</span><span style=\"color: black; background-color: #fff5f0\">&nbsp;personal&nbsp;</span><span style=\"color: black; background-color: #fff5f0\">&nbsp;\"&nbsp;</span><span style=\"color: black; background-color: #fff5f0\">&nbsp;.&nbsp;</span><span style=\"color: black; background-color: #fff5f0\">&nbsp;está&nbsp;</span><span style=\"color: black; background-color: #fff5f0\">&nbsp;disponible&nbsp;</span><span style=\"color: black; background-color: #fff5f0\">&nbsp;aquí&nbsp;</span><span style=\"color: black; background-color: #fff5f0\">&nbsp;:&nbsp;</span><span style=\"color: black; background-color: #fff5f0\">&nbsp;<url>&nbsp;</span></div><div style=\"margin:4px 0;\"><span style=\"color: black; background-color: #fee5d8\">&nbsp;user&nbsp;</span><span style=\"color: black; background-color: #b31218\">&nbsp;user&nbsp;</span><span style=\"color: black; background-color: #fff5f0\">&nbsp;ya&nbsp;</span><span style=\"color: black; background-color: #fff5f0\">&nbsp;van&nbsp;</span><span style=\"color: black; background-color: #fff5f0\">&nbsp;a&nbsp;</span><span style=\"color: black; background-color: #fff5f0\">&nbsp;ser&nbsp;</span><span style=\"color: black; background-color: #fff5f0\">&nbsp;48&nbsp;</span><span style=\"color: black; background-color: #fff5f0\">&nbsp;horas&nbsp;</span><span style=\"color: black; background-color: #fff5f0\">&nbsp;de&nbsp;</span><span style=\"color: black; background-color: #fff5f0\">&nbsp;corte&nbsp;</span><span style=\"color: black; background-color: #fff5f0\">&nbsp;y&nbsp;</span><span style=\"color: black; background-color: #fff5f0\">&nbsp;no&nbsp;</span><span style=\"color: black; background-color: #fff2ec\">&nbsp;hay&nbsp;</span><span style=\"color: black; background-color: #fff4ee\">&nbsp;via&nbsp;</span><span style=\"color: black; background-color: #fff5f0\">&nbsp;de&nbsp;</span><span style=\"color: black; background-color: #fff5f0\">&nbsp;solucion&nbsp;</span><span style=\"color: black; background-color: #ffeee7\">&nbsp;ni&nbsp;</span><span style=\"color: black; background-color: #fff5f0\">&nbsp;rpta&nbsp;</span><span style=\"color: black; background-color: #fff5f0\">&nbsp;.&nbsp;</span><span style=\"color: black; background-color: #fff5f0\">&nbsp;me&nbsp;</span><span style=\"color: black; background-color: #fff5f0\">&nbsp;pueden&nbsp;</span><span style=\"color: black; background-color: #fff5f0\">&nbsp;avisar&nbsp;</span><span style=\"color: black; background-color: #fff5f0\">&nbsp;para&nbsp;</span><span style=\"color: black; background-color: #fff5f0\">&nbsp;ir&nbsp;</span><span style=\"color: black; background-color: #fff5f0\">&nbsp;buscando&nbsp;</span><span style=\"color: black; background-color: #fff5f0\">&nbsp;otro&nbsp;</span><span style=\"color: black; background-color: #fff5f0\">&nbsp;proveedor&nbsp;</span><span style=\"color: black; background-color: #fff5f0\">&nbsp;?&nbsp;</span></div><div style=\"margin:4px 0;\"><span style=\"color: black; background-color: #fc9272\">&nbsp;user&nbsp;</span><span style=\"color: black; background-color: #fff5f0\">&nbsp;ya&nbsp;</span><span style=\"color: black; background-color: #fff5f0\">&nbsp;son&nbsp;</span><span style=\"color: black; background-color: #fff5f0\">&nbsp;34&nbsp;</span><span style=\"color: black; background-color: #fff5f0\">&nbsp;horas&nbsp;</span><span style=\"color: black; background-color: #fee9df\">&nbsp;sin&nbsp;</span><span style=\"color: black; background-color: #f6563d\">&nbsp;servicio&nbsp;</span><span style=\"color: black; background-color: #fff5f0\">&nbsp;,&nbsp;</span><span style=\"color: black; background-color: #fff5f0\">&nbsp;más&nbsp;</span><span style=\"color: black; background-color: #fff5f0\">&nbsp;de&nbsp;</span><span style=\"color: black; background-color: #fff5f0\">&nbsp;las&nbsp;</span><span style=\"color: black; background-color: #fff5f0\">&nbsp;24&nbsp;</span><span style=\"color: black; background-color: #fff5f0\">&nbsp;que&nbsp;</span><span style=\"color: black; background-color: #fff5f0\">&nbsp;dijeron&nbsp;</span><span style=\"color: black; background-color: #fff5f0\">&nbsp;.&nbsp;</span><span style=\"color: black; background-color: #fff5f0\">&nbsp;hasta&nbsp;</span><span style=\"color: black; background-color: #fff5f0\">&nbsp;cuando&nbsp;</span><span style=\"color: black; background-color: #fff5f0\">&nbsp;tengo&nbsp;</span><span style=\"color: black; background-color: #fff5f0\">&nbsp;que&nbsp;</span><span style=\"color: black; background-color: #fff5f0\">&nbsp;esperar&nbsp;</span><span style=\"color: black; background-color: #fff5f0\">&nbsp;.&nbsp;</span><span style=\"color: black; background-color: #fff5f0\">&nbsp;user&nbsp;</span></div><div style=\"margin:4px 0;\"><span style=\"color: black; background-color: #fff4ef\">&nbsp;comparto&nbsp;</span><span style=\"color: black; background-color: #fff5f0\">&nbsp;con&nbsp;</span><span style=\"color: black; background-color: #fff5f0\">&nbsp;ustedes&nbsp;</span><span style=\"color: black; background-color: #fff5f0\">&nbsp;una&nbsp;</span><span style=\"color: black; background-color: #fff5f0\">&nbsp;nueva&nbsp;</span><span style=\"color: black; background-color: #fff5f0\">&nbsp;edición&nbsp;</span><span style=\"color: black; background-color: #71020e\">&nbsp;de&nbsp;</span><span style=\"color: black; background-color: #fff2ec\">&nbsp;mi&nbsp;</span><span style=\"color: black; background-color: #fff5f0\">&nbsp;periódico&nbsp;</span><span style=\"color: black; background-color: #fff5f0\">&nbsp;digital&nbsp;</span><span style=\"color: black; background-color: #fff5f0\">&nbsp;\"&nbsp;</span><span style=\"color: black; background-color: #fff5f0\">&nbsp;intriga&nbsp;</span><span style=\"color: black; background-color: #fff5f0\">&nbsp;personal&nbsp;</span><span style=\"color: black; background-color: #fff5f0\">&nbsp;\"&nbsp;</span><span style=\"color: black; background-color: #fff5f0\">&nbsp;.&nbsp;</span><span style=\"color: black; background-color: #fff5f0\">&nbsp;está&nbsp;</span><span style=\"color: black; background-color: #fff5f0\">&nbsp;disponible&nbsp;</span><span style=\"color: black; background-color: #fff5f0\">&nbsp;aquí&nbsp;</span><span style=\"color: black; background-color: #fff5f0\">&nbsp;:&nbsp;</span><span style=\"color: black; background-color: #fff5f0\">&nbsp;<url>&nbsp;</span><span style=\"color: black; background-color: #fff5f0\">&nbsp;#e2030&nbsp;</span></div><div style=\"margin:4px 0;\"><span style=\"color: black; background-color: #fca486\">&nbsp;user&nbsp;</span><span style=\"color: black; background-color: #fff4ee\">&nbsp;llamé&nbsp;</span><span style=\"color: black; background-color: #fff5f0\">&nbsp;al&nbsp;</span><span style=\"color: black; background-color: #fff5f0\">&nbsp;fijo&nbsp;</span><span style=\"color: black; background-color: #fff5f0\">&nbsp;y&nbsp;</span><span style=\"color: black; background-color: #fff5f0\">&nbsp;me&nbsp;</span><span style=\"color: black; background-color: #fff4ef\">&nbsp;han&nbsp;</span><span style=\"color: black; background-color: #fc8666\">&nbsp;dado&nbsp;</span><span style=\"color: black; background-color: #fff5f0\">&nbsp;este&nbsp;</span><span style=\"color: black; background-color: #fff5f0\">&nbsp;ticket&nbsp;</span><span style=\"color: black; background-color: #fff5f0\">&nbsp;:&nbsp;</span><span style=\"color: black; background-color: #fff5f0\">&nbsp;6444670&nbsp;</span><span style=\"color: black; background-color: #fff5f0\">&nbsp;7&nbsp;</span><span style=\"color: black; background-color: #fff5f0\">&nbsp;.&nbsp;</span><span style=\"color: black; background-color: #fff5f0\">&nbsp;espero&nbsp;</span><span style=\"color: black; background-color: #fff5f0\">&nbsp;que&nbsp;</span><span style=\"color: black; background-color: #fff5f0\">&nbsp;solucionen&nbsp;</span><span style=\"color: black; background-color: #fff2eb\">&nbsp;pronto&nbsp;</span><span style=\"color: black; background-color: #fff4ee\">&nbsp;porque&nbsp;</span><span style=\"color: black; background-color: #fff5f0\">&nbsp;trabajo&nbsp;</span><span style=\"color: black; background-color: #fff5f0\">&nbsp;en&nbsp;</span><span style=\"color: black; background-color: #fee6da\">&nbsp;casa&nbsp;</span><span style=\"color: black; background-color: #fee1d4\">&nbsp;y&nbsp;</span><span style=\"color: black; background-color: #fff5f0\">&nbsp;me&nbsp;</span><span style=\"color: black; background-color: #fff5f0\">&nbsp;perjudican&nbsp;</span></div><div style=\"margin:4px 0;\"><span style=\"color: black; background-color: #fff2ec\">&nbsp;user&nbsp;</span><span style=\"color: black; background-color: #fcc3ab\">&nbsp;user&nbsp;</span><span style=\"color: black; background-color: #c9181d\">&nbsp;user&nbsp;</span><span style=\"color: black; background-color: #fff5f0\">&nbsp;ya&nbsp;</span><span style=\"color: black; background-color: #fff5f0\">&nbsp;van&nbsp;</span><span style=\"color: black; background-color: #fff5f0\">&nbsp;a&nbsp;</span><span style=\"color: black; background-color: #fff5f0\">&nbsp;ser&nbsp;</span><span style=\"color: black; background-color: #fff5f0\">&nbsp;las&nbsp;</span><span style=\"color: black; background-color: #fff5f0\">&nbsp;7pm&nbsp;</span><span style=\"color: black; background-color: #fff5f0\">&nbsp;.&nbsp;</span><span style=\"color: black; background-color: #fff5f0\">&nbsp;me&nbsp;</span><span style=\"color: black; background-color: #fff5f0\">&nbsp;van&nbsp;</span><span style=\"color: black; background-color: #fff5f0\">&nbsp;a&nbsp;</span><span style=\"color: black; background-color: #fff5f0\">&nbsp;dejar&nbsp;</span><span style=\"color: black; background-color: #fff5f0\">&nbsp;sin&nbsp;</span><span style=\"color: black; background-color: #fff5f0\">&nbsp;internet&nbsp;</span><span style=\"color: black; background-color: #fff5f0\">&nbsp;y&nbsp;</span><span style=\"color: black; background-color: #fff5f0\">&nbsp;telefono&nbsp;</span><span style=\"color: black; background-color: #fff5f0\">&nbsp;hasta&nbsp;</span><span style=\"color: black; background-color: #fff5f0\">&nbsp;mañana&nbsp;</span><span style=\"color: black; background-color: #fff5f0\">&nbsp;?&nbsp;</span></div><div style=\"margin:4px 0;\"><span style=\"color: black; background-color: #fff3ed\">&nbsp;user&nbsp;</span><span style=\"color: black; background-color: #fdc6b0\">&nbsp;user&nbsp;</span><span style=\"color: black; background-color: #c3161b\">&nbsp;user&nbsp;</span><span style=\"color: black; background-color: #fff5f0\">&nbsp;técnicos&nbsp;</span><span style=\"color: black; background-color: #fff5f0\">&nbsp;en&nbsp;</span><span style=\"color: black; background-color: #fff5f0\">&nbsp;la&nbsp;</span><span style=\"color: black; background-color: #fff5f0\">&nbsp;cuadra&nbsp;</span><span style=\"color: black; background-color: #fff5f0\">&nbsp;dicen&nbsp;</span><span style=\"color: black; background-color: #fff5f0\">&nbsp;que&nbsp;</span><span style=\"color: black; background-color: #fff5f0\">&nbsp;se&nbsp;</span><span style=\"color: black; background-color: #fff5f0\">&nbsp;demorarán&nbsp;</span><span style=\"color: black; background-color: #fff5f0\">&nbsp;hasta&nbsp;</span><span style=\"color: black; background-color: #fff5f0\">&nbsp;las&nbsp;</span><span style=\"color: black; background-color: #fff5f0\">&nbsp;4&nbsp;</span><span style=\"color: black; background-color: #fff5f0\">&nbsp;pm&nbsp;</span><span style=\"color: black; background-color: #fff5f0\">&nbsp;al&nbsp;</span><span style=\"color: black; background-color: #fff5f0\">&nbsp;menos&nbsp;</span><span style=\"color: black; background-color: #fff5f0\">&nbsp;.&nbsp;</span><span style=\"color: black; background-color: #fff5f0\">&nbsp;no&nbsp;</span><span style=\"color: black; background-color: #fff5f0\">&nbsp;pueden&nbsp;</span><span style=\"color: black; background-color: #fff5f0\">&nbsp;avisar&nbsp;</span><span style=\"color: black; background-color: #fff5f0\">&nbsp;del&nbsp;</span><span style=\"color: black; background-color: #fff5f0\">&nbsp;corte&nbsp;</span><span style=\"color: black; background-color: #fff5f0\">&nbsp;?&nbsp;</span></div><div style=\"margin:4px 0;\"><span style=\"color: black; background-color: #fff5f0\">&nbsp;segunda&nbsp;</span><span style=\"color: black; background-color: #fff5f0\">&nbsp;vez&nbsp;</span><span style=\"color: black; background-color: #fff5f0\">&nbsp;en&nbsp;</span><span style=\"color: black; background-color: #fff5f0\">&nbsp;una&nbsp;</span><span style=\"color: black; background-color: #fff5f0\">&nbsp;semana&nbsp;</span><span style=\"color: black; background-color: #fff5f0\">&nbsp;que&nbsp;</span><span style=\"color: black; background-color: #fff5f0\">&nbsp;user&nbsp;</span><span style=\"color: black; background-color: #fff5f0\">&nbsp;corta&nbsp;</span><span style=\"color: black; background-color: #fff5f0\">&nbsp;mi&nbsp;</span><span style=\"color: black; background-color: #fff5f0\">&nbsp;señal&nbsp;</span><span style=\"color: black; background-color: #fff5f0\">&nbsp;en&nbsp;</span><span style=\"color: black; background-color: #fff5f0\">&nbsp;surco&nbsp;</span><span style=\"color: black; background-color: #fff5f0\">&nbsp;\"&nbsp;</span><span style=\"color: black; background-color: #fff5f0\">&nbsp;por&nbsp;</span><span style=\"color: black; background-color: #fff5f0\">&nbsp;reparaciones&nbsp;</span><span style=\"color: black; background-color: #fff5f0\">&nbsp;\"&nbsp;</span><span style=\"color: black; background-color: #fff5f0\">&nbsp;sin&nbsp;</span><span style=\"color: black; background-color: #fff5f0\">&nbsp;avisar&nbsp;</span><span style=\"color: black; background-color: #fff5f0\">&nbsp;:&nbsp;</span><span style=\"color: black; background-color: #fff5f0\">&nbsp;sin&nbsp;</span><span style=\"color: black; background-color: #fff5f0\">&nbsp;internet&nbsp;</span><span style=\"color: black; background-color: #fff5f0\">&nbsp;,&nbsp;</span><span style=\"color: black; background-color: #fff5f0\">&nbsp;cable&nbsp;</span><span style=\"color: black; background-color: #6b010e\">&nbsp;ni&nbsp;</span><span style=\"color: black; background-color: #fff5f0\">&nbsp;teléfono&nbsp;</span><span style=\"color: black; background-color: #fff5f0\">&nbsp;.&nbsp;</span></div><div style=\"margin:4px 0;\"><span style=\"color: black; background-color: #fff4ef\">&nbsp;comparto&nbsp;</span><span style=\"color: black; background-color: #fff5f0\">&nbsp;con&nbsp;</span><span style=\"color: black; background-color: #fff5f0\">&nbsp;ustedes&nbsp;</span><span style=\"color: black; background-color: #fff5f0\">&nbsp;una&nbsp;</span><span style=\"color: black; background-color: #fff5f0\">&nbsp;nueva&nbsp;</span><span style=\"color: black; background-color: #fff5f0\">&nbsp;edición&nbsp;</span><span style=\"color: black; background-color: #71020e\">&nbsp;de&nbsp;</span><span style=\"color: black; background-color: #fff2ec\">&nbsp;mi&nbsp;</span><span style=\"color: black; background-color: #fff5f0\">&nbsp;periódico&nbsp;</span><span style=\"color: black; background-color: #fff5f0\">&nbsp;digital&nbsp;</span><span style=\"color: black; background-color: #fff5f0\">&nbsp;\"&nbsp;</span><span style=\"color: black; background-color: #fff5f0\">&nbsp;intriga&nbsp;</span><span style=\"color: black; background-color: #fff5f0\">&nbsp;personal&nbsp;</span><span style=\"color: black; background-color: #fff5f0\">&nbsp;\"&nbsp;</span><span style=\"color: black; background-color: #fff5f0\">&nbsp;.&nbsp;</span><span style=\"color: black; background-color: #fff5f0\">&nbsp;está&nbsp;</span><span style=\"color: black; background-color: #fff5f0\">&nbsp;disponible&nbsp;</span><span style=\"color: black; background-color: #fff5f0\">&nbsp;aquí&nbsp;</span><span style=\"color: black; background-color: #fff5f0\">&nbsp;:&nbsp;</span><span style=\"color: black; background-color: #fff5f0\">&nbsp;<url>&nbsp;</span></div><div style=\"margin:4px 0;\"><span style=\"color: black; background-color: #fff4ef\">&nbsp;comparto&nbsp;</span><span style=\"color: black; background-color: #fff5f0\">&nbsp;con&nbsp;</span><span style=\"color: black; background-color: #fff5f0\">&nbsp;ustedes&nbsp;</span><span style=\"color: black; background-color: #fff5f0\">&nbsp;una&nbsp;</span><span style=\"color: black; background-color: #fff5f0\">&nbsp;nueva&nbsp;</span><span style=\"color: black; background-color: #fff5f0\">&nbsp;edición&nbsp;</span><span style=\"color: black; background-color: #71020e\">&nbsp;de&nbsp;</span><span style=\"color: black; background-color: #fff2ec\">&nbsp;mi&nbsp;</span><span style=\"color: black; background-color: #fff5f0\">&nbsp;periódico&nbsp;</span><span style=\"color: black; background-color: #fff5f0\">&nbsp;digital&nbsp;</span><span style=\"color: black; background-color: #fff5f0\">&nbsp;\"&nbsp;</span><span style=\"color: black; background-color: #fff5f0\">&nbsp;intriga&nbsp;</span><span style=\"color: black; background-color: #fff5f0\">&nbsp;personal&nbsp;</span><span style=\"color: black; background-color: #fff5f0\">&nbsp;\"&nbsp;</span><span style=\"color: black; background-color: #fff5f0\">&nbsp;.&nbsp;</span><span style=\"color: black; background-color: #fff5f0\">&nbsp;está&nbsp;</span><span style=\"color: black; background-color: #fff5f0\">&nbsp;disponible&nbsp;</span><span style=\"color: black; background-color: #fff5f0\">&nbsp;aquí&nbsp;</span><span style=\"color: black; background-color: #fff5f0\">&nbsp;:&nbsp;</span><span style=\"color: black; background-color: #fff5f0\">&nbsp;<url>&nbsp;</span><span style=\"color: black; background-color: #fff5f0\">&nbsp;#ods4lac&nbsp;</span></div><div style=\"margin:4px 0;\"><span style=\"color: black; background-color: #fb6b4b\">&nbsp;user&nbsp;</span><span style=\"color: black; background-color: #fff5f0\">&nbsp;las&nbsp;</span><span style=\"color: black; background-color: #fff5f0\">&nbsp;cosas&nbsp;</span><span style=\"color: black; background-color: #fff5f0\">&nbsp;siempre&nbsp;</span><span style=\"color: black; background-color: #fff5f0\">&nbsp;pueden&nbsp;</span><span style=\"color: black; background-color: #fff5f0\">&nbsp;ser&nbsp;</span><span style=\"color: black; background-color: #fff5f0\">&nbsp;peor&nbsp;</span><span style=\"color: black; background-color: #fff5f0\">&nbsp;,&nbsp;</span><span style=\"color: black; background-color: #fff4ee\">&nbsp;es&nbsp;</span><span style=\"color: black; background-color: #fff5f0\">&nbsp;una&nbsp;</span><span style=\"color: black; background-color: #fff0e8\">&nbsp;de&nbsp;</span><span style=\"color: black; background-color: #fff5f0\">&nbsp;las&nbsp;</span><span style=\"color: black; background-color: #fff5f0\">&nbsp;afirmaciones&nbsp;</span><span style=\"color: black; background-color: #fff5f0\">&nbsp;de&nbsp;</span><span style=\"color: black; background-color: #fff5f0\">&nbsp;la&nbsp;</span><span style=\"color: black; background-color: #fff5f0\">&nbsp;ley&nbsp;</span><span style=\"color: black; background-color: #fff5f0\">&nbsp;de&nbsp;</span><span style=\"color: black; background-color: #fff5f0\">&nbsp;murphy&nbsp;</span><span style=\"color: black; background-color: #fb7a5a\">&nbsp;.&nbsp;</span></div><div style=\"margin:4px 0;\"><span style=\"color: black; background-color: #e83429\">&nbsp;nuestro&nbsp;</span><span style=\"color: black; background-color: #ffede5\">&nbsp;maestros&nbsp;</span><span style=\"color: black; background-color: #fcab8f\">&nbsp;y&nbsp;</span><span style=\"color: black; background-color: #fff5f0\">&nbsp;maestras&nbsp;</span><span style=\"color: black; background-color: #fff5f0\">&nbsp;no&nbsp;</span><span style=\"color: black; background-color: #fff5f0\">&nbsp;suelen&nbsp;</span><span style=\"color: black; background-color: #fff5f0\">&nbsp;visitar&nbsp;</span><span style=\"color: black; background-color: #fff5f0\">&nbsp;a&nbsp;</span><span style=\"color: black; background-color: #fff5f0\">&nbsp;las&nbsp;</span><span style=\"color: black; background-color: #fff5f0\">&nbsp;familias&nbsp;</span><span style=\"color: black; background-color: #fff5f0\">&nbsp;en&nbsp;</span><span style=\"color: black; background-color: #fff5f0\">&nbsp;sus&nbsp;</span><span style=\"color: black; background-color: #fff5f0\">&nbsp;casas&nbsp;</span><span style=\"color: black; background-color: #fff5f0\">&nbsp;.&nbsp;</span><span style=\"color: black; background-color: #fff5f0\">&nbsp;tal&nbsp;</span><span style=\"color: black; background-color: #fff5f0\">&nbsp;vez&nbsp;</span><span style=\"color: black; background-color: #fff5f0\">&nbsp;deberían&nbsp;</span><span style=\"color: black; background-color: #fff5f0\">&nbsp;hacerlo&nbsp;</span><span style=\"color: black; background-color: #fff5f0\">&nbsp;.&nbsp;</span><span style=\"color: black; background-color: #fff5f0\">&nbsp;al&nbsp;</span><span style=\"color: black; background-color: #fff5f0\">&nbsp;menos&nbsp;</span><span style=\"color: black; background-color: #fff5f0\">&nbsp;a&nbsp;</span><span style=\"color: black; background-color: #fff5f0\">&nbsp;algu&nbsp;</span><span style=\"color: black; background-color: #fff5f0\">&nbsp;…&nbsp;</span><span style=\"color: black; background-color: #fff5f0\">&nbsp;<url>&nbsp;</span></div><div style=\"margin:4px 0;\"><span style=\"color: black; background-color: #fff5f0\">&nbsp;¿&nbsp;</span><span style=\"color: black; background-color: #fff5f0\">&nbsp;quieren&nbsp;</span><span style=\"color: black; background-color: #fff5f0\">&nbsp;que&nbsp;</span><span style=\"color: black; background-color: #fff4ee\">&nbsp;siga&nbsp;</span><span style=\"color: black; background-color: #fff2eb\">&nbsp;pasando&nbsp;</span><span style=\"color: black; background-color: #fff4ef\">&nbsp;?&nbsp;</span><span style=\"color: black; background-color: #fff5f0\">&nbsp;¿&nbsp;</span><span style=\"color: black; background-color: #fff4ef\">&nbsp;no&nbsp;</span><span style=\"color: black; background-color: #fff5f0\">&nbsp;?&nbsp;</span><span style=\"color: black; background-color: #fff5f0\">&nbsp;entonces&nbsp;</span><span style=\"color: black; background-color: #fff5f0\">&nbsp;eduquemos&nbsp;</span><span style=\"color: black; background-color: #fff5f0\">&nbsp;a&nbsp;</span><span style=\"color: black; background-color: #fee1d3\">&nbsp;niña&nbsp;</span><span style=\"color: black; background-color: #fff4ef\">&nbsp;,&nbsp;</span><span style=\"color: black; background-color: #fff4ef\">&nbsp;niños&nbsp;</span><span style=\"color: black; background-color: #c2161b\">&nbsp;y&nbsp;</span><span style=\"color: black; background-color: #fff2eb\">&nbsp;adolescentes&nbsp;</span><span style=\"color: black; background-color: #fff4ef\">&nbsp;con&nbsp;</span><span style=\"color: black; background-color: #fff5f0\">&nbsp;#enfoquedegenero&nbsp;</span><span style=\"color: black; background-color: #fff5f0\">&nbsp;.&nbsp;</span><span style=\"color: black; background-color: #fff5f0\">&nbsp;…&nbsp;</span><span style=\"color: black; background-color: #fff5f0\">&nbsp;<url>&nbsp;</span></div><div style=\"margin:4px 0;\"><span style=\"color: black; background-color: #fff3ed\">&nbsp;11&nbsp;</span><span style=\"color: black; background-color: #fff5f0\">&nbsp;varones&nbsp;</span><span style=\"color: black; background-color: #fc8161\">&nbsp;y&nbsp;</span><span style=\"color: black; background-color: #fff5f0\">&nbsp;sólo&nbsp;</span><span style=\"color: black; background-color: #fff0e8\">&nbsp;2&nbsp;</span><span style=\"color: black; background-color: #fff5f0\">&nbsp;mujeres&nbsp;</span><span style=\"color: black; background-color: #fff4ef\">&nbsp;.&nbsp;</span><span style=\"color: black; background-color: #fff1ea\">&nbsp;no&nbsp;</span><span style=\"color: black; background-color: #fff4ef\">&nbsp;es&nbsp;</span><span style=\"color: black; background-color: #fff4ee\">&nbsp;casualidad&nbsp;</span><span style=\"color: black; background-color: #fee7db\">&nbsp;.&nbsp;</span><span style=\"color: black; background-color: #fee5d9\">&nbsp;eduquemos&nbsp;</span><span style=\"color: black; background-color: #fdc7b2\">&nbsp;con&nbsp;</span><span style=\"color: black; background-color: #fee8dd\">&nbsp;#enfoquedegenero&nbsp;</span><span style=\"color: black; background-color: #fff5f0\">&nbsp;para&nbsp;</span><span style=\"color: black; background-color: #fff5f0\">&nbsp;cerrar&nbsp;</span><span style=\"color: black; background-color: #fff5f0\">&nbsp;esas&nbsp;</span><span style=\"color: black; background-color: #fff5f0\">&nbsp;brechas&nbsp;</span><span style=\"color: black; background-color: #fff5f0\">&nbsp;.&nbsp;</span><span style=\"color: black; background-color: #fff5f0\">&nbsp;<url>&nbsp;</span></div><div style=\"margin:4px 0;\"><span style=\"color: black; background-color: #fff5f0\">&nbsp;esto&nbsp;</span><span style=\"color: black; background-color: #fff5f0\">&nbsp;es&nbsp;</span><span style=\"color: black; background-color: #fff5f0\">&nbsp;posible&nbsp;</span><span style=\"color: black; background-color: #fff0e8\">&nbsp;por&nbsp;</span><span style=\"color: black; background-color: #fff5f0\">&nbsp;haber&nbsp;</span><span style=\"color: black; background-color: #d92523\">&nbsp;impulsado&nbsp;</span><span style=\"color: black; background-color: #fdc6b0\">&nbsp;enfoque&nbsp;</span><span style=\"color: black; background-color: #ffeee7\">&nbsp;de&nbsp;</span><span style=\"color: black; background-color: #fff5f0\">&nbsp;género&nbsp;</span><span style=\"color: black; background-color: #fff5f0\">&nbsp;en&nbsp;</span><span style=\"color: black; background-color: #fff5f0\">&nbsp;formación&nbsp;</span><span style=\"color: black; background-color: #fff5f0\">&nbsp;de&nbsp;</span><span style=\"color: black; background-color: #fff5f0\">&nbsp;policías&nbsp;</span><span style=\"color: black; background-color: #fff5f0\">&nbsp;.&nbsp;</span><span style=\"color: black; background-color: #fff5f0\">&nbsp;¿&nbsp;</span><span style=\"color: black; background-color: #fff5f0\">&nbsp;o&nbsp;</span><span style=\"color: black; background-color: #fff5f0\">&nbsp;quieren&nbsp;</span><span style=\"color: black; background-color: #fff5f0\">&nbsp;volver&nbsp;</span><span style=\"color: black; background-color: #fff5f0\">&nbsp;a&nbsp;</span><span style=\"color: black; background-color: #fff5f0\">&nbsp;lo&nbsp;</span><span style=\"color: black; background-color: #fff5f0\">&nbsp;anterior&nbsp;</span><span style=\"color: black; background-color: #fff4ee\">&nbsp;por&nbsp;</span><span style=\"color: black; background-color: #fff5f0\">&nbsp;…&nbsp;</span><span style=\"color: black; background-color: #fff5f0\">&nbsp;<url>&nbsp;</span></div><div style=\"margin:4px 0;\"><span style=\"color: black; background-color: #fff2ec\">&nbsp;tonucci&nbsp;</span><span style=\"color: black; background-color: #fff3ed\">&nbsp;:&nbsp;</span><span style=\"color: black; background-color: #fff5f0\">&nbsp;en&nbsp;</span><span style=\"color: black; background-color: #fff5f0\">&nbsp;vez&nbsp;</span><span style=\"color: black; background-color: #880811\">&nbsp;de&nbsp;</span><span style=\"color: black; background-color: #fff5f0\">&nbsp;aulas&nbsp;</span><span style=\"color: black; background-color: #fff5f0\">&nbsp;en&nbsp;</span><span style=\"color: black; background-color: #fff5f0\">&nbsp;las&nbsp;</span><span style=\"color: black; background-color: #fff5f0\">&nbsp;escuelas&nbsp;</span><span style=\"color: black; background-color: #fff5f0\">&nbsp;,&nbsp;</span><span style=\"color: black; background-color: #fff5f0\">&nbsp;tener&nbsp;</span><span style=\"color: black; background-color: #fff5f0\">&nbsp;talleres&nbsp;</span><span style=\"color: black; background-color: #fff4ef\">&nbsp;y&nbsp;</span><span style=\"color: black; background-color: #fff5f0\">&nbsp;laboratorios&nbsp;</span><span style=\"color: black; background-color: #fff4ef\">&nbsp;donde&nbsp;</span><span style=\"color: black; background-color: #fff4ef\">&nbsp;estudiantes&nbsp;</span><span style=\"color: black; background-color: #fff2ec\">&nbsp;aprendan&nbsp;</span><span style=\"color: black; background-color: #fff5f0\">&nbsp;investigando&nbsp;</span><span style=\"color: black; background-color: #fff5f0\">&nbsp;.&nbsp;</span><span style=\"color: black; background-color: #fff5f0\">&nbsp;<url>&nbsp;</span></div><div style=\"margin:4px 0;\"><span style=\"color: black; background-color: #fff5f0\">&nbsp;la&nbsp;</span><span style=\"color: black; background-color: #fff5f0\">&nbsp;agenda&nbsp;</span><span style=\"color: black; background-color: #fff5f0\">&nbsp;educativa&nbsp;</span><span style=\"color: black; background-color: #fff5f0\">&nbsp;para&nbsp;</span><span style=\"color: black; background-color: #fff5f0\">&nbsp;el&nbsp;</span><span style=\"color: black; background-color: #fff5f0\">&nbsp;futuro&nbsp;</span><span style=\"color: black; background-color: #fff5f0\">&nbsp;que&nbsp;</span><span style=\"color: black; background-color: #fff5f0\">&nbsp;queremos&nbsp;</span><span style=\"color: black; background-color: #fff5f0\">&nbsp;.&nbsp;</span><span style=\"color: black; background-color: #fff5f0\">&nbsp;agenda&nbsp;</span><span style=\"color: black; background-color: #fff4ee\">&nbsp;2030&nbsp;</span><span style=\"color: black; background-color: #fff2eb\">&nbsp;para&nbsp;</span><span style=\"color: black; background-color: #fff5f0\">&nbsp;educación&nbsp;</span><span style=\"color: black; background-color: #fff5f0\">&nbsp;en&nbsp;</span><span style=\"color: black; background-color: #fff5f0\">&nbsp;lac&nbsp;</span><span style=\"color: black; background-color: #fff5f0\">&nbsp;.&nbsp;</span><span style=\"color: black; background-color: #fff5f0\">&nbsp;<url>&nbsp;</span><span style=\"color: black; background-color: #77040f\">&nbsp;user&nbsp;</span></div><div style=\"margin:4px 0;\"><span style=\"color: black; background-color: #fff5f0\">&nbsp;según&nbsp;</span><span style=\"color: black; background-color: #fff5f0\">&nbsp;este&nbsp;</span><span style=\"color: black; background-color: #fff5f0\">&nbsp;estudio&nbsp;</span><span style=\"color: black; background-color: #fff5f0\">&nbsp;,&nbsp;</span><span style=\"color: black; background-color: #fff5f0\">&nbsp;la&nbsp;</span><span style=\"color: black; background-color: #fff5f0\">&nbsp;mitad&nbsp;</span><span style=\"color: black; background-color: #920a13\">&nbsp;de&nbsp;</span><span style=\"color: black; background-color: #fff5f0\">&nbsp;nuestras&nbsp;</span><span style=\"color: black; background-color: #fff5f0\">&nbsp;reuniones&nbsp;</span><span style=\"color: black; background-color: #fff4ef\">&nbsp;de&nbsp;</span><span style=\"color: black; background-color: #fff2eb\">&nbsp;trabajo&nbsp;</span><span style=\"color: black; background-color: #ffece4\">&nbsp;son&nbsp;</span><span style=\"color: black; background-color: #fff5f0\">&nbsp;improductivas&nbsp;</span><span style=\"color: black; background-color: #fff4ef\">&nbsp;.&nbsp;</span></div><div style=\"margin:4px 0;\"><span style=\"color: black; background-color: #fff4ef\">&nbsp;comparto&nbsp;</span><span style=\"color: black; background-color: #fff5f0\">&nbsp;con&nbsp;</span><span style=\"color: black; background-color: #fff5f0\">&nbsp;ustedes&nbsp;</span><span style=\"color: black; background-color: #fff5f0\">&nbsp;una&nbsp;</span><span style=\"color: black; background-color: #fff5f0\">&nbsp;nueva&nbsp;</span><span style=\"color: black; background-color: #fff5f0\">&nbsp;edición&nbsp;</span><span style=\"color: black; background-color: #71020e\">&nbsp;de&nbsp;</span><span style=\"color: black; background-color: #fff2ec\">&nbsp;mi&nbsp;</span><span style=\"color: black; background-color: #fff5f0\">&nbsp;periódico&nbsp;</span><span style=\"color: black; background-color: #fff5f0\">&nbsp;digital&nbsp;</span><span style=\"color: black; background-color: #fff5f0\">&nbsp;\"&nbsp;</span><span style=\"color: black; background-color: #fff5f0\">&nbsp;intriga&nbsp;</span><span style=\"color: black; background-color: #fff5f0\">&nbsp;personal&nbsp;</span><span style=\"color: black; background-color: #fff5f0\">&nbsp;\"&nbsp;</span><span style=\"color: black; background-color: #fff5f0\">&nbsp;.&nbsp;</span><span style=\"color: black; background-color: #fff5f0\">&nbsp;está&nbsp;</span><span style=\"color: black; background-color: #fff5f0\">&nbsp;disponible&nbsp;</span><span style=\"color: black; background-color: #fff5f0\">&nbsp;aquí&nbsp;</span><span style=\"color: black; background-color: #fff5f0\">&nbsp;:&nbsp;</span><span style=\"color: black; background-color: #fff5f0\">&nbsp;<url>&nbsp;</span></div><div style=\"margin:4px 0;\"><span style=\"color: black; background-color: #fff5f0\">&nbsp;los&nbsp;</span><span style=\"color: black; background-color: #fb7555\">&nbsp;grandes&nbsp;</span><span style=\"color: black; background-color: #fff3ed\">&nbsp;complejos&nbsp;</span><span style=\"color: black; background-color: #fff5f0\">&nbsp;hoteleros&nbsp;</span><span style=\"color: black; background-color: #fff5f0\">&nbsp;\"&nbsp;</span><span style=\"color: black; background-color: #fff5f0\">&nbsp;all&nbsp;</span><span style=\"color: black; background-color: #fc8767\">&nbsp;inclusive&nbsp;</span><span style=\"color: black; background-color: #fff5f0\">&nbsp;\"&nbsp;</span><span style=\"color: black; background-color: #fff5f0\">&nbsp;.&nbsp;</span><span style=\"color: black; background-color: #fff5f0\">&nbsp;\"&nbsp;</span><span style=\"color: black; background-color: #fff5f0\">&nbsp;repúblicas&nbsp;</span><span style=\"color: black; background-color: #fff5f0\">&nbsp;\"&nbsp;</span><span style=\"color: black; background-color: #fff5f0\">&nbsp;o&nbsp;</span><span style=\"color: black; background-color: #fff5f0\">&nbsp;\"&nbsp;</span><span style=\"color: black; background-color: #fff5f0\">&nbsp;reinados&nbsp;</span><span style=\"color: black; background-color: #fff5f0\">&nbsp;\"&nbsp;</span><span style=\"color: black; background-color: #fff5f0\">&nbsp;aparte&nbsp;</span><span style=\"color: black; background-color: #fff5f0\">&nbsp;dentro&nbsp;</span><span style=\"color: black; background-color: #fee5d8\">&nbsp;de&nbsp;</span><span style=\"color: black; background-color: #fff5f0\">&nbsp;países&nbsp;</span><span style=\"color: black; background-color: #fff5f0\">&nbsp;del&nbsp;</span><span style=\"color: black; background-color: #fff5f0\">&nbsp;caribe&nbsp;</span><span style=\"color: black; background-color: #fff5f0\">&nbsp;.&nbsp;</span><span style=\"color: black; background-color: #fff5f0\">&nbsp;<url>&nbsp;</span></div><div style=\"margin:4px 0;\"><span style=\"color: black; background-color: #fff5f0\">&nbsp;escuela&nbsp;</span><span style=\"color: black; background-color: #fff5f0\">&nbsp;en&nbsp;</span><span style=\"color: black; background-color: #fff5f0\">&nbsp;la&nbsp;</span><span style=\"color: black; background-color: #fee3d7\">&nbsp;casa&nbsp;</span><span style=\"color: black; background-color: #fff3ed\">&nbsp;...&nbsp;</span><span style=\"color: black; background-color: #fff5f0\">&nbsp;un&nbsp;</span><span style=\"color: black; background-color: #fff5f0\">&nbsp;modelo&nbsp;</span><span style=\"color: black; background-color: #fdc5ae\">&nbsp;poco&nbsp;</span><span style=\"color: black; background-color: #fff5f0\">&nbsp;extendido&nbsp;</span><span style=\"color: black; background-color: #fff5f0\">&nbsp;en&nbsp;</span><span style=\"color: black; background-color: #fff2ec\">&nbsp;américa&nbsp;</span><span style=\"color: black; background-color: #ee3a2c\">&nbsp;latina&nbsp;</span><span style=\"color: black; background-color: #fff4ee\">&nbsp;.&nbsp;</span><span style=\"color: black; background-color: #fff4ef\">&nbsp;<url>&nbsp;</span></div><div style=\"margin:4px 0;\"><span style=\"color: black; background-color: #fff5f0\">&nbsp;siete&nbsp;</span><span style=\"color: black; background-color: #fff5f0\">&nbsp;razones&nbsp;</span><span style=\"color: black; background-color: #fff5f0\">&nbsp;por&nbsp;</span><span style=\"color: black; background-color: #fff5f0\">&nbsp;las&nbsp;</span><span style=\"color: black; background-color: #fff5f0\">&nbsp;que&nbsp;</span><span style=\"color: black; background-color: #ffece4\">&nbsp;hay&nbsp;</span><span style=\"color: black; background-color: #fff5f0\">&nbsp;que&nbsp;</span><span style=\"color: black; background-color: #fff5f0\">&nbsp;aprender&nbsp;</span><span style=\"color: black; background-color: #fff5f0\">&nbsp;a&nbsp;</span><span style=\"color: black; background-color: #fff5f0\">&nbsp;tocar&nbsp;</span><span style=\"color: black; background-color: #fff5f0\">&nbsp;un&nbsp;</span><span style=\"color: black; background-color: #fff5f0\">&nbsp;instrumento&nbsp;</span><span style=\"color: black; background-color: #f03d2d\">&nbsp;musical&nbsp;</span><span style=\"color: black; background-color: #fff5f0\">&nbsp;.&nbsp;</span><span style=\"color: black; background-color: #fff5f0\">&nbsp;clave&nbsp;</span><span style=\"color: black; background-color: #fff5f0\">&nbsp;para&nbsp;</span><span style=\"color: black; background-color: #fff5f0\">&nbsp;la&nbsp;</span><span style=\"color: black; background-color: #fff5f0\">&nbsp;formación&nbsp;</span><span style=\"color: black; background-color: #fff5f0\">&nbsp;de&nbsp;</span><span style=\"color: black; background-color: #fff5f0\">&nbsp;niñas&nbsp;</span><span style=\"color: black; background-color: #fff5f0\">&nbsp;,&nbsp;</span><span style=\"color: black; background-color: #fff4ef\">&nbsp;niños&nbsp;</span><span style=\"color: black; background-color: #fca98c\">&nbsp;y&nbsp;</span><span style=\"color: black; background-color: #fff4ee\">&nbsp;…&nbsp;</span><span style=\"color: black; background-color: #fff5f0\">&nbsp;<url>&nbsp;</span></div><div style=\"margin:4px 0;\"><span style=\"color: black; background-color: #fff5f0\">&nbsp;¿&nbsp;</span><span style=\"color: black; background-color: #fff5f0\">&nbsp;ves&nbsp;</span><span style=\"color: black; background-color: #fff5f0\">&nbsp;telenovelas&nbsp;</span><span style=\"color: black; background-color: #fff5f0\">&nbsp;?&nbsp;</span><span style=\"color: black; background-color: #fff5f0\">&nbsp;en&nbsp;</span><span style=\"color: black; background-color: #fdd0bc\">&nbsp;latinoamérica&nbsp;</span><span style=\"color: black; background-color: #fff3ed\">&nbsp;han&nbsp;</span><span style=\"color: black; background-color: #fff5f0\">&nbsp;cambiado&nbsp;</span><span style=\"color: black; background-color: #fff5f0\">&nbsp;la&nbsp;</span><span style=\"color: black; background-color: #fff5f0\">&nbsp;vida&nbsp;</span><span style=\"color: black; background-color: #fff5f0\">&nbsp;de&nbsp;</span><span style=\"color: black; background-color: #fff5f0\">&nbsp;miles&nbsp;</span><span style=\"color: black; background-color: #fff5f0\">&nbsp;de&nbsp;</span><span style=\"color: black; background-color: #fff5f0\">&nbsp;personas&nbsp;</span><span style=\"color: black; background-color: #fff5f0\">&nbsp;<url>&nbsp;</span><span style=\"color: black; background-color: #fff5f0\">&nbsp;vía&nbsp;</span><span style=\"color: black; background-color: #bc141a\">&nbsp;user&nbsp;</span></div><div style=\"margin:4px 0;\"><span style=\"color: black; background-color: #fff5f0\">&nbsp;investigan&nbsp;</span><span style=\"color: black; background-color: #fff5f0\">&nbsp;a&nbsp;</span><span style=\"color: black; background-color: #fff5f0\">&nbsp;universidades&nbsp;</span><span style=\"color: black; background-color: #fff5f0\">&nbsp;por&nbsp;</span><span style=\"color: black; background-color: #fff5f0\">&nbsp;enseñar&nbsp;</span><span style=\"color: black; background-color: #fff5f0\">&nbsp;carreras&nbsp;</span><span style=\"color: black; background-color: #fff5f0\">&nbsp;y&nbsp;</span><span style=\"color: black; background-color: #fff5f0\">&nbsp;maestría&nbsp;</span><span style=\"color: black; background-color: #fff5f0\">&nbsp;sin&nbsp;</span><span style=\"color: black; background-color: #fff5f0\">&nbsp;tener&nbsp;</span><span style=\"color: black; background-color: #fff5f0\">&nbsp;permiso&nbsp;</span><span style=\"color: black; background-color: #fff5f0\">&nbsp;<url>&nbsp;</span><span style=\"color: black; background-color: #fff5f0\">&nbsp;vía&nbsp;</span><span style=\"color: black; background-color: #67000d\">&nbsp;user&nbsp;</span></div><div style=\"margin:4px 0;\"><span style=\"color: black; background-color: #fff5f0\">&nbsp;minedu&nbsp;</span><span style=\"color: black; background-color: #fff5f0\">&nbsp;a&nbsp;</span><span style=\"color: black; background-color: #fff5f0\">&nbsp;obispos&nbsp;</span><span style=\"color: black; background-color: #fff5f0\">&nbsp;:&nbsp;</span><span style=\"color: black; background-color: #fff5f0\">&nbsp;“&nbsp;</span><span style=\"color: black; background-color: #fff5f0\">&nbsp;no&nbsp;</span><span style=\"color: black; background-color: #fff1ea\">&nbsp;hay&nbsp;</span><span style=\"color: black; background-color: #fff5f0\">&nbsp;ideología&nbsp;</span><span style=\"color: black; background-color: #fff2eb\">&nbsp;de&nbsp;</span><span style=\"color: black; background-color: #fff5f0\">&nbsp;género&nbsp;</span><span style=\"color: black; background-color: #fff5f0\">&nbsp;en&nbsp;</span><span style=\"color: black; background-color: #fff5f0\">&nbsp;currículo&nbsp;</span><span style=\"color: black; background-color: #fff5f0\">&nbsp;”&nbsp;</span><span style=\"color: black; background-color: #fff5f0\">&nbsp;<url>&nbsp;</span><span style=\"color: black; background-color: #fff5f0\">&nbsp;vía&nbsp;</span><span style=\"color: black; background-color: #800610\">&nbsp;user&nbsp;</span></div><div style=\"margin:4px 0;\"><span style=\"color: black; background-color: #fff5f0\">&nbsp;más&nbsp;</span><span style=\"color: black; background-color: #fff5f0\">&nbsp;detalles&nbsp;</span><span style=\"color: black; background-color: #fff5f0\">&nbsp;sobre&nbsp;</span><span style=\"color: black; background-color: #fff5f0\">&nbsp;el&nbsp;</span><span style=\"color: black; background-color: #fff5f0\">&nbsp;secuestro&nbsp;</span><span style=\"color: black; background-color: #fff5f0\">&nbsp;de&nbsp;</span><span style=\"color: black; background-color: #fff5f0\">&nbsp;los&nbsp;</span><span style=\"color: black; background-color: #fff5f0\">&nbsp;argentinos&nbsp;</span><span style=\"color: black; background-color: #fff5f0\">&nbsp;en&nbsp;</span><span style=\"color: black; background-color: #67000d\">&nbsp;lima&nbsp;</span><span style=\"color: black; background-color: #fff5f0\">&nbsp;,&nbsp;</span><span style=\"color: black; background-color: #fff5f0\">&nbsp;en&nbsp;</span><span style=\"color: black; background-color: #fff5f0\">&nbsp;el&nbsp;</span><span style=\"color: black; background-color: #fff5f0\">&nbsp;marco&nbsp;</span><span style=\"color: black; background-color: #fff5f0\">&nbsp;del&nbsp;</span><span style=\"color: black; background-color: #fff5f0\">&nbsp;plan&nbsp;</span><span style=\"color: black; background-color: #fff5f0\">&nbsp;condor&nbsp;</span><span style=\"color: black; background-color: #fff5f0\">&nbsp;.&nbsp;</span><span style=\"color: black; background-color: #fff5f0\">&nbsp;<url>&nbsp;</span><span style=\"color: black; background-color: #fff5f0\">&nbsp;vía&nbsp;</span><span style=\"color: black; background-color: #fff5f0\">&nbsp;user&nbsp;</span></div><div style=\"margin:4px 0;\"><span style=\"color: black; background-color: #fff5f0\">&nbsp;san&nbsp;</span><span style=\"color: black; background-color: #fff5f0\">&nbsp;isidro&nbsp;</span><span style=\"color: black; background-color: #fff5f0\">&nbsp;pone&nbsp;</span><span style=\"color: black; background-color: #fff5f0\">&nbsp;fin&nbsp;</span><span style=\"color: black; background-color: #fff5f0\">&nbsp;a&nbsp;</span><span style=\"color: black; background-color: #fff5f0\">&nbsp;los&nbsp;</span><span style=\"color: black; background-color: #fff5f0\">&nbsp;'&nbsp;</span><span style=\"color: black; background-color: #fff5f0\">&nbsp;parqueos&nbsp;</span><span style=\"color: black; background-color: #fff5f0\">&nbsp;de&nbsp;</span><span style=\"color: black; background-color: #fff5f0\">&nbsp;oficina&nbsp;</span><span style=\"color: black; background-color: #fff5f0\">&nbsp;'&nbsp;</span><span style=\"color: black; background-color: #fff5f0\">&nbsp;<url>&nbsp;</span><span style=\"color: black; background-color: #fff5f0\">&nbsp;vía&nbsp;</span><span style=\"color: black; background-color: #67000d\">&nbsp;user&nbsp;</span></div><div style=\"margin:4px 0;\"><span style=\"color: black; background-color: #fff5f0\">&nbsp;la&nbsp;</span><span style=\"color: black; background-color: #fff5f0\">&nbsp;corrupción&nbsp;</span><span style=\"color: black; background-color: #fff5f0\">&nbsp;nuestra&nbsp;</span><span style=\"color: black; background-color: #fff5f0\">&nbsp;de&nbsp;</span><span style=\"color: black; background-color: #fff5f0\">&nbsp;toda&nbsp;</span><span style=\"color: black; background-color: #fff5f0\">&nbsp;época&nbsp;</span><span style=\"color: black; background-color: #fff5f0\">&nbsp;,&nbsp;</span><span style=\"color: black; background-color: #fff4ef\">&nbsp;por&nbsp;</span><span style=\"color: black; background-color: #fee1d4\">&nbsp;arturo&nbsp;</span><span style=\"color: black; background-color: #fff5f0\">&nbsp;maldonado&nbsp;</span><span style=\"color: black; background-color: #fff5f0\">&nbsp;<url>&nbsp;</span><span style=\"color: black; background-color: #fff5f0\">&nbsp;vía&nbsp;</span><span style=\"color: black; background-color: #a60f15\">&nbsp;user&nbsp;</span></div><div style=\"margin:4px 0;\"><span style=\"color: black; background-color: #fff5f0\">&nbsp;las&nbsp;</span><span style=\"color: black; background-color: #fff5f0\">&nbsp;voces&nbsp;</span><span style=\"color: black; background-color: #fff5f0\">&nbsp;de&nbsp;</span><span style=\"color: black; background-color: #fff5f0\">&nbsp;los&nbsp;</span><span style=\"color: black; background-color: #fff5f0\">&nbsp;pobres&nbsp;</span><span style=\"color: black; background-color: #fff5f0\">&nbsp;de&nbsp;</span><span style=\"color: black; background-color: #67000d\">&nbsp;lima&nbsp;</span><span style=\"color: black; background-color: #fff5f0\">&nbsp;<url>&nbsp;</span><span style=\"color: black; background-color: #fff5f0\">&nbsp;vía&nbsp;</span><span style=\"color: black; background-color: #fff5f0\">&nbsp;user&nbsp;</span></div><div style=\"margin:4px 0;\"><span style=\"color: black; background-color: #fff4ef\">&nbsp;comparto&nbsp;</span><span style=\"color: black; background-color: #fff5f0\">&nbsp;con&nbsp;</span><span style=\"color: black; background-color: #fff5f0\">&nbsp;ustedes&nbsp;</span><span style=\"color: black; background-color: #fff5f0\">&nbsp;una&nbsp;</span><span style=\"color: black; background-color: #fff5f0\">&nbsp;nueva&nbsp;</span><span style=\"color: black; background-color: #fff5f0\">&nbsp;edición&nbsp;</span><span style=\"color: black; background-color: #71020e\">&nbsp;de&nbsp;</span><span style=\"color: black; background-color: #fff2ec\">&nbsp;mi&nbsp;</span><span style=\"color: black; background-color: #fff5f0\">&nbsp;periódico&nbsp;</span><span style=\"color: black; background-color: #fff5f0\">&nbsp;digital&nbsp;</span><span style=\"color: black; background-color: #fff5f0\">&nbsp;\"&nbsp;</span><span style=\"color: black; background-color: #fff5f0\">&nbsp;intriga&nbsp;</span><span style=\"color: black; background-color: #fff5f0\">&nbsp;personal&nbsp;</span><span style=\"color: black; background-color: #fff5f0\">&nbsp;\"&nbsp;</span><span style=\"color: black; background-color: #fff5f0\">&nbsp;.&nbsp;</span><span style=\"color: black; background-color: #fff5f0\">&nbsp;está&nbsp;</span><span style=\"color: black; background-color: #fff5f0\">&nbsp;disponible&nbsp;</span><span style=\"color: black; background-color: #fff5f0\">&nbsp;aquí&nbsp;</span><span style=\"color: black; background-color: #fff5f0\">&nbsp;:&nbsp;</span><span style=\"color: black; background-color: #fff5f0\">&nbsp;<url>&nbsp;</span><span style=\"color: black; background-color: #fff5f0\">&nbsp;#películas&nbsp;</span></div><div style=\"margin:4px 0;\"><span style=\"color: black; background-color: #fff5f0\">&nbsp;el&nbsp;</span><span style=\"color: black; background-color: #fff4ef\">&nbsp;cóndor&nbsp;</span><span style=\"color: black; background-color: #fff4ef\">&nbsp;y&nbsp;</span><span style=\"color: black; background-color: #fff5f0\">&nbsp;sus&nbsp;</span><span style=\"color: black; background-color: #fff5f0\">&nbsp;gallizazos&nbsp;</span><span style=\"color: black; background-color: #fff5f0\">&nbsp;;&nbsp;</span><span style=\"color: black; background-color: #fff5f0\">&nbsp;por&nbsp;</span><span style=\"color: black; background-color: #f44f39\">&nbsp;santiago&nbsp;</span><span style=\"color: black; background-color: #fff4ef\">&nbsp;roncagliolo&nbsp;</span><span style=\"color: black; background-color: #fff5f0\">&nbsp;<url>&nbsp;</span><span style=\"color: black; background-color: #fff5f0\">&nbsp;vía&nbsp;</span><span style=\"color: black; background-color: #fc8767\">&nbsp;user&nbsp;</span></div>"
      ],
      "text/plain": [
       "<IPython.core.display.HTML object>"
      ]
     },
     "metadata": {},
     "output_type": "display_data"
    },
    {
     "name": "stdout",
     "output_type": "stream",
     "text": [
      "Predicción: colombia\n"
     ]
    },
    {
     "data": {
      "text/html": [
       "<div style=\"margin:4px 0;\"><span style=\"color: black; background-color: #fff5f0\">&nbsp;el&nbsp;</span><span style=\"color: black; background-color: #fff3ed\">&nbsp;diálogo&nbsp;</span><span style=\"color: black; background-color: #f0402f\">&nbsp;multi-actor&nbsp;</span><span style=\"color: black; background-color: #fff5f0\">&nbsp;informado&nbsp;</span><span style=\"color: black; background-color: #fff5f0\">&nbsp;será&nbsp;</span><span style=\"color: black; background-color: #fff5f0\">&nbsp;una&nbsp;</span><span style=\"color: black; background-color: #fff5f0\">&nbsp;herramienta&nbsp;</span><span style=\"color: black; background-color: #fff5f0\">&nbsp;para&nbsp;</span><span style=\"color: black; background-color: #fff5f0\">&nbsp;la&nbsp;</span><span style=\"color: black; background-color: #fff5f0\">&nbsp;construcción&nbsp;</span><span style=\"color: black; background-color: #fff5f0\">&nbsp;de&nbsp;</span><span style=\"color: black; background-color: #fff5f0\">&nbsp;paz&nbsp;</span><span style=\"color: black; background-color: #fff0e9\">&nbsp;y&nbsp;</span><span style=\"color: black; background-color: #fff5f0\">&nbsp;el&nbsp;</span><span style=\"color: black; background-color: #fff5f0\">&nbsp;fomento&nbsp;</span><span style=\"color: black; background-color: #fff5f0\">&nbsp;del&nbsp;</span><span style=\"color: black; background-color: #fff5f0\">&nbsp;desarrollo&nbsp;</span><span style=\"color: black; background-color: #fff4ee\">&nbsp;user&nbsp;</span><span style=\"color: black; background-color: #fca082\">&nbsp;user&nbsp;</span></div><div style=\"margin:4px 0;\"><span style=\"color: black; background-color: #fff5f0\">&nbsp;en&nbsp;</span><span style=\"color: black; background-color: #fff5f0\">&nbsp;el&nbsp;</span><span style=\"color: black; background-color: #fff5f0\">&nbsp;foro&nbsp;</span><span style=\"color: black; background-color: #fff5f0\">&nbsp;\"&nbsp;</span><span style=\"color: black; background-color: #fff5f0\">&nbsp;paz&nbsp;</span><span style=\"color: black; background-color: #fdc6b0\">&nbsp;,&nbsp;</span><span style=\"color: black; background-color: #fca285\">&nbsp;sector&nbsp;</span><span style=\"color: black; background-color: #fff4ee\">&nbsp;minero-energético&nbsp;</span><span style=\"color: black; background-color: #fb7a5a\">&nbsp;y&nbsp;</span><span style=\"color: black; background-color: #fff5f0\">&nbsp;desarrollo&nbsp;</span><span style=\"color: black; background-color: #fff5f0\">&nbsp;\"&nbsp;</span><span style=\"color: black; background-color: #fff5f0\">&nbsp;hablando&nbsp;</span><span style=\"color: black; background-color: #fff5f0\">&nbsp;de&nbsp;</span><span style=\"color: black; background-color: #fff5f0\">&nbsp;transparencia&nbsp;</span><span style=\"color: black; background-color: #fff5f0\">&nbsp;en&nbsp;</span><span style=\"color: black; background-color: #fff5f0\">&nbsp;las&nbsp;</span><span style=\"color: black; background-color: #fff5f0\">&nbsp;industrias&nbsp;</span><span style=\"color: black; background-color: #fff5f0\">&nbsp;extractivas&nbsp;</span><span style=\"color: black; background-color: #fff5f0\">&nbsp;…&nbsp;</span><span style=\"color: black; background-color: #fff5f0\">&nbsp;<url>&nbsp;</span></div><div style=\"margin:4px 0;\"><span style=\"color: black; background-color: #fff0e9\">&nbsp;porque&nbsp;</span><span style=\"color: black; background-color: #fff5f0\">&nbsp;las&nbsp;</span><span style=\"color: black; background-color: #fff5f0\">&nbsp;regiones&nbsp;</span><span style=\"color: black; background-color: #fff4ee\">&nbsp;productoras&nbsp;</span><span style=\"color: black; background-color: #fdcdb9\">&nbsp;necesitan&nbsp;</span><span style=\"color: black; background-color: #fff5f0\">&nbsp;más&nbsp;</span><span style=\"color: black; background-color: #fdd0bc\">&nbsp;#mineríabienhecha&nbsp;</span><span style=\"color: black; background-color: #fdcebb\">&nbsp;para&nbsp;</span><span style=\"color: black; background-color: #fff5f0\">&nbsp;fomentar&nbsp;</span><span style=\"color: black; background-color: #fcb69b\">&nbsp;su&nbsp;</span><span style=\"color: black; background-color: #fff5f0\">&nbsp;desarrollo&nbsp;</span><span style=\"color: black; background-color: #fff5f0\">&nbsp;user&nbsp;</span><span style=\"color: black; background-color: #fee0d2\">&nbsp;user&nbsp;</span><span style=\"color: black; background-color: #fff5f0\">&nbsp;<url>&nbsp;</span></div><div style=\"margin:4px 0;\"><span style=\"color: black; background-color: #69000d\">&nbsp;user&nbsp;</span><span style=\"color: black; background-color: #fff5f0\">&nbsp;hablando&nbsp;</span><span style=\"color: black; background-color: #fff5f0\">&nbsp;de&nbsp;</span><span style=\"color: black; background-color: #fff5f0\">&nbsp;los&nbsp;</span><span style=\"color: black; background-color: #fff5f0\">&nbsp;proyectos&nbsp;</span><span style=\"color: black; background-color: #fff5f0\">&nbsp;estratégicos&nbsp;</span><span style=\"color: black; background-color: #fff5f0\">&nbsp;para&nbsp;</span><span style=\"color: black; background-color: #fff5f0\">&nbsp;el&nbsp;</span><span style=\"color: black; background-color: #fff5f0\">&nbsp;valle&nbsp;</span><span style=\"color: black; background-color: #fff5f0\">&nbsp;del&nbsp;</span><span style=\"color: black; background-color: #fff5f0\">&nbsp;cauca&nbsp;</span><span style=\"color: black; background-color: #fff5f0\">&nbsp;y&nbsp;</span><span style=\"color: black; background-color: #fff5f0\">&nbsp;el&nbsp;</span><span style=\"color: black; background-color: #fff5f0\">&nbsp;pacífico&nbsp;</span><span style=\"color: black; background-color: #fff5f0\">&nbsp;user&nbsp;</span><span style=\"color: black; background-color: #fff5f0\">&nbsp;user&nbsp;</span><span style=\"color: black; background-color: #fff5f0\">&nbsp;…&nbsp;</span><span style=\"color: black; background-color: #fff5f0\">&nbsp;<url>&nbsp;</span></div><div style=\"margin:4px 0;\"><span style=\"color: black; background-color: #f85f43\">&nbsp;#rapacífico&nbsp;</span><span style=\"color: black; background-color: #fb7353\">&nbsp;<url>&nbsp;</span></div><div style=\"margin:4px 0;\"><span style=\"color: black; background-color: #fff5f0\">&nbsp;que&nbsp;</span><span style=\"color: black; background-color: #fff5f0\">&nbsp;buena&nbsp;</span><span style=\"color: black; background-color: #fff5f0\">&nbsp;noticia&nbsp;</span><span style=\"color: black; background-color: #fff5f0\">&nbsp;para&nbsp;</span><span style=\"color: black; background-color: #fff5f0\">&nbsp;el&nbsp;</span><span style=\"color: black; background-color: #fff5f0\">&nbsp;pacífico&nbsp;</span><span style=\"color: black; background-color: #cc191e\">&nbsp;colombiano&nbsp;</span><span style=\"color: black; background-color: #fff5f0\">&nbsp;#rapacífico&nbsp;</span><span style=\"color: black; background-color: #fff5f0\">&nbsp;tenemos&nbsp;</span><span style=\"color: black; background-color: #fff5f0\">&nbsp;que&nbsp;</span><span style=\"color: black; background-color: #fff5f0\">&nbsp;trabajar&nbsp;</span><span style=\"color: black; background-color: #fff5f0\">&nbsp;unidos&nbsp;</span><span style=\"color: black; background-color: #fdd5c4\">&nbsp;user&nbsp;</span><span style=\"color: black; background-color: #fee6da\">&nbsp;user&nbsp;</span><span style=\"color: black; background-color: #fff5f0\">&nbsp;…&nbsp;</span><span style=\"color: black; background-color: #fff5f0\">&nbsp;<url>&nbsp;</span></div><div style=\"margin:4px 0;\"><span style=\"color: black; background-color: #fff5f0\">&nbsp;participando&nbsp;</span><span style=\"color: black; background-color: #fff5f0\">&nbsp;en&nbsp;</span><span style=\"color: black; background-color: #fff5f0\">&nbsp;el&nbsp;</span><span style=\"color: black; background-color: #fff5f0\">&nbsp;taller&nbsp;</span><span style=\"color: black; background-color: #fff5f0\">&nbsp;regional&nbsp;</span><span style=\"color: black; background-color: #fff4ef\">&nbsp;cadenas&nbsp;</span><span style=\"color: black; background-color: #fc8262\">&nbsp;de&nbsp;</span><span style=\"color: black; background-color: #fff3ed\">&nbsp;suministro&nbsp;</span><span style=\"color: black; background-color: #fff5f0\">&nbsp;responsable&nbsp;</span><span style=\"color: black; background-color: #fff5f0\">&nbsp;de&nbsp;</span><span style=\"color: black; background-color: #fff5f0\">&nbsp;minerales&nbsp;</span><span style=\"color: black; background-color: #fff5f0\">&nbsp;de&nbsp;</span><span style=\"color: black; background-color: #fff5f0\">&nbsp;la&nbsp;</span><span style=\"color: black; background-color: #f6553c\">&nbsp;user&nbsp;</span><span style=\"color: black; background-color: #fff5f0\">&nbsp;hablando&nbsp;</span><span style=\"color: black; background-color: #fff5f0\">&nbsp;del&nbsp;</span><span style=\"color: black; background-color: #fff5f0\">&nbsp;…&nbsp;</span><span style=\"color: black; background-color: #fff5f0\">&nbsp;<url>&nbsp;</span></div><div style=\"margin:4px 0;\"><span style=\"color: black; background-color: #fff5f0\">&nbsp;hablando&nbsp;</span><span style=\"color: black; background-color: #fcbda4\">&nbsp;de&nbsp;</span><span style=\"color: black; background-color: #fff5f0\">&nbsp;la&nbsp;</span><span style=\"color: black; background-color: #fff5f0\">&nbsp;utilidad&nbsp;</span><span style=\"color: black; background-color: #fff3ed\">&nbsp;de&nbsp;</span><span style=\"color: black; background-color: #fff5f0\">&nbsp;la&nbsp;</span><span style=\"color: black; background-color: #fff5f0\">&nbsp;información&nbsp;</span><span style=\"color: black; background-color: #fff4ef\">&nbsp;y&nbsp;</span><span style=\"color: black; background-color: #fff5f0\">&nbsp;el&nbsp;</span><span style=\"color: black; background-color: #fff5f0\">&nbsp;diálogo&nbsp;</span><span style=\"color: black; background-color: #fff5f0\">&nbsp;en&nbsp;</span><span style=\"color: black; background-color: #fff5f0\">&nbsp;el&nbsp;</span><span style=\"color: black; background-color: #fff2eb\">&nbsp;foro&nbsp;</span><span style=\"color: black; background-color: #dd2a25\">&nbsp;internacional&nbsp;</span><span style=\"color: black; background-color: #fff1ea\">&nbsp;\"&nbsp;</span><span style=\"color: black; background-color: #fff5f0\">&nbsp;comunicación&nbsp;</span><span style=\"color: black; background-color: #fff5f0\">&nbsp;para&nbsp;</span><span style=\"color: black; background-color: #fff5f0\">&nbsp;la&nbsp;</span><span style=\"color: black; background-color: #fff5f0\">&nbsp;transparencia&nbsp;</span><span style=\"color: black; background-color: #fff5f0\">&nbsp;…&nbsp;</span><span style=\"color: black; background-color: #fff5f0\">&nbsp;<url>&nbsp;</span></div><div style=\"margin:4px 0;\"><span style=\"color: black; background-color: #fff5f0\">&nbsp;acompañando&nbsp;</span><span style=\"color: black; background-color: #fff5f0\">&nbsp;a&nbsp;</span><span style=\"color: black; background-color: #fff5f0\">&nbsp;la&nbsp;</span><span style=\"color: black; background-color: #fff5f0\">&nbsp;asociación&nbsp;</span><span style=\"color: black; background-color: #fff5f0\">&nbsp;de&nbsp;</span><span style=\"color: black; background-color: #fff5f0\">&nbsp;zonas&nbsp;</span><span style=\"color: black; background-color: #fff5f0\">&nbsp;de&nbsp;</span><span style=\"color: black; background-color: #fff5f0\">&nbsp;desarrollo&nbsp;</span><span style=\"color: black; background-color: #fff5f0\">&nbsp;de&nbsp;</span><span style=\"color: black; background-color: #fff5f0\">&nbsp;china&nbsp;</span><span style=\"color: black; background-color: #fff5f0\">&nbsp;,&nbsp;</span><span style=\"color: black; background-color: #fff2ec\">&nbsp;muy&nbsp;</span><span style=\"color: black; background-color: #fff5f0\">&nbsp;interesados&nbsp;</span><span style=\"color: black; background-color: #fff5f0\">&nbsp;en&nbsp;</span><span style=\"color: black; background-color: #fff5f0\">&nbsp;el&nbsp;</span><span style=\"color: black; background-color: #fff5f0\">&nbsp;pacífico&nbsp;</span><span style=\"color: black; background-color: #8c0912\">&nbsp;colombiano&nbsp;</span><span style=\"color: black; background-color: #ffebe2\">&nbsp;user&nbsp;</span><span style=\"color: black; background-color: #fff5f0\">&nbsp;…&nbsp;</span><span style=\"color: black; background-color: #fff5f0\">&nbsp;<url>&nbsp;</span></div><div style=\"margin:4px 0;\"><span style=\"color: black; background-color: #fff5f0\">&nbsp;hablando&nbsp;</span><span style=\"color: black; background-color: #fff5f0\">&nbsp;de&nbsp;</span><span style=\"color: black; background-color: #fff5f0\">&nbsp;minería&nbsp;</span><span style=\"color: black; background-color: #fff5f0\">&nbsp;y&nbsp;</span><span style=\"color: black; background-color: #fff5f0\">&nbsp;conflictos&nbsp;</span><span style=\"color: black; background-color: #fff5f0\">&nbsp;sociales&nbsp;</span><span style=\"color: black; background-color: #fff5f0\">&nbsp;en&nbsp;</span><span style=\"color: black; background-color: #fff4ef\">&nbsp;user&nbsp;</span><span style=\"color: black; background-color: #fff5f0\">&nbsp;con&nbsp;</span><span style=\"color: black; background-color: #69000d\">&nbsp;user&nbsp;</span><span style=\"color: black; background-color: #fff5f0\">&nbsp;y&nbsp;</span><span style=\"color: black; background-color: #fff5f0\">&nbsp;países&nbsp;</span><span style=\"color: black; background-color: #fff5f0\">&nbsp;de&nbsp;</span><span style=\"color: black; background-color: #fff5f0\">&nbsp;la&nbsp;</span><span style=\"color: black; background-color: #fff5f0\">&nbsp;regional&nbsp;</span><span style=\"color: black; background-color: #fff5f0\">&nbsp;-&nbsp;</span><span style=\"color: black; background-color: #fff5f0\">&nbsp;construyendo&nbsp;</span><span style=\"color: black; background-color: #fff5f0\">&nbsp;capacid&nbsp;</span><span style=\"color: black; background-color: #fff5f0\">&nbsp;…&nbsp;</span><span style=\"color: black; background-color: #fff5f0\">&nbsp;<url>&nbsp;</span></div><div style=\"margin:4px 0;\"><span style=\"color: black; background-color: #fff5f0\">&nbsp;participando&nbsp;</span><span style=\"color: black; background-color: #fff5f0\">&nbsp;en&nbsp;</span><span style=\"color: black; background-color: #fff5f0\">&nbsp;diálogo&nbsp;</span><span style=\"color: black; background-color: #fff5f0\">&nbsp;regional&nbsp;</span><span style=\"color: black; background-color: #fff4ee\">&nbsp;sobre&nbsp;</span><span style=\"color: black; background-color: #fff5f0\">&nbsp;gobernanza&nbsp;</span><span style=\"color: black; background-color: #fff5f0\">&nbsp;de&nbsp;</span><span style=\"color: black; background-color: #fff5f0\">&nbsp;las&nbsp;</span><span style=\"color: black; background-color: #fff5f0\">&nbsp;industrias&nbsp;</span><span style=\"color: black; background-color: #fff5f0\">&nbsp;extractivas&nbsp;</span><span style=\"color: black; background-color: #fff5f0\">&nbsp;en&nbsp;</span><span style=\"color: black; background-color: #6d010e\">&nbsp;user&nbsp;</span><span style=\"color: black; background-color: #fff5f0\">&nbsp;<url>&nbsp;</span></div><div style=\"margin:4px 0;\"><span style=\"color: black; background-color: #fff4ef\">&nbsp;hoy&nbsp;</span><span style=\"color: black; background-color: #fff2ec\">&nbsp;firme&nbsp;</span><span style=\"color: black; background-color: #73030f\">&nbsp;por&nbsp;</span><span style=\"color: black; background-color: #fff5f0\">&nbsp;la&nbsp;</span><span style=\"color: black; background-color: #fff5f0\">&nbsp;transparencia&nbsp;</span><span style=\"color: black; background-color: #fff5f0\">&nbsp;en&nbsp;</span><span style=\"color: black; background-color: #fff5f0\">&nbsp;las&nbsp;</span><span style=\"color: black; background-color: #fff5f0\">&nbsp;industrias&nbsp;</span><span style=\"color: black; background-color: #fff5f0\">&nbsp;extractivas&nbsp;</span><span style=\"color: black; background-color: #fff5f0\">&nbsp;user&nbsp;</span><span style=\"color: black; background-color: #fff5f0\">&nbsp;#segundoreporte&nbsp;</span><span style=\"color: black; background-color: #fff5f0\">&nbsp;#eiticolombia&nbsp;</span><span style=\"color: black; background-color: #fff5f0\">&nbsp;<url>&nbsp;</span></div><div style=\"margin:4px 0;\"><span style=\"color: black; background-color: #67000d\">&nbsp;colombia&nbsp;</span><span style=\"color: black; background-color: #fff5f0\">&nbsp;le&nbsp;</span><span style=\"color: black; background-color: #fff5f0\">&nbsp;sigue&nbsp;</span><span style=\"color: black; background-color: #fff5f0\">&nbsp;diciendo&nbsp;</span><span style=\"color: black; background-color: #fff5f0\">&nbsp;sí&nbsp;</span><span style=\"color: black; background-color: #fff5f0\">&nbsp;a&nbsp;</span><span style=\"color: black; background-color: #fff5f0\">&nbsp;la&nbsp;</span><span style=\"color: black; background-color: #fff5f0\">&nbsp;transparencia&nbsp;</span><span style=\"color: black; background-color: #fff5f0\">&nbsp;en&nbsp;</span><span style=\"color: black; background-color: #fff5f0\">&nbsp;las&nbsp;</span><span style=\"color: black; background-color: #fff5f0\">&nbsp;industrias&nbsp;</span><span style=\"color: black; background-color: #fff5f0\">&nbsp;extractivas&nbsp;</span><span style=\"color: black; background-color: #fff5f0\">&nbsp;con&nbsp;</span><span style=\"color: black; background-color: #fff5f0\">&nbsp;user&nbsp;</span><span style=\"color: black; background-color: #fff5f0\">&nbsp;user&nbsp;</span><span style=\"color: black; background-color: #fff5f0\">&nbsp;user&nbsp;</span><span style=\"color: black; background-color: #fff5f0\">&nbsp;…&nbsp;</span><span style=\"color: black; background-color: #fff5f0\">&nbsp;<url>&nbsp;</span></div><div style=\"margin:4px 0;\"><span style=\"color: black; background-color: #fee1d3\">&nbsp;que&nbsp;</span><span style=\"color: black; background-color: #fff1ea\">&nbsp;bueno&nbsp;</span><span style=\"color: black; background-color: #fff0e8\">&nbsp;!&nbsp;</span><span style=\"color: black; background-color: #ffece4\">&nbsp;!&nbsp;</span><span style=\"color: black; background-color: #fff0e8\">&nbsp;felicitaciones&nbsp;</span><span style=\"color: black; background-color: #fff5f0\">&nbsp;a&nbsp;</span><span style=\"color: black; background-color: #fff5f0\">&nbsp;las&nbsp;</span><span style=\"color: black; background-color: #fff5f0\">&nbsp;autoridades&nbsp;</span><span style=\"color: black; background-color: #fc8666\">&nbsp;locales&nbsp;</span><span style=\"color: black; background-color: #ffede5\">&nbsp;,&nbsp;</span><span style=\"color: black; background-color: #fcc2aa\">&nbsp;nacionales&nbsp;</span><span style=\"color: black; background-color: #fff5f0\">&nbsp;y&nbsp;</span><span style=\"color: black; background-color: #fff5f0\">&nbsp;la&nbsp;</span><span style=\"color: black; background-color: #fff5f0\">&nbsp;empresa&nbsp;</span><span style=\"color: black; background-color: #fff5f0\">&nbsp;privada&nbsp;</span><span style=\"color: black; background-color: #fff5f0\">&nbsp;user&nbsp;</span><span style=\"color: black; background-color: #ffeee6\">&nbsp;user&nbsp;</span><span style=\"color: black; background-color: #fff5f0\">&nbsp;…&nbsp;</span><span style=\"color: black; background-color: #fff5f0\">&nbsp;<url>&nbsp;</span></div><div style=\"margin:4px 0;\"><span style=\"color: black; background-color: #fff5f0\">&nbsp;estuve&nbsp;</span><span style=\"color: black; background-color: #fff5f0\">&nbsp;en&nbsp;</span><span style=\"color: black; background-color: #67000d\">&nbsp;cali&nbsp;</span><span style=\"color: black; background-color: #fff5f0\">&nbsp;en&nbsp;</span><span style=\"color: black; background-color: #fff5f0\">&nbsp;reuniones&nbsp;</span><span style=\"color: black; background-color: #fff5f0\">&nbsp;con&nbsp;</span><span style=\"color: black; background-color: #fff5f0\">&nbsp;user&nbsp;</span><span style=\"color: black; background-color: #fff5f0\">&nbsp;feliz&nbsp;</span><span style=\"color: black; background-color: #fff5f0\">&nbsp;de&nbsp;</span><span style=\"color: black; background-color: #fff5f0\">&nbsp;poder&nbsp;</span><span style=\"color: black; background-color: #fff5f0\">&nbsp;contribuir&nbsp;</span><span style=\"color: black; background-color: #fff5f0\">&nbsp;a&nbsp;</span><span style=\"color: black; background-color: #fff5f0\">&nbsp;impulsar&nbsp;</span><span style=\"color: black; background-color: #fff5f0\">&nbsp;el&nbsp;</span><span style=\"color: black; background-color: #fff5f0\">&nbsp;desarrollo&nbsp;</span><span style=\"color: black; background-color: #fff5f0\">&nbsp;del&nbsp;</span><span style=\"color: black; background-color: #fff5f0\">&nbsp;pacífico&nbsp;</span><span style=\"color: black; background-color: #fff5f0\">&nbsp;user&nbsp;</span><span style=\"color: black; background-color: #fff5f0\">&nbsp;user&nbsp;</span></div><div style=\"margin:4px 0;\"><span style=\"color: black; background-color: #fff5f0\">&nbsp;hoy&nbsp;</span><span style=\"color: black; background-color: #71020e\">&nbsp;corrí&nbsp;</span><span style=\"color: black; background-color: #fff5f0\">&nbsp;por&nbsp;</span><span style=\"color: black; background-color: #fff5f0\">&nbsp;los&nbsp;</span><span style=\"color: black; background-color: #fff5f0\">&nbsp;niños&nbsp;</span><span style=\"color: black; background-color: #fff3ed\">&nbsp;de&nbsp;</span><span style=\"color: black; background-color: #fff5f0\">&nbsp;la&nbsp;</span><span style=\"color: black; background-color: #fff4ef\">&nbsp;guajira&nbsp;</span><span style=\"color: black; background-color: #fff5f0\">&nbsp;#carreraunicef10k&nbsp;</span><span style=\"color: black; background-color: #fff5f0\">&nbsp;<url>&nbsp;</span></div><div style=\"margin:4px 0;\"><span style=\"color: black; background-color: #fff5f0\">&nbsp;seguimos&nbsp;</span><span style=\"color: black; background-color: #fff4ef\">&nbsp;contribuyendo&nbsp;</span><span style=\"color: black; background-color: #fff5f0\">&nbsp;con&nbsp;</span><span style=\"color: black; background-color: #fff5f0\">&nbsp;la&nbsp;</span><span style=\"color: black; background-color: #fff5f0\">&nbsp;transparencia&nbsp;</span><span style=\"color: black; background-color: #fff5f0\">&nbsp;de&nbsp;</span><span style=\"color: black; background-color: #fff5f0\">&nbsp;las&nbsp;</span><span style=\"color: black; background-color: #fff5f0\">&nbsp;industrias&nbsp;</span><span style=\"color: black; background-color: #fff5f0\">&nbsp;extractivas&nbsp;</span><span style=\"color: black; background-color: #fff5f0\">&nbsp;en&nbsp;</span><span style=\"color: black; background-color: #69000d\">&nbsp;user&nbsp;</span><span style=\"color: black; background-color: #fff5f0\">&nbsp;participando&nbsp;</span><span style=\"color: black; background-color: #fff5f0\">&nbsp;en&nbsp;</span><span style=\"color: black; background-color: #fff5f0\">&nbsp;la&nbsp;</span><span style=\"color: black; background-color: #fff5f0\">&nbsp;junta&nbsp;</span><span style=\"color: black; background-color: #fff5f0\">&nbsp;dire&nbsp;</span><span style=\"color: black; background-color: #fff5f0\">&nbsp;…&nbsp;</span><span style=\"color: black; background-color: #fff5f0\">&nbsp;<url>&nbsp;</span></div><div style=\"margin:4px 0;\"><span style=\"color: black; background-color: #fff5f0\">&nbsp;excelente&nbsp;</span><span style=\"color: black; background-color: #fff5f0\">&nbsp;análisis&nbsp;</span><span style=\"color: black; background-color: #fff5f0\">&nbsp;!&nbsp;</span><span style=\"color: black; background-color: #fff5f0\">&nbsp;vale&nbsp;</span><span style=\"color: black; background-color: #fff5f0\">&nbsp;la&nbsp;</span><span style=\"color: black; background-color: #fff5f0\">&nbsp;pena&nbsp;</span><span style=\"color: black; background-color: #fff5f0\">&nbsp;leer&nbsp;</span><span style=\"color: black; background-color: #fff5f0\">&nbsp;este&nbsp;</span><span style=\"color: black; background-color: #fff5f0\">&nbsp;artículo&nbsp;</span><span style=\"color: black; background-color: #fff5f0\">&nbsp;en&nbsp;</span><span style=\"color: black; background-color: #fff5f0\">&nbsp;user&nbsp;</span><span style=\"color: black; background-color: #fff0e8\">&nbsp;user&nbsp;</span><span style=\"color: black; background-color: #fcbca2\">&nbsp;user&nbsp;</span><span style=\"color: black; background-color: #d42121\">&nbsp;user&nbsp;</span><span style=\"color: black; background-color: #fff5f0\">&nbsp;…&nbsp;</span><span style=\"color: black; background-color: #fff5f0\">&nbsp;<url>&nbsp;</span></div><div style=\"margin:4px 0;\"><span style=\"color: black; background-color: #fff5f0\">&nbsp;si&nbsp;</span><span style=\"color: black; background-color: #fff5f0\">&nbsp;hay&nbsp;</span><span style=\"color: black; background-color: #fff5f0\">&nbsp;política&nbsp;</span><span style=\"color: black; background-color: #fff5f0\">&nbsp;minera&nbsp;</span><span style=\"color: black; background-color: #fff5f0\">&nbsp;en&nbsp;</span><span style=\"color: black; background-color: #67000d\">&nbsp;colombia&nbsp;</span><span style=\"color: black; background-color: #fff5f0\">&nbsp;,&nbsp;</span><span style=\"color: black; background-color: #fff5f0\">&nbsp;otra&nbsp;</span><span style=\"color: black; background-color: #fff5f0\">&nbsp;cosa&nbsp;</span><span style=\"color: black; background-color: #fff5f0\">&nbsp;es&nbsp;</span><span style=\"color: black; background-color: #fff5f0\">&nbsp;que&nbsp;</span><span style=\"color: black; background-color: #fff5f0\">&nbsp;algunos&nbsp;</span><span style=\"color: black; background-color: #fff5f0\">&nbsp;magistrados&nbsp;</span><span style=\"color: black; background-color: #fff5f0\">&nbsp;no&nbsp;</span><span style=\"color: black; background-color: #fff5f0\">&nbsp;la&nbsp;</span><span style=\"color: black; background-color: #fff5f0\">&nbsp;compartan&nbsp;</span><span style=\"color: black; background-color: #fff5f0\">&nbsp;!&nbsp;</span><span style=\"color: black; background-color: #fff5f0\">&nbsp;<url>&nbsp;</span><span style=\"color: black; background-color: #fff5f0\">&nbsp;user&nbsp;</span><span style=\"color: black; background-color: #fff5f0\">&nbsp;user&nbsp;</span></div><div style=\"margin:4px 0;\"><span style=\"color: black; background-color: #fff5f0\">&nbsp;gracias&nbsp;</span><span style=\"color: black; background-color: #ffece3\">&nbsp;user&nbsp;</span><span style=\"color: black; background-color: #fff5f0\">&nbsp;por&nbsp;</span><span style=\"color: black; background-color: #fff5f0\">&nbsp;su&nbsp;</span><span style=\"color: black; background-color: #fff5f0\">&nbsp;defensa&nbsp;</span><span style=\"color: black; background-color: #fff5f0\">&nbsp;al&nbsp;</span><span style=\"color: black; background-color: #880811\">&nbsp;sector&nbsp;</span><span style=\"color: black; background-color: #fff4ef\">&nbsp;minero&nbsp;</span><span style=\"color: black; background-color: #fff5f0\">&nbsp;!&nbsp;</span><span style=\"color: black; background-color: #fff5f0\">&nbsp;no&nbsp;</span><span style=\"color: black; background-color: #fff5f0\">&nbsp;más&nbsp;</span><span style=\"color: black; background-color: #fff5f0\">&nbsp;inseguridad&nbsp;</span><span style=\"color: black; background-color: #fff5f0\">&nbsp;jurídica&nbsp;</span><span style=\"color: black; background-color: #fff5f0\">&nbsp;por&nbsp;</span><span style=\"color: black; background-color: #fff5f0\">&nbsp;decisiones&nbsp;</span><span style=\"color: black; background-color: #fff5f0\">&nbsp;judiciales&nbsp;</span><span style=\"color: black; background-color: #fff5f0\">&nbsp;<url>&nbsp;</span></div><div style=\"margin:4px 0;\"><span style=\"color: black; background-color: #fff5f0\">&nbsp;consejo&nbsp;</span><span style=\"color: black; background-color: #fff5f0\">&nbsp;de&nbsp;</span><span style=\"color: black; background-color: #fff5f0\">&nbsp;e&nbsp;</span><span style=\"color: black; background-color: #fff5f0\">&nbsp;suspendió&nbsp;</span><span style=\"color: black; background-color: #fff5f0\">&nbsp;provisionalmente&nbsp;</span><span style=\"color: black; background-color: #fff5f0\">&nbsp;la&nbsp;</span><span style=\"color: black; background-color: #fff5f0\">&nbsp;consulta&nbsp;</span><span style=\"color: black; background-color: #fff5f0\">&nbsp;popular&nbsp;</span><span style=\"color: black; background-color: #fff5f0\">&nbsp;minera&nbsp;</span><span style=\"color: black; background-color: #fff5f0\">&nbsp;en&nbsp;</span><span style=\"color: black; background-color: #67000d\">&nbsp;ibague&nbsp;</span><span style=\"color: black; background-color: #fff5f0\">&nbsp;!&nbsp;</span><span style=\"color: black; background-color: #fff5f0\">&nbsp;por&nbsp;</span><span style=\"color: black; background-color: #fff5f0\">&nbsp;fin&nbsp;</span><span style=\"color: black; background-color: #fff5f0\">&nbsp;una&nbsp;</span><span style=\"color: black; background-color: #fff5f0\">&nbsp;decisión&nbsp;</span><span style=\"color: black; background-color: #fff5f0\">&nbsp;judicial&nbsp;</span><span style=\"color: black; background-color: #fff5f0\">&nbsp;sensata&nbsp;</span><span style=\"color: black; background-color: #fff5f0\">&nbsp;<url>&nbsp;</span></div><div style=\"margin:4px 0;\"><span style=\"color: black; background-color: #fff5f0\">&nbsp;por&nbsp;</span><span style=\"color: black; background-color: #fff5f0\">&nbsp;fin&nbsp;</span><span style=\"color: black; background-color: #fff5f0\">&nbsp;una&nbsp;</span><span style=\"color: black; background-color: #fff5f0\">&nbsp;decisión&nbsp;</span><span style=\"color: black; background-color: #fff5f0\">&nbsp;judicial&nbsp;</span><span style=\"color: black; background-color: #fff5f0\">&nbsp;sensata&nbsp;</span><span style=\"color: black; background-color: #fff5f0\">&nbsp;relacionada&nbsp;</span><span style=\"color: black; background-color: #fff5f0\">&nbsp;con&nbsp;</span><span style=\"color: black; background-color: #fff5f0\">&nbsp;temas&nbsp;</span><span style=\"color: black; background-color: #fff4ef\">&nbsp;mineros&nbsp;</span><span style=\"color: black; background-color: #fff5f0\">&nbsp;<url>&nbsp;</span><span style=\"color: black; background-color: #fff5f0\">&nbsp;user&nbsp;</span><span style=\"color: black; background-color: #ffefe8\">&nbsp;user&nbsp;</span><span style=\"color: black; background-color: #fcbfa7\">&nbsp;user&nbsp;</span><span style=\"color: black; background-color: #d42121\">&nbsp;user&nbsp;</span></div><div style=\"margin:4px 0;\"><span style=\"color: black; background-color: #fff5f0\">&nbsp;hoy&nbsp;</span><span style=\"color: black; background-color: #fff5f0\">&nbsp;hablando&nbsp;</span><span style=\"color: black; background-color: #fff5f0\">&nbsp;de&nbsp;</span><span style=\"color: black; background-color: #fff5f0\">&nbsp;#mineríabienhecha&nbsp;</span><span style=\"color: black; background-color: #fff5f0\">&nbsp;en&nbsp;</span><span style=\"color: black; background-color: #fee4d8\">&nbsp;foro&nbsp;</span><span style=\"color: black; background-color: #ffeee7\">&nbsp;de&nbsp;</span><span style=\"color: black; background-color: #fff5f0\">&nbsp;la&nbsp;</span><span style=\"color: black; background-color: #ab1016\">&nbsp;user&nbsp;</span><span style=\"color: black; background-color: #fff5f0\">&nbsp;<url>&nbsp;</span></div><div style=\"margin:4px 0;\"><span style=\"color: black; background-color: #ffece3\">&nbsp;información&nbsp;</span><span style=\"color: black; background-color: #fcc4ad\">&nbsp;sobre&nbsp;</span><span style=\"color: black; background-color: #fff5f0\">&nbsp;pagos&nbsp;</span><span style=\"color: black; background-color: #fff4ee\">&nbsp;y&nbsp;</span><span style=\"color: black; background-color: #fff5f0\">&nbsp;contribuciones&nbsp;</span><span style=\"color: black; background-color: #fff5f0\">&nbsp;del&nbsp;</span><span style=\"color: black; background-color: #ffefe8\">&nbsp;sector&nbsp;</span><span style=\"color: black; background-color: #fff5f0\">&nbsp;extractivo&nbsp;</span><span style=\"color: black; background-color: #fff5f0\">&nbsp;consulte&nbsp;</span><span style=\"color: black; background-color: #fff5f0\">&nbsp;el&nbsp;</span><span style=\"color: black; background-color: #fff3ed\">&nbsp;#informeeiti2013&nbsp;</span><span style=\"color: black; background-color: #fedaca\">&nbsp;#mineríabienhecha&nbsp;</span><span style=\"color: black; background-color: #fa6547\">&nbsp;<url>&nbsp;</span></div><div style=\"margin:4px 0;\"><span style=\"color: black; background-color: #fff5f0\">&nbsp;#mineríabienhecha&nbsp;</span><span style=\"color: black; background-color: #fff5f0\">&nbsp;para&nbsp;</span><span style=\"color: black; background-color: #fff5f0\">&nbsp;mí&nbsp;</span><span style=\"color: black; background-color: #fff4ee\">&nbsp;es&nbsp;</span><span style=\"color: black; background-color: #fff4ef\">&nbsp;la&nbsp;</span><span style=\"color: black; background-color: #fff5f0\">&nbsp;que&nbsp;</span><span style=\"color: black; background-color: #fff5f0\">&nbsp;es&nbsp;</span><span style=\"color: black; background-color: #fff5f0\">&nbsp;legal&nbsp;</span><span style=\"color: black; background-color: #fff5f0\">&nbsp;,&nbsp;</span><span style=\"color: black; background-color: #fff5f0\">&nbsp;cuida&nbsp;</span><span style=\"color: black; background-color: #fff5f0\">&nbsp;y&nbsp;</span><span style=\"color: black; background-color: #fff5f0\">&nbsp;respeta&nbsp;</span><span style=\"color: black; background-color: #fff5f0\">&nbsp;el&nbsp;</span><span style=\"color: black; background-color: #fff5f0\">&nbsp;medio&nbsp;</span><span style=\"color: black; background-color: #f34935\">&nbsp;ambiente&nbsp;</span><span style=\"color: black; background-color: #fca285\">&nbsp;y&nbsp;</span><span style=\"color: black; background-color: #fff2eb\">&nbsp;genera&nbsp;</span><span style=\"color: black; background-color: #fff5f0\">&nbsp;desarrollo&nbsp;</span><span style=\"color: black; background-color: #fff4ef\">&nbsp;nacional&nbsp;</span><span style=\"color: black; background-color: #fff1ea\">&nbsp;y&nbsp;</span><span style=\"color: black; background-color: #fff3ed\">&nbsp;regi&nbsp;</span><span style=\"color: black; background-color: #fff5f0\">&nbsp;…&nbsp;</span><span style=\"color: black; background-color: #fff5f0\">&nbsp;<url>&nbsp;</span></div><div style=\"margin:4px 0;\"><span style=\"color: black; background-color: #fff5f0\">&nbsp;#mineríabienhecha&nbsp;</span><span style=\"color: black; background-color: #fff5f0\">&nbsp;para&nbsp;</span><span style=\"color: black; background-color: #fff5f0\">&nbsp;mí&nbsp;</span><span style=\"color: black; background-color: #fff4ee\">&nbsp;es&nbsp;</span><span style=\"color: black; background-color: #fff4ef\">&nbsp;la&nbsp;</span><span style=\"color: black; background-color: #fff5f0\">&nbsp;que&nbsp;</span><span style=\"color: black; background-color: #fff5f0\">&nbsp;es&nbsp;</span><span style=\"color: black; background-color: #fff5f0\">&nbsp;legal&nbsp;</span><span style=\"color: black; background-color: #fff5f0\">&nbsp;,&nbsp;</span><span style=\"color: black; background-color: #fff5f0\">&nbsp;cuida&nbsp;</span><span style=\"color: black; background-color: #fff5f0\">&nbsp;y&nbsp;</span><span style=\"color: black; background-color: #fff5f0\">&nbsp;respeta&nbsp;</span><span style=\"color: black; background-color: #fff5f0\">&nbsp;el&nbsp;</span><span style=\"color: black; background-color: #fff5f0\">&nbsp;medio&nbsp;</span><span style=\"color: black; background-color: #f34935\">&nbsp;ambiente&nbsp;</span><span style=\"color: black; background-color: #fca285\">&nbsp;y&nbsp;</span><span style=\"color: black; background-color: #fff2eb\">&nbsp;genera&nbsp;</span><span style=\"color: black; background-color: #fff5f0\">&nbsp;desarrollo&nbsp;</span><span style=\"color: black; background-color: #fff4ef\">&nbsp;nacional&nbsp;</span><span style=\"color: black; background-color: #fff1ea\">&nbsp;y&nbsp;</span><span style=\"color: black; background-color: #fff3ed\">&nbsp;regi&nbsp;</span><span style=\"color: black; background-color: #fff5f0\">&nbsp;…&nbsp;</span><span style=\"color: black; background-color: #fff5f0\">&nbsp;<url>&nbsp;</span></div><div style=\"margin:4px 0;\"><span style=\"color: black; background-color: #fc9070\">&nbsp;user&nbsp;</span><span style=\"color: black; background-color: #fff5f0\">&nbsp;siempre&nbsp;</span><span style=\"color: black; background-color: #fff5f0\">&nbsp;estaré&nbsp;</span><span style=\"color: black; background-color: #fff5f0\">&nbsp;lista&nbsp;</span><span style=\"color: black; background-color: #fff5f0\">&nbsp;para&nbsp;</span><span style=\"color: black; background-color: #fff5f0\">&nbsp;apoyar&nbsp;</span><span style=\"color: black; background-color: #fff5f0\">&nbsp;al&nbsp;</span><span style=\"color: black; background-color: #fff2ec\">&nbsp;sector&nbsp;</span><span style=\"color: black; background-color: #fff5f0\">&nbsp;y&nbsp;</span><span style=\"color: black; background-color: #fff5f0\">&nbsp;a&nbsp;</span><span style=\"color: black; background-color: #fff5f0\">&nbsp;la&nbsp;</span><span style=\"color: black; background-color: #fff5f0\">&nbsp;#mineríabienhecha&nbsp;</span><span style=\"color: black; background-color: #f24633\">&nbsp;user&nbsp;</span><span style=\"color: black; background-color: #fff5f0\">&nbsp;<url>&nbsp;</span></div><div style=\"margin:4px 0;\"><span style=\"color: black; background-color: #fff5f0\">&nbsp;#votosi&nbsp;</span><span style=\"color: black; background-color: #fff5f0\">&nbsp;con&nbsp;</span><span style=\"color: black; background-color: #fff5f0\">&nbsp;esperanza&nbsp;</span><span style=\"color: black; background-color: #fff5f0\">&nbsp;!&nbsp;</span><span style=\"color: black; background-color: #fff5f0\">&nbsp;porque&nbsp;</span><span style=\"color: black; background-color: #fff5f0\">&nbsp;quiero&nbsp;</span><span style=\"color: black; background-color: #fff5f0\">&nbsp;pensar&nbsp;</span><span style=\"color: black; background-color: #fff5f0\">&nbsp;que&nbsp;</span><span style=\"color: black; background-color: #fff5f0\">&nbsp;vendrá&nbsp;</span><span style=\"color: black; background-color: #fff5f0\">&nbsp;un&nbsp;</span><span style=\"color: black; background-color: #fff5f0\">&nbsp;mejor&nbsp;</span><span style=\"color: black; background-color: #67000d\">&nbsp;país&nbsp;</span><span style=\"color: black; background-color: #fff5f0\">&nbsp;para&nbsp;</span><span style=\"color: black; background-color: #fff5f0\">&nbsp;todos&nbsp;</span><span style=\"color: black; background-color: #fff5f0\">&nbsp;!&nbsp;</span><span style=\"color: black; background-color: #fff5f0\">&nbsp;<url>&nbsp;</span></div><div style=\"margin:4px 0;\"><span style=\"color: black; background-color: #d01d1f\">&nbsp;esta&nbsp;</span><span style=\"color: black; background-color: #fff4ee\">&nbsp;es&nbsp;</span><span style=\"color: black; background-color: #fff5f0\">&nbsp;una&nbsp;</span><span style=\"color: black; background-color: #fff5f0\">&nbsp;realidad&nbsp;</span><span style=\"color: black; background-color: #fff5f0\">&nbsp;que&nbsp;</span><span style=\"color: black; background-color: #fff5f0\">&nbsp;se&nbsp;</span><span style=\"color: black; background-color: #fff5f0\">&nbsp;debe&nbsp;</span><span style=\"color: black; background-color: #fff5f0\">&nbsp;combatir&nbsp;</span><span style=\"color: black; background-color: #fff5f0\">&nbsp;!&nbsp;</span><span style=\"color: black; background-color: #fff5f0\">&nbsp;acabar&nbsp;</span><span style=\"color: black; background-color: #fff5f0\">&nbsp;con&nbsp;</span><span style=\"color: black; background-color: #fff5f0\">&nbsp;la&nbsp;</span><span style=\"color: black; background-color: #ffece3\">&nbsp;minería&nbsp;</span><span style=\"color: black; background-color: #fff5f0\">&nbsp;ilegal&nbsp;</span><span style=\"color: black; background-color: #fff5f0\">&nbsp;es&nbsp;</span><span style=\"color: black; background-color: #fff5f0\">&nbsp;una&nbsp;</span><span style=\"color: black; background-color: #fff5f0\">&nbsp;responsabilidad&nbsp;</span><span style=\"color: black; background-color: #fff5f0\">&nbsp;de&nbsp;</span><span style=\"color: black; background-color: #fff5f0\">&nbsp;toda&nbsp;</span><span style=\"color: black; background-color: #fff5f0\">&nbsp;la&nbsp;</span><span style=\"color: black; background-color: #fff5f0\">&nbsp;cadena&nbsp;</span><span style=\"color: black; background-color: #fdccb8\">&nbsp;d&nbsp;</span><span style=\"color: black; background-color: #fff5f0\">&nbsp;…&nbsp;</span><span style=\"color: black; background-color: #fff5f0\">&nbsp;<url>&nbsp;</span></div><div style=\"margin:4px 0;\"><span style=\"color: black; background-color: #fff5f0\">&nbsp;la&nbsp;</span><span style=\"color: black; background-color: #fff5f0\">&nbsp;minería&nbsp;</span><span style=\"color: black; background-color: #fff5f0\">&nbsp;es&nbsp;</span><span style=\"color: black; background-color: #fff5f0\">&nbsp;fundamental&nbsp;</span><span style=\"color: black; background-color: #fff5f0\">&nbsp;para&nbsp;</span><span style=\"color: black; background-color: #fff5f0\">&nbsp;el&nbsp;</span><span style=\"color: black; background-color: #fff5f0\">&nbsp;desarrollo&nbsp;</span><span style=\"color: black; background-color: #fff5f0\">&nbsp;de&nbsp;</span><span style=\"color: black; background-color: #67000d\">&nbsp;colombia&nbsp;</span><span style=\"color: black; background-color: #fff5f0\">&nbsp;#feriaminera&nbsp;</span><span style=\"color: black; background-color: #fff5f0\">&nbsp;user&nbsp;</span><span style=\"color: black; background-color: #fff5f0\">&nbsp;user&nbsp;</span><span style=\"color: black; background-color: #fff5f0\">&nbsp;user&nbsp;</span><span style=\"color: black; background-color: #fff5f0\">&nbsp;<url>&nbsp;</span></div><div style=\"margin:4px 0;\"><span style=\"color: black; background-color: #fff2eb\">&nbsp;gracias&nbsp;</span><span style=\"color: black; background-color: #7a0510\">&nbsp;user&nbsp;</span><span style=\"color: black; background-color: #fff5f0\">&nbsp;por&nbsp;</span><span style=\"color: black; background-color: #fff5f0\">&nbsp;defender&nbsp;</span><span style=\"color: black; background-color: #fff5f0\">&nbsp;la&nbsp;</span><span style=\"color: black; background-color: #fff5f0\">&nbsp;#mineríabienhecha&nbsp;</span><span style=\"color: black; background-color: #fff5f0\">&nbsp;en&nbsp;</span><span style=\"color: black; background-color: #fff5f0\">&nbsp;todos&nbsp;</span><span style=\"color: black; background-color: #fff5f0\">&nbsp;los&nbsp;</span><span style=\"color: black; background-color: #fff5f0\">&nbsp;escenarios&nbsp;</span><span style=\"color: black; background-color: #fff2ec\">&nbsp;user&nbsp;</span><span style=\"color: black; background-color: #fff5f0\">&nbsp;debe&nbsp;</span><span style=\"color: black; background-color: #fff5f0\">&nbsp;entender&nbsp;</span><span style=\"color: black; background-color: #fff5f0\">&nbsp;mejor&nbsp;</span><span style=\"color: black; background-color: #fff5f0\">&nbsp;…&nbsp;</span><span style=\"color: black; background-color: #fff5f0\">&nbsp;<url>&nbsp;</span></div><div style=\"margin:4px 0;\"><span style=\"color: black; background-color: #fff5f0\">&nbsp;user&nbsp;</span><span style=\"color: black; background-color: #fff5f0\">&nbsp;user&nbsp;</span><span style=\"color: black; background-color: #fff5f0\">&nbsp;user&nbsp;</span><span style=\"color: black; background-color: #67000d\">&nbsp;estoy&nbsp;</span><span style=\"color: black; background-color: #fff5f0\">&nbsp;lista&nbsp;</span><span style=\"color: black; background-color: #fff5f0\">&nbsp;para&nbsp;</span><span style=\"color: black; background-color: #fff5f0\">&nbsp;cuando&nbsp;</span><span style=\"color: black; background-color: #fff5f0\">&nbsp;digan&nbsp;</span><span style=\"color: black; background-color: #fff5f0\">&nbsp;!&nbsp;</span></div><div style=\"margin:4px 0;\"><span style=\"color: black; background-color: #fedfd0\">&nbsp;esta&nbsp;</span><span style=\"color: black; background-color: #ffece4\">&nbsp;es&nbsp;</span><span style=\"color: black; background-color: #fff4ef\">&nbsp;nuestra&nbsp;</span><span style=\"color: black; background-color: #fff5f0\">&nbsp;#buenaminería&nbsp;</span><span style=\"color: black; background-color: #fff5f0\">&nbsp;#mineríabienhecha&nbsp;</span><span style=\"color: black; background-color: #fff4ee\">&nbsp;user&nbsp;</span><span style=\"color: black; background-color: #fdd1be\">&nbsp;user&nbsp;</span><span style=\"color: black; background-color: #ef3c2c\">&nbsp;user&nbsp;</span><span style=\"color: black; background-color: #fff5f0\">&nbsp;<url>&nbsp;</span></div><div style=\"margin:4px 0;\"><span style=\"color: black; background-color: #fff5f0\">&nbsp;construyendo&nbsp;</span><span style=\"color: black; background-color: #fff5f0\">&nbsp;hojas&nbsp;</span><span style=\"color: black; background-color: #fff5f0\">&nbsp;de&nbsp;</span><span style=\"color: black; background-color: #fff5f0\">&nbsp;ruta&nbsp;</span><span style=\"color: black; background-color: #fff5f0\">&nbsp;nacionales&nbsp;</span><span style=\"color: black; background-color: #fff5f0\">&nbsp;en&nbsp;</span><span style=\"color: black; background-color: #fff5f0\">&nbsp;el&nbsp;</span><span style=\"color: black; background-color: #fff5f0\">&nbsp;taller&nbsp;</span><span style=\"color: black; background-color: #fff5f0\">&nbsp;sobre&nbsp;</span><span style=\"color: black; background-color: #fff5f0\">&nbsp;beneficiarios&nbsp;</span><span style=\"color: black; background-color: #fff5f0\">&nbsp;reales&nbsp;</span><span style=\"color: black; background-color: #fff5f0\">&nbsp;en&nbsp;</span><span style=\"color: black; background-color: #67000d\">&nbsp;user&nbsp;</span><span style=\"color: black; background-color: #fff5f0\">&nbsp;más&nbsp;</span><span style=\"color: black; background-color: #fff5f0\">&nbsp;transparencia&nbsp;</span><span style=\"color: black; background-color: #fff5f0\">&nbsp;en&nbsp;</span><span style=\"color: black; background-color: #fff5f0\">&nbsp;el&nbsp;</span><span style=\"color: black; background-color: #fff5f0\">&nbsp;s&nbsp;</span><span style=\"color: black; background-color: #fff5f0\">&nbsp;…&nbsp;</span><span style=\"color: black; background-color: #fff5f0\">&nbsp;<url>&nbsp;</span></div><div style=\"margin:4px 0;\"><span style=\"color: black; background-color: #fff5f0\">&nbsp;imposible&nbsp;</span><span style=\"color: black; background-color: #fff5f0\">&nbsp;no&nbsp;</span><span style=\"color: black; background-color: #fff5f0\">&nbsp;emocionarse&nbsp;</span><span style=\"color: black; background-color: #fff5f0\">&nbsp;#firmadelapaz&nbsp;</span><span style=\"color: black; background-color: #fff4ee\">&nbsp;user&nbsp;</span><span style=\"color: black; background-color: #fdc9b3\">&nbsp;user&nbsp;</span><span style=\"color: black; background-color: #c1161b\">&nbsp;user&nbsp;</span><span style=\"color: black; background-color: #fff5f0\">&nbsp;<url>&nbsp;</span></div><div style=\"margin:4px 0;\"><span style=\"color: black; background-color: #fff5f0\">&nbsp;#felisidad&nbsp;</span><span style=\"color: black; background-color: #fff0e9\">&nbsp;nada&nbsp;</span><span style=\"color: black; background-color: #fee7dc\">&nbsp;que&nbsp;</span><span style=\"color: black; background-color: #fff5f0\">&nbsp;hacer&nbsp;</span><span style=\"color: black; background-color: #fff5f0\">&nbsp;!&nbsp;</span><span style=\"color: black; background-color: #fff5f0\">&nbsp;esperanza&nbsp;</span><span style=\"color: black; background-color: #a91016\">&nbsp;mucha&nbsp;</span><span style=\"color: black; background-color: #fff5f0\">&nbsp;esperanza&nbsp;</span><span style=\"color: black; background-color: #fff2ec\">&nbsp;!&nbsp;</span><span style=\"color: black; background-color: #fff5f0\">&nbsp;#firmadelapaz&nbsp;</span></div><div style=\"margin:4px 0;\"><span style=\"color: black; background-color: #feeae1\">&nbsp;participe&nbsp;</span><span style=\"color: black; background-color: #fff5f0\">&nbsp;en&nbsp;</span><span style=\"color: black; background-color: #fff5f0\">&nbsp;el&nbsp;</span><span style=\"color: black; background-color: #fff5f0\">&nbsp;taller&nbsp;</span><span style=\"color: black; background-color: #fff5f0\">&nbsp;sobre&nbsp;</span><span style=\"color: black; background-color: #fff5f0\">&nbsp;beneficiarios&nbsp;</span><span style=\"color: black; background-color: #fff5f0\">&nbsp;reales&nbsp;</span><span style=\"color: black; background-color: #fff5f0\">&nbsp;en&nbsp;</span><span style=\"color: black; background-color: #fff5f0\">&nbsp;el&nbsp;</span><span style=\"color: black; background-color: #fff5f0\">&nbsp;contexto&nbsp;</span><span style=\"color: black; background-color: #fff5f0\">&nbsp;de&nbsp;</span><span style=\"color: black; background-color: #fdd5c4\">&nbsp;user&nbsp;</span><span style=\"color: black; background-color: #c9181d\">&nbsp;sigue&nbsp;</span><span style=\"color: black; background-color: #fff5f0\">&nbsp;el&nbsp;</span><span style=\"color: black; background-color: #fff4ef\">&nbsp;trabajo&nbsp;</span><span style=\"color: black; background-color: #fff4ee\">&nbsp;por&nbsp;</span><span style=\"color: black; background-color: #fff5f0\">&nbsp;la&nbsp;</span><span style=\"color: black; background-color: #fff5f0\">&nbsp;transparencia&nbsp;</span><span style=\"color: black; background-color: #fff5f0\">&nbsp;…&nbsp;</span><span style=\"color: black; background-color: #fff5f0\">&nbsp;<url>&nbsp;</span></div><div style=\"margin:4px 0;\"><span style=\"color: black; background-color: #fff5f0\">&nbsp;hoy&nbsp;</span><span style=\"color: black; background-color: #67000d\">&nbsp;corrí&nbsp;</span><span style=\"color: black; background-color: #fff5f0\">&nbsp;la&nbsp;</span><span style=\"color: black; background-color: #fff5f0\">&nbsp;#carreradelamujer&nbsp;</span><span style=\"color: black; background-color: #fff5f0\">&nbsp;!&nbsp;</span><span style=\"color: black; background-color: #fff5f0\">&nbsp;10k&nbsp;</span><span style=\"color: black; background-color: #fff5f0\">&nbsp;🏃&nbsp;</span><span style=\"color: black; background-color: #fff5f0\">&nbsp;🏃&nbsp;</span><span style=\"color: black; background-color: #fff5f0\">&nbsp;<url>&nbsp;</span></div><div style=\"margin:4px 0;\"><span style=\"color: black; background-color: #fff5f0\">&nbsp;excelentes&nbsp;</span><span style=\"color: black; background-color: #fff5f0\">&nbsp;funcionarios&nbsp;</span><span style=\"color: black; background-color: #fff5f0\">&nbsp;.&nbsp;</span><span style=\"color: black; background-color: #fff5f0\">&nbsp;un&nbsp;</span><span style=\"color: black; background-color: #fff5f0\">&nbsp;gran&nbsp;</span><span style=\"color: black; background-color: #69000d\">&nbsp;equipo&nbsp;</span><span style=\"color: black; background-color: #fff5f0\">&nbsp;!&nbsp;</span><span style=\"color: black; background-color: #fff5f0\">&nbsp;👏🏻&nbsp;</span><span style=\"color: black; background-color: #fff5f0\">&nbsp;👏🏻&nbsp;</span><span style=\"color: black; background-color: #fff5f0\">&nbsp;👏🏻&nbsp;</span><span style=\"color: black; background-color: #fff5f0\">&nbsp;user&nbsp;</span><span style=\"color: black; background-color: #fff4ef\">&nbsp;user&nbsp;</span><span style=\"color: black; background-color: #fff5f0\">&nbsp;<url>&nbsp;</span></div><div style=\"margin:4px 0;\"><span style=\"color: black; background-color: #fff5f0\">&nbsp;será&nbsp;</span><span style=\"color: black; background-color: #fff1ea\">&nbsp;que&nbsp;</span><span style=\"color: black; background-color: #fff5f0\">&nbsp;le&nbsp;</span><span style=\"color: black; background-color: #fff2ec\">&nbsp;podemos&nbsp;</span><span style=\"color: black; background-color: #fff5f0\">&nbsp;decir&nbsp;</span><span style=\"color: black; background-color: #fff5f0\">&nbsp;no&nbsp;</span><span style=\"color: black; background-color: #fff5f0\">&nbsp;a&nbsp;</span><span style=\"color: black; background-color: #fff5f0\">&nbsp;la&nbsp;</span><span style=\"color: black; background-color: #fff5f0\">&nbsp;minería&nbsp;</span><span style=\"color: black; background-color: #fff5f0\">&nbsp;?&nbsp;</span><span style=\"color: black; background-color: #fff5f0\">&nbsp;necesitamos&nbsp;</span><span style=\"color: black; background-color: #fff5f0\">&nbsp;la&nbsp;</span><span style=\"color: black; background-color: #fff2ec\">&nbsp;#mineríabienhecha&nbsp;</span><span style=\"color: black; background-color: #fff4ef\">&nbsp;para&nbsp;</span><span style=\"color: black; background-color: #880811\">&nbsp;nuestro&nbsp;</span><span style=\"color: black; background-color: #fff5f0\">&nbsp;desarrollo&nbsp;</span><span style=\"color: black; background-color: #fff5f0\">&nbsp;user&nbsp;</span><span style=\"color: black; background-color: #fff5f0\">&nbsp;<url>&nbsp;</span></div><div style=\"margin:4px 0;\"><span style=\"color: black; background-color: #67000d\">&nbsp;fui&nbsp;</span><span style=\"color: black; background-color: #fff5f0\">&nbsp;invitada&nbsp;</span><span style=\"color: black; background-color: #fff5f0\">&nbsp;por&nbsp;</span><span style=\"color: black; background-color: #fff5f0\">&nbsp;user&nbsp;</span><span style=\"color: black; background-color: #fff5f0\">&nbsp;a&nbsp;</span><span style=\"color: black; background-color: #fff5f0\">&nbsp;contar&nbsp;</span><span style=\"color: black; background-color: #fff5f0\">&nbsp;mis&nbsp;</span><span style=\"color: black; background-color: #fff5f0\">&nbsp;razones&nbsp;</span><span style=\"color: black; background-color: #fff5f0\">&nbsp;para&nbsp;</span><span style=\"color: black; background-color: #fff5f0\">&nbsp;votar&nbsp;</span><span style=\"color: black; background-color: #fff5f0\">&nbsp;sí&nbsp;</span><span style=\"color: black; background-color: #fff5f0\">&nbsp;,&nbsp;</span><span style=\"color: black; background-color: #fff5f0\">&nbsp;#yofirmolapaz&nbsp;</span><span style=\"color: black; background-color: #fff5f0\">&nbsp;porque&nbsp;</span><span style=\"color: black; background-color: #fff5f0\">&nbsp;quiero&nbsp;</span><span style=\"color: black; background-color: #fff5f0\">&nbsp;que&nbsp;</span><span style=\"color: black; background-color: #fff5f0\">&nbsp;pasemos&nbsp;</span><span style=\"color: black; background-color: #fff5f0\">&nbsp;esta&nbsp;</span><span style=\"color: black; background-color: #fff5f0\">&nbsp;página&nbsp;</span><span style=\"color: black; background-color: #fff5f0\">&nbsp;!&nbsp;</span><span style=\"color: black; background-color: #fff5f0\">&nbsp;<url>&nbsp;</span></div><div style=\"margin:4px 0;\"><span style=\"color: black; background-color: #fff5f0\">&nbsp;que&nbsp;</span><span style=\"color: black; background-color: #fff5f0\">&nbsp;orgullo&nbsp;</span><span style=\"color: black; background-color: #fff5f0\">&nbsp;ver&nbsp;</span><span style=\"color: black; background-color: #fff5f0\">&nbsp;tantas&nbsp;</span><span style=\"color: black; background-color: #fff5f0\">&nbsp;🇨🇴&nbsp;</span><span style=\"color: black; background-color: #fff5f0\">&nbsp;🇨🇴&nbsp;</span><span style=\"color: black; background-color: #fff5f0\">&nbsp;🇨🇴&nbsp;</span><span style=\"color: black; background-color: #fff5f0\">&nbsp;🇨🇴&nbsp;</span><span style=\"color: black; background-color: #fff5f0\">&nbsp;y&nbsp;</span><span style=\"color: black; background-color: #fff5f0\">&nbsp;nuestro&nbsp;</span><span style=\"color: black; background-color: #67000d\">&nbsp;himno&nbsp;</span><span style=\"color: black; background-color: #fff5f0\">&nbsp;en&nbsp;</span><span style=\"color: black; background-color: #fff5f0\">&nbsp;la&nbsp;</span><span style=\"color: black; background-color: #fff5f0\">&nbsp;premiación&nbsp;</span><span style=\"color: black; background-color: #fff5f0\">&nbsp;de&nbsp;</span><span style=\"color: black; background-color: #fff5f0\">&nbsp;la&nbsp;</span><span style=\"color: black; background-color: #fff5f0\">&nbsp;#vueltaespaña&nbsp;</span><span style=\"color: black; background-color: #fff5f0\">&nbsp;#orgullocolombiano&nbsp;</span></div><div style=\"margin:4px 0;\"><span style=\"color: black; background-color: #ed392b\">&nbsp;grande&nbsp;</span><span style=\"color: black; background-color: #fc9474\">&nbsp;user&nbsp;</span><span style=\"color: black; background-color: #fff5f0\">&nbsp;🇨🇴&nbsp;</span><span style=\"color: black; background-color: #fff5f0\">&nbsp;🇨🇴&nbsp;</span><span style=\"color: black; background-color: #fff5f0\">&nbsp;🇨🇴&nbsp;</span><span style=\"color: black; background-color: #fff5f0\">&nbsp;🇨🇴&nbsp;</span><span style=\"color: black; background-color: #fff5f0\">&nbsp;#vueltaespaña&nbsp;</span><span style=\"color: black; background-color: #fff5f0\">&nbsp;<url>&nbsp;</span></div><div style=\"margin:4px 0;\"><span style=\"color: black; background-color: #fff5f0\">&nbsp;muchas&nbsp;</span><span style=\"color: black; background-color: #fee6da\">&nbsp;gracias&nbsp;</span><span style=\"color: black; background-color: #db2824\">&nbsp;user&nbsp;</span><span style=\"color: black; background-color: #fff0e9\">&nbsp;por&nbsp;</span><span style=\"color: black; background-color: #fff5f0\">&nbsp;todo&nbsp;</span><span style=\"color: black; background-color: #fff4ef\">&nbsp;tu&nbsp;</span><span style=\"color: black; background-color: #fff5f0\">&nbsp;trabajo&nbsp;</span><span style=\"color: black; background-color: #fff5f0\">&nbsp;por&nbsp;</span><span style=\"color: black; background-color: #fff5f0\">&nbsp;una&nbsp;</span><span style=\"color: black; background-color: #fff5f0\">&nbsp;#mineríabienhecha&nbsp;</span><span style=\"color: black; background-color: #fff5f0\">&nbsp;!&nbsp;</span><span style=\"color: black; background-color: #fff5f0\">&nbsp;compañera&nbsp;</span><span style=\"color: black; background-color: #fff5f0\">&nbsp;de&nbsp;</span><span style=\"color: black; background-color: #fff5f0\">&nbsp;muchas&nbsp;</span><span style=\"color: black; background-color: #fee3d6\">&nbsp;batallas&nbsp;</span><span style=\"color: black; background-color: #ffeee6\">&nbsp;!&nbsp;</span><span style=\"color: black; background-color: #fff2eb\">&nbsp;<url>&nbsp;</span></div><div style=\"margin:4px 0;\"><span style=\"color: black; background-color: #fee7db\">&nbsp;grande&nbsp;</span><span style=\"color: black; background-color: #f24633\">&nbsp;user&nbsp;</span><span style=\"color: black; background-color: #fff5f0\">&nbsp;!&nbsp;</span><span style=\"color: black; background-color: #fcbfa7\">&nbsp;grande&nbsp;</span><span style=\"color: black; background-color: #fee8dd\">&nbsp;user&nbsp;</span><span style=\"color: black; background-color: #fff5f0\">&nbsp;!&nbsp;</span><span style=\"color: black; background-color: #fff5f0\">&nbsp;!&nbsp;</span><span style=\"color: black; background-color: #fff5f0\">&nbsp;#lavuelta2016&nbsp;</span></div><div style=\"margin:4px 0;\"><span style=\"color: black; background-color: #fff5f0\">&nbsp;felicitaciones&nbsp;</span><span style=\"color: black; background-color: #fff5f0\">&nbsp;a&nbsp;</span><span style=\"color: black; background-color: #fff5f0\">&nbsp;todo&nbsp;</span><span style=\"color: black; background-color: #fff5f0\">&nbsp;el&nbsp;</span><span style=\"color: black; background-color: #fff5f0\">&nbsp;equipo&nbsp;</span><span style=\"color: black; background-color: #fff5f0\">&nbsp;de&nbsp;</span><span style=\"color: black; background-color: #fff4ef\">&nbsp;user&nbsp;</span><span style=\"color: black; background-color: #fee6da\">&nbsp;user&nbsp;</span><span style=\"color: black; background-color: #980c13\">&nbsp;muy&nbsp;</span><span style=\"color: black; background-color: #fff5f0\">&nbsp;importante&nbsp;</span><span style=\"color: black; background-color: #fff5f0\">&nbsp;lo&nbsp;</span><span style=\"color: black; background-color: #fff5f0\">&nbsp;que&nbsp;</span><span style=\"color: black; background-color: #fff5f0\">&nbsp;están&nbsp;</span><span style=\"color: black; background-color: #fff5f0\">&nbsp;haciendo&nbsp;</span><span style=\"color: black; background-color: #fff5f0\">&nbsp;por&nbsp;</span><span style=\"color: black; background-color: #fff5f0\">&nbsp;el&nbsp;</span><span style=\"color: black; background-color: #fff5f0\">&nbsp;#pacífico&nbsp;</span><span style=\"color: black; background-color: #fff5f0\">&nbsp;<url>&nbsp;</span></div><div style=\"margin:4px 0;\"><span style=\"color: black; background-color: #fff4ef\">&nbsp;#mineríabienhecha&nbsp;</span><span style=\"color: black; background-color: #fff3ed\">&nbsp;es&nbsp;</span><span style=\"color: black; background-color: #fff5f0\">&nbsp;desarrollo&nbsp;</span><span style=\"color: black; background-color: #fff5f0\">&nbsp;económico&nbsp;</span><span style=\"color: black; background-color: #fff5f0\">&nbsp;cuidando&nbsp;</span><span style=\"color: black; background-color: #fff5f0\">&nbsp;nuestro&nbsp;</span><span style=\"color: black; background-color: #fff5f0\">&nbsp;medio&nbsp;</span><span style=\"color: black; background-color: #fc9b7c\">&nbsp;ambiente&nbsp;</span><span style=\"color: black; background-color: #fee8de\">&nbsp;user&nbsp;</span><span style=\"color: black; background-color: #f6553c\">&nbsp;user&nbsp;</span><span style=\"color: black; background-color: #fff5f0\">&nbsp;<url>&nbsp;</span></div><div style=\"margin:4px 0;\"><span style=\"color: black; background-color: #fff5f0\">&nbsp;autoridades&nbsp;</span><span style=\"color: black; background-color: #fff5f0\">&nbsp;juntas&nbsp;</span><span style=\"color: black; background-color: #fff5f0\">&nbsp;por&nbsp;</span><span style=\"color: black; background-color: #fff5f0\">&nbsp;una&nbsp;</span><span style=\"color: black; background-color: #fff5f0\">&nbsp;#mineríabienhecha&nbsp;</span><span style=\"color: black; background-color: #fff5f0\">&nbsp;si&nbsp;</span><span style=\"color: black; background-color: #fff5f0\">&nbsp;se&nbsp;</span><span style=\"color: black; background-color: #fff5f0\">&nbsp;puede&nbsp;</span><span style=\"color: black; background-color: #fff5f0\">&nbsp;!&nbsp;</span><span style=\"color: black; background-color: #fff5f0\">&nbsp;user&nbsp;</span><span style=\"color: black; background-color: #fff2ec\">&nbsp;user&nbsp;</span><span style=\"color: black; background-color: #fdc7b2\">&nbsp;user&nbsp;</span><span style=\"color: black; background-color: #c4161c\">&nbsp;user&nbsp;</span><span style=\"color: black; background-color: #fff5f0\">&nbsp;<url>&nbsp;</span></div><div style=\"margin:4px 0;\"><span style=\"color: black; background-color: #fff5f0\">&nbsp;#mineríabienhecha&nbsp;</span><span style=\"color: black; background-color: #fff5f0\">&nbsp;#buenaminería&nbsp;</span><span style=\"color: black; background-color: #6b010e\">&nbsp;user&nbsp;</span><span style=\"color: black; background-color: #fff5f0\">&nbsp;#asogravasparaelfuturo&nbsp;</span><span style=\"color: black; background-color: #fff5f0\">&nbsp;<url>&nbsp;</span></div><div style=\"margin:4px 0;\"><span style=\"color: black; background-color: #69000d\">&nbsp;día&nbsp;</span><span style=\"color: black; background-color: #fff4ef\">&nbsp;histórico&nbsp;</span><span style=\"color: black; background-color: #fff5f0\">&nbsp;#adiosalaguerra&nbsp;</span><span style=\"color: black; background-color: #fff5f0\">&nbsp;<url>&nbsp;</span></div><div style=\"margin:4px 0;\"><span style=\"color: black; background-color: #69000d\">&nbsp;orgullo&nbsp;</span><span style=\"color: black; background-color: #fff5f0\">&nbsp;!&nbsp;</span><span style=\"color: black; background-color: #fff5f0\">&nbsp;felicitaciones&nbsp;</span><span style=\"color: black; background-color: #fff5f0\">&nbsp;🇨🇴&nbsp;</span><span style=\"color: black; background-color: #fff5f0\">&nbsp;🇨🇴&nbsp;</span><span style=\"color: black; background-color: #fff5f0\">&nbsp;🇨🇴&nbsp;</span><span style=\"color: black; background-color: #fff5f0\">&nbsp;🇨🇴&nbsp;</span><span style=\"color: black; background-color: #fff5f0\">&nbsp;🇨🇴&nbsp;</span><span style=\"color: black; background-color: #fff5f0\">&nbsp;🇨🇴&nbsp;</span><span style=\"color: black; background-color: #fff5f0\">&nbsp;🇨🇴&nbsp;</span><span style=\"color: black; background-color: #fff5f0\">&nbsp;🇨🇴&nbsp;</span><span style=\"color: black; background-color: #fff5f0\">&nbsp;🇨🇴&nbsp;</span><span style=\"color: black; background-color: #fff5f0\">&nbsp;🇨🇴&nbsp;</span><span style=\"color: black; background-color: #fff5f0\">&nbsp;🇨🇴&nbsp;</span><span style=\"color: black; background-color: #fff5f0\">&nbsp;🇨🇴&nbsp;</span><span style=\"color: black; background-color: #fff5f0\">&nbsp;🇨🇴&nbsp;</span><span style=\"color: black; background-color: #fff5f0\">&nbsp;#juegosolimpicos&nbsp;</span><span style=\"color: black; background-color: #fff5f0\">&nbsp;<url>&nbsp;</span></div><div style=\"margin:4px 0;\"><span style=\"color: black; background-color: #fff5f0\">&nbsp;felicitaciones&nbsp;</span><span style=\"color: black; background-color: #fff5f0\">&nbsp;a&nbsp;</span><span style=\"color: black; background-color: #fff5f0\">&nbsp;la&nbsp;</span><span style=\"color: black; background-color: #fff3ed\">&nbsp;user&nbsp;</span><span style=\"color: black; background-color: #fff5f0\">&nbsp;por&nbsp;</span><span style=\"color: black; background-color: #fff5f0\">&nbsp;estos&nbsp;</span><span style=\"color: black; background-color: #fff5f0\">&nbsp;cuatro&nbsp;</span><span style=\"color: black; background-color: #fff5f0\">&nbsp;años&nbsp;</span><span style=\"color: black; background-color: #b01217\">&nbsp;de&nbsp;</span><span style=\"color: black; background-color: #fff3ed\">&nbsp;trabajo&nbsp;</span><span style=\"color: black; background-color: #fff5f0\">&nbsp;por&nbsp;</span><span style=\"color: black; background-color: #fff5f0\">&nbsp;una&nbsp;</span><span style=\"color: black; background-color: #fff5f0\">&nbsp;#mineríabienhecha&nbsp;</span><span style=\"color: black; background-color: #fff5f0\">&nbsp;#buenaminería&nbsp;</span><span style=\"color: black; background-color: #fff4ef\">&nbsp;user&nbsp;</span><span style=\"color: black; background-color: #fee0d2\">&nbsp;user&nbsp;</span></div><div style=\"margin:4px 0;\"><span style=\"color: black; background-color: #fff5f0\">&nbsp;#levantamientodepesas&nbsp;</span><span style=\"color: black; background-color: #fff5f0\">&nbsp;#oscarfigueroa&nbsp;</span><span style=\"color: black; background-color: #fff5f0\">&nbsp;🇨🇴&nbsp;</span><span style=\"color: black; background-color: #fff5f0\">&nbsp;🇨🇴&nbsp;</span><span style=\"color: black; background-color: #fff5f0\">&nbsp;🇨🇴&nbsp;</span><span style=\"color: black; background-color: #fff5f0\">&nbsp;🇨🇴&nbsp;</span><span style=\"color: black; background-color: #fff5f0\">&nbsp;🇨🇴&nbsp;</span><span style=\"color: black; background-color: #fff5f0\">&nbsp;orgullo&nbsp;</span><span style=\"color: black; background-color: #67000d\">&nbsp;colombiano&nbsp;</span><span style=\"color: black; background-color: #fff5f0\">&nbsp;<url>&nbsp;</span></div><div style=\"margin:4px 0;\"><span style=\"color: black; background-color: #fff5f0\">&nbsp;la&nbsp;</span><span style=\"color: black; background-color: #fff5f0\">&nbsp;minería&nbsp;</span><span style=\"color: black; background-color: #fff5f0\">&nbsp;está&nbsp;</span><span style=\"color: black; background-color: #fff5f0\">&nbsp;en&nbsp;</span><span style=\"color: black; background-color: #fff5f0\">&nbsp;nuestro&nbsp;</span><span style=\"color: black; background-color: #fcb69b\">&nbsp;día&nbsp;</span><span style=\"color: black; background-color: #fff5f0\">&nbsp;a&nbsp;</span><span style=\"color: black; background-color: #db2824\">&nbsp;día&nbsp;</span><span style=\"color: black; background-color: #fff5f0\">&nbsp;!&nbsp;</span><span style=\"color: black; background-color: #fff5f0\">&nbsp;user&nbsp;</span><span style=\"color: black; background-color: #fff4ee\">&nbsp;user&nbsp;</span><span style=\"color: black; background-color: #fff1ea\">&nbsp;user&nbsp;</span><span style=\"color: black; background-color: #fff5f0\">&nbsp;si&nbsp;</span><span style=\"color: black; background-color: #fff5f0\">&nbsp;a&nbsp;</span><span style=\"color: black; background-color: #fff5f0\">&nbsp;la&nbsp;</span><span style=\"color: black; background-color: #fff5f0\">&nbsp;#mineríabienhecha&nbsp;</span><span style=\"color: black; background-color: #fff5f0\">&nbsp;<url>&nbsp;</span></div><div style=\"margin:4px 0;\"><span style=\"color: black; background-color: #fff5f0\">&nbsp;#mineríabienhecha&nbsp;</span><span style=\"color: black; background-color: #fff5f0\">&nbsp;#buenaminería&nbsp;</span><span style=\"color: black; background-color: #fff4ef\">&nbsp;user&nbsp;</span><span style=\"color: black; background-color: #ffeee6\">&nbsp;user&nbsp;</span><span style=\"color: black; background-color: #fcbba1\">&nbsp;user&nbsp;</span><span style=\"color: black; background-color: #da2723\">&nbsp;user&nbsp;</span><span style=\"color: black; background-color: #fff5f0\">&nbsp;<url>&nbsp;</span></div><div style=\"margin:4px 0;\"><span style=\"color: black; background-color: #67000d\">&nbsp;muy&nbsp;</span><span style=\"color: black; background-color: #fff5f0\">&nbsp;cierto&nbsp;</span><span style=\"color: black; background-color: #fff5f0\">&nbsp;!&nbsp;</span><span style=\"color: black; background-color: #fff5f0\">&nbsp;necesitamos&nbsp;</span><span style=\"color: black; background-color: #fff5f0\">&nbsp;un&nbsp;</span><span style=\"color: black; background-color: #fff5f0\">&nbsp;debate&nbsp;</span><span style=\"color: black; background-color: #fff5f0\">&nbsp;técnico&nbsp;</span><span style=\"color: black; background-color: #fff5f0\">&nbsp;y&nbsp;</span><span style=\"color: black; background-color: #fff5f0\">&nbsp;fundamentado&nbsp;</span><span style=\"color: black; background-color: #fff5f0\">&nbsp;user&nbsp;</span><span style=\"color: black; background-color: #fff5f0\">&nbsp;user&nbsp;</span><span style=\"color: black; background-color: #fff5f0\">&nbsp;user&nbsp;</span><span style=\"color: black; background-color: #fff5f0\">&nbsp;user&nbsp;</span><span style=\"color: black; background-color: #fff5f0\">&nbsp;<url>&nbsp;</span></div><div style=\"margin:4px 0;\"><span style=\"color: black; background-color: #fc8f6f\">&nbsp;#mineríabienhecha&nbsp;</span><span style=\"color: black; background-color: #fca689\">&nbsp;#buenaminería&nbsp;</span><span style=\"color: black; background-color: #fcaa8d\">&nbsp;<url>&nbsp;</span></div><div style=\"margin:4px 0;\"><span style=\"color: black; background-color: #fff5f0\">&nbsp;#mineríasegura&nbsp;</span><span style=\"color: black; background-color: #fff5f0\">&nbsp;#mineríabienhecha&nbsp;</span><span style=\"color: black; background-color: #fff2ec\">&nbsp;user&nbsp;</span><span style=\"color: black; background-color: #fcc3ab\">&nbsp;user&nbsp;</span><span style=\"color: black; background-color: #c9181d\">&nbsp;user&nbsp;</span><span style=\"color: black; background-color: #fff5f0\">&nbsp;<url>&nbsp;</span></div><div style=\"margin:4px 0;\"><span style=\"color: black; background-color: #fff5f0\">&nbsp;infraestructura&nbsp;</span><span style=\"color: black; background-color: #fff5f0\">&nbsp;para&nbsp;</span><span style=\"color: black; background-color: #fff5f0\">&nbsp;el&nbsp;</span><span style=\"color: black; background-color: #fff5f0\">&nbsp;#pacífico&nbsp;</span><span style=\"color: black; background-color: #fff5f0\">&nbsp;competitividad&nbsp;</span><span style=\"color: black; background-color: #fff5f0\">&nbsp;para&nbsp;</span><span style=\"color: black; background-color: #fff5f0\">&nbsp;#colombia&nbsp;</span><span style=\"color: black; background-color: #fff5f0\">&nbsp;user&nbsp;</span><span style=\"color: black; background-color: #fedccd\">&nbsp;user&nbsp;</span><span style=\"color: black; background-color: #ab1016\">&nbsp;user&nbsp;</span><span style=\"color: black; background-color: #fff5f0\">&nbsp;<url>&nbsp;</span></div><div style=\"margin:4px 0;\"><span style=\"color: black; background-color: #fff5f0\">&nbsp;#mineriabienhecha&nbsp;</span><span style=\"color: black; background-color: #fff5f0\">&nbsp;#buenaminería&nbsp;</span><span style=\"color: black; background-color: #fff4ef\">&nbsp;user&nbsp;</span><span style=\"color: black; background-color: #ffeee6\">&nbsp;user&nbsp;</span><span style=\"color: black; background-color: #fcbba1\">&nbsp;user&nbsp;</span><span style=\"color: black; background-color: #da2723\">&nbsp;user&nbsp;</span><span style=\"color: black; background-color: #fff5f0\">&nbsp;<url>&nbsp;</span></div><div style=\"margin:4px 0;\"><span style=\"color: black; background-color: #fdd3c1\">&nbsp;artículo&nbsp;</span><span style=\"color: black; background-color: #fff5f0\">&nbsp;interesante&nbsp;</span><span style=\"color: black; background-color: #fff5f0\">&nbsp;;&nbsp;</span><span style=\"color: black; background-color: #fff5f0\">&nbsp;minería&nbsp;</span><span style=\"color: black; background-color: #fff5f0\">&nbsp;ilegal&nbsp;</span><span style=\"color: black; background-color: #fff5f0\">&nbsp;,&nbsp;</span><span style=\"color: black; background-color: #fff5f0\">&nbsp;una&nbsp;</span><span style=\"color: black; background-color: #fff5f0\">&nbsp;problemática&nbsp;</span><span style=\"color: black; background-color: #fff5f0\">&nbsp;no&nbsp;</span><span style=\"color: black; background-color: #fff5f0\">&nbsp;sólo&nbsp;</span><span style=\"color: black; background-color: #fff0e9\">&nbsp;colombiana&nbsp;</span><span style=\"color: black; background-color: #fff5f0\">&nbsp;.&nbsp;</span><span style=\"color: black; background-color: #fff1ea\">&nbsp;user&nbsp;</span><span style=\"color: black; background-color: #fcc3ab\">&nbsp;user&nbsp;</span><span style=\"color: black; background-color: #f6583e\">&nbsp;user&nbsp;</span><span style=\"color: black; background-color: #fff5f0\">&nbsp;<url>&nbsp;</span></div><div style=\"margin:4px 0;\"><span style=\"color: black; background-color: #8c0912\">&nbsp;siento&nbsp;</span><span style=\"color: black; background-color: #fff5f0\">&nbsp;mucho&nbsp;</span><span style=\"color: black; background-color: #fff5f0\">&nbsp;la&nbsp;</span><span style=\"color: black; background-color: #fff5f0\">&nbsp;muerte&nbsp;</span><span style=\"color: black; background-color: #fff5f0\">&nbsp;de&nbsp;</span><span style=\"color: black; background-color: #fff5f0\">&nbsp;juan&nbsp;</span><span style=\"color: black; background-color: #fee8de\">&nbsp;mario&nbsp;</span><span style=\"color: black; background-color: #fff5f0\">&nbsp;laserna&nbsp;</span></div><div style=\"margin:4px 0;\"><span style=\"color: black; background-color: #fff5f0\">&nbsp;#graciasnairoman&nbsp;</span><span style=\"color: black; background-color: #fff5f0\">&nbsp;user&nbsp;</span><span style=\"color: black; background-color: #fff5f0\">&nbsp;👏🏻&nbsp;</span><span style=\"color: black; background-color: #fff5f0\">&nbsp;👏🏻&nbsp;</span><span style=\"color: black; background-color: #fff5f0\">&nbsp;👏🏻&nbsp;</span><span style=\"color: black; background-color: #fff5f0\">&nbsp;👏🏻&nbsp;</span><span style=\"color: black; background-color: #fff5f0\">&nbsp;orgullo&nbsp;</span><span style=\"color: black; background-color: #67000d\">&nbsp;colombiano&nbsp;</span><span style=\"color: black; background-color: #fff5f0\">&nbsp;🇨🇴&nbsp;</span><span style=\"color: black; background-color: #fff5f0\">&nbsp;🇨🇴&nbsp;</span><span style=\"color: black; background-color: #fff5f0\">&nbsp;🇨🇴&nbsp;</span></div><div style=\"margin:4px 0;\"><span style=\"color: black; background-color: #fff5f0\">&nbsp;minería&nbsp;</span><span style=\"color: black; background-color: #fff5f0\">&nbsp;al&nbsp;</span><span style=\"color: black; background-color: #fee1d3\">&nbsp;servicio&nbsp;</span><span style=\"color: black; background-color: #fff5f0\">&nbsp;del&nbsp;</span><span style=\"color: black; background-color: #fff5f0\">&nbsp;desarrollo&nbsp;</span><span style=\"color: black; background-color: #f14432\">&nbsp;local&nbsp;</span><span style=\"color: black; background-color: #fff5f0\">&nbsp;#mineríabienhecha&nbsp;</span><span style=\"color: black; background-color: #fff5f0\">&nbsp;#buenaminería&nbsp;</span><span style=\"color: black; background-color: #fff5f0\">&nbsp;user&nbsp;</span><span style=\"color: black; background-color: #ffece3\">&nbsp;user&nbsp;</span><span style=\"color: black; background-color: #fdc5ae\">&nbsp;user&nbsp;</span><span style=\"color: black; background-color: #fff5f0\">&nbsp;<url>&nbsp;</span></div><div style=\"margin:4px 0;\"><span style=\"color: black; background-color: #fff4ee\">&nbsp;user&nbsp;</span><span style=\"color: black; background-color: #fff2ec\">&nbsp;user&nbsp;</span><span style=\"color: black; background-color: #fff5f0\">&nbsp;el&nbsp;</span><span style=\"color: black; background-color: #fff5f0\">&nbsp;mejor&nbsp;</span><span style=\"color: black; background-color: #d21f20\">&nbsp;equipo&nbsp;</span><span style=\"color: black; background-color: #fcbda4\">&nbsp;de&nbsp;</span><span style=\"color: black; background-color: #fff5f0\">&nbsp;trabajo&nbsp;</span><span style=\"color: black; background-color: #fff5f0\">&nbsp;y&nbsp;</span><span style=\"color: black; background-color: #fff5f0\">&nbsp;la&nbsp;</span><span style=\"color: black; background-color: #fff5f0\">&nbsp;mejor&nbsp;</span><span style=\"color: black; background-color: #fff5f0\">&nbsp;experiencia&nbsp;</span><span style=\"color: black; background-color: #fff5f0\">&nbsp;!&nbsp;</span><span style=\"color: black; background-color: #fff5f0\">&nbsp;orgullosa&nbsp;</span><span style=\"color: black; background-color: #fff5f0\">&nbsp;de&nbsp;</span><span style=\"color: black; background-color: #fff5f0\">&nbsp;haber&nbsp;</span><span style=\"color: black; background-color: #fff5f0\">&nbsp;servido&nbsp;</span><span style=\"color: black; background-color: #fff5f0\">&nbsp;con&nbsp;</span><span style=\"color: black; background-color: #fff5f0\">&nbsp;ustedes&nbsp;</span><span style=\"color: black; background-color: #fff5f0\">&nbsp;al&nbsp;</span><span style=\"color: black; background-color: #fff5f0\">&nbsp;sector&nbsp;</span><span style=\"color: black; background-color: #fff5f0\">&nbsp;user&nbsp;</span></div><div style=\"margin:4px 0;\"><span style=\"color: black; background-color: #fff5f0\">&nbsp;gran&nbsp;</span><span style=\"color: black; background-color: #fff5f0\">&nbsp;trabajo&nbsp;</span><span style=\"color: black; background-color: #fff5f0\">&nbsp;de&nbsp;</span><span style=\"color: black; background-color: #eb372a\">&nbsp;user&nbsp;</span><span style=\"color: black; background-color: #fff5f0\">&nbsp;!&nbsp;</span><span style=\"color: black; background-color: #fc9c7d\">&nbsp;amigo&nbsp;</span><span style=\"color: black; background-color: #fff4ee\">&nbsp;y&nbsp;</span><span style=\"color: black; background-color: #fff5f0\">&nbsp;coequipero&nbsp;</span><span style=\"color: black; background-color: #fff5f0\">&nbsp;!&nbsp;</span><span style=\"color: black; background-color: #fff5f0\">&nbsp;<url>&nbsp;</span></div><div style=\"margin:4px 0;\"><span style=\"color: black; background-color: #fff5f0\">&nbsp;#buenaminería&nbsp;</span><span style=\"color: black; background-color: #fff5f0\">&nbsp;#mineríabienhecha&nbsp;</span><span style=\"color: black; background-color: #fff5f0\">&nbsp;política&nbsp;</span><span style=\"color: black; background-color: #fff5f0\">&nbsp;pública&nbsp;</span><span style=\"color: black; background-color: #fff5f0\">&nbsp;al&nbsp;</span><span style=\"color: black; background-color: #fff5f0\">&nbsp;servicio&nbsp;</span><span style=\"color: black; background-color: #fff5f0\">&nbsp;del&nbsp;</span><span style=\"color: black; background-color: #fff5f0\">&nbsp;desarrollo&nbsp;</span><span style=\"color: black; background-color: #fff1ea\">&nbsp;local&nbsp;</span><span style=\"color: black; background-color: #fdd7c6\">&nbsp;user&nbsp;</span><span style=\"color: black; background-color: #b81419\">&nbsp;user&nbsp;</span><span style=\"color: black; background-color: #fff5f0\">&nbsp;<url>&nbsp;</span></div><div style=\"margin:4px 0;\"><span style=\"color: black; background-color: #fff5f0\">&nbsp;#mineríabienhecha&nbsp;</span><span style=\"color: black; background-color: #fff5f0\">&nbsp;#buenaminería&nbsp;</span><span style=\"color: black; background-color: #fff5f0\">&nbsp;para&nbsp;</span><span style=\"color: black; background-color: #fff5f0\">&nbsp;el&nbsp;</span><span style=\"color: black; background-color: #fff5f0\">&nbsp;desarrollo&nbsp;</span><span style=\"color: black; background-color: #fff5f0\">&nbsp;regional&nbsp;</span><span style=\"color: black; background-color: #fff5f0\">&nbsp;y&nbsp;</span><span style=\"color: black; background-color: #fc9e80\">&nbsp;local&nbsp;</span><span style=\"color: black; background-color: #fdcdb9\">&nbsp;user&nbsp;</span><span style=\"color: black; background-color: #fb7353\">&nbsp;user&nbsp;</span><span style=\"color: black; background-color: #fff5f0\">&nbsp;<url>&nbsp;</span></div><div style=\"margin:4px 0;\"><span style=\"color: black; background-color: #fff5f0\">&nbsp;felicitaciones&nbsp;</span><span style=\"color: black; background-color: #fff5f0\">&nbsp;al&nbsp;</span><span style=\"color: black; background-color: #c2161b\">&nbsp;equipo&nbsp;</span><span style=\"color: black; background-color: #fee4d8\">&nbsp;de&nbsp;</span><span style=\"color: black; background-color: #fff5f0\">&nbsp;la&nbsp;</span><span style=\"color: black; background-color: #fee2d5\">&nbsp;user&nbsp;</span><span style=\"color: black; background-color: #fff5f0\">&nbsp;por&nbsp;</span><span style=\"color: black; background-color: #fff5f0\">&nbsp;este&nbsp;</span><span style=\"color: black; background-color: #fff5f0\">&nbsp;trabajo&nbsp;</span><span style=\"color: black; background-color: #fff5f0\">&nbsp;user&nbsp;</span><span style=\"color: black; background-color: #fff5f0\">&nbsp;user&nbsp;</span><span style=\"color: black; background-color: #fff5f0\">&nbsp;<url>&nbsp;</span></div><div style=\"margin:4px 0;\"><span style=\"color: black; background-color: #fff5f0\">&nbsp;así&nbsp;</span><span style=\"color: black; background-color: #fff5f0\">&nbsp;se&nbsp;</span><span style=\"color: black; background-color: #fff5f0\">&nbsp;contribuye&nbsp;</span><span style=\"color: black; background-color: #fff5f0\">&nbsp;desde&nbsp;</span><span style=\"color: black; background-color: #fff5f0\">&nbsp;la&nbsp;</span><span style=\"color: black; background-color: #fff5f0\">&nbsp;política&nbsp;</span><span style=\"color: black; background-color: #fff5f0\">&nbsp;pública&nbsp;</span><span style=\"color: black; background-color: #fff5f0\">&nbsp;a&nbsp;</span><span style=\"color: black; background-color: #fff5f0\">&nbsp;la&nbsp;</span><span style=\"color: black; background-color: #fff5f0\">&nbsp;#buenaminería&nbsp;</span><span style=\"color: black; background-color: #fff5f0\">&nbsp;mejores&nbsp;</span><span style=\"color: black; background-color: #fff5f0\">&nbsp;socios&nbsp;</span><span style=\"color: black; background-color: #fff5f0\">&nbsp;para&nbsp;</span><span style=\"color: black; background-color: #fff5f0\">&nbsp;el&nbsp;</span><span style=\"color: black; background-color: #fff5f0\">&nbsp;desarrollo&nbsp;</span><span style=\"color: black; background-color: #fdc6b0\">&nbsp;local&nbsp;</span><span style=\"color: black; background-color: #c1161b\">&nbsp;user&nbsp;</span><span style=\"color: black; background-color: #fff5f0\">&nbsp;<url>&nbsp;</span></div><div style=\"margin:4px 0;\"><span style=\"color: black; background-color: #fff5f0\">&nbsp;los&nbsp;</span><span style=\"color: black; background-color: #6d010e\">&nbsp;colombianos&nbsp;</span><span style=\"color: black; background-color: #fff5f0\">&nbsp;seguimos&nbsp;</span><span style=\"color: black; background-color: #fff5f0\">&nbsp;haciendo&nbsp;</span><span style=\"color: black; background-color: #fff5f0\">&nbsp;historia&nbsp;</span><span style=\"color: black; background-color: #fff5f0\">&nbsp;en&nbsp;</span><span style=\"color: black; background-color: #fff5f0\">&nbsp;#tourdefrancia&nbsp;</span><span style=\"color: black; background-color: #fff5f0\">&nbsp;hoy&nbsp;</span><span style=\"color: black; background-color: #fff3ed\">&nbsp;fue&nbsp;</span><span style=\"color: black; background-color: #fff5f0\">&nbsp;un&nbsp;</span><span style=\"color: black; background-color: #fff5f0\">&nbsp;vallecaucano&nbsp;</span><span style=\"color: black; background-color: #fff5f0\">&nbsp;👏🏻&nbsp;</span><span style=\"color: black; background-color: #fff5f0\">&nbsp;👏🏻&nbsp;</span><span style=\"color: black; background-color: #fff5f0\">&nbsp;👏🏻&nbsp;</span><span style=\"color: black; background-color: #fff5f0\">&nbsp;<url>&nbsp;</span></div><div style=\"margin:4px 0;\"><span style=\"color: black; background-color: #fff5f0\">&nbsp;#mineríabienhecha&nbsp;</span><span style=\"color: black; background-color: #fff5f0\">&nbsp;#buenaminería&nbsp;</span><span style=\"color: black; background-color: #fff2ec\">&nbsp;user&nbsp;</span><span style=\"color: black; background-color: #fcc3ab\">&nbsp;user&nbsp;</span><span style=\"color: black; background-color: #c9181d\">&nbsp;user&nbsp;</span><span style=\"color: black; background-color: #fff5f0\">&nbsp;<url>&nbsp;</span></div><div style=\"margin:4px 0;\"><span style=\"color: black; background-color: #fff5f0\">&nbsp;#buenaminería&nbsp;</span><span style=\"color: black; background-color: #fff5f0\">&nbsp;#mineríabienhecha&nbsp;</span><span style=\"color: black; background-color: #fff4ef\">&nbsp;user&nbsp;</span><span style=\"color: black; background-color: #ffeee6\">&nbsp;user&nbsp;</span><span style=\"color: black; background-color: #fcbba1\">&nbsp;user&nbsp;</span><span style=\"color: black; background-color: #da2723\">&nbsp;user&nbsp;</span><span style=\"color: black; background-color: #fff5f0\">&nbsp;<url>&nbsp;</span></div><div style=\"margin:4px 0;\"><span style=\"color: black; background-color: #e53228\">&nbsp;completamente&nbsp;</span><span style=\"color: black; background-color: #fdc7b2\">&nbsp;de&nbsp;</span><span style=\"color: black; background-color: #fff5f0\">&nbsp;acuerdo&nbsp;</span><span style=\"color: black; background-color: #fff5f0\">&nbsp;!&nbsp;</span><span style=\"color: black; background-color: #fff5f0\">&nbsp;si&nbsp;</span><span style=\"color: black; background-color: #fff5f0\">&nbsp;al&nbsp;</span><span style=\"color: black; background-color: #fff5f0\">&nbsp;diálogo&nbsp;</span><span style=\"color: black; background-color: #fff5f0\">&nbsp;no&nbsp;</span><span style=\"color: black; background-color: #fff5f0\">&nbsp;a&nbsp;</span><span style=\"color: black; background-color: #fff5f0\">&nbsp;la&nbsp;</span><span style=\"color: black; background-color: #fff5f0\">&nbsp;extorsión&nbsp;</span><span style=\"color: black; background-color: #fff2ec\">&nbsp;user&nbsp;</span><span style=\"color: black; background-color: #fee3d6\">&nbsp;user&nbsp;</span><span style=\"color: black; background-color: #fff5f0\">&nbsp;<url>&nbsp;</span></div><div style=\"margin:4px 0;\"><span style=\"color: black; background-color: #fff5f0\">&nbsp;que&nbsp;</span><span style=\"color: black; background-color: #fff4ef\">&nbsp;tristeza&nbsp;</span><span style=\"color: black; background-color: #fff5f0\">&nbsp;esto&nbsp;</span><span style=\"color: black; background-color: #fff5f0\">&nbsp;!&nbsp;</span><span style=\"color: black; background-color: #fff5f0\">&nbsp;toda&nbsp;</span><span style=\"color: black; background-color: #fff5f0\">&nbsp;mi&nbsp;</span><span style=\"color: black; background-color: #b61319\">&nbsp;solidaridad&nbsp;</span><span style=\"color: black; background-color: #fdd3c1\">&nbsp;con&nbsp;</span><span style=\"color: black; background-color: #fff4ef\">&nbsp;#francia&nbsp;</span><span style=\"color: black; background-color: #fff5f0\">&nbsp;<url>&nbsp;</span></div><div style=\"margin:4px 0;\"><span style=\"color: black; background-color: #fff5f0\">&nbsp;emprendimiento&nbsp;</span><span style=\"color: black; background-color: #bd151a\">&nbsp;caleño&nbsp;</span><span style=\"color: black; background-color: #fff5f0\">&nbsp;!&nbsp;</span><span style=\"color: black; background-color: #fff5f0\">&nbsp;#botanique&nbsp;</span><span style=\"color: black; background-color: #fff1ea\">&nbsp;user&nbsp;</span><span style=\"color: black; background-color: #fdd1be\">&nbsp;user&nbsp;</span><span style=\"color: black; background-color: #fff5f0\">&nbsp;<url>&nbsp;</span></div><div style=\"margin:4px 0;\"><span style=\"color: black; background-color: #fff2eb\">&nbsp;siempre&nbsp;</span><span style=\"color: black; background-color: #fff5f0\">&nbsp;trabajando&nbsp;</span><span style=\"color: black; background-color: #fff5f0\">&nbsp;con&nbsp;</span><span style=\"color: black; background-color: #fff0e9\">&nbsp;compromiso&nbsp;</span><span style=\"color: black; background-color: #fff4ee\">&nbsp;por&nbsp;</span><span style=\"color: black; background-color: #fff5f0\">&nbsp;este&nbsp;</span><span style=\"color: black; background-color: #fff5f0\">&nbsp;sector&nbsp;</span><span style=\"color: black; background-color: #fff5f0\">&nbsp;user&nbsp;</span><span style=\"color: black; background-color: #feeae1\">&nbsp;user&nbsp;</span><span style=\"color: black; background-color: #a60f15\">&nbsp;user&nbsp;</span><span style=\"color: black; background-color: #fff5f0\">&nbsp;👏🏻&nbsp;</span><span style=\"color: black; background-color: #fff5f0\">&nbsp;👏🏻&nbsp;</span><span style=\"color: black; background-color: #fff5f0\">&nbsp;👏🏻&nbsp;</span><span style=\"color: black; background-color: #fff5f0\">&nbsp;<url>&nbsp;</span></div><div style=\"margin:4px 0;\"><span style=\"color: black; background-color: #fff5f0\">&nbsp;toda&nbsp;</span><span style=\"color: black; background-color: #fff5f0\">&nbsp;mi&nbsp;</span><span style=\"color: black; background-color: #fff2ec\">&nbsp;solidaridad&nbsp;</span><span style=\"color: black; background-color: #fff3ed\">&nbsp;con&nbsp;</span><span style=\"color: black; background-color: #fff5f0\">&nbsp;el&nbsp;</span><span style=\"color: black; background-color: #fff5f0\">&nbsp;gobernador&nbsp;</span><span style=\"color: black; background-color: #b61319\">&nbsp;user&nbsp;</span><span style=\"color: black; background-color: #fed9c9\">&nbsp;le&nbsp;</span><span style=\"color: black; background-color: #fff5f0\">&nbsp;deseo&nbsp;</span><span style=\"color: black; background-color: #fff5f0\">&nbsp;una&nbsp;</span><span style=\"color: black; background-color: #fff5f0\">&nbsp;pronta&nbsp;</span><span style=\"color: black; background-color: #fff5f0\">&nbsp;recuperación&nbsp;</span></div><div style=\"margin:4px 0;\"><span style=\"color: black; background-color: #940b13\">&nbsp;felicitaciones&nbsp;</span><span style=\"color: black; background-color: #fff5f0\">&nbsp;👏🏻&nbsp;</span><span style=\"color: black; background-color: #fff5f0\">&nbsp;👏🏻&nbsp;</span><span style=\"color: black; background-color: #fff5f0\">&nbsp;👏🏻&nbsp;</span><span style=\"color: black; background-color: #fee8de\">&nbsp;portugal&nbsp;</span><span style=\"color: black; background-color: #fff3ed\">&nbsp;#euro2016final&nbsp;</span><span style=\"color: black; background-color: #fff5f0\">&nbsp;#eurocopa&nbsp;</span><span style=\"color: black; background-color: #fff5f0\">&nbsp;<url>&nbsp;</span></div><div style=\"margin:4px 0;\"><span style=\"color: black; background-color: #fff5f0\">&nbsp;la&nbsp;</span><span style=\"color: black; background-color: #fff5f0\">&nbsp;mejor&nbsp;</span><span style=\"color: black; background-color: #fff5f0\">&nbsp;forma&nbsp;</span><span style=\"color: black; background-color: #fff5f0\">&nbsp;de&nbsp;</span><span style=\"color: black; background-color: #fff5f0\">&nbsp;tener&nbsp;</span><span style=\"color: black; background-color: #fff5f0\">&nbsp;#buenaminería&nbsp;</span><span style=\"color: black; background-color: #ffeee7\">&nbsp;user&nbsp;</span><span style=\"color: black; background-color: #7c0510\">&nbsp;user&nbsp;</span><span style=\"color: black; background-color: #fff5f0\">&nbsp;<url>&nbsp;</span></div><div style=\"margin:4px 0;\"><span style=\"color: black; background-color: #fff5f0\">&nbsp;buena&nbsp;</span><span style=\"color: black; background-color: #fff5f0\">&nbsp;noticia&nbsp;</span><span style=\"color: black; background-color: #fff5f0\">&nbsp;para&nbsp;</span><span style=\"color: black; background-color: #fff5f0\">&nbsp;la&nbsp;</span><span style=\"color: black; background-color: #fff5f0\">&nbsp;#mineríabienhecha&nbsp;</span><span style=\"color: black; background-color: #ffeee6\">&nbsp;socia&nbsp;</span><span style=\"color: black; background-color: #fff5f0\">&nbsp;del&nbsp;</span><span style=\"color: black; background-color: #fff5f0\">&nbsp;desarrollo&nbsp;</span><span style=\"color: black; background-color: #fff0e8\">&nbsp;local&nbsp;</span><span style=\"color: black; background-color: #fedaca\">&nbsp;user&nbsp;</span><span style=\"color: black; background-color: #c3161b\">&nbsp;user&nbsp;</span><span style=\"color: black; background-color: #fff5f0\">&nbsp;<url>&nbsp;</span></div><div style=\"margin:4px 0;\"><span style=\"color: black; background-color: #fff5f0\">&nbsp;mucha&nbsp;</span><span style=\"color: black; background-color: #fff5f0\">&nbsp;suerte&nbsp;</span><span style=\"color: black; background-color: #fff5f0\">&nbsp;a&nbsp;</span><span style=\"color: black; background-color: #fff4ef\">&nbsp;nuestros&nbsp;</span><span style=\"color: black; background-color: #fff5f0\">&nbsp;deportistas&nbsp;</span><span style=\"color: black; background-color: #fff5f0\">&nbsp;en&nbsp;</span><span style=\"color: black; background-color: #fff5f0\">&nbsp;#rio2016&nbsp;</span><span style=\"color: black; background-color: #fdd5c4\">&nbsp;user&nbsp;</span><span style=\"color: black; background-color: #b11218\">&nbsp;user&nbsp;</span><span style=\"color: black; background-color: #fff5f0\">&nbsp;<url>&nbsp;</span></div><div style=\"margin:4px 0;\"><span style=\"color: black; background-color: #fff4ef\">&nbsp;que&nbsp;</span><span style=\"color: black; background-color: #fff5f0\">&nbsp;bueno&nbsp;</span><span style=\"color: black; background-color: #fff5f0\">&nbsp;este&nbsp;</span><span style=\"color: black; background-color: #fff5f0\">&nbsp;trabajo&nbsp;</span><span style=\"color: black; background-color: #fff5f0\">&nbsp;por&nbsp;</span><span style=\"color: black; background-color: #fff5f0\">&nbsp;nuestra&nbsp;</span><span style=\"color: black; background-color: #fff5f0\">&nbsp;#costapacífica&nbsp;</span><span style=\"color: black; background-color: #fff5f0\">&nbsp;!&nbsp;</span><span style=\"color: black; background-color: #fee8dd\">&nbsp;user&nbsp;</span><span style=\"color: black; background-color: #920a13\">&nbsp;user&nbsp;</span><span style=\"color: black; background-color: #fff5f0\">&nbsp;<url>&nbsp;</span></div><div style=\"margin:4px 0;\"><span style=\"color: black; background-color: #fff5f0\">&nbsp;#mineríabienhecha&nbsp;</span><span style=\"color: black; background-color: #fff5f0\">&nbsp;aliada&nbsp;</span><span style=\"color: black; background-color: #fff5f0\">&nbsp;del&nbsp;</span><span style=\"color: black; background-color: #fff5f0\">&nbsp;desarrollo&nbsp;</span><span style=\"color: black; background-color: #fff5f0\">&nbsp;de&nbsp;</span><span style=\"color: black; background-color: #67000d\">&nbsp;colombia&nbsp;</span><span style=\"color: black; background-color: #fff5f0\">&nbsp;user&nbsp;</span><span style=\"color: black; background-color: #fff5f0\">&nbsp;user&nbsp;</span><span style=\"color: black; background-color: #fff5f0\">&nbsp;user&nbsp;</span><span style=\"color: black; background-color: #fff5f0\">&nbsp;<url>&nbsp;</span></div><div style=\"margin:4px 0;\"><span style=\"color: black; background-color: #fff5f0\">&nbsp;resultados&nbsp;</span><span style=\"color: black; background-color: #fff5f0\">&nbsp;del&nbsp;</span><span style=\"color: black; background-color: #fff5f0\">&nbsp;trabajo&nbsp;</span><span style=\"color: black; background-color: #fff5f0\">&nbsp;en&nbsp;</span><span style=\"color: black; background-color: #fff5f0\">&nbsp;formalización&nbsp;</span><span style=\"color: black; background-color: #fff5f0\">&nbsp;!&nbsp;</span><span style=\"color: black; background-color: #fee3d7\">&nbsp;user&nbsp;</span><span style=\"color: black; background-color: #9d0d14\">&nbsp;user&nbsp;</span><span style=\"color: black; background-color: #fff5f0\">&nbsp;<url>&nbsp;</span></div><div style=\"margin:4px 0;\"><span style=\"color: black; background-color: #fff5f0\">&nbsp;política&nbsp;</span><span style=\"color: black; background-color: #fff5f0\">&nbsp;al&nbsp;</span><span style=\"color: black; background-color: #fee7db\">&nbsp;servicio&nbsp;</span><span style=\"color: black; background-color: #fff5f0\">&nbsp;de&nbsp;</span><span style=\"color: black; background-color: #fff5f0\">&nbsp;los&nbsp;</span><span style=\"color: black; background-color: #fff5f0\">&nbsp;pequeños&nbsp;</span><span style=\"color: black; background-color: #f14432\">&nbsp;mineros&nbsp;</span><span style=\"color: black; background-color: #fff5f0\">&nbsp;#mineríabienhecha&nbsp;</span><span style=\"color: black; background-color: #fff3ed\">&nbsp;user&nbsp;</span><span style=\"color: black; background-color: #fee6da\">&nbsp;user&nbsp;</span><span style=\"color: black; background-color: #fdc9b3\">&nbsp;user&nbsp;</span><span style=\"color: black; background-color: #fff5f0\">&nbsp;<url>&nbsp;</span></div><div style=\"margin:4px 0;\"><span style=\"color: black; background-color: #fb6c4c\">&nbsp;me&nbsp;</span><span style=\"color: black; background-color: #fff5f0\">&nbsp;encanta&nbsp;</span><span style=\"color: black; background-color: #fff5f0\">&nbsp;esta&nbsp;</span><span style=\"color: black; background-color: #fff4ef\">&nbsp;tradición&nbsp;</span><span style=\"color: black; background-color: #feeae0\">&nbsp;caleña&nbsp;</span><span style=\"color: black; background-color: #fff5f0\">&nbsp;!&nbsp;</span><span style=\"color: black; background-color: #fff4ef\">&nbsp;yo&nbsp;</span><span style=\"color: black; background-color: #fff5f0\">&nbsp;ya&nbsp;</span><span style=\"color: black; background-color: #fff5f0\">&nbsp;compre&nbsp;</span><span style=\"color: black; background-color: #fff5f0\">&nbsp;la&nbsp;</span><span style=\"color: black; background-color: #fcae92\">&nbsp;de&nbsp;</span><span style=\"color: black; background-color: #fee2d5\">&nbsp;mi&nbsp;</span><span style=\"color: black; background-color: #fff4ee\">&nbsp;#ahijada&nbsp;</span><span style=\"color: black; background-color: #fff4ef\">&nbsp;<url>&nbsp;</span></div><div style=\"margin:4px 0;\"><span style=\"color: black; background-color: #fff5f0\">&nbsp;excelente&nbsp;</span><span style=\"color: black; background-color: #fff5f0\">&nbsp;noticia&nbsp;</span><span style=\"color: black; background-color: #fff5f0\">&nbsp;para&nbsp;</span><span style=\"color: black; background-color: #fff5f0\">&nbsp;la&nbsp;</span><span style=\"color: black; background-color: #fff5f0\">&nbsp;jagua&nbsp;</span><span style=\"color: black; background-color: #fff0e9\">&nbsp;user&nbsp;</span><span style=\"color: black; background-color: #fff5f0\">&nbsp;bienestar&nbsp;</span><span style=\"color: black; background-color: #fff5f0\">&nbsp;para&nbsp;</span><span style=\"color: black; background-color: #fff5f0\">&nbsp;más&nbsp;</span><span style=\"color: black; background-color: #fdd0bc\">&nbsp;colombianos&nbsp;</span><span style=\"color: black; background-color: #bf151b\">&nbsp;user&nbsp;</span><span style=\"color: black; background-color: #fff5f0\">&nbsp;<url>&nbsp;</span></div><div style=\"margin:4px 0;\"><span style=\"color: black; background-color: #fed9c9\">&nbsp;minería&nbsp;</span><span style=\"color: black; background-color: #fb6c4c\">&nbsp;criminal&nbsp;</span><span style=\"color: black; background-color: #fff4ef\">&nbsp;no&nbsp;</span><span style=\"color: black; background-color: #fff5f0\">&nbsp;es&nbsp;</span><span style=\"color: black; background-color: #fff5f0\">&nbsp;minería&nbsp;</span><span style=\"color: black; background-color: #fff5f0\">&nbsp;.&nbsp;</span><span style=\"color: black; background-color: #fff5f0\">&nbsp;queremos&nbsp;</span><span style=\"color: black; background-color: #fff5f0\">&nbsp;#mineríabienhecha&nbsp;</span><span style=\"color: black; background-color: #ffefe8\">&nbsp;user&nbsp;</span><span style=\"color: black; background-color: #fca98c\">&nbsp;user&nbsp;</span><span style=\"color: black; background-color: #fff5f0\">&nbsp;<url>&nbsp;</span></div><div style=\"margin:4px 0;\"><span style=\"color: black; background-color: #fff5f0\">&nbsp;con&nbsp;</span><span style=\"color: black; background-color: #67000d\">&nbsp;user&nbsp;</span><span style=\"color: black; background-color: #fff5f0\">&nbsp;se&nbsp;</span><span style=\"color: black; background-color: #fff5f0\">&nbsp;impulsarán&nbsp;</span><span style=\"color: black; background-color: #fff5f0\">&nbsp;importantes&nbsp;</span><span style=\"color: black; background-color: #fff5f0\">&nbsp;proyectos&nbsp;</span><span style=\"color: black; background-color: #fff5f0\">&nbsp;para&nbsp;</span><span style=\"color: black; background-color: #fff5f0\">&nbsp;el&nbsp;</span><span style=\"color: black; background-color: #fff5f0\">&nbsp;pacífico&nbsp;</span><span style=\"color: black; background-color: #fff5f0\">&nbsp;!&nbsp;</span><span style=\"color: black; background-color: #fff5f0\">&nbsp;excelente&nbsp;</span><span style=\"color: black; background-color: #fff5f0\">&nbsp;user&nbsp;</span><span style=\"color: black; background-color: #fff5f0\">&nbsp;<url>&nbsp;</span></div><div style=\"margin:4px 0;\"><span style=\"color: black; background-color: #dc2924\">&nbsp;si&nbsp;</span><span style=\"color: black; background-color: #fff5f0\">&nbsp;minero&nbsp;</span><span style=\"color: black; background-color: #fff5f0\">&nbsp;al&nbsp;</span><span style=\"color: black; background-color: #fff2eb\">&nbsp;servicio&nbsp;</span><span style=\"color: black; background-color: #fff5f0\">&nbsp;del&nbsp;</span><span style=\"color: black; background-color: #fff5f0\">&nbsp;sector&nbsp;</span><span style=\"color: black; background-color: #fff5f0\">&nbsp;!&nbsp;</span><span style=\"color: black; background-color: #fff5f0\">&nbsp;información&nbsp;</span><span style=\"color: black; background-color: #fff5f0\">&nbsp;otro&nbsp;</span><span style=\"color: black; background-color: #fff5f0\">&nbsp;pilar&nbsp;</span><span style=\"color: black; background-color: #fff5f0\">&nbsp;de&nbsp;</span><span style=\"color: black; background-color: #fff5f0\">&nbsp;la&nbsp;</span><span style=\"color: black; background-color: #fff5f0\">&nbsp;política&nbsp;</span><span style=\"color: black; background-color: #fff5f0\">&nbsp;minera&nbsp;</span><span style=\"color: black; background-color: #fff5f0\">&nbsp;#mineríabienhecha&nbsp;</span><span style=\"color: black; background-color: #fff3ed\">&nbsp;user&nbsp;</span><span style=\"color: black; background-color: #fcb69b\">&nbsp;user&nbsp;</span><span style=\"color: black; background-color: #fff5f0\">&nbsp;<url>&nbsp;</span></div><div style=\"margin:4px 0;\"><span style=\"color: black; background-color: #fdd0bc\">&nbsp;conocimiento&nbsp;</span><span style=\"color: black; background-color: #fff5f0\">&nbsp;geológico&nbsp;</span><span style=\"color: black; background-color: #fff5f0\">&nbsp;es&nbsp;</span><span style=\"color: black; background-color: #fff5f0\">&nbsp;pilar&nbsp;</span><span style=\"color: black; background-color: #fff5f0\">&nbsp;fundamental&nbsp;</span><span style=\"color: black; background-color: #fff2ec\">&nbsp;de&nbsp;</span><span style=\"color: black; background-color: #fff5f0\">&nbsp;la&nbsp;</span><span style=\"color: black; background-color: #fff5f0\">&nbsp;política&nbsp;</span><span style=\"color: black; background-color: #fff5f0\">&nbsp;minera&nbsp;</span><span style=\"color: black; background-color: #fff5f0\">&nbsp;user&nbsp;</span><span style=\"color: black; background-color: #fee3d7\">&nbsp;user&nbsp;</span><span style=\"color: black; background-color: #dc2924\">&nbsp;user&nbsp;</span><span style=\"color: black; background-color: #fff5f0\">&nbsp;<url>&nbsp;</span></div><div style=\"margin:4px 0;\"><span style=\"color: black; background-color: #fff5f0\">&nbsp;felicitaciones&nbsp;</span><span style=\"color: black; background-color: #fff5f0\">&nbsp;al&nbsp;</span><span style=\"color: black; background-color: #fff5f0\">&nbsp;user&nbsp;</span><span style=\"color: black; background-color: #fff5f0\">&nbsp;por&nbsp;</span><span style=\"color: black; background-color: #fff5f0\">&nbsp;100&nbsp;</span><span style=\"color: black; background-color: #fff5f0\">&nbsp;años&nbsp;</span><span style=\"color: black; background-color: #fff5f0\">&nbsp;de&nbsp;</span><span style=\"color: black; background-color: #fff5f0\">&nbsp;servicio&nbsp;</span><span style=\"color: black; background-color: #fff5f0\">&nbsp;a&nbsp;</span><span style=\"color: black; background-color: #fff5f0\">&nbsp;nuestro&nbsp;</span><span style=\"color: black; background-color: #67000d\">&nbsp;país&nbsp;</span><span style=\"color: black; background-color: #fff5f0\">&nbsp;!&nbsp;</span><span style=\"color: black; background-color: #fff5f0\">&nbsp;user&nbsp;</span><span style=\"color: black; background-color: #fff5f0\">&nbsp;user&nbsp;</span><span style=\"color: black; background-color: #fff5f0\">&nbsp;user&nbsp;</span><span style=\"color: black; background-color: #fff5f0\">&nbsp;<url>&nbsp;</span></div><div style=\"margin:4px 0;\"><span style=\"color: black; background-color: #fee3d6\">&nbsp;felicitaciones&nbsp;</span><span style=\"color: black; background-color: #fff2ec\">&nbsp;user&nbsp;</span><span style=\"color: black; background-color: #fff5f0\">&nbsp;!&nbsp;</span><span style=\"color: black; background-color: #fff5f0\">&nbsp;!&nbsp;</span><span style=\"color: black; background-color: #fff5f0\">&nbsp;!&nbsp;</span><span style=\"color: black; background-color: #fff5f0\">&nbsp;tercer&nbsp;</span><span style=\"color: black; background-color: #a50f15\">&nbsp;puesto&nbsp;</span><span style=\"color: black; background-color: #fff5f0\">&nbsp;#copaamerica&nbsp;</span></div><div style=\"margin:4px 0;\"><span style=\"color: black; background-color: #b21218\">&nbsp;esta&nbsp;</span><span style=\"color: black; background-color: #fff2ec\">&nbsp;es&nbsp;</span><span style=\"color: black; background-color: #fff5f0\">&nbsp;una&nbsp;</span><span style=\"color: black; background-color: #fff5f0\">&nbsp;excelente&nbsp;</span><span style=\"color: black; background-color: #fff5f0\">&nbsp;iniciativa&nbsp;</span><span style=\"color: black; background-color: #fff5f0\">&nbsp;que&nbsp;</span><span style=\"color: black; background-color: #fff5f0\">&nbsp;beneficia&nbsp;</span><span style=\"color: black; background-color: #fff5f0\">&nbsp;a&nbsp;</span><span style=\"color: black; background-color: #fff5f0\">&nbsp;los&nbsp;</span><span style=\"color: black; background-color: #fff5f0\">&nbsp;municipios&nbsp;</span><span style=\"color: black; background-color: #fff5f0\">&nbsp;productores&nbsp;</span><span style=\"color: black; background-color: #fff4ee\">&nbsp;user&nbsp;</span><span style=\"color: black; background-color: #fedbcc\">&nbsp;user&nbsp;</span><span style=\"color: black; background-color: #fff5f0\">&nbsp;<url>&nbsp;</span></div><div style=\"margin:4px 0;\"><span style=\"color: black; background-color: #ffece3\">&nbsp;mi&nbsp;</span><span style=\"color: black; background-color: #fff2eb\">&nbsp;gran&nbsp;</span><span style=\"color: black; background-color: #fff4ee\">&nbsp;coequipera&nbsp;</span><span style=\"color: black; background-color: #940b13\">&nbsp;user&nbsp;</span><span style=\"color: black; background-color: #fff5f0\">&nbsp;muchas&nbsp;</span><span style=\"color: black; background-color: #fff5f0\">&nbsp;gracias&nbsp;</span><span style=\"color: black; background-color: #fff5f0\">&nbsp;por&nbsp;</span><span style=\"color: black; background-color: #fff5f0\">&nbsp;todo&nbsp;</span><span style=\"color: black; background-color: #fff5f0\">&nbsp;!&nbsp;</span><span style=\"color: black; background-color: #fff5f0\">&nbsp;<url>&nbsp;</span></div><div style=\"margin:4px 0;\"><span style=\"color: black; background-color: #fdc6b0\">&nbsp;gracias&nbsp;</span><span style=\"color: black; background-color: #fff4ef\">&nbsp;valeria&nbsp;</span><span style=\"color: black; background-color: #fff5f0\">&nbsp;y&nbsp;</span><span style=\"color: black; background-color: #fff4ef\">&nbsp;myriam&nbsp;</span><span style=\"color: black; background-color: #f14331\">&nbsp;por&nbsp;</span><span style=\"color: black; background-color: #fff5f0\">&nbsp;todo&nbsp;</span><span style=\"color: black; background-color: #fff5f0\">&nbsp;el&nbsp;</span><span style=\"color: black; background-color: #fff5f0\">&nbsp;trabajo&nbsp;</span><span style=\"color: black; background-color: #fff5f0\">&nbsp;en&nbsp;</span><span style=\"color: black; background-color: #fff5f0\">&nbsp;el&nbsp;</span><span style=\"color: black; background-color: #fdd4c2\">&nbsp;user&nbsp;</span><span style=\"color: black; background-color: #fff4ef\">&nbsp;<url>&nbsp;</span></div><div style=\"margin:4px 0;\"><span style=\"color: black; background-color: #fff5f0\">&nbsp;el&nbsp;</span><span style=\"color: black; background-color: #fff5f0\">&nbsp;mejor&nbsp;</span><span style=\"color: black; background-color: #67000d\">&nbsp;equipo&nbsp;</span><span style=\"color: black; background-color: #fff5f0\">&nbsp;!&nbsp;</span><span style=\"color: black; background-color: #fff5f0\">&nbsp;#adiosalaguerra&nbsp;</span><span style=\"color: black; background-color: #fff5f0\">&nbsp;<url>&nbsp;</span></div><div style=\"margin:4px 0;\"><span style=\"color: black; background-color: #fff5f0\">&nbsp;#sialapaz&nbsp;</span><span style=\"color: black; background-color: #feeae0\">&nbsp;que&nbsp;</span><span style=\"color: black; background-color: #dd2a25\">&nbsp;ilusión&nbsp;</span><span style=\"color: black; background-color: #fff5f0\">&nbsp;un&nbsp;</span><span style=\"color: black; background-color: #fdcdb9\">&nbsp;día&nbsp;</span><span style=\"color: black; background-color: #ffefe8\">&nbsp;como&nbsp;</span><span style=\"color: black; background-color: #fff4ee\">&nbsp;hoy&nbsp;</span><span style=\"color: black; background-color: #fff4ef\">&nbsp;#elultimodiadelaguerra&nbsp;</span></div><div style=\"margin:4px 0;\"><span style=\"color: black; background-color: #a10e15\">&nbsp;completamente&nbsp;</span><span style=\"color: black; background-color: #fee4d8\">&nbsp;de&nbsp;</span><span style=\"color: black; background-color: #fff5f0\">&nbsp;acuerdo&nbsp;</span><span style=\"color: black; background-color: #fff5f0\">&nbsp;user&nbsp;</span><span style=\"color: black; background-color: #fff5f0\">&nbsp;pésimo&nbsp;</span><span style=\"color: black; background-color: #fff2ec\">&nbsp;arbitraje&nbsp;</span><span style=\"color: black; background-color: #fff5f0\">&nbsp;!&nbsp;</span><span style=\"color: black; background-color: #fff5f0\">&nbsp;!&nbsp;</span><span style=\"color: black; background-color: #fff5f0\">&nbsp;!&nbsp;</span><span style=\"color: black; background-color: #fff5f0\">&nbsp;<url>&nbsp;</span></div>"
      ],
      "text/plain": [
       "<IPython.core.display.HTML object>"
      ]
     },
     "metadata": {},
     "output_type": "display_data"
    },
    {
     "name": "stdout",
     "output_type": "stream",
     "text": [
      "Predicción: chile\n"
     ]
    },
    {
     "data": {
      "text/html": [
       "<div style=\"margin:4px 0;\"><span style=\"color: black; background-color: #fb7050\">&nbsp;user&nbsp;</span><span style=\"color: black; background-color: #fb7252\">&nbsp;user&nbsp;</span><span style=\"color: black; background-color: #fff0e9\">&nbsp;está&nbsp;</span><span style=\"color: black; background-color: #fff4ee\">&nbsp;buena&nbsp;</span><span style=\"color: black; background-color: #fff5f0\">&nbsp;!&nbsp;</span><span style=\"color: black; background-color: #fff5f0\">&nbsp;!&nbsp;</span><span style=\"color: black; background-color: #fff5f0\">&nbsp;no&nbsp;</span><span style=\"color: black; background-color: #fff5f0\">&nbsp;seas&nbsp;</span><span style=\"color: black; background-color: #fff5f0\">&nbsp;tonto&nbsp;</span><span style=\"color: black; background-color: #fff5f0\">&nbsp;grave&nbsp;</span><span style=\"color: black; background-color: #fff5f0\">&nbsp;!&nbsp;</span></div><div style=\"margin:4px 0;\"><span style=\"color: black; background-color: #fff1ea\">&nbsp;user&nbsp;</span><span style=\"color: black; background-color: #fff5f0\">&nbsp;pero&nbsp;</span><span style=\"color: black; background-color: #fff5f0\">&nbsp;si&nbsp;</span><span style=\"color: black; background-color: #fff5f0\">&nbsp;son&nbsp;</span><span style=\"color: black; background-color: #fff5f0\">&nbsp;iguales&nbsp;</span><span style=\"color: black; background-color: #fff5f0\">&nbsp;poh&nbsp;</span><span style=\"color: black; background-color: #fff5f0\">&nbsp;pablo&nbsp;</span><span style=\"color: black; background-color: #fff5f0\">&nbsp;!&nbsp;</span><span style=\"color: black; background-color: #fff5f0\">&nbsp;o&nbsp;</span><span style=\"color: black; background-color: #73030f\">&nbsp;tú&nbsp;</span><span style=\"color: black; background-color: #fff5f0\">&nbsp;crees&nbsp;</span><span style=\"color: black; background-color: #fff5f0\">&nbsp;que&nbsp;</span><span style=\"color: black; background-color: #fff5f0\">&nbsp;el&nbsp;</span><span style=\"color: black; background-color: #fff5f0\">&nbsp;revés&nbsp;</span><span style=\"color: black; background-color: #fff5f0\">&nbsp;sería&nbsp;</span><span style=\"color: black; background-color: #fff5f0\">&nbsp;distinto&nbsp;</span><span style=\"color: black; background-color: #fff5f0\">&nbsp;?&nbsp;</span></div><div style=\"margin:4px 0;\"><span style=\"color: black; background-color: #fff5f0\">&nbsp;desde&nbsp;</span><span style=\"color: black; background-color: #fff5f0\">&nbsp;cocholgüe&nbsp;</span><span style=\"color: black; background-color: #fff5f0\">&nbsp;se&nbsp;</span><span style=\"color: black; background-color: #67000d\">&nbsp;ve&nbsp;</span><span style=\"color: black; background-color: #fff5f0\">&nbsp;así&nbsp;</span><span style=\"color: black; background-color: #fff5f0\">&nbsp;<url>&nbsp;</span></div><div style=\"margin:4px 0;\"><span style=\"color: black; background-color: #880811\">&nbsp;user&nbsp;</span><span style=\"color: black; background-color: #feeae0\">&nbsp;de&nbsp;</span><span style=\"color: black; background-color: #fff5f0\">&nbsp;acuerdo&nbsp;</span><span style=\"color: black; background-color: #fff5f0\">&nbsp;con&nbsp;</span><span style=\"color: black; background-color: #fff5f0\">&nbsp;eso&nbsp;</span><span style=\"color: black; background-color: #fff5f0\">&nbsp;!&nbsp;</span><span style=\"color: black; background-color: #fff5f0\">&nbsp;gestión&nbsp;</span><span style=\"color: black; background-color: #fff5f0\">&nbsp;desinteresada&nbsp;</span><span style=\"color: black; background-color: #fff5f0\">&nbsp;...&nbsp;</span><span style=\"color: black; background-color: #fff5f0\">&nbsp;quizá&nbsp;</span><span style=\"color: black; background-color: #fff5f0\">&nbsp;una&nbsp;</span><span style=\"color: black; background-color: #fff5f0\">&nbsp;utopía&nbsp;</span><span style=\"color: black; background-color: #fff5f0\">&nbsp;...&nbsp;</span></div><div style=\"margin:4px 0;\"><span style=\"color: black; background-color: #fff2eb\">&nbsp;user&nbsp;</span><span style=\"color: black; background-color: #fff5f0\">&nbsp;quizá&nbsp;</span><span style=\"color: black; background-color: #fff5f0\">&nbsp;,&nbsp;</span><span style=\"color: black; background-color: #fff5f0\">&nbsp;pero&nbsp;</span><span style=\"color: black; background-color: #fdd4c2\">&nbsp;le&nbsp;</span><span style=\"color: black; background-color: #b91419\">&nbsp;tocó&nbsp;</span><span style=\"color: black; background-color: #fff5f0\">&nbsp;de&nbsp;</span><span style=\"color: black; background-color: #fff5f0\">&nbsp;nuevo&nbsp;</span><span style=\"color: black; background-color: #fff5f0\">&nbsp;a&nbsp;</span><span style=\"color: black; background-color: #fff5f0\">&nbsp;mb&nbsp;</span><span style=\"color: black; background-color: #fff5f0\">&nbsp;y&nbsp;</span><span style=\"color: black; background-color: #fff5f0\">&nbsp;queda&nbsp;</span><span style=\"color: black; background-color: #fff5f0\">&nbsp;en&nbsp;</span><span style=\"color: black; background-color: #fff5f0\">&nbsp;deuda&nbsp;</span><span style=\"color: black; background-color: #fff5f0\">&nbsp;...&nbsp;</span><span style=\"color: black; background-color: #fff5f0\">&nbsp;otra&nbsp;</span><span style=\"color: black; background-color: #fff5f0\">&nbsp;vez&nbsp;</span></div><div style=\"margin:4px 0;\"><span style=\"color: black; background-color: #fb7252\">&nbsp;user&nbsp;</span><span style=\"color: black; background-color: #fff5f0\">&nbsp;mal&nbsp;</span><span style=\"color: black; background-color: #fff5f0\">&nbsp;de&nbsp;</span><span style=\"color: black; background-color: #fff5f0\">&nbsp;muchos&nbsp;</span><span style=\"color: black; background-color: #ffebe2\">&nbsp;consuelo&nbsp;</span><span style=\"color: black; background-color: #fc8a6a\">&nbsp;de&nbsp;</span><span style=\"color: black; background-color: #ffeee7\">&nbsp;tontos&nbsp;</span><span style=\"color: black; background-color: #fff5f0\">&nbsp;y&nbsp;</span><span style=\"color: black; background-color: #fff5f0\">&nbsp;mediocridad&nbsp;</span><span style=\"color: black; background-color: #fff5f0\">&nbsp;va&nbsp;</span><span style=\"color: black; background-color: #fff2ec\">&nbsp;campeando&nbsp;</span></div><div style=\"margin:4px 0;\"><span style=\"color: black; background-color: #fcb398\">&nbsp;user&nbsp;</span><span style=\"color: black; background-color: #fff3ed\">&nbsp;hace&nbsp;</span><span style=\"color: black; background-color: #fff3ed\">&nbsp;3&nbsp;</span><span style=\"color: black; background-color: #fff5f0\">&nbsp;años&nbsp;</span><span style=\"color: black; background-color: #fff1ea\">&nbsp;q&nbsp;</span><span style=\"color: black; background-color: #fff4ef\">&nbsp;gobierna&nbsp;</span><span style=\"color: black; background-color: #fff1ea\">&nbsp;bachelet&nbsp;</span><span style=\"color: black; background-color: #eb372a\">&nbsp;amigo&nbsp;</span><span style=\"color: black; background-color: #fff5f0\">&nbsp;,&nbsp;</span><span style=\"color: black; background-color: #fff5f0\">&nbsp;3&nbsp;</span><span style=\"color: black; background-color: #fff5f0\">&nbsp;años&nbsp;</span><span style=\"color: black; background-color: #fff5f0\">&nbsp;!&nbsp;</span><span style=\"color: black; background-color: #fff5f0\">&nbsp;!&nbsp;</span><span style=\"color: black; background-color: #fff5f0\">&nbsp;!&nbsp;</span></div><div style=\"margin:4px 0;\"><span style=\"color: black; background-color: #9f0e14\">&nbsp;user&nbsp;</span><span style=\"color: black; background-color: #fff5f0\">&nbsp;existe&nbsp;</span><span style=\"color: black; background-color: #fff5f0\">&nbsp;el&nbsp;</span><span style=\"color: black; background-color: #fff3ed\">&nbsp;derecho&nbsp;</span><span style=\"color: black; background-color: #fff5f0\">&nbsp;a&nbsp;</span><span style=\"color: black; background-color: #fff5f0\">&nbsp;exigir&nbsp;</span><span style=\"color: black; background-color: #fff5f0\">&nbsp;eficiencia&nbsp;</span><span style=\"color: black; background-color: #fff5f0\">&nbsp;,&nbsp;</span><span style=\"color: black; background-color: #fff5f0\">&nbsp;claridad&nbsp;</span><span style=\"color: black; background-color: #fff5f0\">&nbsp;,&nbsp;</span><span style=\"color: black; background-color: #fff5f0\">&nbsp;protección&nbsp;</span><span style=\"color: black; background-color: #fff5f0\">&nbsp;de&nbsp;</span><span style=\"color: black; background-color: #fff5f0\">&nbsp;parte&nbsp;</span><span style=\"color: black; background-color: #fee5d8\">&nbsp;de&nbsp;</span><span style=\"color: black; background-color: #fff5f0\">&nbsp;las&nbsp;</span><span style=\"color: black; background-color: #fff5f0\">&nbsp;autoridades&nbsp;</span><span style=\"color: black; background-color: #fff5f0\">&nbsp;,&nbsp;</span><span style=\"color: black; background-color: #fff5f0\">&nbsp;aunque&nbsp;</span><span style=\"color: black; background-color: #fff5f0\">&nbsp;les&nbsp;</span><span style=\"color: black; background-color: #fff5f0\">&nbsp;duela&nbsp;</span><span style=\"color: black; background-color: #fff5f0\">&nbsp;a&nbsp;</span><span style=\"color: black; background-color: #fff5f0\">&nbsp;muchos&nbsp;</span></div><div style=\"margin:4px 0;\"><span style=\"color: black; background-color: #7e0610\">&nbsp;user&nbsp;</span><span style=\"color: black; background-color: #fff5f0\">&nbsp;siempre&nbsp;</span><span style=\"color: black; background-color: #ffeee6\">&nbsp;y&nbsp;</span><span style=\"color: black; background-color: #fff5f0\">&nbsp;cuando&nbsp;</span><span style=\"color: black; background-color: #fff5f0\">&nbsp;no&nbsp;</span><span style=\"color: black; background-color: #fff5f0\">&nbsp;sea&nbsp;</span><span style=\"color: black; background-color: #fff5f0\">&nbsp;provocado&nbsp;</span><span style=\"color: black; background-color: #fff5f0\">&nbsp;,&nbsp;</span><span style=\"color: black; background-color: #fff5f0\">&nbsp;porque&nbsp;</span><span style=\"color: black; background-color: #fff5f0\">&nbsp;ahí&nbsp;</span><span style=\"color: black; background-color: #fff5f0\">&nbsp;lo&nbsp;</span><span style=\"color: black; background-color: #fff5f0\">&nbsp;q&nbsp;</span><span style=\"color: black; background-color: #fff5f0\">&nbsp;corresponde&nbsp;</span><span style=\"color: black; background-color: #fff5f0\">&nbsp;es&nbsp;</span><span style=\"color: black; background-color: #fff5f0\">&nbsp;cárcel&nbsp;</span><span style=\"color: black; background-color: #fff5f0\">&nbsp;.&nbsp;</span><span style=\"color: black; background-color: #fff5f0\">&nbsp;pare&nbsp;</span><span style=\"color: black; background-color: #fff5f0\">&nbsp;el&nbsp;</span><span style=\"color: black; background-color: #fff5f0\">&nbsp;chanterio&nbsp;</span><span style=\"color: black; background-color: #fff5f0\">&nbsp;\"&nbsp;</span><span style=\"color: black; background-color: #fff5f0\">&nbsp;honorable&nbsp;</span><span style=\"color: black; background-color: #fff5f0\">&nbsp;\"&nbsp;</span></div><div style=\"margin:4px 0;\"><span style=\"color: black; background-color: #fdd1be\">&nbsp;user&nbsp;</span><span style=\"color: black; background-color: #fff5f0\">&nbsp;cómo&nbsp;</span><span style=\"color: black; background-color: #fff5f0\">&nbsp;podemos&nbsp;</span><span style=\"color: black; background-color: #fff5f0\">&nbsp;ayudar&nbsp;</span><span style=\"color: black; background-color: #fff5f0\">&nbsp;?&nbsp;</span><span style=\"color: black; background-color: #fff5f0\">&nbsp;tenemos&nbsp;</span><span style=\"color: black; background-color: #fff5f0\">&nbsp;disponibles&nbsp;</span><span style=\"color: black; background-color: #fff0e8\">&nbsp;camionetas&nbsp;</span><span style=\"color: black; background-color: #fff2eb\">&nbsp;para&nbsp;</span><span style=\"color: black; background-color: #dc2924\">&nbsp;transporte&nbsp;</span><span style=\"color: black; background-color: #fff5f0\">&nbsp;de&nbsp;</span><span style=\"color: black; background-color: #fff5f0\">&nbsp;personal&nbsp;</span><span style=\"color: black; background-color: #fff5f0\">&nbsp;en&nbsp;</span><span style=\"color: black; background-color: #fff5f0\">&nbsp;concepción&nbsp;</span><span style=\"color: black; background-color: #fff5f0\">&nbsp;.&nbsp;</span><span style=\"color: black; background-color: #feeae1\">&nbsp;sirve&nbsp;</span><span style=\"color: black; background-color: #fff4ef\">&nbsp;de&nbsp;</span><span style=\"color: black; background-color: #fff5f0\">&nbsp;algo&nbsp;</span><span style=\"color: black; background-color: #fff5f0\">&nbsp;?&nbsp;</span></div><div style=\"margin:4px 0;\"><span style=\"color: black; background-color: #ffece4\">&nbsp;user&nbsp;</span><span style=\"color: black; background-color: #feeae0\">&nbsp;user&nbsp;</span><span style=\"color: black; background-color: #fff5f0\">&nbsp;la&nbsp;</span><span style=\"color: black; background-color: #fff5f0\">&nbsp;culpa&nbsp;</span><span style=\"color: black; background-color: #ab1016\">&nbsp;q&nbsp;</span><span style=\"color: black; background-color: #fff5f0\">&nbsp;tiene&nbsp;</span><span style=\"color: black; background-color: #fff5f0\">&nbsp;el&nbsp;</span><span style=\"color: black; background-color: #fff5f0\">&nbsp;gob&nbsp;</span><span style=\"color: black; background-color: #fff5f0\">&nbsp;es&nbsp;</span><span style=\"color: black; background-color: #fff5f0\">&nbsp;por&nbsp;</span><span style=\"color: black; background-color: #fff5f0\">&nbsp;su&nbsp;</span><span style=\"color: black; background-color: #fff5f0\">&nbsp;eterno&nbsp;</span><span style=\"color: black; background-color: #fff4ee\">&nbsp;paso&nbsp;</span><span style=\"color: black; background-color: #fff5f0\">&nbsp;lento&nbsp;</span><span style=\"color: black; background-color: #fff5f0\">&nbsp;,&nbsp;</span><span style=\"color: black; background-color: #fff5f0\">&nbsp;como&nbsp;</span><span style=\"color: black; background-color: #fff5f0\">&nbsp;esperando&nbsp;</span><span style=\"color: black; background-color: #fff5f0\">&nbsp;q&nbsp;</span><span style=\"color: black; background-color: #fff5f0\">&nbsp;está&nbsp;</span><span style=\"color: black; background-color: #fff5f0\">&nbsp;tortura&nbsp;</span><span style=\"color: black; background-color: #fff3ed\">&nbsp;termine&nbsp;</span><span style=\"color: black; background-color: #fff5f0\">&nbsp;luego&nbsp;</span><span style=\"color: black; background-color: #fff5f0\">&nbsp;...&nbsp;</span></div><div style=\"margin:4px 0;\"><span style=\"color: black; background-color: #c3161b\">&nbsp;user&nbsp;</span><span style=\"color: black; background-color: #fff5f0\">&nbsp;pero&nbsp;</span><span style=\"color: black; background-color: #fff5f0\">&nbsp;éstos&nbsp;</span><span style=\"color: black; background-color: #fff5f0\">&nbsp;se&nbsp;</span><span style=\"color: black; background-color: #fff5f0\">&nbsp;consiguen&nbsp;</span><span style=\"color: black; background-color: #fff5f0\">&nbsp;con&nbsp;</span><span style=\"color: black; background-color: #fff5f0\">&nbsp;diálogo&nbsp;</span><span style=\"color: black; background-color: #fff5f0\">&nbsp;,&nbsp;</span><span style=\"color: black; background-color: #fff5f0\">&nbsp;negociando&nbsp;</span><span style=\"color: black; background-color: #fff5f0\">&nbsp;,&nbsp;</span><span style=\"color: black; background-color: #fff5f0\">&nbsp;accionando&nbsp;</span><span style=\"color: black; background-color: #fff5f0\">&nbsp;dentro&nbsp;</span><span style=\"color: black; background-color: #fcc4ad\">&nbsp;de&nbsp;</span><span style=\"color: black; background-color: #fff5f0\">&nbsp;la&nbsp;</span><span style=\"color: black; background-color: #fff5f0\">&nbsp;ley&nbsp;</span></div><div style=\"margin:4px 0;\"><span style=\"color: black; background-color: #fff5f0\">&nbsp;user&nbsp;</span><span style=\"color: black; background-color: #fff5f0\">&nbsp;guardias&nbsp;</span><span style=\"color: black; background-color: #fff5f0\">&nbsp;priv&nbsp;</span><span style=\"color: black; background-color: #fff5f0\">&nbsp;=&nbsp;</span><span style=\"color: black; background-color: #fff5f0\">&nbsp;justicia&nbsp;</span><span style=\"color: black; background-color: #fff5f0\">&nbsp;x&nbsp;</span><span style=\"color: black; background-color: #fff5f0\">&nbsp;prop&nbsp;</span><span style=\"color: black; background-color: #fff5f0\">&nbsp;manos&nbsp;</span><span style=\"color: black; background-color: #fff5f0\">&nbsp;=&nbsp;</span><span style=\"color: black; background-color: #fff5f0\">&nbsp;ley&nbsp;</span><span style=\"color: black; background-color: #fff5f0\">&nbsp;del&nbsp;</span><span style=\"color: black; background-color: #fff5f0\">&nbsp;+&nbsp;</span><span style=\"color: black; background-color: #fff5f0\">&nbsp;fuerte.impuestos&nbsp;</span><span style=\"color: black; background-color: #fff5f0\">&nbsp;se&nbsp;</span><span style=\"color: black; background-color: #fff5f0\">&nbsp;pagan&nbsp;</span><span style=\"color: black; background-color: #fff5f0\">&nbsp;x&nbsp;</span><span style=\"color: black; background-color: #fff5f0\">&nbsp;derecho&nbsp;</span><span style=\"color: black; background-color: #fff5f0\">&nbsp;a&nbsp;</span><span style=\"color: black; background-color: #fff5f0\">&nbsp;trabaj&nbsp;</span><span style=\"color: black; background-color: #fff5f0\">&nbsp;en&nbsp;</span><span style=\"color: black; background-color: #67000d\">&nbsp;país&nbsp;</span><span style=\"color: black; background-color: #fff5f0\">&nbsp;en&nbsp;</span><span style=\"color: black; background-color: #fff5f0\">&nbsp;orden&nbsp;</span><span style=\"color: black; background-color: #fff5f0\">&nbsp;.&nbsp;</span></div><div style=\"margin:4px 0;\"><span style=\"color: black; background-color: #fff5f0\">&nbsp;user&nbsp;</span><span style=\"color: black; background-color: #fff5f0\">&nbsp;user&nbsp;</span><span style=\"color: black; background-color: #fff5f0\">&nbsp;user&nbsp;</span><span style=\"color: black; background-color: #ffece4\">&nbsp;user&nbsp;</span><span style=\"color: black; background-color: #b81419\">&nbsp;user&nbsp;</span><span style=\"color: black; background-color: #fee7dc\">&nbsp;estado&nbsp;</span><span style=\"color: black; background-color: #ffede5\">&nbsp;d&nbsp;</span><span style=\"color: black; background-color: #fff5f0\">&nbsp;derecho&nbsp;</span><span style=\"color: black; background-color: #fff5f0\">&nbsp;se&nbsp;</span><span style=\"color: black; background-color: #fff5f0\">&nbsp;llama&nbsp;</span><span style=\"color: black; background-color: #fff5f0\">&nbsp;.&nbsp;</span><span style=\"color: black; background-color: #fff5f0\">&nbsp;¿&nbsp;</span><span style=\"color: black; background-color: #fff5f0\">&nbsp;o&nbsp;</span><span style=\"color: black; background-color: #fff5f0\">&nbsp;prefieres&nbsp;</span><span style=\"color: black; background-color: #fff5f0\">&nbsp;que&nbsp;</span><span style=\"color: black; background-color: #fff5f0\">&nbsp;cuiden&nbsp;</span><span style=\"color: black; background-color: #fff5f0\">&nbsp;con&nbsp;</span><span style=\"color: black; background-color: #fff5f0\">&nbsp;guardias&nbsp;</span><span style=\"color: black; background-color: #fff5f0\">&nbsp;privados&nbsp;</span><span style=\"color: black; background-color: #fff5f0\">&nbsp;?&nbsp;</span></div><div style=\"margin:4px 0;\"><span style=\"color: black; background-color: #67000d\">&nbsp;user&nbsp;</span><span style=\"color: black; background-color: #fff5f0\">&nbsp;y&nbsp;</span><span style=\"color: black; background-color: #fff5f0\">&nbsp;no&nbsp;</span><span style=\"color: black; background-color: #fff5f0\">&nbsp;le&nbsp;</span><span style=\"color: black; background-color: #fff5f0\">&nbsp;podrán&nbsp;</span><span style=\"color: black; background-color: #fff5f0\">&nbsp;decir&nbsp;</span><span style=\"color: black; background-color: #fff5f0\">&nbsp;óscar&nbsp;</span><span style=\"color: black; background-color: #fff5f0\">&nbsp;no&nbsp;</span><span style=\"color: black; background-color: #fff5f0\">&nbsp;más&nbsp;</span><span style=\"color: black; background-color: #fff5f0\">&nbsp;...&nbsp;</span><span style=\"color: black; background-color: #fff5f0\">&nbsp;?&nbsp;</span></div><div style=\"margin:4px 0;\"><span style=\"color: black; background-color: #d52221\">&nbsp;user&nbsp;</span><span style=\"color: black; background-color: #fff5f0\">&nbsp;muchos&nbsp;</span><span style=\"color: black; background-color: #fff5f0\">&nbsp;!&nbsp;</span><span style=\"color: black; background-color: #fff5f0\">&nbsp;incluso&nbsp;</span><span style=\"color: black; background-color: #fff5f0\">&nbsp;hace&nbsp;</span><span style=\"color: black; background-color: #fff5f0\">&nbsp;unos&nbsp;</span><span style=\"color: black; background-color: #fff5f0\">&nbsp;pocos&nbsp;</span><span style=\"color: black; background-color: #fff5f0\">&nbsp;días&nbsp;</span><span style=\"color: black; background-color: #fff5f0\">&nbsp;atrás&nbsp;</span><span style=\"color: black; background-color: #fff5f0\">&nbsp;.&nbsp;</span><span style=\"color: black; background-color: #fff0e8\">&nbsp;no&nbsp;</span><span style=\"color: black; background-color: #fdcab5\">&nbsp;le&nbsp;</span><span style=\"color: black; background-color: #fff4ef\">&nbsp;dé&nbsp;</span><span style=\"color: black; background-color: #fff4ee\">&nbsp;tanto&nbsp;</span><span style=\"color: black; background-color: #fff5f0\">&nbsp;asco&nbsp;</span><span style=\"color: black; background-color: #fff5f0\">&nbsp;señor&nbsp;</span><span style=\"color: black; background-color: #fff4ef\">&nbsp;y&nbsp;</span><span style=\"color: black; background-color: #fff5f0\">&nbsp;comience&nbsp;</span><span style=\"color: black; background-color: #fff5f0\">&nbsp;a&nbsp;</span><span style=\"color: black; background-color: #fff5f0\">&nbsp;trabajar&nbsp;</span><span style=\"color: black; background-color: #fff5f0\">&nbsp;para&nbsp;</span><span style=\"color: black; background-color: #fff5f0\">&nbsp;unir&nbsp;</span><span style=\"color: black; background-color: #fff5f0\">&nbsp;a&nbsp;</span><span style=\"color: black; background-color: #fff2ec\">&nbsp;esta&nbsp;</span><span style=\"color: black; background-color: #fff4ee\">&nbsp;tierra&nbsp;</span></div><div style=\"margin:4px 0;\"><span style=\"color: black; background-color: #69000d\">&nbsp;user&nbsp;</span><span style=\"color: black; background-color: #fff5f0\">&nbsp;así&nbsp;</span><span style=\"color: black; background-color: #fff5f0\">&nbsp;se&nbsp;</span><span style=\"color: black; background-color: #fff5f0\">&nbsp;hace&nbsp;</span><span style=\"color: black; background-color: #fff5f0\">&nbsp;en&nbsp;</span><span style=\"color: black; background-color: #fff5f0\">&nbsp;la&nbsp;</span><span style=\"color: black; background-color: #fff5f0\">&nbsp;empresa&nbsp;</span><span style=\"color: black; background-color: #fff5f0\">&nbsp;minera&nbsp;</span><span style=\"color: black; background-color: #fff5f0\">&nbsp;,&nbsp;</span><span style=\"color: black; background-color: #fff5f0\">&nbsp;así&nbsp;</span><span style=\"color: black; background-color: #fff5f0\">&nbsp;se&nbsp;</span><span style=\"color: black; background-color: #fff5f0\">&nbsp;hace&nbsp;</span><span style=\"color: black; background-color: #fff5f0\">&nbsp;en&nbsp;</span><span style=\"color: black; background-color: #fff5f0\">&nbsp;la&nbsp;</span><span style=\"color: black; background-color: #fff5f0\">&nbsp;medicina&nbsp;</span><span style=\"color: black; background-color: #fff5f0\">&nbsp;,&nbsp;</span><span style=\"color: black; background-color: #fff5f0\">&nbsp;así&nbsp;</span><span style=\"color: black; background-color: #fff5f0\">&nbsp;se&nbsp;</span><span style=\"color: black; background-color: #fff5f0\">&nbsp;hace&nbsp;</span><span style=\"color: black; background-color: #fff5f0\">&nbsp;en&nbsp;</span><span style=\"color: black; background-color: #fff5f0\">&nbsp;la&nbsp;</span><span style=\"color: black; background-color: #fff5f0\">&nbsp;construcción&nbsp;</span><span style=\"color: black; background-color: #fff5f0\">&nbsp;...&nbsp;</span><span style=\"color: black; background-color: #fff5f0\">&nbsp;mala&nbsp;</span><span style=\"color: black; background-color: #fff5f0\">&nbsp;la&nbsp;</span><span style=\"color: black; background-color: #fff5f0\">&nbsp;razón&nbsp;</span></div><div style=\"margin:4px 0;\"><span style=\"color: black; background-color: #ffece3\">&nbsp;user&nbsp;</span><span style=\"color: black; background-color: #fff5f0\">&nbsp;nadie&nbsp;</span><span style=\"color: black; background-color: #fff5f0\">&nbsp;en&nbsp;</span><span style=\"color: black; background-color: #820711\">&nbsp;estado&nbsp;</span><span style=\"color: black; background-color: #fff5f0\">&nbsp;de&nbsp;</span><span style=\"color: black; background-color: #fff5f0\">&nbsp;salud&nbsp;</span><span style=\"color: black; background-color: #fff5f0\">&nbsp;grave&nbsp;</span><span style=\"color: black; background-color: #fff5f0\">&nbsp;debería&nbsp;</span><span style=\"color: black; background-color: #fff5f0\">&nbsp;estar&nbsp;</span><span style=\"color: black; background-color: #fff5f0\">&nbsp;en&nbsp;</span><span style=\"color: black; background-color: #fff5f0\">&nbsp;un&nbsp;</span><span style=\"color: black; background-color: #fff5f0\">&nbsp;presidio&nbsp;</span><span style=\"color: black; background-color: #fff5f0\">&nbsp;...&nbsp;</span><span style=\"color: black; background-color: #fff5f0\">&nbsp;cierto&nbsp;</span><span style=\"color: black; background-color: #fff5f0\">&nbsp;?&nbsp;</span></div><div style=\"margin:4px 0;\"><span style=\"color: black; background-color: #fff5f0\">&nbsp;user&nbsp;</span><span style=\"color: black; background-color: #fff5f0\">&nbsp;guardi&nbsp;</span><span style=\"color: black; background-color: #fff5f0\">&nbsp;priv&nbsp;</span><span style=\"color: black; background-color: #fff5f0\">&nbsp;=&nbsp;</span><span style=\"color: black; background-color: #fff5f0\">&nbsp;justicia&nbsp;</span><span style=\"color: black; background-color: #fff5f0\">&nbsp;x&nbsp;</span><span style=\"color: black; background-color: #fff5f0\">&nbsp;prop&nbsp;</span><span style=\"color: black; background-color: #fff5f0\">&nbsp;manos&nbsp;</span><span style=\"color: black; background-color: #fff5f0\">&nbsp;=&nbsp;</span><span style=\"color: black; background-color: #fff5f0\">&nbsp;ley&nbsp;</span><span style=\"color: black; background-color: #fff5f0\">&nbsp;del&nbsp;</span><span style=\"color: black; background-color: #fff5f0\">&nbsp;+&nbsp;</span><span style=\"color: black; background-color: #fff5f0\">&nbsp;fuerte.impuestos&nbsp;</span><span style=\"color: black; background-color: #fff5f0\">&nbsp;se&nbsp;</span><span style=\"color: black; background-color: #fff5f0\">&nbsp;pagan&nbsp;</span><span style=\"color: black; background-color: #fff5f0\">&nbsp;x&nbsp;</span><span style=\"color: black; background-color: #fff5f0\">&nbsp;derecho&nbsp;</span><span style=\"color: black; background-color: #fff5f0\">&nbsp;a&nbsp;</span><span style=\"color: black; background-color: #fff5f0\">&nbsp;trabaj&nbsp;</span><span style=\"color: black; background-color: #fff5f0\">&nbsp;en&nbsp;</span><span style=\"color: black; background-color: #67000d\">&nbsp;país&nbsp;</span><span style=\"color: black; background-color: #fff5f0\">&nbsp;en&nbsp;</span><span style=\"color: black; background-color: #fff5f0\">&nbsp;orden.empresas&nbsp;</span><span style=\"color: black; background-color: #fff5f0\">&nbsp;pagan&nbsp;</span><span style=\"color: black; background-color: #fff5f0\">&nbsp;imp&nbsp;</span></div><div style=\"margin:4px 0;\"><span style=\"color: black; background-color: #fff5f0\">&nbsp;user&nbsp;</span><span style=\"color: black; background-color: #fff5f0\">&nbsp;guardias&nbsp;</span><span style=\"color: black; background-color: #fff5f0\">&nbsp;priv&nbsp;</span><span style=\"color: black; background-color: #fff5f0\">&nbsp;=&nbsp;</span><span style=\"color: black; background-color: #fff5f0\">&nbsp;justicia&nbsp;</span><span style=\"color: black; background-color: #fff5f0\">&nbsp;x&nbsp;</span><span style=\"color: black; background-color: #fff5f0\">&nbsp;prop&nbsp;</span><span style=\"color: black; background-color: #fff5f0\">&nbsp;manos&nbsp;</span><span style=\"color: black; background-color: #fff5f0\">&nbsp;=&nbsp;</span><span style=\"color: black; background-color: #fff5f0\">&nbsp;ley&nbsp;</span><span style=\"color: black; background-color: #fff5f0\">&nbsp;del&nbsp;</span><span style=\"color: black; background-color: #fff5f0\">&nbsp;+&nbsp;</span><span style=\"color: black; background-color: #fff5f0\">&nbsp;fuerte.impuestos&nbsp;</span><span style=\"color: black; background-color: #fff5f0\">&nbsp;se&nbsp;</span><span style=\"color: black; background-color: #fff5f0\">&nbsp;pagan&nbsp;</span><span style=\"color: black; background-color: #fff5f0\">&nbsp;x&nbsp;</span><span style=\"color: black; background-color: #fff5f0\">&nbsp;derecho&nbsp;</span><span style=\"color: black; background-color: #fff5f0\">&nbsp;a&nbsp;</span><span style=\"color: black; background-color: #fff5f0\">&nbsp;trabaj&nbsp;</span><span style=\"color: black; background-color: #fff5f0\">&nbsp;en&nbsp;</span><span style=\"color: black; background-color: #67000d\">&nbsp;país&nbsp;</span><span style=\"color: black; background-color: #fff5f0\">&nbsp;en&nbsp;</span><span style=\"color: black; background-color: #fff5f0\">&nbsp;orden&nbsp;</span><span style=\"color: black; background-color: #fff5f0\">&nbsp;.&nbsp;</span><span style=\"color: black; background-color: #fff5f0\">&nbsp;empresas&nbsp;</span><span style=\"color: black; background-color: #fff5f0\">&nbsp;pagan&nbsp;</span><span style=\"color: black; background-color: #fff5f0\">&nbsp;imp&nbsp;</span><span style=\"color: black; background-color: #fff5f0\">&nbsp;.&nbsp;</span></div><div style=\"margin:4px 0;\"><span style=\"color: black; background-color: #fff5f0\">&nbsp;user&nbsp;</span><span style=\"color: black; background-color: #fff5f0\">&nbsp;user&nbsp;</span><span style=\"color: black; background-color: #fff5f0\">&nbsp;user&nbsp;</span><span style=\"color: black; background-color: #ffede5\">&nbsp;user&nbsp;</span><span style=\"color: black; background-color: #b91419\">&nbsp;user&nbsp;</span><span style=\"color: black; background-color: #fedccd\">&nbsp;estado&nbsp;</span><span style=\"color: black; background-color: #fff5f0\">&nbsp;de&nbsp;</span><span style=\"color: black; background-color: #fff5f0\">&nbsp;derecho&nbsp;</span><span style=\"color: black; background-color: #fff5f0\">&nbsp;se&nbsp;</span><span style=\"color: black; background-color: #fff5f0\">&nbsp;llama&nbsp;</span><span style=\"color: black; background-color: #fff5f0\">&nbsp;.&nbsp;</span><span style=\"color: black; background-color: #fff5f0\">&nbsp;¿&nbsp;</span><span style=\"color: black; background-color: #fff5f0\">&nbsp;o&nbsp;</span><span style=\"color: black; background-color: #fff5f0\">&nbsp;prefieres&nbsp;</span><span style=\"color: black; background-color: #fff5f0\">&nbsp;que&nbsp;</span><span style=\"color: black; background-color: #fff5f0\">&nbsp;cuiden&nbsp;</span><span style=\"color: black; background-color: #fff5f0\">&nbsp;con&nbsp;</span><span style=\"color: black; background-color: #fff5f0\">&nbsp;guardias&nbsp;</span><span style=\"color: black; background-color: #fff5f0\">&nbsp;privados&nbsp;</span><span style=\"color: black; background-color: #fff5f0\">&nbsp;?&nbsp;</span></div><div style=\"margin:4px 0;\"><span style=\"color: black; background-color: #fff5f0\">&nbsp;user&nbsp;</span><span style=\"color: black; background-color: #fff5f0\">&nbsp;señora&nbsp;</span><span style=\"color: black; background-color: #fff5f0\">&nbsp;,&nbsp;</span><span style=\"color: black; background-color: #fff5f0\">&nbsp;péguese&nbsp;</span><span style=\"color: black; background-color: #fff5f0\">&nbsp;una&nbsp;</span><span style=\"color: black; background-color: #fff5f0\">&nbsp;vueltita&nbsp;</span><span style=\"color: black; background-color: #fff5f0\">&nbsp;por&nbsp;</span><span style=\"color: black; background-color: #fff5f0\">&nbsp;la&nbsp;</span><span style=\"color: black; background-color: #fff5f0\">&nbsp;zona&nbsp;</span><span style=\"color: black; background-color: #fff5f0\">&nbsp;primero&nbsp;</span><span style=\"color: black; background-color: #fff5f0\">&nbsp;después&nbsp;</span><span style=\"color: black; background-color: #fff5f0\">&nbsp;opine&nbsp;</span><span style=\"color: black; background-color: #fff5f0\">&nbsp;,&nbsp;</span><span style=\"color: black; background-color: #fff5f0\">&nbsp;¿&nbsp;</span><span style=\"color: black; background-color: #fee2d5\">&nbsp;ve&nbsp;</span><span style=\"color: black; background-color: #a10e15\">&nbsp;q&nbsp;</span><span style=\"color: black; background-color: #fff5f0\">&nbsp;se&nbsp;</span><span style=\"color: black; background-color: #fff5f0\">&nbsp;expone&nbsp;</span><span style=\"color: black; background-color: #fff5f0\">&nbsp;tontamente&nbsp;</span><span style=\"color: black; background-color: #fff5f0\">&nbsp;a&nbsp;</span><span style=\"color: black; background-color: #fff5f0\">&nbsp;que&nbsp;</span><span style=\"color: black; background-color: #fff5f0\">&nbsp;la&nbsp;</span><span style=\"color: black; background-color: #fff5f0\">&nbsp;trolleen&nbsp;</span><span style=\"color: black; background-color: #fff5f0\">&nbsp;?&nbsp;</span><span style=\"color: black; background-color: #fff5f0\">&nbsp;user&nbsp;</span></div><div style=\"margin:4px 0;\"><span style=\"color: black; background-color: #fff4ee\">&nbsp;user&nbsp;</span><span style=\"color: black; background-color: #fff5f0\">&nbsp;te&nbsp;</span><span style=\"color: black; background-color: #6b010e\">&nbsp;regalaron&nbsp;</span><span style=\"color: black; background-color: #fff5f0\">&nbsp;la&nbsp;</span><span style=\"color: black; background-color: #fff5f0\">&nbsp;retroexcavadora&nbsp;</span><span style=\"color: black; background-color: #fff5f0\">&nbsp;que&nbsp;</span><span style=\"color: black; background-color: #fff5f0\">&nbsp;pediste&nbsp;</span><span style=\"color: black; background-color: #fff5f0\">&nbsp;hacía&nbsp;</span><span style=\"color: black; background-color: #fff5f0\">&nbsp;varias&nbsp;</span><span style=\"color: black; background-color: #fff5f0\">&nbsp;navidades&nbsp;</span><span style=\"color: black; background-color: #fff5f0\">&nbsp;atrás&nbsp;</span><span style=\"color: black; background-color: #fff5f0\">&nbsp;?&nbsp;</span><span style=\"color: black; background-color: #fff5f0\">&nbsp;?&nbsp;</span></div><div style=\"margin:4px 0;\"><span style=\"color: black; background-color: #fff5f0\">&nbsp;user&nbsp;</span><span style=\"color: black; background-color: #fff5f0\">&nbsp;los&nbsp;</span><span style=\"color: black; background-color: #fff5f0\">&nbsp;buenos&nbsp;</span><span style=\"color: black; background-color: #fff5f0\">&nbsp;deseos&nbsp;</span><span style=\"color: black; background-color: #fff5f0\">&nbsp;se&nbsp;</span><span style=\"color: black; background-color: #fff5f0\">&nbsp;agradecen&nbsp;</span><span style=\"color: black; background-color: #fff5f0\">&nbsp;siempre&nbsp;</span><span style=\"color: black; background-color: #fff5f0\">&nbsp;.&nbsp;</span><span style=\"color: black; background-color: #fff5f0\">&nbsp;felicidades&nbsp;</span><span style=\"color: black; background-color: #fff5f0\">&nbsp;a&nbsp;</span><span style=\"color: black; background-color: #fff5f0\">&nbsp;todos&nbsp;</span><span style=\"color: black; background-color: #fff5f0\">&nbsp;y&nbsp;</span><span style=\"color: black; background-color: #fff5f0\">&nbsp;a&nbsp;</span><span style=\"color: black; background-color: #fff5f0\">&nbsp;trabajar&nbsp;</span><span style=\"color: black; background-color: #fff5f0\">&nbsp;por&nbsp;</span><span style=\"color: black; background-color: #fff5f0\">&nbsp;un&nbsp;</span><span style=\"color: black; background-color: #67000d\">&nbsp;chile&nbsp;</span><span style=\"color: black; background-color: #fff5f0\">&nbsp;mejor&nbsp;</span><span style=\"color: black; background-color: #fff5f0\">&nbsp;.&nbsp;</span><span style=\"color: black; background-color: #fff5f0\">&nbsp;aunque&nbsp;</span><span style=\"color: black; background-color: #fff5f0\">&nbsp;a&nbsp;</span><span style=\"color: black; background-color: #fff5f0\">&nbsp;algunos&nbsp;</span><span style=\"color: black; background-color: #fff5f0\">&nbsp;les&nbsp;</span><span style=\"color: black; background-color: #fff5f0\">&nbsp;cueste&nbsp;</span></div><div style=\"margin:4px 0;\"><span style=\"color: black; background-color: #fff5f0\">&nbsp;user&nbsp;</span><span style=\"color: black; background-color: #fff5f0\">&nbsp;heller&nbsp;</span><span style=\"color: black; background-color: #fff5f0\">&nbsp;,&nbsp;</span><span style=\"color: black; background-color: #fcb095\">&nbsp;niño&nbsp;</span><span style=\"color: black; background-color: #ffefe8\">&nbsp;mimado&nbsp;</span><span style=\"color: black; background-color: #fff0e9\">&nbsp;q&nbsp;</span><span style=\"color: black; background-color: #fedecf\">&nbsp;siemp&nbsp;</span><span style=\"color: black; background-color: #fa6648\">&nbsp;tuvo&nbsp;</span><span style=\"color: black; background-color: #fff5f0\">&nbsp;lo&nbsp;</span><span style=\"color: black; background-color: #fff5f0\">&nbsp;que&nbsp;</span><span style=\"color: black; background-color: #fff5f0\">&nbsp;quiso&nbsp;</span><span style=\"color: black; background-color: #fff5f0\">&nbsp;.&nbsp;</span><span style=\"color: black; background-color: #fff5f0\">&nbsp;deja&nbsp;</span><span style=\"color: black; background-color: #fff5f0\">&nbsp;mal&nbsp;</span><span style=\"color: black; background-color: #fff5f0\">&nbsp;a&nbsp;</span><span style=\"color: black; background-color: #fff5f0\">&nbsp;los&nbsp;</span><span style=\"color: black; background-color: #fff5f0\">&nbsp;miles&nbsp;</span><span style=\"color: black; background-color: #fff5f0\">&nbsp;de&nbsp;</span><span style=\"color: black; background-color: #fff5f0\">&nbsp;empresarios&nbsp;</span><span style=\"color: black; background-color: #fff5f0\">&nbsp;que&nbsp;</span><span style=\"color: black; background-color: #fff5f0\">&nbsp;queremos&nbsp;</span><span style=\"color: black; background-color: #fff4ef\">&nbsp;y&nbsp;</span><span style=\"color: black; background-color: #fff5f0\">&nbsp;agradecemos&nbsp;</span><span style=\"color: black; background-color: #fff5f0\">&nbsp;a&nbsp;</span><span style=\"color: black; background-color: #fff5f0\">&nbsp;nuestros&nbsp;</span><span style=\"color: black; background-color: #fff5f0\">&nbsp;trabaja&nbsp;</span></div><div style=\"margin:4px 0;\"><span style=\"color: black; background-color: #67000d\">&nbsp;user&nbsp;</span><span style=\"color: black; background-color: #fff5f0\">&nbsp;gracias&nbsp;</span></div><div style=\"margin:4px 0;\"><span style=\"color: black; background-color: #fee3d6\">&nbsp;user&nbsp;</span><span style=\"color: black; background-color: #fff5f0\">&nbsp;somos&nbsp;</span><span style=\"color: black; background-color: #fff5f0\">&nbsp;una&nbsp;</span><span style=\"color: black; background-color: #fff5f0\">&nbsp;raza&nbsp;</span><span style=\"color: black; background-color: #fff5f0\">&nbsp;que&nbsp;</span><span style=\"color: black; background-color: #a60f15\">&nbsp;aprende&nbsp;</span><span style=\"color: black; background-color: #fff5f0\">&nbsp;a&nbsp;</span><span style=\"color: black; background-color: #fff5f0\">&nbsp;palos&nbsp;</span><span style=\"color: black; background-color: #fff5f0\">&nbsp;!&nbsp;</span><span style=\"color: black; background-color: #fff5f0\">&nbsp;si&nbsp;</span><span style=\"color: black; background-color: #fff5f0\">&nbsp;no&nbsp;</span><span style=\"color: black; background-color: #fff5f0\">&nbsp;hay&nbsp;</span><span style=\"color: black; background-color: #fff5f0\">&nbsp;castigo&nbsp;</span><span style=\"color: black; background-color: #fff5f0\">&nbsp;,&nbsp;</span><span style=\"color: black; background-color: #fff5f0\">&nbsp;siempre&nbsp;</span><span style=\"color: black; background-color: #fff5f0\">&nbsp;tomamos&nbsp;</span><span style=\"color: black; background-color: #fff5f0\">&nbsp;camino&nbsp;</span><span style=\"color: black; background-color: #fff5f0\">&nbsp;+&nbsp;</span><span style=\"color: black; background-color: #fff5f0\">&nbsp;fácil&nbsp;</span><span style=\"color: black; background-color: #fff5f0\">&nbsp;,&nbsp;</span><span style=\"color: black; background-color: #fff5f0\">&nbsp;sin&nbsp;</span><span style=\"color: black; background-color: #fff5f0\">&nbsp;importar&nbsp;</span><span style=\"color: black; background-color: #fff5f0\">&nbsp;nada&nbsp;</span><span style=\"color: black; background-color: #fff4ee\">&nbsp;ni&nbsp;</span><span style=\"color: black; background-color: #fff5f0\">&nbsp;nadie&nbsp;</span></div><div style=\"margin:4px 0;\"><span style=\"color: black; background-color: #6d010e\">&nbsp;user&nbsp;</span><span style=\"color: black; background-color: #fff3ed\">&nbsp;cite&nbsp;</span><span style=\"color: black; background-color: #fff5f0\">&nbsp;la&nbsp;</span><span style=\"color: black; background-color: #fff5f0\">&nbsp;fuente&nbsp;</span><span style=\"color: black; background-color: #fff5f0\">&nbsp;por&nbsp;</span><span style=\"color: black; background-color: #fff5f0\">&nbsp;favor&nbsp;</span></div><div style=\"margin:4px 0;\"><span style=\"color: black; background-color: #fdc9b3\">&nbsp;user&nbsp;</span><span style=\"color: black; background-color: #fff5f0\">&nbsp;ley&nbsp;</span><span style=\"color: black; background-color: #fff5f0\">&nbsp;que&nbsp;</span><span style=\"color: black; background-color: #fff5f0\">&nbsp;castigue&nbsp;</span><span style=\"color: black; background-color: #fff5f0\">&nbsp;con&nbsp;</span><span style=\"color: black; background-color: #fff5f0\">&nbsp;cárcel&nbsp;</span><span style=\"color: black; background-color: #fff5f0\">&nbsp;efectiva&nbsp;</span><span style=\"color: black; background-color: #fff5f0\">&nbsp;a&nbsp;</span><span style=\"color: black; background-color: #fff5f0\">&nbsp;los&nbsp;</span><span style=\"color: black; background-color: #fedecf\">&nbsp;responsables&nbsp;</span><span style=\"color: black; background-color: #fcaf93\">&nbsp;y&nbsp;</span><span style=\"color: black; background-color: #fff5f0\">&nbsp;multa&nbsp;</span><span style=\"color: black; background-color: #fc9474\">&nbsp;ejemplar&nbsp;</span><span style=\"color: black; background-color: #fff5f0\">&nbsp;a&nbsp;</span><span style=\"color: black; background-color: #fff5f0\">&nbsp;los&nbsp;</span><span style=\"color: black; background-color: #fff5f0\">&nbsp;ejecutivos&nbsp;</span><span style=\"color: black; background-color: #fff5f0\">&nbsp;y&nbsp;</span><span style=\"color: black; background-color: #fff5f0\">&nbsp;directores&nbsp;</span><span style=\"color: black; background-color: #fff5f0\">&nbsp;.&nbsp;</span><span style=\"color: black; background-color: #fff5f0\">&nbsp;exprop&nbsp;</span><span style=\"color: black; background-color: #fff5f0\">&nbsp;es&nbsp;</span><span style=\"color: black; background-color: #fff5f0\">&nbsp;retrógrado&nbsp;</span></div><div style=\"margin:4px 0;\"><span style=\"color: black; background-color: #fc997a\">&nbsp;user&nbsp;</span><span style=\"color: black; background-color: #fdc5ae\">&nbsp;weón&nbsp;</span><span style=\"color: black; background-color: #fcbea5\">&nbsp;amargado&nbsp;</span><span style=\"color: black; background-color: #fff5f0\">&nbsp;,&nbsp;</span><span style=\"color: black; background-color: #feeae1\">&nbsp;resentido&nbsp;</span><span style=\"color: black; background-color: #fff5f0\">&nbsp;q&nbsp;</span><span style=\"color: black; background-color: #fff5f0\">&nbsp;tiene&nbsp;</span><span style=\"color: black; background-color: #fff5f0\">&nbsp;q&nbsp;</span><span style=\"color: black; background-color: #fff5f0\">&nbsp;ver&nbsp;</span><span style=\"color: black; background-color: #fff5f0\">&nbsp;una&nbsp;</span><span style=\"color: black; background-color: #fff5f0\">&nbsp;guagua&nbsp;</span><span style=\"color: black; background-color: #fff5f0\">&nbsp;con&nbsp;</span><span style=\"color: black; background-color: #fff5f0\">&nbsp;tus&nbsp;</span><span style=\"color: black; background-color: #fee1d4\">&nbsp;sentimientos&nbsp;</span><span style=\"color: black; background-color: #fff5f0\">&nbsp;revanchistas&nbsp;</span><span style=\"color: black; background-color: #fff4ef\">&nbsp;y&nbsp;</span><span style=\"color: black; background-color: #fff5f0\">&nbsp;oscurosuser&nbsp;</span></div><div style=\"margin:4px 0;\"><span style=\"color: black; background-color: #fff5f0\">&nbsp;user&nbsp;</span><span style=\"color: black; background-color: #fff5f0\">&nbsp;viva&nbsp;</span><span style=\"color: black; background-color: #67000d\">&nbsp;chile&nbsp;</span><span style=\"color: black; background-color: #fff5f0\">&nbsp;mierda&nbsp;</span><span style=\"color: black; background-color: #fff5f0\">&nbsp;!&nbsp;</span><span style=\"color: black; background-color: #fff5f0\">&nbsp;!&nbsp;</span><span style=\"color: black; background-color: #fff5f0\">&nbsp;vamos&nbsp;</span><span style=\"color: black; background-color: #fff5f0\">&nbsp;haciendo&nbsp;</span><span style=\"color: black; background-color: #fff5f0\">&nbsp;un&nbsp;</span><span style=\"color: black; background-color: #fff5f0\">&nbsp;mundo&nbsp;</span><span style=\"color: black; background-color: #fff5f0\">&nbsp;mejor&nbsp;</span><span style=\"color: black; background-color: #fff5f0\">&nbsp;!&nbsp;</span><span style=\"color: black; background-color: #fff5f0\">&nbsp;!&nbsp;</span><span style=\"color: black; background-color: #fff5f0\">&nbsp;menos&nbsp;</span><span style=\"color: black; background-color: #fff5f0\">&nbsp;resentido&nbsp;</span><span style=\"color: black; background-color: #fff5f0\">&nbsp;y&nbsp;</span><span style=\"color: black; background-color: #fff5f0\">&nbsp;más&nbsp;</span><span style=\"color: black; background-color: #fff5f0\">&nbsp;inclusivo&nbsp;</span><span style=\"color: black; background-color: #fff5f0\">&nbsp;...&nbsp;</span><span style=\"color: black; background-color: #fff5f0\">&nbsp;la&nbsp;</span><span style=\"color: black; background-color: #fff5f0\">&nbsp;csm&nbsp;</span><span style=\"color: black; background-color: #fff5f0\">&nbsp;!&nbsp;</span><span style=\"color: black; background-color: #fff5f0\">&nbsp;!&nbsp;</span><span style=\"color: black; background-color: #fff5f0\">&nbsp;!&nbsp;</span></div><div style=\"margin:4px 0;\"><span style=\"color: black; background-color: #79040f\">&nbsp;claudio&nbsp;</span><span style=\"color: black; background-color: #fff5f0\">&nbsp;muñoz&nbsp;</span><span style=\"color: black; background-color: #fff5f0\">&nbsp;telefonica&nbsp;</span><span style=\"color: black; background-color: #fff5f0\">&nbsp;-&nbsp;</span><span style=\"color: black; background-color: #fff5f0\">&nbsp;buscar&nbsp;</span><span style=\"color: black; background-color: #fff5f0\">&nbsp;con&nbsp;</span><span style=\"color: black; background-color: #fff5f0\">&nbsp;)&nbsp;</span><span style=\"color: black; background-color: #fff5f0\">&nbsp;)&nbsp;</span><span style=\"color: black; background-color: #fff5f0\">&nbsp;h&nbsp;</span><span style=\"color: black; background-color: #fff4ef\">&nbsp;)&nbsp;</span><span style=\"color: black; background-color: #fff1ea\">&nbsp;y&nbsp;</span><span style=\"color: black; background-color: #fff5f0\">&nbsp;ñh&nbsp;</span><span style=\"color: black; background-color: #fff5f0\">&nbsp;<url>&nbsp;</span></div><div style=\"margin:4px 0;\"><span style=\"color: black; background-color: #fff5f0\">&nbsp;user&nbsp;</span><span style=\"color: black; background-color: #fff5f0\">&nbsp;te&nbsp;</span><span style=\"color: black; background-color: #fff5f0\">&nbsp;pasaste&nbsp;</span><span style=\"color: black; background-color: #fff5f0\">&nbsp;!&nbsp;</span><span style=\"color: black; background-color: #fff5f0\">&nbsp;!&nbsp;</span><span style=\"color: black; background-color: #fff5f0\">&nbsp;me&nbsp;</span><span style=\"color: black; background-color: #fcb79c\">&nbsp;dejaron&nbsp;</span><span style=\"color: black; background-color: #fff5f0\">&nbsp;sin&nbsp;</span><span style=\"color: black; background-color: #fff5f0\">&nbsp;aliento&nbsp;</span><span style=\"color: black; background-color: #fff5f0\">&nbsp;.&nbsp;</span><span style=\"color: black; background-color: #fff5f0\">&nbsp;lo&nbsp;</span><span style=\"color: black; background-color: #fff5f0\">&nbsp;mejor&nbsp;</span><span style=\"color: black; background-color: #fff5f0\">&nbsp;que&nbsp;</span><span style=\"color: black; background-color: #fff5f0\">&nbsp;he&nbsp;</span><span style=\"color: black; background-color: #cf1c1f\">&nbsp;visto&nbsp;</span><span style=\"color: black; background-color: #fff5f0\">&nbsp;en&nbsp;</span><span style=\"color: black; background-color: #fff5f0\">&nbsp;años&nbsp;</span></div><div style=\"margin:4px 0;\"><span style=\"color: black; background-color: #6d010e\">&nbsp;user&nbsp;</span><span style=\"color: black; background-color: #fff3ed\">&nbsp;eres&nbsp;</span><span style=\"color: black; background-color: #fff5f0\">&nbsp;una&nbsp;</span><span style=\"color: black; background-color: #fff5f0\">&nbsp;hiena&nbsp;</span><span style=\"color: black; background-color: #fff5f0\">&nbsp;...&nbsp;</span></div><div style=\"margin:4px 0;\"><span style=\"color: black; background-color: #6b010e\">&nbsp;user&nbsp;</span><span style=\"color: black; background-color: #fff4ef\">&nbsp;y&nbsp;</span><span style=\"color: black; background-color: #fff5f0\">&nbsp;porqué&nbsp;</span><span style=\"color: black; background-color: #fff5f0\">&nbsp;no&nbsp;</span><span style=\"color: black; background-color: #fff5f0\">&nbsp;dices&nbsp;</span><span style=\"color: black; background-color: #fff5f0\">&nbsp;nada&nbsp;</span><span style=\"color: black; background-color: #fff5f0\">&nbsp;de&nbsp;</span><span style=\"color: black; background-color: #fff5f0\">&nbsp;los&nbsp;</span><span style=\"color: black; background-color: #fff5f0\">&nbsp;u&nbsp;</span><span style=\"color: black; background-color: #fff5f0\">&nbsp;$&nbsp;</span><span style=\"color: black; background-color: #fff5f0\">&nbsp;1.000&nbsp;</span><span style=\"color: black; background-color: #fff5f0\">&nbsp;millones&nbsp;</span><span style=\"color: black; background-color: #fff5f0\">&nbsp;del&nbsp;</span><span style=\"color: black; background-color: #fff5f0\">&nbsp;genocida&nbsp;</span><span style=\"color: black; background-color: #fff5f0\">&nbsp;con&nbsp;</span><span style=\"color: black; background-color: #fff5f0\">&nbsp;el&nbsp;</span><span style=\"color: black; background-color: #fff5f0\">&nbsp;que&nbsp;</span><span style=\"color: black; background-color: #fff5f0\">&nbsp;apareces&nbsp;</span><span style=\"color: black; background-color: #fff5f0\">&nbsp;en&nbsp;</span><span style=\"color: black; background-color: #fff5f0\">&nbsp;la&nbsp;</span><span style=\"color: black; background-color: #fff5f0\">&nbsp;foto&nbsp;</span><span style=\"color: black; background-color: #fff5f0\">&nbsp;?&nbsp;</span><span style=\"color: black; background-color: #fff5f0\">&nbsp;.&nbsp;</span><span style=\"color: black; background-color: #fff5f0\">&nbsp;no&nbsp;</span><span style=\"color: black; background-color: #fff5f0\">&nbsp;será&nbsp;</span><span style=\"color: black; background-color: #fff5f0\">&nbsp;q&nbsp;</span><span style=\"color: black; background-color: #fff5f0\">&nbsp;algo&nbsp;</span><span style=\"color: black; background-color: #fff5f0\">&nbsp;agarraste&nbsp;</span><span style=\"color: black; background-color: #fff5f0\">&nbsp;?&nbsp;</span></div><div style=\"margin:4px 0;\"><span style=\"color: black; background-color: #fff5f0\">&nbsp;rodrigo&nbsp;</span><span style=\"color: black; background-color: #fff5f0\">&nbsp;weisner&nbsp;</span><span style=\"color: black; background-color: #fff5f0\">&nbsp;:&nbsp;</span><span style=\"color: black; background-color: #fff5f0\">&nbsp;“&nbsp;</span><span style=\"color: black; background-color: #fff5f0\">&nbsp;cuando&nbsp;</span><span style=\"color: black; background-color: #fff5f0\">&nbsp;en&nbsp;</span><span style=\"color: black; background-color: #67000d\">&nbsp;chile&nbsp;</span><span style=\"color: black; background-color: #fff5f0\">&nbsp;se&nbsp;</span><span style=\"color: black; background-color: #fff5f0\">&nbsp;comienza&nbsp;</span><span style=\"color: black; background-color: #fff5f0\">&nbsp;a&nbsp;</span><span style=\"color: black; background-color: #fff5f0\">&nbsp;discutir&nbsp;</span><span style=\"color: black; background-color: #fff5f0\">&nbsp;el&nbsp;</span><span style=\"color: black; background-color: #fff5f0\">&nbsp;tema&nbsp;</span><span style=\"color: black; background-color: #fff5f0\">&nbsp;del&nbsp;</span><span style=\"color: black; background-color: #fff5f0\">&nbsp;agua&nbsp;</span><span style=\"color: black; background-color: #fff5f0\">&nbsp;las&nbsp;</span><span style=\"color: black; background-color: #fff5f0\">&nbsp;respuestas&nbsp;</span><span style=\"color: black; background-color: #fff5f0\">&nbsp;son&nbsp;</span><span style=\"color: black; background-color: #fff5f0\">&nbsp;múltiples&nbsp;</span><span style=\"color: black; background-color: #fff5f0\">&nbsp;”&nbsp;</span><span style=\"color: black; background-color: #fff5f0\">&nbsp;<url>&nbsp;</span></div><div style=\"margin:4px 0;\"><span style=\"color: black; background-color: #fff5f0\">&nbsp;user&nbsp;</span><span style=\"color: black; background-color: #fff5f0\">&nbsp;jajaja&nbsp;</span><span style=\"color: black; background-color: #fff5f0\">&nbsp;!&nbsp;</span><span style=\"color: black; background-color: #fff5f0\">&nbsp;ya&nbsp;</span><span style=\"color: black; background-color: #fff5f0\">&nbsp;no&nbsp;</span><span style=\"color: black; background-color: #fff5f0\">&nbsp;me&nbsp;</span><span style=\"color: black; background-color: #fff5f0\">&nbsp;importa&nbsp;</span><span style=\"color: black; background-color: #fff5f0\">&nbsp;q&nbsp;</span><span style=\"color: black; background-color: #fff5f0\">&nbsp;me&nbsp;</span><span style=\"color: black; background-color: #fff5f0\">&nbsp;quedaras&nbsp;</span><span style=\"color: black; background-color: #fff5f0\">&nbsp;debiendo&nbsp;</span><span style=\"color: black; background-color: #fff5f0\">&nbsp;$&nbsp;</span><span style=\"color: black; background-color: #fff5f0\">&nbsp;en&nbsp;</span><span style=\"color: black; background-color: #fff5f0\">&nbsp;hulapen&nbsp;</span><span style=\"color: black; background-color: #fff5f0\">&nbsp;(&nbsp;</span><span style=\"color: black; background-color: #fff5f0\">&nbsp;electr&nbsp;</span><span style=\"color: black; background-color: #fff5f0\">&nbsp;.&nbsp;</span><span style=\"color: black; background-color: #fff5f0\">&nbsp;por&nbsp;</span><span style=\"color: black; background-color: #fff5f0\">&nbsp;1,2&nbsp;</span><span style=\"color: black; background-color: #fff5f0\">&nbsp;mill&nbsp;</span><span style=\"color: black; background-color: #fff5f0\">&nbsp;)&nbsp;</span><span style=\"color: black; background-color: #fff5f0\">&nbsp;,&nbsp;</span><span style=\"color: black; background-color: #fff5f0\">&nbsp;con&nbsp;</span><span style=\"color: black; background-color: #ffede5\">&nbsp;tu&nbsp;</span><span style=\"color: black; background-color: #fff5f0\">&nbsp;1&nbsp;</span><span style=\"color: black; background-color: #fff5f0\">&nbsp;%&nbsp;</span><span style=\"color: black; background-color: #fff5f0\">&nbsp;de&nbsp;</span><span style=\"color: black; background-color: #7e0610\">&nbsp;apoyo&nbsp;</span><span style=\"color: black; background-color: #fff5f0\">&nbsp;me&nbsp;</span><span style=\"color: black; background-color: #fff5f0\">&nbsp;doy&nbsp;</span><span style=\"color: black; background-color: #fff5f0\">&nbsp;por&nbsp;</span><span style=\"color: black; background-color: #fff5f0\">&nbsp;pagado&nbsp;</span><span style=\"color: black; background-color: #fff5f0\">&nbsp;!&nbsp;</span><span style=\"color: black; background-color: #fff5f0\">&nbsp;!&nbsp;</span></div><div style=\"margin:4px 0;\"><span style=\"color: black; background-color: #73030f\">&nbsp;user&nbsp;</span><span style=\"color: black; background-color: #fff5f0\">&nbsp;y&nbsp;</span><span style=\"color: black; background-color: #fff5f0\">&nbsp;el&nbsp;</span><span style=\"color: black; background-color: #fff5f0\">&nbsp;regocijo&nbsp;</span><span style=\"color: black; background-color: #fff2ec\">&nbsp;y&nbsp;</span><span style=\"color: black; background-color: #fff5f0\">&nbsp;satisfacción&nbsp;</span><span style=\"color: black; background-color: #fff4ef\">&nbsp;de&nbsp;</span><span style=\"color: black; background-color: #fff5f0\">&nbsp;muchos&nbsp;</span><span style=\"color: black; background-color: #fff5f0\">&nbsp;millones&nbsp;</span><span style=\"color: black; background-color: #fff5f0\">&nbsp;más&nbsp;</span></div><div style=\"margin:4px 0;\"><span style=\"color: black; background-color: #67000d\">&nbsp;user&nbsp;</span><span style=\"color: black; background-color: #fff5f0\">&nbsp;gobierno&nbsp;</span><span style=\"color: black; background-color: #fff5f0\">&nbsp;mediocre&nbsp;</span><span style=\"color: black; background-color: #fff5f0\">&nbsp;,&nbsp;</span><span style=\"color: black; background-color: #fff5f0\">&nbsp;ejecutivos&nbsp;</span><span style=\"color: black; background-color: #fff5f0\">&nbsp;mediocres&nbsp;</span><span style=\"color: black; background-color: #fff5f0\">&nbsp;,&nbsp;</span><span style=\"color: black; background-color: #fff5f0\">&nbsp;empleados&nbsp;</span><span style=\"color: black; background-color: #fff5f0\">&nbsp;mediocres&nbsp;</span><span style=\"color: black; background-color: #fff5f0\">&nbsp;,&nbsp;</span><span style=\"color: black; background-color: #fff5f0\">&nbsp;servicios&nbsp;</span><span style=\"color: black; background-color: #fff5f0\">&nbsp;mediocres&nbsp;</span></div><div style=\"margin:4px 0;\"><span style=\"color: black; background-color: #e02c26\">&nbsp;user&nbsp;</span><span style=\"color: black; background-color: #fff5f0\">&nbsp;quién&nbsp;</span><span style=\"color: black; background-color: #fff5f0\">&nbsp;obliga&nbsp;</span><span style=\"color: black; background-color: #fff5f0\">&nbsp;a&nbsp;</span><span style=\"color: black; background-color: #fff5f0\">&nbsp;quién&nbsp;</span><span style=\"color: black; background-color: #fff5f0\">&nbsp;?&nbsp;</span><span style=\"color: black; background-color: #fff5f0\">&nbsp;medidas&nbsp;</span><span style=\"color: black; background-color: #fff5f0\">&nbsp;extremas&nbsp;</span><span style=\"color: black; background-color: #fff5f0\">&nbsp;auto&nbsp;</span><span style=\"color: black; background-color: #fff5f0\">&nbsp;impuestas&nbsp;</span><span style=\"color: black; background-color: #fff0e8\">&nbsp;x&nbsp;</span><span style=\"color: black; background-color: #fff5f0\">&nbsp;no&nbsp;</span><span style=\"color: black; background-color: #fff5f0\">&nbsp;aceptar&nbsp;</span><span style=\"color: black; background-color: #fff5f0\">&nbsp;un&nbsp;</span><span style=\"color: black; background-color: #fff5f0\">&nbsp;5&nbsp;</span><span style=\"color: black; background-color: #fff5f0\">&nbsp;%&nbsp;</span><span style=\"color: black; background-color: #fff5f0\">&nbsp;de&nbsp;</span><span style=\"color: black; background-color: #fff5f0\">&nbsp;aumento&nbsp;</span><span style=\"color: black; background-color: #fff5f0\">&nbsp;!&nbsp;</span><span style=\"color: black; background-color: #fff5f0\">&nbsp;!&nbsp;</span><span style=\"color: black; background-color: #fff5f0\">&nbsp;ipc&nbsp;</span><span style=\"color: black; background-color: #fff5f0\">&nbsp;es&nbsp;</span><span style=\"color: black; background-color: #fff5f0\">&nbsp;4,4&nbsp;</span><span style=\"color: black; background-color: #fff5f0\">&nbsp;.&nbsp;</span><span style=\"color: black; background-color: #fff5f0\">&nbsp;ofrecen&nbsp;</span><span style=\"color: black; background-color: #fff5f0\">&nbsp;+&nbsp;</span><span style=\"color: black; background-color: #fcaf93\">&nbsp;q&nbsp;</span><span style=\"color: black; background-color: #fff5f0\">&nbsp;ipc&nbsp;</span></div><div style=\"margin:4px 0;\"><span style=\"color: black; background-color: #ffece4\">&nbsp;user&nbsp;</span><span style=\"color: black; background-color: #920a13\">&nbsp;tremendo&nbsp;</span><span style=\"color: black; background-color: #fff0e8\">&nbsp;descubrimiento&nbsp;</span><span style=\"color: black; background-color: #fff5f0\">&nbsp;!&nbsp;</span><span style=\"color: black; background-color: #fff5f0\">&nbsp;!&nbsp;</span></div><div style=\"margin:4px 0;\"><span style=\"color: black; background-color: #73030f\">&nbsp;user&nbsp;</span><span style=\"color: black; background-color: #fff4ef\">&nbsp;qué&nbsp;</span><span style=\"color: black; background-color: #fff5f0\">&nbsp;manera&nbsp;</span><span style=\"color: black; background-color: #fff5f0\">&nbsp;de&nbsp;</span><span style=\"color: black; background-color: #fff5f0\">&nbsp;aprovecharse&nbsp;</span><span style=\"color: black; background-color: #fff2ec\">&nbsp;de&nbsp;</span><span style=\"color: black; background-color: #fff5f0\">&nbsp;la&nbsp;</span><span style=\"color: black; background-color: #fff5f0\">&nbsp;poca&nbsp;</span><span style=\"color: black; background-color: #fff5f0\">&nbsp;información&nbsp;</span><span style=\"color: black; background-color: #fff5f0\">&nbsp;de&nbsp;</span><span style=\"color: black; background-color: #fff5f0\">&nbsp;la&nbsp;</span><span style=\"color: black; background-color: #fff5f0\">&nbsp;gente&nbsp;</span><span style=\"color: black; background-color: #fff5f0\">&nbsp;.&nbsp;</span><span style=\"color: black; background-color: #fff5f0\">&nbsp;luis&nbsp;</span><span style=\"color: black; background-color: #fff5f0\">&nbsp;mesina&nbsp;</span><span style=\"color: black; background-color: #fff5f0\">&nbsp;es&nbsp;</span><span style=\"color: black; background-color: #fff5f0\">&nbsp;un&nbsp;</span><span style=\"color: black; background-color: #fff5f0\">&nbsp;aprovechador&nbsp;</span><span style=\"color: black; background-color: #fff5f0\">&nbsp;.&nbsp;</span></div><div style=\"margin:4px 0;\"><span style=\"color: black; background-color: #fff2ec\">&nbsp;user&nbsp;</span><span style=\"color: black; background-color: #fcc1a8\">&nbsp;user&nbsp;</span><span style=\"color: black; background-color: #cc191e\">&nbsp;user&nbsp;</span><span style=\"color: black; background-color: #fff5f0\">&nbsp;pffffff&nbsp;</span><span style=\"color: black; background-color: #fff5f0\">&nbsp;!&nbsp;</span><span style=\"color: black; background-color: #fff5f0\">&nbsp;lo&nbsp;</span><span style=\"color: black; background-color: #fff5f0\">&nbsp;mismo&nbsp;</span><span style=\"color: black; background-color: #fff5f0\">&nbsp;de&nbsp;</span><span style=\"color: black; background-color: #fff5f0\">&nbsp;siempre&nbsp;</span><span style=\"color: black; background-color: #fff5f0\">&nbsp;!&nbsp;</span><span style=\"color: black; background-color: #fff5f0\">&nbsp;cuando&nbsp;</span><span style=\"color: black; background-color: #fff5f0\">&nbsp;no&nbsp;</span><span style=\"color: black; background-color: #fff5f0\">&nbsp;nos&nbsp;</span><span style=\"color: black; background-color: #fff5f0\">&nbsp;gusta&nbsp;</span><span style=\"color: black; background-color: #fff5f0\">&nbsp;lo&nbsp;</span><span style=\"color: black; background-color: #fff5f0\">&nbsp;q&nbsp;</span><span style=\"color: black; background-color: #fff5f0\">&nbsp;dice&nbsp;</span><span style=\"color: black; background-color: #fff5f0\">&nbsp;,&nbsp;</span><span style=\"color: black; background-color: #fff5f0\">&nbsp;son&nbsp;</span><span style=\"color: black; background-color: #fff5f0\">&nbsp;vendidos&nbsp;</span><span style=\"color: black; background-color: #fff5f0\">&nbsp;.&nbsp;</span><span style=\"color: black; background-color: #fff5f0\">&nbsp;cuento&nbsp;</span><span style=\"color: black; background-color: #fff5f0\">&nbsp;viejo&nbsp;</span></div><div style=\"margin:4px 0;\"><span style=\"color: black; background-color: #feeae1\">&nbsp;user&nbsp;</span><span style=\"color: black; background-color: #880811\">&nbsp;user&nbsp;</span><span style=\"color: black; background-color: #fff5f0\">&nbsp;y&nbsp;</span><span style=\"color: black; background-color: #fff5f0\">&nbsp;si&nbsp;</span><span style=\"color: black; background-color: #fff5f0\">&nbsp;es&nbsp;</span><span style=\"color: black; background-color: #fff5f0\">&nbsp;así&nbsp;</span><span style=\"color: black; background-color: #fff5f0\">&nbsp;,&nbsp;</span><span style=\"color: black; background-color: #fff5f0\">&nbsp;es&nbsp;</span><span style=\"color: black; background-color: #fff5f0\">&nbsp;un&nbsp;</span><span style=\"color: black; background-color: #fff5f0\">&nbsp;ejemplo&nbsp;</span><span style=\"color: black; background-color: #fff5f0\">&nbsp;claro&nbsp;</span><span style=\"color: black; background-color: #fff5f0\">&nbsp;de&nbsp;</span><span style=\"color: black; background-color: #fff5f0\">&nbsp;xq&nbsp;</span><span style=\"color: black; background-color: #fff5f0\">&nbsp;las&nbsp;</span><span style=\"color: black; background-color: #fff5f0\">&nbsp;cúpulas&nbsp;</span><span style=\"color: black; background-color: #fff5f0\">&nbsp;de&nbsp;</span><span style=\"color: black; background-color: #fff5f0\">&nbsp;los&nbsp;</span><span style=\"color: black; background-color: #fff5f0\">&nbsp;partidos&nbsp;</span><span style=\"color: black; background-color: #fff5f0\">&nbsp;se&nbsp;</span><span style=\"color: black; background-color: #fff5f0\">&nbsp;pelean&nbsp;</span><span style=\"color: black; background-color: #fff5f0\">&nbsp;a&nbsp;</span><span style=\"color: black; background-color: #fff5f0\">&nbsp;cuchilladas&nbsp;</span><span style=\"color: black; background-color: #fff5f0\">&nbsp;por&nbsp;</span><span style=\"color: black; background-color: #fff5f0\">&nbsp;poner&nbsp;</span><span style=\"color: black; background-color: #fff5f0\">&nbsp;a&nbsp;</span><span style=\"color: black; background-color: #fff5f0\">&nbsp;sus&nbsp;</span><span style=\"color: black; background-color: #fff5f0\">&nbsp;pitutos&nbsp;</span></div><div style=\"margin:4px 0;\"><span style=\"color: black; background-color: #fee1d4\">&nbsp;user&nbsp;</span><span style=\"color: black; background-color: #f85f43\">&nbsp;igualito&nbsp;</span><span style=\"color: black; background-color: #fc997a\">&nbsp;que&nbsp;</span><span style=\"color: black; background-color: #fff5f0\">&nbsp;el&nbsp;</span><span style=\"color: black; background-color: #fff5f0\">&nbsp;cau-cau&nbsp;</span></div><div style=\"margin:4px 0;\"><span style=\"color: black; background-color: #f14432\">&nbsp;user&nbsp;</span><span style=\"color: black; background-color: #fc8e6e\">&nbsp;respeto&nbsp;</span><span style=\"color: black; background-color: #fff5f0\">&nbsp;?&nbsp;</span><span style=\"color: black; background-color: #fff5f0\">&nbsp;...&nbsp;</span><span style=\"color: black; background-color: #fff5f0\">&nbsp;alguno&nbsp;</span><span style=\"color: black; background-color: #fff5f0\">&nbsp;de&nbsp;</span><span style=\"color: black; background-color: #fff5f0\">&nbsp;los&nbsp;</span><span style=\"color: black; background-color: #fff5f0\">&nbsp;dirigentes&nbsp;</span><span style=\"color: black; background-color: #fff5f0\">&nbsp;sindicales&nbsp;</span><span style=\"color: black; background-color: #fff5f0\">&nbsp;o&nbsp;</span><span style=\"color: black; background-color: #fff5f0\">&nbsp;ud&nbsp;</span><span style=\"color: black; background-color: #fff5f0\">&nbsp;user&nbsp;</span><span style=\"color: black; background-color: #fff4ee\">&nbsp;condenó&nbsp;</span><span style=\"color: black; background-color: #fff5f0\">&nbsp;a&nbsp;</span><span style=\"color: black; background-color: #fff5f0\">&nbsp;b&nbsp;</span><span style=\"color: black; background-color: #fff5f0\">&nbsp;figueroa&nbsp;</span><span style=\"color: black; background-color: #fff5f0\">&nbsp;?&nbsp;</span><span style=\"color: black; background-color: #fff5f0\">&nbsp;córtela&nbsp;</span><span style=\"color: black; background-color: #fff5f0\">&nbsp;señor&nbsp;</span><span style=\"color: black; background-color: #fff5f0\">&nbsp;!&nbsp;</span></div><div style=\"margin:4px 0;\"><span style=\"color: black; background-color: #6b010e\">&nbsp;user&nbsp;</span><span style=\"color: black; background-color: #fff5f0\">&nbsp;no&nbsp;</span><span style=\"color: black; background-color: #fff4ee\">&nbsp;comparto&nbsp;</span><span style=\"color: black; background-color: #fff5f0\">&nbsp;tus&nbsp;</span><span style=\"color: black; background-color: #fff5f0\">&nbsp;principios&nbsp;</span><span style=\"color: black; background-color: #fff5f0\">&nbsp;,&nbsp;</span><span style=\"color: black; background-color: #fff5f0\">&nbsp;pero&nbsp;</span><span style=\"color: black; background-color: #fff5f0\">&nbsp;te&nbsp;</span><span style=\"color: black; background-color: #fff5f0\">&nbsp;felicito&nbsp;</span><span style=\"color: black; background-color: #fff5f0\">&nbsp;por&nbsp;</span><span style=\"color: black; background-color: #fff5f0\">&nbsp;tu&nbsp;</span><span style=\"color: black; background-color: #fff5f0\">&nbsp;convicción&nbsp;</span><span style=\"color: black; background-color: #fff5f0\">&nbsp;y&nbsp;</span><span style=\"color: black; background-color: #fff5f0\">&nbsp;claridad&nbsp;</span></div><div style=\"margin:4px 0;\"><span style=\"color: black; background-color: #fff3ed\">&nbsp;user&nbsp;</span><span style=\"color: black; background-color: #fff5f0\">&nbsp;según&nbsp;</span><span style=\"color: black; background-color: #fff1ea\">&nbsp;tu&nbsp;</span><span style=\"color: black; background-color: #fff5f0\">&nbsp;foto&nbsp;</span><span style=\"color: black; background-color: #fff5f0\">&nbsp;de&nbsp;</span><span style=\"color: black; background-color: #fff4ef\">&nbsp;twitter&nbsp;</span><span style=\"color: black; background-color: #fff5f0\">&nbsp;en&nbsp;</span><span style=\"color: black; background-color: #fff5f0\">&nbsp;el&nbsp;</span><span style=\"color: black; background-color: #fc8969\">&nbsp;mega&nbsp;</span><span style=\"color: black; background-color: #fff5f0\">&nbsp;está&nbsp;</span><span style=\"color: black; background-color: #f7593f\">&nbsp;tu&nbsp;</span><span style=\"color: black; background-color: #fff5f0\">&nbsp;doble&nbsp;</span><span style=\"color: black; background-color: #fff5f0\">&nbsp;pato&nbsp;</span><span style=\"color: black; background-color: #fff5f0\">&nbsp;!&nbsp;</span></div><div style=\"margin:4px 0;\"><span style=\"color: black; background-color: #fff5f0\">&nbsp;user&nbsp;</span><span style=\"color: black; background-color: #fff5f0\">&nbsp;concepción&nbsp;</span><span style=\"color: black; background-color: #fff5f0\">&nbsp;se&nbsp;</span><span style=\"color: black; background-color: #67000d\">&nbsp;movió&nbsp;</span><span style=\"color: black; background-color: #fff5f0\">&nbsp;entero&nbsp;</span><span style=\"color: black; background-color: #fff5f0\">&nbsp;!&nbsp;</span><span style=\"color: black; background-color: #fff5f0\">&nbsp;!&nbsp;</span></div><div style=\"margin:4px 0;\"><span style=\"color: black; background-color: #fff4ef\">&nbsp;user&nbsp;</span><span style=\"color: black; background-color: #fff5f0\">&nbsp;pregunta&nbsp;</span><span style=\"color: black; background-color: #fff5f0\">&nbsp;a&nbsp;</span><span style=\"color: black; background-color: #fff5f0\">&nbsp;christian&nbsp;</span><span style=\"color: black; background-color: #fff5f0\">&nbsp;jensen&nbsp;</span><span style=\"color: black; background-color: #fff4ee\">&nbsp;que&nbsp;</span><span style=\"color: black; background-color: #fff5f0\">&nbsp;era&nbsp;</span><span style=\"color: black; background-color: #fff5f0\">&nbsp;encargado&nbsp;</span><span style=\"color: black; background-color: #fff5f0\">&nbsp;en&nbsp;</span><span style=\"color: black; background-color: #fff5f0\">&nbsp;la&nbsp;</span><span style=\"color: black; background-color: #fff5f0\">&nbsp;8ª&nbsp;</span><span style=\"color: black; background-color: #fff5f0\">&nbsp;para&nbsp;</span><span style=\"color: black; background-color: #fff5f0\">&nbsp;esa&nbsp;</span><span style=\"color: black; background-color: #fff5f0\">&nbsp;presidencial&nbsp;</span><span style=\"color: black; background-color: #fff5f0\">&nbsp;.&nbsp;</span><span style=\"color: black; background-color: #fff5f0\">&nbsp;escribí&nbsp;</span><span style=\"color: black; background-color: #fff5f0\">&nbsp;a&nbsp;</span><span style=\"color: black; background-color: #9d0d14\">&nbsp;user&nbsp;</span><span style=\"color: black; background-color: #fff5f0\">&nbsp;pero&nbsp;</span><span style=\"color: black; background-color: #fff5f0\">&nbsp;no&nbsp;</span><span style=\"color: black; background-color: #fff5f0\">&nbsp;me&nbsp;</span><span style=\"color: black; background-color: #fee6da\">&nbsp;dio&nbsp;</span><span style=\"color: black; background-color: #fff5f0\">&nbsp;bola&nbsp;</span></div><div style=\"margin:4px 0;\"><span style=\"color: black; background-color: #fff5f0\">&nbsp;user&nbsp;</span><span style=\"color: black; background-color: #fff5f0\">&nbsp;...&nbsp;</span><span style=\"color: black; background-color: #fff5f0\">&nbsp;y&nbsp;</span><span style=\"color: black; background-color: #fff5f0\">&nbsp;?&nbsp;</span><span style=\"color: black; background-color: #fff5f0\">&nbsp;verito&nbsp;</span><span style=\"color: black; background-color: #fff5f0\">&nbsp;...&nbsp;</span><span style=\"color: black; background-color: #fff5f0\">&nbsp;no&nbsp;</span><span style=\"color: black; background-color: #fff5f0\">&nbsp;dijiste&nbsp;</span><span style=\"color: black; background-color: #fff5f0\">&nbsp;nada&nbsp;</span><span style=\"color: black; background-color: #fff5f0\">&nbsp;más&nbsp;</span><span style=\"color: black; background-color: #fff5f0\">&nbsp;.&nbsp;</span><span style=\"color: black; background-color: #fff5f0\">&nbsp;te&nbsp;</span><span style=\"color: black; background-color: #69000d\">&nbsp;quedaste&nbsp;</span><span style=\"color: black; background-color: #fff5f0\">&nbsp;calladita&nbsp;</span><span style=\"color: black; background-color: #fff5f0\">&nbsp;...&nbsp;</span><span style=\"color: black; background-color: #fff5f0\">&nbsp;uds&nbsp;</span><span style=\"color: black; background-color: #fff5f0\">&nbsp;son&nbsp;</span><span style=\"color: black; background-color: #fff5f0\">&nbsp;todos&nbsp;</span><span style=\"color: black; background-color: #fff5f0\">&nbsp;iguales&nbsp;</span><span style=\"color: black; background-color: #fff4ef\">&nbsp;user&nbsp;</span></div><div style=\"margin:4px 0;\"><span style=\"color: black; background-color: #940b13\">&nbsp;user&nbsp;</span><span style=\"color: black; background-color: #fff5f0\">&nbsp;y&nbsp;</span><span style=\"color: black; background-color: #fff5f0\">&nbsp;era&nbsp;</span><span style=\"color: black; background-color: #fff5f0\">&nbsp;prestada&nbsp;</span><span style=\"color: black; background-color: #fff5f0\">&nbsp;!&nbsp;</span><span style=\"color: black; background-color: #fff5f0\">&nbsp;!&nbsp;</span><span style=\"color: black; background-color: #fff5f0\">&nbsp;christian&nbsp;</span><span style=\"color: black; background-color: #fff5f0\">&nbsp;jensen&nbsp;</span><span style=\"color: black; background-color: #fff5f0\">&nbsp;nunca&nbsp;</span><span style=\"color: black; background-color: #fff5f0\">&nbsp;contestó&nbsp;</span><span style=\"color: black; background-color: #fff5f0\">&nbsp;y&nbsp;</span><span style=\"color: black; background-color: #fee6da\">&nbsp;user&nbsp;</span><span style=\"color: black; background-color: #fff5f0\">&nbsp;tampoco&nbsp;</span></div><div style=\"margin:4px 0;\"><span style=\"color: black; background-color: #fff4ef\">&nbsp;user&nbsp;</span><span style=\"color: black; background-color: #fff5f0\">&nbsp;hace&nbsp;</span><span style=\"color: black; background-color: #fff5f0\">&nbsp;años&nbsp;</span><span style=\"color: black; background-color: #fff5f0\">&nbsp;presté&nbsp;</span><span style=\"color: black; background-color: #fff5f0\">&nbsp;una&nbsp;</span><span style=\"color: black; background-color: #fff5f0\">&nbsp;casa&nbsp;</span><span style=\"color: black; background-color: #fff5f0\">&nbsp;en&nbsp;</span><span style=\"color: black; background-color: #fff5f0\">&nbsp;hualpén&nbsp;</span><span style=\"color: black; background-color: #fff5f0\">&nbsp;candidaturauser&nbsp;</span><span style=\"color: black; background-color: #fff5f0\">&nbsp;(&nbsp;</span><span style=\"color: black; background-color: #fff5f0\">&nbsp;c.jensen&nbsp;</span><span style=\"color: black; background-color: #fff5f0\">&nbsp;)&nbsp;</span><span style=\"color: black; background-color: #fff5f0\">&nbsp;.&nbsp;</span><span style=\"color: black; background-color: #69000d\">&nbsp;dejaron&nbsp;</span><span style=\"color: black; background-color: #fff5f0\">&nbsp;deuda&nbsp;</span><span style=\"color: black; background-color: #fff5f0\">&nbsp;1,2&nbsp;</span><span style=\"color: black; background-color: #fff5f0\">&nbsp;mill&nbsp;</span><span style=\"color: black; background-color: #fff5f0\">&nbsp;en&nbsp;</span><span style=\"color: black; background-color: #fff5f0\">&nbsp;electr&nbsp;</span><span style=\"color: black; background-color: #fff5f0\">&nbsp;.&nbsp;</span><span style=\"color: black; background-color: #fff5f0\">&nbsp;estafador&nbsp;</span><span style=\"color: black; background-color: #fff5f0\">&nbsp;!&nbsp;</span><span style=\"color: black; background-color: #fff5f0\">&nbsp;!&nbsp;</span></div><div style=\"margin:4px 0;\"><span style=\"color: black; background-color: #fff5f0\">&nbsp;user&nbsp;</span><span style=\"color: black; background-color: #fff5f0\">&nbsp;quizá&nbsp;</span><span style=\"color: black; background-color: #69000d\">&nbsp;fue&nbsp;</span><span style=\"color: black; background-color: #fff5f0\">&nbsp;#estebanmaturana&nbsp;</span><span style=\"color: black; background-color: #fff5f0\">&nbsp;user&nbsp;</span><span style=\"color: black; background-color: #fff5f0\">&nbsp;en&nbsp;</span><span style=\"color: black; background-color: #fff5f0\">&nbsp;su&nbsp;</span><span style=\"color: black; background-color: #fff5f0\">&nbsp;bmw&nbsp;</span><span style=\"color: black; background-color: #fff5f0\">&nbsp;de&nbsp;</span><span style=\"color: black; background-color: #fff5f0\">&nbsp;58&nbsp;</span><span style=\"color: black; background-color: #fff5f0\">&nbsp;palos&nbsp;</span><span style=\"color: black; background-color: #fff5f0\">&nbsp;!&nbsp;</span><span style=\"color: black; background-color: #fff5f0\">&nbsp;!&nbsp;</span><span style=\"color: black; background-color: #fff5f0\">&nbsp;.&nbsp;</span><span style=\"color: black; background-color: #fff5f0\">&nbsp;<url>&nbsp;</span></div><div style=\"margin:4px 0;\"><span style=\"color: black; background-color: #67000d\">&nbsp;user&nbsp;</span><span style=\"color: black; background-color: #fff5f0\">&nbsp;chuuuu&nbsp;</span><span style=\"color: black; background-color: #fff5f0\">&nbsp;,&nbsp;</span><span style=\"color: black; background-color: #fff5f0\">&nbsp;no&nbsp;</span><span style=\"color: black; background-color: #fff5f0\">&nbsp;te&nbsp;</span><span style=\"color: black; background-color: #fff5f0\">&nbsp;pesca&nbsp;</span><span style=\"color: black; background-color: #fff5f0\">&nbsp;nadie&nbsp;</span><span style=\"color: black; background-color: #fff5f0\">&nbsp;!&nbsp;</span><span style=\"color: black; background-color: #fff5f0\">&nbsp;!&nbsp;</span><span style=\"color: black; background-color: #fff5f0\">&nbsp;!&nbsp;</span><span style=\"color: black; background-color: #fff5f0\">&nbsp;.&nbsp;</span><span style=\"color: black; background-color: #fff5f0\">&nbsp;que&nbsp;</span><span style=\"color: black; background-color: #fff5f0\">&nbsp;manera&nbsp;</span><span style=\"color: black; background-color: #fff5f0\">&nbsp;e&nbsp;</span><span style=\"color: black; background-color: #fff5f0\">&nbsp;irse&nbsp;</span><span style=\"color: black; background-color: #fff5f0\">&nbsp;a&nbsp;</span><span style=\"color: black; background-color: #fff5f0\">&nbsp;la&nbsp;</span><span style=\"color: black; background-color: #fff5f0\">&nbsp;cresta&nbsp;</span><span style=\"color: black; background-color: #fff5f0\">&nbsp;señor&nbsp;</span><span style=\"color: black; background-color: #fff5f0\">&nbsp;!&nbsp;</span><span style=\"color: black; background-color: #fff5f0\">&nbsp;!&nbsp;</span></div><div style=\"margin:4px 0;\"><span style=\"color: black; background-color: #fff5f0\">&nbsp;user&nbsp;</span><span style=\"color: black; background-color: #fff5f0\">&nbsp;miren&nbsp;</span><span style=\"color: black; background-color: #fff5f0\">&nbsp;como&nbsp;</span><span style=\"color: black; background-color: #fff5f0\">&nbsp;corre&nbsp;</span><span style=\"color: black; background-color: #fff5f0\">&nbsp;la&nbsp;</span><span style=\"color: black; background-color: #fff5f0\">&nbsp;gente&nbsp;</span><span style=\"color: black; background-color: #fff5f0\">&nbsp;a&nbsp;</span><span style=\"color: black; background-color: #fff5f0\">&nbsp;ayudar&nbsp;</span><span style=\"color: black; background-color: #fff5f0\">&nbsp;.&nbsp;</span><span style=\"color: black; background-color: #fff5f0\">&nbsp;aquí&nbsp;</span><span style=\"color: black; background-color: #fff5f0\">&nbsp;en&nbsp;</span><span style=\"color: black; background-color: #67000d\">&nbsp;chile&nbsp;</span><span style=\"color: black; background-color: #fff5f0\">&nbsp;,&nbsp;</span><span style=\"color: black; background-color: #fff5f0\">&nbsp;todos&nbsp;</span><span style=\"color: black; background-color: #fff5f0\">&nbsp;nos&nbsp;</span><span style=\"color: black; background-color: #fff5f0\">&nbsp;hubiésemos&nbsp;</span><span style=\"color: black; background-color: #fff5f0\">&nbsp;hecho&nbsp;</span><span style=\"color: black; background-color: #fff5f0\">&nbsp;los&nbsp;</span><span style=\"color: black; background-color: #fff5f0\">&nbsp;huevones&nbsp;</span></div><div style=\"margin:4px 0;\"><span style=\"color: black; background-color: #fff5f0\">&nbsp;user&nbsp;</span><span style=\"color: black; background-color: #fff5f0\">&nbsp;1&nbsp;</span><span style=\"color: black; background-color: #fff5f0\">&nbsp;hora&nbsp;</span><span style=\"color: black; background-color: #fff5f0\">&nbsp;esperando&nbsp;</span><span style=\"color: black; background-color: #fff5f0\">&nbsp;en&nbsp;</span><span style=\"color: black; background-color: #fff5f0\">&nbsp;concepción&nbsp;</span><span style=\"color: black; background-color: #fff5f0\">&nbsp;ha&nbsp;</span><span style=\"color: black; background-color: #fff5f0\">&nbsp;avanzado&nbsp;</span><span style=\"color: black; background-color: #fff5f0\">&nbsp;4&nbsp;</span><span style=\"color: black; background-color: #fff5f0\">&nbsp;números&nbsp;</span><span style=\"color: black; background-color: #fff5f0\">&nbsp;,&nbsp;</span><span style=\"color: black; background-color: #fff5f0\">&nbsp;1&nbsp;</span><span style=\"color: black; background-color: #fff5f0\">&nbsp;persona&nbsp;</span><span style=\"color: black; background-color: #fff5f0\">&nbsp;atendiendo&nbsp;</span><span style=\"color: black; background-color: #fff5f0\">&nbsp;.&nbsp;</span><span style=\"color: black; background-color: #fff5f0\">&nbsp;la&nbsp;</span><span style=\"color: black; background-color: #fff5f0\">&nbsp;otra&nbsp;</span><span style=\"color: black; background-color: #fff5f0\">&nbsp;se&nbsp;</span><span style=\"color: black; background-color: #67000d\">&nbsp;paró&nbsp;</span><span style=\"color: black; background-color: #fff5f0\">&nbsp;hace&nbsp;</span><span style=\"color: black; background-color: #fff5f0\">&nbsp;3&nbsp;</span><span style=\"color: black; background-color: #fff5f0\">&nbsp;…&nbsp;</span><span style=\"color: black; background-color: #fff5f0\">&nbsp;<url>&nbsp;</span></div><div style=\"margin:4px 0;\"><span style=\"color: black; background-color: #7c0510\">&nbsp;user&nbsp;</span><span style=\"color: black; background-color: #fff5f0\">&nbsp;dios&nbsp;</span><span style=\"color: black; background-color: #fff5f0\">&nbsp;los&nbsp;</span><span style=\"color: black; background-color: #fff4ef\">&nbsp;crea&nbsp;</span><span style=\"color: black; background-color: #fff0e8\">&nbsp;y&nbsp;</span><span style=\"color: black; background-color: #fff5f0\">&nbsp;el&nbsp;</span><span style=\"color: black; background-color: #fff5f0\">&nbsp;diablo&nbsp;</span><span style=\"color: black; background-color: #fff5f0\">&nbsp;los&nbsp;</span><span style=\"color: black; background-color: #fff5f0\">&nbsp;junta&nbsp;</span></div><div style=\"margin:4px 0;\"><span style=\"color: black; background-color: #67000d\">&nbsp;user&nbsp;</span><span style=\"color: black; background-color: #fff5f0\">&nbsp;y&nbsp;</span><span style=\"color: black; background-color: #fff5f0\">&nbsp;cómo&nbsp;</span><span style=\"color: black; background-color: #fff5f0\">&nbsp;vas&nbsp;</span><span style=\"color: black; background-color: #fff5f0\">&nbsp;a&nbsp;</span><span style=\"color: black; background-color: #fff5f0\">&nbsp;escuchar&nbsp;</span><span style=\"color: black; background-color: #fff5f0\">&nbsp;el&nbsp;</span><span style=\"color: black; background-color: #fff5f0\">&nbsp;podcasts&nbsp;</span><span style=\"color: black; background-color: #fff5f0\">&nbsp;si&nbsp;</span><span style=\"color: black; background-color: #fff5f0\">&nbsp;no&nbsp;</span><span style=\"color: black; background-color: #fff5f0\">&nbsp;se&nbsp;</span><span style=\"color: black; background-color: #fff5f0\">&nbsp;puede&nbsp;</span><span style=\"color: black; background-color: #fff5f0\">&nbsp;abrir&nbsp;</span><span style=\"color: black; background-color: #fff5f0\">&nbsp;?&nbsp;</span></div><div style=\"margin:4px 0;\"><span style=\"color: black; background-color: #be151a\">&nbsp;user&nbsp;</span><span style=\"color: black; background-color: #fff0e8\">&nbsp;ok&nbsp;</span><span style=\"color: black; background-color: #fff4ee\">&nbsp;,&nbsp;</span><span style=\"color: black; background-color: #fdd4c2\">&nbsp;de&nbsp;</span><span style=\"color: black; background-color: #fff5f0\">&nbsp;acuerdo&nbsp;</span></div><div style=\"margin:4px 0;\"><span style=\"color: black; background-color: #6d010e\">&nbsp;user&nbsp;</span><span style=\"color: black; background-color: #fff3ed\">&nbsp;y&nbsp;</span><span style=\"color: black; background-color: #fff5f0\">&nbsp;porqué&nbsp;</span><span style=\"color: black; background-color: #fff5f0\">&nbsp;tiene&nbsp;</span><span style=\"color: black; background-color: #fff5f0\">&nbsp;que&nbsp;</span><span style=\"color: black; background-color: #fff5f0\">&nbsp;venir&nbsp;</span><span style=\"color: black; background-color: #fff5f0\">&nbsp;extranjeros&nbsp;</span><span style=\"color: black; background-color: #fff5f0\">&nbsp;a&nbsp;</span><span style=\"color: black; background-color: #fff5f0\">&nbsp;meter&nbsp;</span><span style=\"color: black; background-color: #fff5f0\">&nbsp;la&nbsp;</span><span style=\"color: black; background-color: #fff5f0\">&nbsp;nariz&nbsp;</span><span style=\"color: black; background-color: #fff5f0\">&nbsp;en&nbsp;</span><span style=\"color: black; background-color: #fff5f0\">&nbsp;problemas&nbsp;</span><span style=\"color: black; background-color: #fff5f0\">&nbsp;nuestros&nbsp;</span><span style=\"color: black; background-color: #fff5f0\">&nbsp;?&nbsp;</span></div><div style=\"margin:4px 0;\"><span style=\"color: black; background-color: #fdd2bf\">&nbsp;user&nbsp;</span><span style=\"color: black; background-color: #b61319\">&nbsp;user&nbsp;</span><span style=\"color: black; background-color: #fff5f0\">&nbsp;es&nbsp;</span><span style=\"color: black; background-color: #fff4ef\">&nbsp;triste&nbsp;</span><span style=\"color: black; background-color: #fff5f0\">&nbsp;,&nbsp;</span><span style=\"color: black; background-color: #fff5f0\">&nbsp;pero&nbsp;</span><span style=\"color: black; background-color: #fff5f0\">&nbsp;es&nbsp;</span><span style=\"color: black; background-color: #fff5f0\">&nbsp;verdad&nbsp;</span><span style=\"color: black; background-color: #fff5f0\">&nbsp;...&nbsp;</span></div><div style=\"margin:4px 0;\"><span style=\"color: black; background-color: #fdcebb\">&nbsp;user&nbsp;</span><span style=\"color: black; background-color: #fff5f0\">&nbsp;ociosos&nbsp;</span><span style=\"color: black; background-color: #b81419\">&nbsp;rompiendo&nbsp;</span><span style=\"color: black; background-color: #fff5f0\">&nbsp;carteles&nbsp;</span><span style=\"color: black; background-color: #fff5f0\">&nbsp;de&nbsp;</span><span style=\"color: black; background-color: #fff5f0\">&nbsp;candidatos&nbsp;</span><span style=\"color: black; background-color: #fff5f0\">&nbsp;.&nbsp;</span><span style=\"color: black; background-color: #fff5f0\">&nbsp;cero&nbsp;</span><span style=\"color: black; background-color: #fff5f0\">&nbsp;aporte&nbsp;</span><span style=\"color: black; background-color: #fff5f0\">&nbsp;,&nbsp;</span><span style=\"color: black; background-color: #fff5f0\">&nbsp;pura&nbsp;</span><span style=\"color: black; background-color: #fff5f0\">&nbsp;destrucción&nbsp;</span><span style=\"color: black; background-color: #fff5f0\">&nbsp;<url>&nbsp;</span></div><div style=\"margin:4px 0;\"><span style=\"color: black; background-color: #fff5f0\">&nbsp;user&nbsp;</span><span style=\"color: black; background-color: #fff5f0\">&nbsp;estos&nbsp;</span><span style=\"color: black; background-color: #fff5f0\">&nbsp;ociosos&nbsp;</span><span style=\"color: black; background-color: #fff5f0\">&nbsp;destructivos&nbsp;</span><span style=\"color: black; background-color: #fff5f0\">&nbsp;están&nbsp;</span><span style=\"color: black; background-color: #fff5f0\">&nbsp;cortando&nbsp;</span><span style=\"color: black; background-color: #fff5f0\">&nbsp;los&nbsp;</span><span style=\"color: black; background-color: #fff5f0\">&nbsp;carteles&nbsp;</span><span style=\"color: black; background-color: #fff5f0\">&nbsp;.&nbsp;</span><span style=\"color: black; background-color: #fff5f0\">&nbsp;ningún&nbsp;</span><span style=\"color: black; background-color: #fff5f0\">&nbsp;respeto&nbsp;</span><span style=\"color: black; background-color: #fff5f0\">&nbsp;por&nbsp;</span><span style=\"color: black; background-color: #fff5f0\">&nbsp;el&nbsp;</span><span style=\"color: black; background-color: #fff5f0\">&nbsp;trabajo&nbsp;</span><span style=\"color: black; background-color: #fff5f0\">&nbsp;ajeno&nbsp;</span><span style=\"color: black; background-color: #67000d\">&nbsp;ni&nbsp;</span><span style=\"color: black; background-color: #fff5f0\">&nbsp;la&nbsp;</span><span style=\"color: black; background-color: #fff5f0\">&nbsp;ciudad&nbsp;</span><span style=\"color: black; background-color: #fff5f0\">&nbsp;<url>&nbsp;</span></div><div style=\"margin:4px 0;\"><span style=\"color: black; background-color: #fff5f0\">&nbsp;user&nbsp;</span><span style=\"color: black; background-color: #fff5f0\">&nbsp;35&nbsp;</span><span style=\"color: black; background-color: #fff5f0\">&nbsp;min&nbsp;</span><span style=\"color: black; background-color: #fff5f0\">&nbsp;mientras&nbsp;</span><span style=\"color: black; background-color: #fff5f0\">&nbsp;el&nbsp;</span><span style=\"color: black; background-color: #fff5f0\">&nbsp;carab&nbsp;</span><span style=\"color: black; background-color: #fff5f0\">&nbsp;parada&nbsp;</span><span style=\"color: black; background-color: #fff5f0\">&nbsp;de&nbsp;</span><span style=\"color: black; background-color: #fff5f0\">&nbsp;san&nbsp;</span><span style=\"color: black; background-color: #fff5f0\">&nbsp;pedro&nbsp;</span><span style=\"color: black; background-color: #fff5f0\">&nbsp;redacta&nbsp;</span><span style=\"color: black; background-color: #fff5f0\">&nbsp;una&nbsp;</span><span style=\"color: black; background-color: #fff5f0\">&nbsp;denuncia&nbsp;</span><span style=\"color: black; background-color: #fff5f0\">&nbsp;x&nbsp;</span><span style=\"color: black; background-color: #fff5f0\">&nbsp;uso&nbsp;</span><span style=\"color: black; background-color: #fff5f0\">&nbsp;fraudulento&nbsp;</span><span style=\"color: black; background-color: #fff5f0\">&nbsp;de&nbsp;</span><span style=\"color: black; background-color: #fff5f0\">&nbsp;tc&nbsp;</span><span style=\"color: black; background-color: #fff5f0\">&nbsp;.&nbsp;</span><span style=\"color: black; background-color: #bf151b\">&nbsp;tamos&nbsp;</span><span style=\"color: black; background-color: #feeae0\">&nbsp;cagados&nbsp;</span><span style=\"color: black; background-color: #fff5f0\">&nbsp;con&nbsp;</span><span style=\"color: black; background-color: #fff3ed\">&nbsp;esta&nbsp;</span><span style=\"color: black; background-color: #fee1d3\">&nbsp;policía&nbsp;</span></div><div style=\"margin:4px 0;\"><span style=\"color: black; background-color: #feeae1\">&nbsp;user&nbsp;</span><span style=\"color: black; background-color: #f75b40\">&nbsp;user&nbsp;</span><span style=\"color: black; background-color: #fff5f0\">&nbsp;no&nbsp;</span><span style=\"color: black; background-color: #fc8d6d\">&nbsp;pasó&nbsp;</span><span style=\"color: black; background-color: #fff5f0\">&nbsp;lo&nbsp;</span><span style=\"color: black; background-color: #fff5f0\">&nbsp;mismo&nbsp;</span><span style=\"color: black; background-color: #fff5f0\">&nbsp;en&nbsp;</span><span style=\"color: black; background-color: #fff5f0\">&nbsp;todas&nbsp;</span><span style=\"color: black; background-color: #fff5f0\">&nbsp;partes&nbsp;</span><span style=\"color: black; background-color: #fff5f0\">&nbsp;!&nbsp;</span><span style=\"color: black; background-color: #fff5f0\">&nbsp;!&nbsp;</span><span style=\"color: black; background-color: #fff5f0\">&nbsp;<url>&nbsp;</span></div><div style=\"margin:4px 0;\"><span style=\"color: black; background-color: #fff5f0\">&nbsp;user&nbsp;</span><span style=\"color: black; background-color: #fff5f0\">&nbsp;user&nbsp;</span><span style=\"color: black; background-color: #fff5f0\">&nbsp;yo&nbsp;</span><span style=\"color: black; background-color: #fff5f0\">&nbsp;creo&nbsp;</span><span style=\"color: black; background-color: #fff5f0\">&nbsp;q&nbsp;</span><span style=\"color: black; background-color: #fff5f0\">&nbsp;la&nbsp;</span><span style=\"color: black; background-color: #fff5f0\">&nbsp;gente&nbsp;</span><span style=\"color: black; background-color: #fff5f0\">&nbsp;consume&nbsp;</span><span style=\"color: black; background-color: #fff5f0\">&nbsp;\"&nbsp;</span><span style=\"color: black; background-color: #fff5f0\">&nbsp;consuelo&nbsp;</span><span style=\"color: black; background-color: #fff5f0\">&nbsp;\"&nbsp;</span><span style=\"color: black; background-color: #fff5f0\">&nbsp;toma&nbsp;</span><span style=\"color: black; background-color: #fff5f0\">&nbsp;y&nbsp;</span><span style=\"color: black; background-color: #fff5f0\">&nbsp;come&nbsp;</span><span style=\"color: black; background-color: #fff5f0\">&nbsp;,&nbsp;</span><span style=\"color: black; background-color: #fff5f0\">&nbsp;pero&nbsp;</span><span style=\"color: black; background-color: #fff5f0\">&nbsp;no&nbsp;</span><span style=\"color: black; background-color: #fff5f0\">&nbsp;compra&nbsp;</span><span style=\"color: black; background-color: #fff5f0\">&nbsp;más&nbsp;</span><span style=\"color: black; background-color: #e63328\">&nbsp;grande&nbsp;</span><span style=\"color: black; background-color: #fc9d7f\">&nbsp;ni&nbsp;</span><span style=\"color: black; background-color: #fff5f0\">&nbsp;viaja&nbsp;</span><span style=\"color: black; background-color: #fff5f0\">&nbsp;.&nbsp;</span><span style=\"color: black; background-color: #fff5f0\">&nbsp;es&nbsp;</span><span style=\"color: black; background-color: #fff5f0\">&nbsp;lógico&nbsp;</span><span style=\"color: black; background-color: #fff5f0\">&nbsp;o&nbsp;</span><span style=\"color: black; background-color: #fff5f0\">&nbsp;no&nbsp;</span><span style=\"color: black; background-color: #fff5f0\">&nbsp;?&nbsp;</span></div><div style=\"margin:4px 0;\"><span style=\"color: black; background-color: #ad1117\">&nbsp;user&nbsp;</span><span style=\"color: black; background-color: #fff5f0\">&nbsp;no&nbsp;</span><span style=\"color: black; background-color: #fff5f0\">&nbsp;lo&nbsp;</span><span style=\"color: black; background-color: #fff5f0\">&nbsp;dejaste&nbsp;</span><span style=\"color: black; background-color: #fff5f0\">&nbsp;terminar&nbsp;</span><span style=\"color: black; background-color: #fff4ef\">&nbsp;con&nbsp;</span><span style=\"color: black; background-color: #fee1d3\">&nbsp;y&nbsp;</span><span style=\"color: black; background-color: #fff5f0\">&nbsp;.&nbsp;</span><span style=\"color: black; background-color: #fff5f0\">&nbsp;dijo&nbsp;</span><span style=\"color: black; background-color: #fff5f0\">&nbsp;yo&nbsp;</span><span style=\"color: black; background-color: #fff5f0\">&nbsp;prefiero&nbsp;</span><span style=\"color: black; background-color: #fff5f0\">&nbsp;q&nbsp;</span><span style=\"color: black; background-color: #fff5f0\">&nbsp;haya&nbsp;</span><span style=\"color: black; background-color: #fff5f0\">&nbsp;menos&nbsp;</span><span style=\"color: black; background-color: #fff5f0\">&nbsp;multimillonarios&nbsp;</span><span style=\"color: black; background-color: #fff5f0\">&nbsp;y&nbsp;</span><span style=\"color: black; background-color: #fff5f0\">&nbsp;más&nbsp;</span><span style=\"color: black; background-color: #fff5f0\">&nbsp;...&nbsp;</span><span style=\"color: black; background-color: #fff2ec\">&nbsp;millonarios&nbsp;</span><span style=\"color: black; background-color: #fff4ee\">&nbsp;?&nbsp;</span></div><div style=\"margin:4px 0;\"><span style=\"color: black; background-color: #73030f\">&nbsp;user&nbsp;</span><span style=\"color: black; background-color: #fff5f0\">&nbsp;como&nbsp;</span><span style=\"color: black; background-color: #fff5f0\">&nbsp;te&nbsp;</span><span style=\"color: black; background-color: #fff5f0\">&nbsp;aprovechas&nbsp;</span><span style=\"color: black; background-color: #fff5f0\">&nbsp;de&nbsp;</span><span style=\"color: black; background-color: #fff5f0\">&nbsp;la&nbsp;</span><span style=\"color: black; background-color: #fff5f0\">&nbsp;ignorancia&nbsp;</span><span style=\"color: black; background-color: #fff5f0\">&nbsp;y&nbsp;</span><span style=\"color: black; background-color: #fff5f0\">&nbsp;la&nbsp;</span><span style=\"color: black; background-color: #fff5f0\">&nbsp;desidia&nbsp;</span><span style=\"color: black; background-color: #fff5f0\">&nbsp;!&nbsp;</span><span style=\"color: black; background-color: #fff5f0\">&nbsp;.&nbsp;</span><span style=\"color: black; background-color: #fff2eb\">&nbsp;mentiroso&nbsp;</span><span style=\"color: black; background-color: #fff5f0\">&nbsp;y&nbsp;</span><span style=\"color: black; background-color: #fff5f0\">&nbsp;mala&nbsp;</span><span style=\"color: black; background-color: #fff5f0\">&nbsp;gente&nbsp;</span></div><div style=\"margin:4px 0;\"><span style=\"color: black; background-color: #fff5f0\">&nbsp;user&nbsp;</span><span style=\"color: black; background-color: #fff4ef\">&nbsp;user&nbsp;</span><span style=\"color: black; background-color: #fff5f0\">&nbsp;qué&nbsp;</span><span style=\"color: black; background-color: #fff5f0\">&nbsp;pena&nbsp;</span><span style=\"color: black; background-color: #fff5f0\">&nbsp;más&nbsp;</span><span style=\"color: black; background-color: #fff2eb\">&nbsp;grande&nbsp;</span><span style=\"color: black; background-color: #fff5f0\">&nbsp;!&nbsp;</span><span style=\"color: black; background-color: #fff5f0\">&nbsp;.&nbsp;</span><span style=\"color: black; background-color: #fff5f0\">&nbsp;se&nbsp;</span><span style=\"color: black; background-color: #fff5f0\">&nbsp;me&nbsp;</span><span style=\"color: black; background-color: #fff5f0\">&nbsp;encoge&nbsp;</span><span style=\"color: black; background-color: #fff5f0\">&nbsp;el&nbsp;</span><span style=\"color: black; background-color: #fff5f0\">&nbsp;corazón&nbsp;</span><span style=\"color: black; background-color: #fff5f0\">&nbsp;.&nbsp;</span><span style=\"color: black; background-color: #fff5f0\">&nbsp;hay&nbsp;</span><span style=\"color: black; background-color: #fff5f0\">&nbsp;q&nbsp;</span><span style=\"color: black; background-color: #fff5f0\">&nbsp;cambiar&nbsp;</span><span style=\"color: black; background-color: #fff5f0\">&nbsp;este&nbsp;</span><span style=\"color: black; background-color: #75030f\">&nbsp;país&nbsp;</span><span style=\"color: black; background-color: #fff5f0\">&nbsp;.&nbsp;</span><span style=\"color: black; background-color: #fff5f0\">&nbsp;partamos&nbsp;</span><span style=\"color: black; background-color: #fff5f0\">&nbsp;!&nbsp;</span><span style=\"color: black; background-color: #fff5f0\">&nbsp;c&nbsp;</span><span style=\"color: black; background-color: #fff5f0\">&nbsp;/&nbsp;</span><span style=\"color: black; background-color: #fff5f0\">&nbsp;u&nbsp;</span><span style=\"color: black; background-color: #fff5f0\">&nbsp;de&nbsp;</span><span style=\"color: black; background-color: #fff5f0\">&nbsp;nosotros&nbsp;</span><span style=\"color: black; background-color: #fff5f0\">&nbsp;.&nbsp;</span></div><div style=\"margin:4px 0;\"><span style=\"color: black; background-color: #fff0e8\">&nbsp;user&nbsp;</span><span style=\"color: black; background-color: #fff5f0\">&nbsp;por&nbsp;</span><span style=\"color: black; background-color: #fff5f0\">&nbsp;dios&nbsp;</span><span style=\"color: black; background-color: #ffeee7\">&nbsp;que&nbsp;</span><span style=\"color: black; background-color: #9f0e14\">&nbsp;está&nbsp;</span><span style=\"color: black; background-color: #ffeee6\">&nbsp;enredado&nbsp;</span><span style=\"color: black; background-color: #fff5f0\">&nbsp;chadwick&nbsp;</span><span style=\"color: black; background-color: #fff5f0\">&nbsp;.&nbsp;</span><span style=\"color: black; background-color: #fff5f0\">&nbsp;una&nbsp;</span><span style=\"color: black; background-color: #fff5f0\">&nbsp;\"&nbsp;</span><span style=\"color: black; background-color: #fff5f0\">&nbsp;masmorra&nbsp;</span><span style=\"color: black; background-color: #fff5f0\">&nbsp;\"&nbsp;</span><span style=\"color: black; background-color: #fff5f0\">&nbsp;de&nbsp;</span><span style=\"color: black; background-color: #fff5f0\">&nbsp;ideas&nbsp;</span></div><div style=\"margin:4px 0;\"><span style=\"color: black; background-color: #fee8de\">&nbsp;user&nbsp;</span><span style=\"color: black; background-color: #b51318\">&nbsp;user&nbsp;</span><span style=\"color: black; background-color: #fee5d8\">&nbsp;sorry&nbsp;</span><span style=\"color: black; background-color: #fff5f0\">&nbsp;pero&nbsp;</span><span style=\"color: black; background-color: #fff5f0\">&nbsp;no&nbsp;</span><span style=\"color: black; background-color: #fff5f0\">&nbsp;veo&nbsp;</span><span style=\"color: black; background-color: #fff5f0\">&nbsp;ningún&nbsp;</span><span style=\"color: black; background-color: #fff5f0\">&nbsp;fusil&nbsp;</span><span style=\"color: black; background-color: #fff5f0\">&nbsp;.&nbsp;</span></div><div style=\"margin:4px 0;\"><span style=\"color: black; background-color: #fff5f0\">&nbsp;user&nbsp;</span><span style=\"color: black; background-color: #fff5f0\">&nbsp;user&nbsp;</span><span style=\"color: black; background-color: #fff5f0\">&nbsp;qué&nbsp;</span><span style=\"color: black; background-color: #fff5f0\">&nbsp;tristeza&nbsp;</span><span style=\"color: black; background-color: #fff5f0\">&nbsp;por&nbsp;</span><span style=\"color: black; background-color: #fff5f0\">&nbsp;este&nbsp;</span><span style=\"color: black; background-color: #69000d\">&nbsp;país&nbsp;</span><span style=\"color: black; background-color: #fff5f0\">&nbsp;.&nbsp;</span><span style=\"color: black; background-color: #fff5f0\">&nbsp;pensamos&nbsp;</span><span style=\"color: black; background-color: #fff5f0\">&nbsp;q&nbsp;</span><span style=\"color: black; background-color: #fff5f0\">&nbsp;éramos&nbsp;</span><span style=\"color: black; background-color: #fff5f0\">&nbsp;mejores&nbsp;</span><span style=\"color: black; background-color: #fff5f0\">&nbsp;.&nbsp;</span><span style=\"color: black; background-color: #fff5f0\">&nbsp;cada&nbsp;</span><span style=\"color: black; background-color: #fff5f0\">&nbsp;pueblo&nbsp;</span><span style=\"color: black; background-color: #fff5f0\">&nbsp;tiene&nbsp;</span><span style=\"color: black; background-color: #fff5f0\">&nbsp;las&nbsp;</span><span style=\"color: black; background-color: #fff5f0\">&nbsp;autoridades&nbsp;</span><span style=\"color: black; background-color: #fff5f0\">&nbsp;q&nbsp;</span><span style=\"color: black; background-color: #fff5f0\">&nbsp;merece&nbsp;</span></div><div style=\"margin:4px 0;\"><span style=\"color: black; background-color: #7a0510\">&nbsp;user&nbsp;</span><span style=\"color: black; background-color: #fff4ef\">&nbsp;hola&nbsp;</span><span style=\"color: black; background-color: #fff5f0\">&nbsp;.&nbsp;</span><span style=\"color: black; background-color: #fff5f0\">&nbsp;hace&nbsp;</span><span style=\"color: black; background-color: #fff5f0\">&nbsp;semanas&nbsp;</span><span style=\"color: black; background-color: #fff0e9\">&nbsp;q&nbsp;</span><span style=\"color: black; background-color: #fff5f0\">&nbsp;no&nbsp;</span><span style=\"color: black; background-color: #fff5f0\">&nbsp;se&nbsp;</span><span style=\"color: black; background-color: #fff5f0\">&nbsp;pueden&nbsp;</span><span style=\"color: black; background-color: #fff5f0\">&nbsp;bajar&nbsp;</span><span style=\"color: black; background-color: #fff5f0\">&nbsp;los&nbsp;</span><span style=\"color: black; background-color: #fff5f0\">&nbsp;podcast&nbsp;</span><span style=\"color: black; background-color: #fff5f0\">&nbsp;de&nbsp;</span><span style=\"color: black; background-color: #fff5f0\">&nbsp;btm&nbsp;</span><span style=\"color: black; background-color: #fff5f0\">&nbsp;y&nbsp;</span><span style=\"color: black; background-color: #fff5f0\">&nbsp;bdm&nbsp;</span><span style=\"color: black; background-color: #fff5f0\">&nbsp;.&nbsp;</span><span style=\"color: black; background-color: #fff5f0\">&nbsp;sabes&nbsp;</span><span style=\"color: black; background-color: #fff5f0\">&nbsp;porqué&nbsp;</span><span style=\"color: black; background-color: #fff5f0\">&nbsp;?&nbsp;</span></div><div style=\"margin:4px 0;\"><span style=\"color: black; background-color: #67000d\">&nbsp;user&nbsp;</span><span style=\"color: black; background-color: #fff5f0\">&nbsp;buena&nbsp;</span><span style=\"color: black; background-color: #fff5f0\">&nbsp;!&nbsp;</span><span style=\"color: black; background-color: #fff5f0\">&nbsp;!&nbsp;</span><span style=\"color: black; background-color: #fff5f0\">&nbsp;la&nbsp;</span><span style=\"color: black; background-color: #fff5f0\">&nbsp;pieza&nbsp;</span><span style=\"color: black; background-color: #fff5f0\">&nbsp;de&nbsp;</span><span style=\"color: black; background-color: #fff5f0\">&nbsp;drácula&nbsp;</span><span style=\"color: black; background-color: #fff5f0\">&nbsp;?&nbsp;</span></div><div style=\"margin:4px 0;\"><span style=\"color: black; background-color: #b31218\">&nbsp;user&nbsp;</span><span style=\"color: black; background-color: #fedaca\">&nbsp;q&nbsp;</span><span style=\"color: black; background-color: #fff5f0\">&nbsp;interesante&nbsp;</span><span style=\"color: black; background-color: #fff5f0\">&nbsp;y&nbsp;</span><span style=\"color: black; background-color: #fff5f0\">&nbsp;estimulante&nbsp;</span><span style=\"color: black; background-color: #fff5f0\">&nbsp;la&nbsp;</span><span style=\"color: black; background-color: #fff5f0\">&nbsp;entrevista&nbsp;</span><span style=\"color: black; background-color: #fff5f0\">&nbsp;!&nbsp;</span><span style=\"color: black; background-color: #fff5f0\">&nbsp;!&nbsp;</span><span style=\"color: black; background-color: #fff5f0\">&nbsp;felicitaciones&nbsp;</span><span style=\"color: black; background-color: #fff5f0\">&nbsp;a&nbsp;</span><span style=\"color: black; background-color: #fff5f0\">&nbsp;uds&nbsp;</span><span style=\"color: black; background-color: #fff5f0\">&nbsp;y&nbsp;</span><span style=\"color: black; background-color: #fff5f0\">&nbsp;a&nbsp;</span><span style=\"color: black; background-color: #fff1ea\">&nbsp;copec&nbsp;</span></div><div style=\"margin:4px 0;\"><span style=\"color: black; background-color: #ffeee6\">&nbsp;user&nbsp;</span><span style=\"color: black; background-color: #fff5f0\">&nbsp;te&nbsp;</span><span style=\"color: black; background-color: #fff4ee\">&nbsp;s&nbsp;</span><span style=\"color: black; background-color: #d01d1f\">&nbsp;puesto&nbsp;</span><span style=\"color: black; background-color: #fdc7b2\">&nbsp;q&nbsp;</span><span style=\"color: black; background-color: #fff5f0\">&nbsp;ahora&nbsp;</span><span style=\"color: black; background-color: #fff5f0\">&nbsp;teni&nbsp;</span><span style=\"color: black; background-color: #fff5f0\">&nbsp;tetas&nbsp;</span></div><div style=\"margin:4px 0;\"><span style=\"color: black; background-color: #ffebe2\">&nbsp;user&nbsp;</span><span style=\"color: black; background-color: #fff5f0\">&nbsp;que&nbsp;</span><span style=\"color: black; background-color: #fff5f0\">&nbsp;quieren&nbsp;</span><span style=\"color: black; background-color: #fff5f0\">&nbsp;hablar&nbsp;</span><span style=\"color: black; background-color: #fff5f0\">&nbsp;,&nbsp;</span><span style=\"color: black; background-color: #fff5f0\">&nbsp;he&nbsp;</span><span style=\"color: black; background-color: #d52221\">&nbsp;mandado&nbsp;</span><span style=\"color: black; background-color: #fff5f0\">&nbsp;4&nbsp;</span><span style=\"color: black; background-color: #fff5f0\">&nbsp;twits&nbsp;</span><span style=\"color: black; background-color: #fff5f0\">&nbsp;con&nbsp;</span><span style=\"color: black; background-color: #fff5f0\">&nbsp;el&nbsp;</span><span style=\"color: black; background-color: #fdd1be\">&nbsp;tema&nbsp;</span><span style=\"color: black; background-color: #fff5f0\">&nbsp;.&nbsp;</span><span style=\"color: black; background-color: #fff5f0\">&nbsp;hagan&nbsp;</span><span style=\"color: black; background-color: #fff5f0\">&nbsp;la&nbsp;</span><span style=\"color: black; background-color: #fff1ea\">&nbsp;pega&nbsp;</span><span style=\"color: black; background-color: #fff2eb\">&nbsp;!&nbsp;</span><span style=\"color: black; background-color: #fff4ef\">&nbsp;!&nbsp;</span></div><div style=\"margin:4px 0;\"><span style=\"color: black; background-color: #fff0e9\">&nbsp;user&nbsp;</span><span style=\"color: black; background-color: #fff5f0\">&nbsp;prox&nbsp;</span><span style=\"color: black; background-color: #fff2ec\">&nbsp;video&nbsp;</span><span style=\"color: black; background-color: #fff5f0\">&nbsp;mano&nbsp;</span><span style=\"color: black; background-color: #fff5f0\">&nbsp;a&nbsp;</span><span style=\"color: black; background-color: #fff5f0\">&nbsp;m&nbsp;</span><span style=\"color: black; background-color: #fff5f0\">&nbsp;gálvez&nbsp;</span><span style=\"color: black; background-color: #fff5f0\">&nbsp;.&nbsp;</span><span style=\"color: black; background-color: #fff5f0\">&nbsp;sm&nbsp;</span><span style=\"color: black; background-color: #fff3ed\">&nbsp;andalué&nbsp;</span><span style=\"color: black; background-color: #860811\">&nbsp;despelote&nbsp;</span><span style=\"color: black; background-color: #fff5f0\">&nbsp;.&nbsp;</span><span style=\"color: black; background-color: #fff5f0\">&nbsp;cada&nbsp;</span><span style=\"color: black; background-color: #fff5f0\">&nbsp;sección&nbsp;</span><span style=\"color: black; background-color: #fff5f0\">&nbsp;con&nbsp;</span><span style=\"color: black; background-color: #fff5f0\">&nbsp;su&nbsp;</span><span style=\"color: black; background-color: #fff5f0\">&nbsp;propia&nbsp;</span><span style=\"color: black; background-color: #fff5f0\">&nbsp;música&nbsp;</span><span style=\"color: black; background-color: #fff5f0\">&nbsp;.&nbsp;</span><span style=\"color: black; background-color: #fff5f0\">&nbsp;aquí&nbsp;</span><span style=\"color: black; background-color: #fff5f0\">&nbsp;carnicería&nbsp;</span><span style=\"color: black; background-color: #fff5f0\">&nbsp;<url>&nbsp;</span></div><div style=\"margin:4px 0;\"><span style=\"color: black; background-color: #fff2eb\">&nbsp;user&nbsp;</span><span style=\"color: black; background-color: #fff5f0\">&nbsp;yo&nbsp;</span><span style=\"color: black; background-color: #fff5f0\">&nbsp;soy&nbsp;</span><span style=\"color: black; background-color: #fff5f0\">&nbsp;perico&nbsp;</span><span style=\"color: black; background-color: #fff4ef\">&nbsp;de&nbsp;</span><span style=\"color: black; background-color: #fff5f0\">&nbsp;los&nbsp;</span><span style=\"color: black; background-color: #fff5f0\">&nbsp;palotes&nbsp;</span><span style=\"color: black; background-color: #fff5f0\">&nbsp;,&nbsp;</span><span style=\"color: black; background-color: #fff5f0\">&nbsp;no&nbsp;</span><span style=\"color: black; background-color: #fff5f0\">&nbsp;me&nbsp;</span><span style=\"color: black; background-color: #fff5f0\">&nbsp;conoce&nbsp;</span><span style=\"color: black; background-color: #c3161b\">&nbsp;ni&nbsp;</span><span style=\"color: black; background-color: #fff5f0\">&nbsp;santa&nbsp;</span><span style=\"color: black; background-color: #fff5f0\">&nbsp;isabel&nbsp;</span><span style=\"color: black; background-color: #fff5f0\">&nbsp;,&nbsp;</span><span style=\"color: black; background-color: #fff5f0\">&nbsp;pero&nbsp;</span><span style=\"color: black; background-color: #fff5f0\">&nbsp;te&nbsp;</span><span style=\"color: black; background-color: #fff5f0\">&nbsp;encuentro&nbsp;</span><span style=\"color: black; background-color: #fff5f0\">&nbsp;toda&nbsp;</span><span style=\"color: black; background-color: #fff5f0\">&nbsp;la&nbsp;</span><span style=\"color: black; background-color: #fff5f0\">&nbsp;razón&nbsp;</span><span style=\"color: black; background-color: #fff5f0\">&nbsp;.&nbsp;</span><span style=\"color: black; background-color: #ffeee7\">&nbsp;hay&nbsp;</span><span style=\"color: black; background-color: #fed8c7\">&nbsp;q&nbsp;</span><span style=\"color: black; background-color: #fff5f0\">&nbsp;comb&nbsp;</span><span style=\"color: black; background-color: #fff5f0\">&nbsp;a&nbsp;</span><span style=\"color: black; background-color: #fff5f0\">&nbsp;todos&nbsp;</span><span style=\"color: black; background-color: #fff5f0\">&nbsp;los&nbsp;</span><span style=\"color: black; background-color: #fff5f0\">&nbsp;sinverg&nbsp;</span></div><div style=\"margin:4px 0;\"><span style=\"color: black; background-color: #ffede5\">&nbsp;user&nbsp;</span><span style=\"color: black; background-color: #fff5f0\">&nbsp;pégale&nbsp;</span><span style=\"color: black; background-color: #fff5f0\">&nbsp;un&nbsp;</span><span style=\"color: black; background-color: #fff5f0\">&nbsp;combo&nbsp;</span><span style=\"color: black; background-color: #fff5f0\">&nbsp;en&nbsp;</span><span style=\"color: black; background-color: #fff5f0\">&nbsp;el&nbsp;</span><span style=\"color: black; background-color: #fff3ed\">&nbsp;hocico&nbsp;</span><span style=\"color: black; background-color: #ffeee7\">&nbsp;weón&nbsp;</span><span style=\"color: black; background-color: #fff5f0\">&nbsp;y&nbsp;</span><span style=\"color: black; background-color: #fff5f0\">&nbsp;déjate&nbsp;</span><span style=\"color: black; background-color: #fff5f0\">&nbsp;de&nbsp;</span><span style=\"color: black; background-color: #fff5f0\">&nbsp;andar&nbsp;</span><span style=\"color: black; background-color: #9a0c14\">&nbsp;acusando&nbsp;</span><span style=\"color: black; background-color: #fff5f0\">&nbsp;.&nbsp;</span></div><div style=\"margin:4px 0;\"><span style=\"color: black; background-color: #fee5d9\">&nbsp;user&nbsp;</span><span style=\"color: black; background-color: #960b13\">&nbsp;user&nbsp;</span><span style=\"color: black; background-color: #fff5f0\">&nbsp;ya&nbsp;</span><span style=\"color: black; background-color: #fff5f0\">&nbsp;!&nbsp;</span><span style=\"color: black; background-color: #fff5f0\">&nbsp;gracias&nbsp;</span><span style=\"color: black; background-color: #fff5f0\">&nbsp;!&nbsp;</span><span style=\"color: black; background-color: #fff5f0\">&nbsp;pero&nbsp;</span><span style=\"color: black; background-color: #fff5f0\">&nbsp;con&nbsp;</span><span style=\"color: black; background-color: #fff5f0\">&nbsp;\"&nbsp;</span><span style=\"color: black; background-color: #fff5f0\">&nbsp;a&nbsp;</span><span style=\"color: black; background-color: #fff5f0\">&nbsp;todos&nbsp;</span><span style=\"color: black; background-color: #fff5f0\">&nbsp;\"&nbsp;</span><span style=\"color: black; background-color: #fff5f0\">&nbsp;es&nbsp;</span><span style=\"color: black; background-color: #fff5f0\">&nbsp;suficiente&nbsp;</span><span style=\"color: black; background-color: #fff5f0\">&nbsp;.&nbsp;</span><span style=\"color: black; background-color: #fff5f0\">&nbsp;paremos&nbsp;</span><span style=\"color: black; background-color: #fff5f0\">&nbsp;la&nbsp;</span><span style=\"color: black; background-color: #fff5f0\">&nbsp;tontera&nbsp;</span></div><div style=\"margin:4px 0;\"><span style=\"color: black; background-color: #6b010e\">&nbsp;user&nbsp;</span><span style=\"color: black; background-color: #fff4ef\">&nbsp;agreciones&nbsp;</span><span style=\"color: black; background-color: #fff5f0\">&nbsp;a&nbsp;</span><span style=\"color: black; background-color: #fff5f0\">&nbsp;quién&nbsp;</span><span style=\"color: black; background-color: #fff5f0\">&nbsp;?&nbsp;</span></div><div style=\"margin:4px 0;\"><span style=\"color: black; background-color: #fdc9b3\">&nbsp;user&nbsp;</span><span style=\"color: black; background-color: #bf151b\">&nbsp;user&nbsp;</span><span style=\"color: black; background-color: #fff5f0\">&nbsp;tener&nbsp;</span><span style=\"color: black; background-color: #fff5f0\">&nbsp;a&nbsp;</span><span style=\"color: black; background-color: #fff5f0\">&nbsp;rincón&nbsp;</span><span style=\"color: black; background-color: #fff5f0\">&nbsp;en&nbsp;</span><span style=\"color: black; background-color: #fff5f0\">&nbsp;la&nbsp;</span><span style=\"color: black; background-color: #fff5f0\">&nbsp;comisión&nbsp;</span><span style=\"color: black; background-color: #fff5f0\">&nbsp;de&nbsp;</span><span style=\"color: black; background-color: #fff5f0\">&nbsp;familia&nbsp;</span><span style=\"color: black; background-color: #fff5f0\">&nbsp;sería&nbsp;</span><span style=\"color: black; background-color: #fff5f0\">&nbsp;como&nbsp;</span><span style=\"color: black; background-color: #fff5f0\">&nbsp;tener&nbsp;</span><span style=\"color: black; background-color: #fff5f0\">&nbsp;al&nbsp;</span><span style=\"color: black; background-color: #fff5f0\">&nbsp;mamo&nbsp;</span><span style=\"color: black; background-color: #fff5f0\">&nbsp;en&nbsp;</span><span style=\"color: black; background-color: #fff5f0\">&nbsp;la&nbsp;</span><span style=\"color: black; background-color: #fff5f0\">&nbsp;com&nbsp;</span><span style=\"color: black; background-color: #fff5f0\">&nbsp;de&nbsp;</span><span style=\"color: black; background-color: #fff5f0\">&nbsp;ddhh&nbsp;</span></div><div style=\"margin:4px 0;\"><span style=\"color: black; background-color: #fee8dd\">&nbsp;user&nbsp;</span><span style=\"color: black; background-color: #ce1a1e\">&nbsp;user&nbsp;</span><span style=\"color: black; background-color: #fff5f0\">&nbsp;y&nbsp;</span><span style=\"color: black; background-color: #fff5f0\">&nbsp;ojo&nbsp;</span><span style=\"color: black; background-color: #fee9df\">&nbsp;q&nbsp;</span><span style=\"color: black; background-color: #fff5f0\">&nbsp;jamás&nbsp;</span><span style=\"color: black; background-color: #fff5f0\">&nbsp;te&nbsp;</span><span style=\"color: black; background-color: #fff5f0\">&nbsp;insulté&nbsp;</span><span style=\"color: black; background-color: #fff5f0\">&nbsp;.&nbsp;</span><span style=\"color: black; background-color: #fff5f0\">&nbsp;tienes&nbsp;</span><span style=\"color: black; background-color: #fff5f0\">&nbsp;mucho&nbsp;</span><span style=\"color: black; background-color: #fff5f0\">&nbsp;camino&nbsp;</span><span style=\"color: black; background-color: #fee3d7\">&nbsp;q&nbsp;</span><span style=\"color: black; background-color: #fff5f0\">&nbsp;recorrer&nbsp;</span><span style=\"color: black; background-color: #fff5f0\">&nbsp;.&nbsp;</span><span style=\"color: black; background-color: #fff5f0\">&nbsp;sácate&nbsp;</span><span style=\"color: black; background-color: #fff5f0\">&nbsp;los&nbsp;</span><span style=\"color: black; background-color: #fff5f0\">&nbsp;prejuicios&nbsp;</span></div><div style=\"margin:4px 0;\"><span style=\"color: black; background-color: #fedfd0\">&nbsp;user&nbsp;</span><span style=\"color: black; background-color: #a91016\">&nbsp;user&nbsp;</span><span style=\"color: black; background-color: #fff5f0\">&nbsp;averigua.inmob&nbsp;</span><span style=\"color: black; background-color: #fff5f0\">&nbsp;.&nbsp;</span><span style=\"color: black; background-color: #fff5f0\">&nbsp;y&nbsp;</span><span style=\"color: black; background-color: #fff5f0\">&nbsp;const.buen&nbsp;</span><span style=\"color: black; background-color: #fff5f0\">&nbsp;viento&nbsp;</span><span style=\"color: black; background-color: #fff5f0\">&nbsp;76.297&nbsp;</span><span style=\"color: black; background-color: #fff5f0\">&nbsp;.&nbsp;</span><span style=\"color: black; background-color: #fff5f0\">&nbsp;676-5&nbsp;</span><span style=\"color: black; background-color: #fff5f0\">&nbsp;.&nbsp;</span><span style=\"color: black; background-color: #fff5f0\">&nbsp;;&nbsp;</span><span style=\"color: black; background-color: #fff5f0\">&nbsp;inmob&nbsp;</span><span style=\"color: black; background-color: #fff5f0\">&nbsp;.&nbsp;</span><span style=\"color: black; background-color: #fff4ef\">&nbsp;y&nbsp;</span><span style=\"color: black; background-color: #fff5f0\">&nbsp;cont.suma&nbsp;</span><span style=\"color: black; background-color: #fff5f0\">&nbsp;76.297&nbsp;</span><span style=\"color: black; background-color: #fff5f0\">&nbsp;.&nbsp;</span><span style=\"color: black; background-color: #fff5f0\">&nbsp;751-6&nbsp;</span><span style=\"color: black; background-color: #fff5f0\">&nbsp;;&nbsp;</span><span style=\"color: black; background-color: #fff5f0\">&nbsp;inver&nbsp;</span><span style=\"color: black; background-color: #fff5f0\">&nbsp;sotavento&nbsp;</span><span style=\"color: black; background-color: #fff5f0\">&nbsp;76.051&nbsp;</span><span style=\"color: black; background-color: #fff5f0\">&nbsp;.&nbsp;</span><span style=\"color: black; background-color: #fff5f0\">&nbsp;777-1&nbsp;</span></div><div style=\"margin:4px 0;\"><span style=\"color: black; background-color: #fff5f0\">&nbsp;user&nbsp;</span><span style=\"color: black; background-color: #fff3ed\">&nbsp;user&nbsp;</span><span style=\"color: black; background-color: #fff5f0\">&nbsp;te&nbsp;</span><span style=\"color: black; background-color: #fff5f0\">&nbsp;lo&nbsp;</span><span style=\"color: black; background-color: #fff5f0\">&nbsp;digo&nbsp;</span><span style=\"color: black; background-color: #75030f\">&nbsp;muy&nbsp;</span><span style=\"color: black; background-color: #fff5f0\">&nbsp;en&nbsp;</span><span style=\"color: black; background-color: #fff5f0\">&nbsp;serio&nbsp;</span><span style=\"color: black; background-color: #fff5f0\">&nbsp;.&nbsp;</span><span style=\"color: black; background-color: #fff5f0\">&nbsp;tengo&nbsp;</span><span style=\"color: black; background-color: #fff5f0\">&nbsp;una&nbsp;</span><span style=\"color: black; background-color: #fff5f0\">&nbsp;empresa&nbsp;</span><span style=\"color: black; background-color: #fff5f0\">&nbsp;con&nbsp;</span><span style=\"color: black; background-color: #fff5f0\">&nbsp;75&nbsp;</span><span style=\"color: black; background-color: #fff5f0\">&nbsp;trabaj&nbsp;</span><span style=\"color: black; background-color: #fff5f0\">&nbsp;.&nbsp;</span><span style=\"color: black; background-color: #fff5f0\">&nbsp;partí&nbsp;</span><span style=\"color: black; background-color: #fff5f0\">&nbsp;de&nbsp;</span><span style=\"color: black; background-color: #fff5f0\">&nbsp;cero&nbsp;</span><span style=\"color: black; background-color: #fff5f0\">&nbsp;.&nbsp;</span><span style=\"color: black; background-color: #fff5f0\">&nbsp;nos&nbsp;</span><span style=\"color: black; background-color: #fff5f0\">&nbsp;va&nbsp;</span><span style=\"color: black; background-color: #fff5f0\">&nbsp;bien&nbsp;</span><span style=\"color: black; background-color: #fff5f0\">&nbsp;a&nbsp;</span><span style=\"color: black; background-color: #fff5f0\">&nbsp;todos&nbsp;</span><span style=\"color: black; background-color: #fff5f0\">&nbsp;.&nbsp;</span><span style=\"color: black; background-color: #fff5f0\">&nbsp;y&nbsp;</span><span style=\"color: black; background-color: #fff4ef\">&nbsp;tú&nbsp;</span><span style=\"color: black; background-color: #fff5f0\">&nbsp;como&nbsp;</span><span style=\"color: black; background-color: #fff5f0\">&nbsp;ayudas&nbsp;</span><span style=\"color: black; background-color: #fff5f0\">&nbsp;?&nbsp;</span></div><div style=\"margin:4px 0;\"><span style=\"color: black; background-color: #67000d\">&nbsp;user&nbsp;</span><span style=\"color: black; background-color: #fff5f0\">&nbsp;cómo&nbsp;</span><span style=\"color: black; background-color: #fff5f0\">&nbsp;nos&nbsp;</span><span style=\"color: black; background-color: #fff5f0\">&nbsp;veríamos&nbsp;</span><span style=\"color: black; background-color: #fff5f0\">&nbsp;con&nbsp;</span><span style=\"color: black; background-color: #fff5f0\">&nbsp;este&nbsp;</span><span style=\"color: black; background-color: #fff5f0\">&nbsp;modelito&nbsp;</span><span style=\"color: black; background-color: #fff5f0\">&nbsp;de&nbsp;</span><span style=\"color: black; background-color: #fff5f0\">&nbsp;\"&nbsp;</span><span style=\"color: black; background-color: #fff5f0\">&nbsp;presi&nbsp;</span><span style=\"color: black; background-color: #fff5f0\">&nbsp;\"&nbsp;</span><span style=\"color: black; background-color: #fff5f0\">&nbsp;<url>&nbsp;</span></div><div style=\"margin:4px 0;\"><span style=\"color: black; background-color: #fee7db\">&nbsp;user&nbsp;</span><span style=\"color: black; background-color: #fedbcc\">&nbsp;user&nbsp;</span><span style=\"color: black; background-color: #fff5f0\">&nbsp;el&nbsp;</span><span style=\"color: black; background-color: #fff5f0\">&nbsp;problema&nbsp;</span><span style=\"color: black; background-color: #fff5f0\">&nbsp;lo&nbsp;</span><span style=\"color: black; background-color: #fff5f0\">&nbsp;tienes&nbsp;</span><span style=\"color: black; background-color: #fa6849\">&nbsp;tú&nbsp;</span><span style=\"color: black; background-color: #fff5f0\">&nbsp;,&nbsp;</span><span style=\"color: black; background-color: #fee2d5\">&nbsp;q&nbsp;</span><span style=\"color: black; background-color: #fff5f0\">&nbsp;crees&nbsp;</span><span style=\"color: black; background-color: #fff5f0\">&nbsp;q&nbsp;</span><span style=\"color: black; background-color: #fff5f0\">&nbsp;esto&nbsp;</span><span style=\"color: black; background-color: #fff5f0\">&nbsp;es&nbsp;</span><span style=\"color: black; background-color: #fff5f0\">&nbsp;una&nbsp;</span><span style=\"color: black; background-color: #fff5f0\">&nbsp;guerra&nbsp;</span><span style=\"color: black; background-color: #fff5f0\">&nbsp;!&nbsp;</span><span style=\"color: black; background-color: #fff5f0\">&nbsp;o&nbsp;</span><span style=\"color: black; background-color: #fff5f0\">&nbsp;a&nbsp;</span><span style=\"color: black; background-color: #fff5f0\">&nbsp;todos&nbsp;</span><span style=\"color: black; background-color: #fff5f0\">&nbsp;nos&nbsp;</span><span style=\"color: black; background-color: #fff4ef\">&nbsp;va&nbsp;</span><span style=\"color: black; background-color: #fff1ea\">&nbsp;bien&nbsp;</span><span style=\"color: black; background-color: #fff4ef\">&nbsp;o&nbsp;</span><span style=\"color: black; background-color: #fff5f0\">&nbsp;nos&nbsp;</span><span style=\"color: black; background-color: #fee4d8\">&nbsp;vamos&nbsp;</span><span style=\"color: black; background-color: #fff5f0\">&nbsp;juntos&nbsp;</span><span style=\"color: black; background-color: #fff5f0\">&nbsp;a&nbsp;</span><span style=\"color: black; background-color: #fff5f0\">&nbsp;la&nbsp;</span><span style=\"color: black; background-color: #fff5f0\">&nbsp;m&nbsp;</span><span style=\"color: black; background-color: #fff5f0\">&nbsp;..&nbsp;</span></div><div style=\"margin:4px 0;\"><span style=\"color: black; background-color: #fff5f0\">&nbsp;user&nbsp;</span><span style=\"color: black; background-color: #fff4ee\">&nbsp;alejandro&nbsp;</span><span style=\"color: black; background-color: #fff5f0\">&nbsp;navarro&nbsp;</span><span style=\"color: black; background-color: #fff4ee\">&nbsp;y&nbsp;</span><span style=\"color: black; background-color: #fff5f0\">&nbsp;sergio&nbsp;</span><span style=\"color: black; background-color: #fff5f0\">&nbsp;aguiló&nbsp;</span><span style=\"color: black; background-color: #fff5f0\">&nbsp;renunciaron&nbsp;</span><span style=\"color: black; background-color: #fff5f0\">&nbsp;a&nbsp;</span><span style=\"color: black; background-color: #fff5f0\">&nbsp;la&nbsp;</span><span style=\"color: black; background-color: #fff5f0\">&nbsp;nueva&nbsp;</span><span style=\"color: black; background-color: #fff5f0\">&nbsp;mayoría&nbsp;</span><span style=\"color: black; background-color: #fff5f0\">&nbsp;e&nbsp;</span><span style=\"color: black; background-color: #fff5f0\">&nbsp;.&nbsp;</span><span style=\"color: black; background-color: #fff5f0\">&nbsp;¿&nbsp;</span><span style=\"color: black; background-color: #fff5f0\">&nbsp;qué&nbsp;</span><span style=\"color: black; background-color: #fff5f0\">&nbsp;va&nbsp;</span><span style=\"color: black; background-color: #fff5f0\">&nbsp;a&nbsp;</span><span style=\"color: black; background-color: #fff5f0\">&nbsp;pasar&nbsp;</span><span style=\"color: black; background-color: #fff5f0\">&nbsp;con&nbsp;</span><span style=\"color: black; background-color: #73030f\">&nbsp;tu&nbsp;</span><span style=\"color: black; background-color: #fff5f0\">&nbsp;navarrin&nbsp;</span><span style=\"color: black; background-color: #fff5f0\">&nbsp;?&nbsp;</span></div><div style=\"margin:4px 0;\"><span style=\"color: black; background-color: #ffede5\">&nbsp;user&nbsp;</span><span style=\"color: black; background-color: #7e0610\">&nbsp;user&nbsp;</span><span style=\"color: black; background-color: #fff5f0\">&nbsp;para&nbsp;</span><span style=\"color: black; background-color: #fff5f0\">&nbsp;ser&nbsp;</span><span style=\"color: black; background-color: #fff5f0\">&nbsp;empresario&nbsp;</span><span style=\"color: black; background-color: #fff5f0\">&nbsp;hay&nbsp;</span><span style=\"color: black; background-color: #fff5f0\">&nbsp;que&nbsp;</span><span style=\"color: black; background-color: #fff5f0\">&nbsp;tener&nbsp;</span><span style=\"color: black; background-color: #fff5f0\">&nbsp;cojones&nbsp;</span><span style=\"color: black; background-color: #fff5f0\">&nbsp;amigo&nbsp;</span><span style=\"color: black; background-color: #fff5f0\">&nbsp;.&nbsp;</span><span style=\"color: black; background-color: #fff5f0\">&nbsp;no&nbsp;</span><span style=\"color: black; background-color: #fff5f0\">&nbsp;cualquiera&nbsp;</span><span style=\"color: black; background-color: #fff5f0\">&nbsp;tolera&nbsp;</span><span style=\"color: black; background-color: #fff5f0\">&nbsp;la&nbsp;</span><span style=\"color: black; background-color: #fff5f0\">&nbsp;presión&nbsp;</span></div><div style=\"margin:4px 0;\"><span style=\"color: black; background-color: #feeae0\">&nbsp;user&nbsp;</span><span style=\"color: black; background-color: #f4503a\">&nbsp;user&nbsp;</span><span style=\"color: black; background-color: #fff5f0\">&nbsp;yo&nbsp;</span><span style=\"color: black; background-color: #fff2ec\">&nbsp;soy&nbsp;</span><span style=\"color: black; background-color: #fff5f0\">&nbsp;empresario&nbsp;</span><span style=\"color: black; background-color: #fff5f0\">&nbsp;y&nbsp;</span><span style=\"color: black; background-color: #fff5f0\">&nbsp;cotizo&nbsp;</span><span style=\"color: black; background-color: #fff5f0\">&nbsp;hace&nbsp;</span><span style=\"color: black; background-color: #fff5f0\">&nbsp;20&nbsp;</span><span style=\"color: black; background-color: #fff5f0\">&nbsp;años&nbsp;</span><span style=\"color: black; background-color: #fff5f0\">&nbsp;amigo&nbsp;</span><span style=\"color: black; background-color: #fff5f0\">&nbsp;.&nbsp;</span><span style=\"color: black; background-color: #fff5f0\">&nbsp;he&nbsp;</span><span style=\"color: black; background-color: #fff5f0\">&nbsp;pasado&nbsp;</span><span style=\"color: black; background-color: #fff5f0\">&nbsp;por&nbsp;</span><span style=\"color: black; background-color: #fff5f0\">&nbsp;👍&nbsp;</span><span style=\"color: black; background-color: #fff5f0\">&nbsp;y&nbsp;</span><span style=\"color: black; background-color: #fff5f0\">&nbsp;👎&nbsp;</span><span style=\"color: black; background-color: #fff5f0\">&nbsp;,&nbsp;</span><span style=\"color: black; background-color: #fff5f0\">&nbsp;nunca&nbsp;</span><span style=\"color: black; background-color: #fff5f0\">&nbsp;he&nbsp;</span><span style=\"color: black; background-color: #fee3d6\">&nbsp;dejado&nbsp;</span><span style=\"color: black; background-color: #fff5f0\">&nbsp;de&nbsp;</span><span style=\"color: black; background-color: #fff5f0\">&nbsp;pagar&nbsp;</span><span style=\"color: black; background-color: #fcc1a8\">&nbsp;ni&nbsp;</span><span style=\"color: black; background-color: #fff5f0\">&nbsp;-&nbsp;</span><span style=\"color: black; background-color: #fff5f0\">&nbsp;a&nbsp;</span><span style=\"color: black; background-color: #fff5f0\">&nbsp;mis&nbsp;</span><span style=\"color: black; background-color: #fff5f0\">&nbsp;trabajad&nbsp;</span></div><div style=\"margin:4px 0;\"><span style=\"color: black; background-color: #fff5f0\">&nbsp;user&nbsp;</span><span style=\"color: black; background-color: #fff5f0\">&nbsp;\"&nbsp;</span><span style=\"color: black; background-color: #fff5f0\">&nbsp;j&nbsp;</span><span style=\"color: black; background-color: #fff5f0\">&nbsp;.&nbsp;</span><span style=\"color: black; background-color: #fff5f0\">&nbsp;piñera&nbsp;</span><span style=\"color: black; background-color: #fff5f0\">&nbsp;es&nbsp;</span><span style=\"color: black; background-color: #fff5f0\">&nbsp;el&nbsp;</span><span style=\"color: black; background-color: #fff5f0\">&nbsp;padre&nbsp;</span><span style=\"color: black; background-color: #fff5f0\">&nbsp;de&nbsp;</span><span style=\"color: black; background-color: #fff5f0\">&nbsp;un&nbsp;</span><span style=\"color: black; background-color: #fff5f0\">&nbsp;sistema&nbsp;</span><span style=\"color: black; background-color: #fff5f0\">&nbsp;que&nbsp;</span><span style=\"color: black; background-color: #fff5f0\">&nbsp;tanto&nbsp;</span><span style=\"color: black; background-color: #fff5f0\">&nbsp;daño&nbsp;</span><span style=\"color: black; background-color: #fff5f0\">&nbsp;le&nbsp;</span><span style=\"color: black; background-color: #fff5f0\">&nbsp;ha&nbsp;</span><span style=\"color: black; background-color: #67000d\">&nbsp;hecho&nbsp;</span><span style=\"color: black; background-color: #fff5f0\">&nbsp;a&nbsp;</span><span style=\"color: black; background-color: #fff5f0\">&nbsp;la&nbsp;</span><span style=\"color: black; background-color: #fff5f0\">&nbsp;sociedad&nbsp;</span><span style=\"color: black; background-color: #fff5f0\">&nbsp;\"&nbsp;</span><span style=\"color: black; background-color: #fff5f0\">&nbsp;eso&nbsp;</span><span style=\"color: black; background-color: #fff5f0\">&nbsp;dice&nbsp;</span><span style=\"color: black; background-color: #fff5f0\">&nbsp;locutor&nbsp;</span><span style=\"color: black; background-color: #fff5f0\">&nbsp;fm&nbsp;</span><span style=\"color: black; background-color: #fff5f0\">&nbsp;conquist&nbsp;</span><span style=\"color: black; background-color: #fff5f0\">&nbsp;.&nbsp;</span><span style=\"color: black; background-color: #fff5f0\">&nbsp;6pm&nbsp;</span><span style=\"color: black; background-color: #fff5f0\">&nbsp;.&nbsp;</span><span style=\"color: black; background-color: #fff5f0\">&nbsp;el&nbsp;</span><span style=\"color: black; background-color: #fff5f0\">&nbsp;colmo&nbsp;</span></div><div style=\"margin:4px 0;\"><span style=\"color: black; background-color: #6f020e\">&nbsp;user&nbsp;</span><span style=\"color: black; background-color: #fff5f0\">&nbsp;laguna&nbsp;</span><span style=\"color: black; background-color: #fff5f0\">&nbsp;en&nbsp;</span><span style=\"color: black; background-color: #fff5f0\">&nbsp;san&nbsp;</span><span style=\"color: black; background-color: #fff5f0\">&nbsp;pedro&nbsp;</span><span style=\"color: black; background-color: #fff3ed\">&nbsp;,&nbsp;</span><span style=\"color: black; background-color: #fff5f0\">&nbsp;concepción&nbsp;</span><span style=\"color: black; background-color: #fff5f0\">&nbsp;a&nbsp;</span><span style=\"color: black; background-color: #fff5f0\">&nbsp;esta&nbsp;</span><span style=\"color: black; background-color: #fff5f0\">&nbsp;hora&nbsp;</span><span style=\"color: black; background-color: #fff5f0\">&nbsp;.&nbsp;</span><span style=\"color: black; background-color: #fff5f0\">&nbsp;un&nbsp;</span><span style=\"color: black; background-color: #fff5f0\">&nbsp;espejo&nbsp;</span><span style=\"color: black; background-color: #fff5f0\">&nbsp;<url>&nbsp;</span></div><div style=\"margin:4px 0;\"><span style=\"color: black; background-color: #fff5f0\">&nbsp;user&nbsp;</span><span style=\"color: black; background-color: #fff5f0\">&nbsp;pensé&nbsp;</span><span style=\"color: black; background-color: #fff5f0\">&nbsp;que&nbsp;</span><span style=\"color: black; background-color: #fff5f0\">&nbsp;eras&nbsp;</span><span style=\"color: black; background-color: #fff5f0\">&nbsp;huevón&nbsp;</span><span style=\"color: black; background-color: #fff5f0\">&nbsp;,&nbsp;</span><span style=\"color: black; background-color: #fff5f0\">&nbsp;después&nbsp;</span><span style=\"color: black; background-color: #fff5f0\">&nbsp;de&nbsp;</span><span style=\"color: black; background-color: #fff5f0\">&nbsp;tus&nbsp;</span><span style=\"color: black; background-color: #fff5f0\">&nbsp;declaraciones&nbsp;</span><span style=\"color: black; background-color: #fff5f0\">&nbsp;admito&nbsp;</span><span style=\"color: black; background-color: #fff5f0\">&nbsp;que&nbsp;</span><span style=\"color: black; background-color: #fff5f0\">&nbsp;me&nbsp;</span><span style=\"color: black; background-color: #fff5f0\">&nbsp;equivoqué&nbsp;</span><span style=\"color: black; background-color: #fff5f0\">&nbsp;,&nbsp;</span><span style=\"color: black; background-color: #fff5f0\">&nbsp;eres&nbsp;</span><span style=\"color: black; background-color: #fff5f0\">&nbsp;mala&nbsp;</span><span style=\"color: black; background-color: #fff5f0\">&nbsp;persona&nbsp;</span><span style=\"color: black; background-color: #fff5f0\">&nbsp;...&nbsp;</span><span style=\"color: black; background-color: #fff5f0\">&nbsp;y&nbsp;</span><span style=\"color: black; background-color: #69000d\">&nbsp;súper&nbsp;</span><span style=\"color: black; background-color: #fff5f0\">&nbsp;weon&nbsp;</span></div><div style=\"margin:4px 0;\"><span style=\"color: black; background-color: #bb141a\">&nbsp;user&nbsp;</span><span style=\"color: black; background-color: #fff5f0\">&nbsp;dentro&nbsp;</span><span style=\"color: black; background-color: #ffece4\">&nbsp;de&nbsp;</span><span style=\"color: black; background-color: #fff5f0\">&nbsp;todo&nbsp;</span><span style=\"color: black; background-color: #fff5f0\">&nbsp;lo&nbsp;</span><span style=\"color: black; background-color: #fff5f0\">&nbsp;malo&nbsp;</span><span style=\"color: black; background-color: #fff5f0\">&nbsp;,&nbsp;</span><span style=\"color: black; background-color: #fff5f0\">&nbsp;la&nbsp;</span><span style=\"color: black; background-color: #fff5f0\">&nbsp;naturaleza&nbsp;</span><span style=\"color: black; background-color: #fff5f0\">&nbsp;nos&nbsp;</span><span style=\"color: black; background-color: #fff5f0\">&nbsp;recuerda&nbsp;</span><span style=\"color: black; background-color: #fff2eb\">&nbsp;que&nbsp;</span><span style=\"color: black; background-color: #fff5f0\">&nbsp;alguien&nbsp;</span><span style=\"color: black; background-color: #fff5f0\">&nbsp;nos&nbsp;</span><span style=\"color: black; background-color: #fff2ec\">&nbsp;sigue&nbsp;</span><span style=\"color: black; background-color: #ffece4\">&nbsp;queriendo&nbsp;</span><span style=\"color: black; background-color: #ffeee6\">&nbsp;.&nbsp;</span><span style=\"color: black; background-color: #fff4ee\">&nbsp;<url>&nbsp;</span></div><div style=\"margin:4px 0;\"><span style=\"color: black; background-color: #fff2eb\">&nbsp;user&nbsp;</span><span style=\"color: black; background-color: #fff5f0\">&nbsp;pucha&nbsp;</span><span style=\"color: black; background-color: #fee5d8\">&nbsp;compadre&nbsp;</span><span style=\"color: black; background-color: #fff4ee\">&nbsp;!&nbsp;</span><span style=\"color: black; background-color: #fee4d8\">&nbsp;le&nbsp;</span><span style=\"color: black; background-color: #f44f39\">&nbsp;das&nbsp;</span><span style=\"color: black; background-color: #fff5f0\">&nbsp;porque&nbsp;</span><span style=\"color: black; background-color: #fff5f0\">&nbsp;sí&nbsp;</span><span style=\"color: black; background-color: #fff5f0\">&nbsp;y&nbsp;</span><span style=\"color: black; background-color: #fff5f0\">&nbsp;porque&nbsp;</span><span style=\"color: black; background-color: #fff5f0\">&nbsp;no&nbsp;</span><span style=\"color: black; background-color: #fff5f0\">&nbsp;...&nbsp;</span><span style=\"color: black; background-color: #fff5f0\">&nbsp;así&nbsp;</span><span style=\"color: black; background-color: #fdd7c6\">&nbsp;tamo&nbsp;</span><span style=\"color: black; background-color: #ffefe8\">&nbsp;cagaos&nbsp;</span></div><div style=\"margin:4px 0;\"><span style=\"color: black; background-color: #fff5f0\">&nbsp;user&nbsp;</span><span style=\"color: black; background-color: #fff5f0\">&nbsp;user&nbsp;</span><span style=\"color: black; background-color: #67000d\">&nbsp;súper&nbsp;</span><span style=\"color: black; background-color: #fff5f0\">&nbsp;,&nbsp;</span><span style=\"color: black; background-color: #fff5f0\">&nbsp;gracias&nbsp;</span><span style=\"color: black; background-color: #fff5f0\">&nbsp;!&nbsp;</span><span style=\"color: black; background-color: #fff5f0\">&nbsp;!&nbsp;</span></div><div style=\"margin:4px 0;\"><span style=\"color: black; background-color: #fcbea5\">&nbsp;user&nbsp;</span><span style=\"color: black; background-color: #c9181d\">&nbsp;user&nbsp;</span><span style=\"color: black; background-color: #fff5f0\">&nbsp;tírate&nbsp;</span><span style=\"color: black; background-color: #fff5f0\">&nbsp;la&nbsp;</span><span style=\"color: black; background-color: #fff5f0\">&nbsp;receta&nbsp;</span><span style=\"color: black; background-color: #fff5f0\">&nbsp;por&nbsp;</span><span style=\"color: black; background-color: #fff5f0\">&nbsp;fa&nbsp;</span></div><div style=\"margin:4px 0;\"><span style=\"color: black; background-color: #fff5f0\">&nbsp;user&nbsp;</span><span style=\"color: black; background-color: #8a0812\">&nbsp;of&nbsp;</span><span style=\"color: black; background-color: #fff5f0\">&nbsp;.&nbsp;</span><span style=\"color: black; background-color: #fff5f0\">&nbsp;de&nbsp;</span><span style=\"color: black; background-color: #fff5f0\">&nbsp;gobierno&nbsp;</span><span style=\"color: black; background-color: #fff5f0\">&nbsp;en&nbsp;</span><span style=\"color: black; background-color: #fff5f0\">&nbsp;galería&nbsp;</span><span style=\"color: black; background-color: #fff5f0\">&nbsp;alessandri&nbsp;</span><span style=\"color: black; background-color: #fff5f0\">&nbsp;en&nbsp;</span><span style=\"color: black; background-color: #fff5f0\">&nbsp;la&nbsp;</span><span style=\"color: black; background-color: #fff5f0\">&nbsp;plaza&nbsp;</span><span style=\"color: black; background-color: #fff5f0\">&nbsp;de&nbsp;</span><span style=\"color: black; background-color: #fee9df\">&nbsp;ccp&nbsp;</span><span style=\"color: black; background-color: #fff5f0\">&nbsp;.&nbsp;</span><span style=\"color: black; background-color: #fff5f0\">&nbsp;¿&nbsp;</span><span style=\"color: black; background-color: #fff5f0\">&nbsp;una&nbsp;</span><span style=\"color: black; background-color: #fff5f0\">&nbsp;muestra&nbsp;</span><span style=\"color: black; background-color: #fff5f0\">&nbsp;de&nbsp;</span><span style=\"color: black; background-color: #fff5f0\">&nbsp;cómo&nbsp;</span><span style=\"color: black; background-color: #fff5f0\">&nbsp;se&nbsp;</span><span style=\"color: black; background-color: #fff5f0\">&nbsp;manejan&nbsp;</span><span style=\"color: black; background-color: #fff5f0\">&nbsp;las&nbsp;</span><span style=\"color: black; background-color: #fff5f0\">&nbsp;cosas&nbsp;</span><span style=\"color: black; background-color: #fff5f0\">&nbsp;?&nbsp;</span><span style=\"color: black; background-color: #fff5f0\">&nbsp;<url>&nbsp;</span></div>"
      ],
      "text/plain": [
       "<IPython.core.display.HTML object>"
      ]
     },
     "metadata": {},
     "output_type": "display_data"
    }
   ],
   "source": [
    "def colorize_words_per_tweet(tweet_list, attn_matrix):\n",
    "    \"\"\"\n",
    "    tweet_list: List[List[str]] → Lista de tweets (cada uno como lista de palabras)\n",
    "    attn_matrix: List[List[float]] → Atenciones por palabra para cada tweet\n",
    "    \"\"\"\n",
    "    cmap = matplotlib.cm.get_cmap('Reds')\n",
    "    template = '<div style=\"margin:4px 0;\">{}</div>'\n",
    "    word_template = '<span style=\"color: black; background-color: {}\">&nbsp;{}&nbsp;</span>'\n",
    "    \n",
    "    output = \"\"\n",
    "    for tweet_words, word_scores in zip(tweet_list, attn_matrix):\n",
    "        line = \"\"\n",
    "        for word, score in zip(tweet_words, word_scores):\n",
    "            color = matplotlib.colors.rgb2hex(cmap(score)[:3])\n",
    "            line += word_template.format(color, word)\n",
    "        output += template.format(line)\n",
    "    return output\n",
    "\n",
    "idx2label = {v: k for k, v in train_dataset.label_map.items()}\n",
    "\n",
    "# Escoger los ejemplos con mayor atención máxima\n",
    "max_attn = [max([max(tweet_scores) for tweet_scores in doc]) for doc in train_scores]\n",
    "maxi = np.flip(np.argsort(max_attn))\n",
    "\n",
    "# Mostrar ejemplos\n",
    "max_examples = min(3, len(train_words), len(train_scores), len(train_pred))\n",
    "for j in range(max_examples):\n",
    "    i = maxi[j]\n",
    "    s = colorize_words_per_tweet(train_words[i], train_scores[i])\n",
    "    predicted_label = idx2label[train_pred[i]]\n",
    "    print(f'Predicción: {predicted_label}')\n",
    "    display(HTML(s))\n"
   ]
  },
  {
   "cell_type": "markdown",
   "id": "f92d0748",
   "metadata": {},
   "source": [
    "Se ven resaltadas palabras que, a primera vista, no dan un gran contexto sobre el origen del autor.\n",
    "\n",
    "## A nivel oracion"
   ]
  },
  {
   "cell_type": "code",
   "execution_count": 94,
   "id": "91b35730",
   "metadata": {},
   "outputs": [
    {
     "name": "stdout",
     "output_type": "stream",
     "text": [
      "Predicción: peru\n"
     ]
    },
    {
     "name": "stderr",
     "output_type": "stream",
     "text": [
      "/tmp/ipykernel_9089/782181285.py:6: MatplotlibDeprecationWarning: The get_cmap function was deprecated in Matplotlib 3.7 and will be removed in 3.11. Use ``matplotlib.colormaps[name]`` or ``matplotlib.colormaps.get_cmap()`` or ``pyplot.get_cmap()`` instead.\n",
      "  cmap = matplotlib.cm.get_cmap('Reds')\n"
     ]
    },
    {
     "data": {
      "text/html": [
       "<div style=\"background-color: #fff5f0; padding:4px; margin:2px\">antojo de pela 🙃 <url></div><div style=\"background-color: #fff5f0; padding:4px; margin:2px\">música para iniciar el domingo ✌🏻 <url></div><div style=\"background-color: #fff5f0; padding:4px; margin:2px\">perfectamente imperfecto ...</div><div style=\"background-color: #fff5f0; padding:4px; margin:2px\">9:00 am y sigo tirada en mi cama #felicidad</div><div style=\"background-color: #fff5f0; padding:4px; margin:2px\">hoy nos toca pintar nuestra casita 😍 😁 <url></div><div style=\"background-color: #fff5f0; padding:4px; margin:2px\">hola ... #somosinmortales</div><div style=\"background-color: #fff5f0; padding:4px; margin:2px\"><url> la están rompiendo #youmeanlove #madeinperú 🙃</div><div style=\"background-color: #fff5f0; padding:4px; margin:2px\"><url> me re encanto esta pela 😂</div><div style=\"background-color: #fff5f0; padding:4px; margin:2px\">user próxima parada new york 🤗</div><div style=\"background-color: #fff5f0; padding:4px; margin:2px\">nunca pensé emocionarme tanto por un electrodoméstico 😬 al fin llego nuestra lavaseca ! #armandonuestrohogar <url></div><div style=\"background-color: #fff5f0; padding:4px; margin:2px\">es viernes de horario de verano wujuuu <url></div><div style=\"background-color: #67000d; padding:4px; margin:2px\">ver mis fotos en el fb de una de las maquilladoras + cotizadas en lima es simplemente wao ! <url></div><div style=\"background-color: #fff5f0; padding:4px; margin:2px\">se me ha dado unas ganas locas de volver a cuba y nadar sobre un delfín #alucinante 😍 <url></div><div style=\"background-color: #fff5f0; padding:4px; margin:2px\">de ver puros site o rrss de novias paso a buscar todo lo relacionado con decoración ... ahhhh la locura sigue 😑</div><div style=\"background-color: #fff5f0; padding:4px; margin:2px\">mi último desayuno con panteón 😩 <url></div><div style=\"background-color: #fff5f0; padding:4px; margin:2px\">estoy insoportablemente feliz con mis fotos 😍 #loveit <url></div><div style=\"background-color: #fff5f0; padding:4px; margin:2px\"><url> hay pero que preciso 😬 🙃 😆</div><div style=\"background-color: #fff5f0; padding:4px; margin:2px\">de lo que callan los taxistas , ahora llego lo que callan los esposos cuando se une con sus … <url></div><div style=\"background-color: #fff5f0; padding:4px; margin:2px\">así cualquiera inicia feliz su primer día laboral del año :d <url></div><div style=\"background-color: #fff5f0; padding:4px; margin:2px\">ahahah me encanta ! que buena vibra . arrancamos con todo el 2017 😁 😍 🙏🏻 #fogatita #buenosmuchachos <url></div><div style=\"background-color: #fff5f0; padding:4px; margin:2px\">para cerrar el inicio del año 😁 <url></div><div style=\"background-color: #fff5f0; padding:4px; margin:2px\">y la seguimos 😂 y lo bueno es q mañana no tengo trabajo jajaja 😩 😔 <url></div><div style=\"background-color: #fff5f0; padding:4px; margin:2px\">buenos muchachos 🤗 🎉 <url></div><div style=\"background-color: #fff5f0; padding:4px; margin:2px\">vao a recibir el año con la actitud ! 😊 🎉 <url></div><div style=\"background-color: #fff5f0; padding:4px; margin:2px\">te das cuenta que ya maduraste cuando usas más seguido tus lentes de descanso y , al fin , no te duele ponerte tacos … <url></div><div style=\"background-color: #fff5f0; padding:4px; margin:2px\">que la fuerza te acompañe ...</div><div style=\"background-color: #fff5f0; padding:4px; margin:2px\">para que siempre nos cuides 🙏🏻 <url></div><div style=\"background-color: #fff5f0; padding:4px; margin:2px\">sorpresa de bb ! ! ! gracias por engreírme y sorprenderme siempre ! user con esto empezamos la última semana del … <url></div><div style=\"background-color: #fff5f0; padding:4px; margin:2px\">no puedo con mi espíritu navideños 😁 ⛄ ️ 🎉 <url></div><div style=\"background-color: #fff5f0; padding:4px; margin:2px\">me encanto ! ! ! la mejor coincidencia para celebrar el primer mes de casados #padrinosmagicos #7sopas 🤗 user … <url></div><div style=\"background-color: #fff5f0; padding:4px; margin:2px\">yeeeeee con los mejores 🎈 🎈 🎉 #navidad #cumplenera <url></div><div style=\"background-color: #fff5f0; padding:4px; margin:2px\">dos corazones solos y empiezas a volar ... #tizon</div><div style=\"background-color: #fff5f0; padding:4px; margin:2px\">#quieroserelunicoquetemuerdalaboca 😁 😁 #tizon</div><div style=\"background-color: #fff5f0; padding:4px; margin:2px\">actitud ! ! ! día 3 previo al cumple de nata 😁 <url></div><div style=\"background-color: #fff5f0; padding:4px; margin:2px\">que ricooooo espíritu navideño 🎉 ⛄ ️</div><div style=\"background-color: #fff5f0; padding:4px; margin:2px\">las más hermosas del mundo ! ! ! mis damitas fueron mi amuleto azul 😍 😍 😍 user user … <url></div><div style=\"background-color: #fff5f0; padding:4px; margin:2px\">tuve mi boda d ensueño junto al hombre q me aceptó tal y como soy dsd q me conoció . tu esfuerzo y constancia fue lo … <url></div><div style=\"background-color: #fff5f0; padding:4px; margin:2px\">adios muela del juicio ouchs ! 😖 😩</div><div style=\"background-color: #fff5f0; padding:4px; margin:2px\">regreso al trabajo y justo hacen la fiesta de fin de año 😁 <url></div><div style=\"background-color: #fff5f0; padding:4px; margin:2px\">no puedo creerlo ... ya más de un mes de esto 🙀 #micivil 😍 😍 <url></div><div style=\"background-color: #fff5f0; padding:4px; margin:2px\">hoy le dije adiós a mi cabellito largo 😋 #cambiodelook <url></div><div style=\"background-color: #fff5f0; padding:4px; margin:2px\">de regreso a casa ! ! en bancarrota pero felices 😜 #tripcumplido 😬 <url></div><div style=\"background-color: #fff5f0; padding:4px; margin:2px\">de regreso a miami al son de villancicos 🙃 vaooo con todo orlando móvil 🚗 #emisoradeviaje107 . 7 ☃ ️ 🎄 😊 🙃</div><div style=\"background-color: #fff5f0; padding:4px; margin:2px\">y la magia de disney hizo nevar 🙃 🙃 🙃 😊 <url></div><div style=\"background-color: #fff5f0; padding:4px; margin:2px\">mi último día en orlando , tenía que regresar para el tonazo #mickeyverymerrychristmasparty 🙃 🙃 <url></div><div style=\"background-color: #fff5f0; padding:4px; margin:2px\">pago todo lo que pueda tener en mi billetera vacía por una sopita a la minuta o un ají de pollo ahhh #extrañandoamamá 😩</div><div style=\"background-color: #fff5f0; padding:4px; margin:2px\">empezare a recolectar piñas 🍍 🙃 😬 <url></div><div style=\"background-color: #fff5f0; padding:4px; margin:2px\">como puede costar tanto ? ? al cabo ni me la quería comprar 😵 😭 😹 #universaltrip <url></div><div style=\"background-color: #fff5f0; padding:4px; margin:2px\">creí que encontré las gangas pffff q caro es todo aquí jajajaja #caballeronomas 😅 😮 😩 😰</div><div style=\"background-color: #fff5f0; padding:4px; margin:2px\">ahhhh todas las culturas y comidas en un solo parque 😊 😜 👍 🐷 #epcot #honeymoon #disneytrip <url></div><div style=\"background-color: #fff5f0; padding:4px; margin:2px\">villancicos en epcot :) #disneytrip #honeymoon <url></div><div style=\"background-color: #fff5f0; padding:4px; margin:2px\">nuestra primera noche de trip luna de miel 😍 😍 #miamibeach <url></div><div style=\"background-color: #fff5f0; padding:4px; margin:2px\">foto más bella no puede existir ! los amo demasiado . mi familia elegida 😍 😍 <url></div><div style=\"background-color: #fff5f0; padding:4px; margin:2px\">a exactamente 8 minutos de \" sí acepto \" 😱 😱 😱 #nerviosa</div><div style=\"background-color: #fff5f0; padding:4px; margin:2px\">llegaron ! ! ! ahora empieza lo bueno 😍 <url></div><div style=\"background-color: #fff5f0; padding:4px; margin:2px\">las vamos a necesitar ! ! ! <url></div><div style=\"background-color: #fff5f0; padding:4px; margin:2px\">celebrando mi cumple con mi esposo 😍 🎉 <url></div><div style=\"background-color: #fff5f0; padding:4px; margin:2px\">que buena vibra mierda carajo !</div><div style=\"background-color: #fff5f0; padding:4px; margin:2px\">nuestra pequeña luna de miel 😍 😍 😍 user <url></div><div style=\"background-color: #fff5f0; padding:4px; margin:2px\">así empieza mi día cumpleañero 😍 <url></div><div style=\"background-color: #fff5f0; padding:4px; margin:2px\">cuando la felicidad es completa con ello 😍 😍 😍 ahora somos sr . y sra . #bodacivil <url></div><div style=\"background-color: #fff5f0; padding:4px; margin:2px\">alguien me está jugando una mala pasada 😡 🙀 😯 😤 😫</div><div style=\"background-color: #fff5f0; padding:4px; margin:2px\">estoy en manos de capas de capas 😊 😍 <url></div><div style=\"background-color: #fff5f0; padding:4px; margin:2px\">las mejores en todo el mundo mundial 😍 😍 😍 #teambride #despedidadesoltera <url></div><div style=\"background-color: #fff5f0; padding:4px; margin:2px\">4ever 😍 #despedidadesoltera <url></div><div style=\"background-color: #fff5f0; padding:4px; margin:2px\">esta foto no necesita filtro 😍 #sesiondefotos #preboda ellos son lo mejor 😊 user <url></div><div style=\"background-color: #fff5f0; padding:4px; margin:2px\">hoy nos disfrazamos de uno de los filtros de user :d #crioweentecsup <url></div><div style=\"background-color: #fff5f0; padding:4px; margin:2px\">user gracias my friend 😊 😘</div><div style=\"background-color: #fff5f0; padding:4px; margin:2px\">cada vez más cerca user 😍 😘 🎉 🎈 <url></div><div style=\"background-color: #fff5f0; padding:4px; margin:2px\">sesión fotográfica pre boda con ellos 😍 😍 😍 #yosoylanovia #261116 💍 👰 <url></div><div style=\"background-color: #fff5f0; padding:4px; margin:2px\">de pronto me choco con fox y están pasando un nuevo capítulo de twd y yo decido cambiarlo 😁</div><div style=\"background-color: #fff5f0; padding:4px; margin:2px\">hoy alguien está insoportablemente feliz 😍 🤗 #bbkerin <url></div><div style=\"background-color: #fff5f0; padding:4px; margin:2px\">nuestro último mesario de novios y me llevas al concierto de user jajaja te pasas user <url></div><div style=\"background-color: #fff5f0; padding:4px; margin:2px\">con estos zapatos me siento goku cuando esta entrenando 😬 <url></div><div style=\"background-color: #fff5f0; padding:4px; margin:2px\">algo solo de tecsup ... que su banda se llame amalgama 🤗</div><div style=\"background-color: #fff5f0; padding:4px; margin:2px\">cuando quieres hacer dieta pero tu novio te regala tu debilidad 🙀 😲 😅 <url></div><div style=\"background-color: #fff5f0; padding:4px; margin:2px\">amistades que duran para siempre 😍 <url></div><div style=\"background-color: #fff5f0; padding:4px; margin:2px\">me atrevo a decir que la tv está rumbo a extinción 🙀 😔</div><div style=\"background-color: #fff5f0; padding:4px; margin:2px\">es un genio 🎉 😊 #merecidotriunfo <url></div><div style=\"background-color: #fff5f0; padding:4px; margin:2px\">christina perri - a thousand years [ official music video ] estoy segura q + 80 % de mujeres suspiran con esta canción <url></div><div style=\"background-color: #fff5f0; padding:4px; margin:2px\">muero ! ! a 2 meses y ya siento ansiedad 😱 #vestidodenovia <url></div><div style=\"background-color: #fff5f0; padding:4px; margin:2px\">oficialmente estoy a 2 meses de mi boda 😱 😍</div><div style=\"background-color: #fff5f0; padding:4px; margin:2px\">hoy decidí no trabajar 😬 😱 <url></div><div style=\"background-color: #fff5f0; padding:4px; margin:2px\">no puedo con este gif 😂 <url></div><div style=\"background-color: #fff5f0; padding:4px; margin:2px\">user repliquemos siempre lo bueno . <url></div><div style=\"background-color: #fff5f0; padding:4px; margin:2px\">típico : las odontólogas tienen dientes feos 😁</div><div style=\"background-color: #fff5f0; padding:4px; margin:2px\">desde que estoy en tecsup me soplo charlas de ti , electrotecnia , automatización , química , seguridad y maquinarias 😱 <url></div><div style=\"background-color: #fff5f0; padding:4px; margin:2px\">tengo tu sonrisa en un rincon de mi salva pantallas ... #dexler <3</div><div style=\"background-color: #fff5f0; padding:4px; margin:2px\">salva pantallas / jorge drexler <url> vía así inicio mi jueves <3</div><div style=\"background-color: #fff5f0; padding:4px; margin:2px\">acetre - bailes del pandero ... <url></div><div style=\"background-color: #fff5f0; padding:4px; margin:2px\">gracias user colección #newyorkpills x el presente 😊 🤗 <url></div><div style=\"background-color: #fff5f0; padding:4px; margin:2px\">hoy la oficina estuvo perfecta 😊 🎈 🎉 #mitrabajosuma #tecsup #mkt <url></div><div style=\"background-color: #fff5f0; padding:4px; margin:2px\"><url> vía user a setiembre le digo : \" hola , nos volvemos a encontrar \" [ ... ] #bh</div><div style=\"background-color: #fff5f0; padding:4px; margin:2px\">excelente concierto ! ahora solo esperar la foto del meet 🤗 😜 😛 user <url></div><div style=\"background-color: #fff5f0; padding:4px; margin:2px\">alistando garganta para + tarde ! ! hoy es user :) <url></div><div style=\"background-color: #fff5f0; padding:4px; margin:2px\">no existe cosa más rica que un crepé de nutella 😍</div><div style=\"background-color: #fff5f0; padding:4px; margin:2px\">previas a la sesión de foto :) #mkttecsup <url></div><div style=\"background-color: #fff5f0; padding:4px; margin:2px\">la única parte que me gusto <url></div><div style=\"background-color: #fff5f0; padding:4px; margin:2px\">diazepunk con los 3 como siempre ! ! ! <url></div><div style=\"background-color: #fff5f0; padding:4px; margin:2px\">regresó el emo style jajaa 😱 #longlonghair 😬 <url></div>"
      ],
      "text/plain": [
       "<IPython.core.display.HTML object>"
      ]
     },
     "metadata": {},
     "output_type": "display_data"
    },
    {
     "name": "stdout",
     "output_type": "stream",
     "text": [
      "Predicción: chile\n"
     ]
    },
    {
     "data": {
      "text/html": [
       "<div style=\"background-color: #fff5f0; padding:4px; margin:2px\">user user user user estas entoda la razon un chico con . un gran ❤ el se rntrega hoy sqp elevo su raytin 💋</div><div style=\"background-color: #fff5f0; padding:4px; margin:2px\">user user user es tan simpatico este chico lamento qie se cambio de canal exito dicha y felicidad en tu boda</div><div style=\"background-color: #fff5f0; padding:4px; margin:2px\">user suerte y exito con garra a competir chicas</div><div style=\"background-color: #fff5f0; padding:4px; margin:2px\">user no seas mala honda mariela es una mujer trasparente y habla con franquesa no sea despectiva ante salia hacer notas gano</div><div style=\"background-color: #fff5f0; padding:4px; margin:2px\">user asi debe ser nachito ya paso el susto hay que ir a conocer tu bello maule un gran abrazo vuelve a la tele con pamela un abra</div><div style=\"background-color: #fff5f0; padding:4px; margin:2px\">user user user user user pensar que yo lesce dado mamadera es un orgullo wue lo llevó conmigo</div><div style=\"background-color: #fff5f0; padding:4px; margin:2px\">user . estas en lo cierto</div><div style=\"background-color: #fff5f0; padding:4px; margin:2px\">user user amigo del alma aun no encuentras tualma gemela que te llene de gozo un abrazo cariños a tu mamá eres lo maximo amigo</div><div style=\"background-color: #fff5f0; padding:4px; margin:2px\">user user son seres vivos igual que todos lamentablemente no saben hablar pero si ellos entregan mucho cariño incondiciona</div><div style=\"background-color: #fff5f0; padding:4px; margin:2px\">user user user user user de nada mi niña que hojala encuentren un buen hogar un abrazo</div><div style=\"background-color: #fff5f0; padding:4px; margin:2px\">user user user user user es hermosa pero vivo en la v region que dios te bendigan y suerte</div><div style=\"background-color: #fff5f0; padding:4px; margin:2px\">user user user es que ahi topo nose hacerlo perovivo en la v región villa alemana</div><div style=\"background-color: #fff5f0; padding:4px; margin:2px\">user user user por favor alguien que pueda cuidar los gatitos mientras se le encuentran hogar ellos son inocentes</div><div style=\"background-color: #fff5f0; padding:4px; margin:2px\">user user user user user chicos que amen los animales por favor ayudar ellos con su mirada lo dicen</div><div style=\"background-color: #fff5f0; padding:4px; margin:2px\">user user esta enamorado yale golpeara la suerte</div><div style=\"background-color: #fff5f0; padding:4px; margin:2px\">user user que hermoso rescataron a unos hermosos gatitos les deseo toda la suerte y que lleguen a un buen hogar y le den 💘</div><div style=\"background-color: #fff5f0; padding:4px; margin:2px\">user user almenos se dio cta es el papel horrible que le toco</div><div style=\"background-color: #fff5f0; padding:4px; margin:2px\">user eres seco gonzalo se te metece un premio como periodista te as lúcido en los reportajes y asi ver flameuser mi linda bandera</div><div style=\"background-color: #fff5f0; padding:4px; margin:2px\">user user gracias a dios hoy termina de apagarse mi pais que se quema y sufre por tanto daño y tb ve … <url></div><div style=\"background-color: #fff5f0; padding:4px; margin:2px\">user un ejemplo hermoso que nos da esta perrita yo se de esto pero me alegro que lo hallan puesto en red social soolo pedirle a dios</div><div style=\"background-color: #fff5f0; padding:4px; margin:2px\">user user es verdad le puso mucho color susto tuvieron pero nunca tanto es para dar sintonía</div><div style=\"background-color: #fff5f0; padding:4px; margin:2px\">user user asi tienen que hacer los jugadores de la roja ellos pueden ayudar a nuestro país cdo juegan uno los va haber</div><div style=\"background-color: #fff5f0; padding:4px; margin:2px\">user user gonzalo mas de ser un super periodista aperrado con su país agotado trasnochado se ve que a bajado de peso</div><div style=\"background-color: #fff5f0; padding:4px; margin:2px\">user se llena la boca porque no le quita la plata al hijo que es de todos los chilenos</div><div style=\"background-color: #fff5f0; padding:4px; margin:2px\">user al fin pensastes que nuestro país es.importante ya era hora</div><div style=\"background-color: #fff5f0; padding:4px; margin:2px\">user user ya era hora ya que tiene tanta creatividad quede opinión ahora se necesita no despues para pedir el voto</div><div style=\"background-color: #fff5f0; padding:4px; margin:2px\">user su fiel compañero se necesita agua alimentos para las mascotas</div><div style=\"background-color: #fff5f0; padding:4px; margin:2px\">user me las he sufrido toda no quisiera que fueran atentados que estan haciendo esto quemar a mi país</div><div style=\"background-color: #fff5f0; padding:4px; margin:2px\">user ya rra hora sra quiere que nuestro pais desaparesca</div><div style=\"background-color: #fff5f0; padding:4px; margin:2px\">user tienes que agradecer son tus jefes y gu tm puedes apadrinar yo se que tienes un gran ❤</div><div style=\"background-color: #fff5f0; padding:4px; margin:2px\">user marcela da el ejemplo tu porque todos queremos apadrinar pero las personas de clse acomodada ellas deben ser las primeras en eje</div><div style=\"background-color: #fff5f0; padding:4px; margin:2px\">user te pasaste begoña hasta el nombre rima para una hermosa teina lo haces super heredaste el talento de karem eres istronica</div><div style=\"background-color: #fff5f0; padding:4px; margin:2px\">user que lindo como cuidas a tu nana y la acompañas en los momentos mas dificiles eso se agradece tienes un gran ❤ pero vuelve</div><div style=\"background-color: #fff5f0; padding:4px; margin:2px\">user ahora ya sra pta ud de el ejemplo y dele un sueldo a parte que ellos cumple su labor y tambien tienen 👪 dejar el trabajo</div><div style=\"background-color: #fff5f0; padding:4px; margin:2px\">user user es un lugar maravilloso a quien sea amante de los gatunos y formen parte de su hogar ahi hay son majicos 💋</div><div style=\"background-color: #fff5f0; padding:4px; margin:2px\">user lucia expetacular no vi a las otras pero con un vestdo cencillo la eleganci el cinturón y la estampa de nuestra querida karem</div><div style=\"background-color: #fff5f0; padding:4px; margin:2px\">user user . me vas a perdonar pero tiene una personalidad y unos cojones que se aplaude</div><div style=\"background-color: #fff5f0; padding:4px; margin:2px\">user por favor a todas las petsonas dejen agua fuera de su casa los animalitos la cocina buscan ellos a sustados y tb ofrecerle abuelo</div><div style=\"background-color: #fff5f0; padding:4px; margin:2px\">user user por favor poner tistos de agua para los animalitos asustados y ayuda al adulto mayor que dios los bendiga</div><div style=\"background-color: #fff5f0; padding:4px; margin:2px\">user una gran mujer mamá luchadora eres una estrellita iluminada x dios cuidate mucho pronto quizas te veremos xpantalla un 💋</div><div style=\"background-color: #fff5f0; padding:4px; margin:2px\">user tan creida se las da de millonaria y se acuerde como eta ahora mira por arriba</div><div style=\"background-color: #fff5f0; padding:4px; margin:2px\">user user gracias nacho que tengas un lindo dia domingo</div><div style=\"background-color: #fff5f0; padding:4px; margin:2px\">user user yo e tomado tecito con los niños son hermosos los mi niños</div><div style=\"background-color: #fff5f0; padding:4px; margin:2px\">user user es hermoso el lugar</div><div style=\"background-color: #fff5f0; padding:4px; margin:2px\">user user user salvajes ya les tocara a rsos malandros</div><div style=\"background-color: #fff5f0; padding:4px; margin:2px\">user nacho despues que carolina de moras no te apoyo van a estar juntos yo te veia con pamela bueno trabajo es trabajo</div><div style=\"background-color: #fff5f0; padding:4px; margin:2px\">hoy conéctate al streaming de #sirenaelmusical comenta y participa por entradas . ¡ yo ya estoy participando ! <url></div><div style=\"background-color: #fff5f0; padding:4px; margin:2px\">user user el hambre es mas . pobres animales abandonado hojala las personas tomen conciencia cdo tengan una perra y en celo no abandon</div><div style=\"background-color: #fff5f0; padding:4px; margin:2px\">user mucho exito pamela para toda tu hermosa familia un 💋 y un abrazo</div><div style=\"background-color: #fff5f0; padding:4px; margin:2px\">user pamelita muchas felicidades tu das alegria a todo un país ya sabes que quiero conocerte soy de la v region mi celu es 9900008 11</div><div style=\"background-color: #fff5f0; padding:4px; margin:2px\">user que seas muyyy feliz</div><div style=\"background-color: #fff5f0; padding:4px; margin:2px\">user eres lo maximo eres estupenda y lo que hay que mostrar con elegancia se luce envidiosas unas bonitas fiestas cariños a tu mamá</div><div style=\"background-color: #fff5f0; padding:4px; margin:2px\">user porque a otros les pagan cada cual exige lo que vale me gusta pamela que se de su lugar como a la de moras tremendo billete</div><div style=\"background-color: #fff5f0; padding:4px; margin:2px\">soy parte de #chi ” #clubplay y tú ? <url></div><div style=\"background-color: #fff5f0; padding:4px; margin:2px\">user user suerte felicidades eres total</div><div style=\"background-color: #fff5f0; padding:4px; margin:2px\">user cariño para navidad tendran hogar</div><div style=\"background-color: #fff5f0; padding:4px; margin:2px\">user jajajajaja lo único que queria pantalla</div><div style=\"background-color: #fff5f0; padding:4px; margin:2px\">user user bendiciones nacho</div><div style=\"background-color: #fff5f0; padding:4px; margin:2px\">user user sra virginia viña no es solo el centro mire como tiene su gente en los cerros hojala el concejal mendoza haga algo</div><div style=\"background-color: #fff5f0; padding:4px; margin:2px\">user user sdios bendiga a la persona que va a coperar para la peludita y desearle una linda navidad</div><div style=\"background-color: #fff5f0; padding:4px; margin:2px\">user es genial autentica y tiene un ❤ grande para mi seria un honor conocerla mi suegra hablaba mucho de ella y su hermana lily</div><div style=\"background-color: #fff5f0; padding:4px; margin:2px\">user me encanta raquel mi suegra es amiga de la mama y el padre lo maximo es una diva yo no la conosco pero seria un honor para mi 💋</div><div style=\"background-color: #fff5f0; padding:4px; margin:2px\">user seguro que quiere pedir plata para su candidatura es un comunista haga algo por la pobresa en el senado y combata a delincuentes</div><div style=\"background-color: #fff5f0; padding:4px; margin:2px\">user plis adpten a esa hermosura no saben la alegria que van a tener para navidad ellas son limpias tu las educas y son señoritas</div><div style=\"background-color: #fff5f0; padding:4px; margin:2px\">user user no marcela emosion hasta el final</div><div style=\"background-color: #fff5f0; padding:4px; margin:2px\">user que hermosa gatita hojala le de amor son tan carinosas a ella le va haver bien tenerla siempre que no viaje ellas piden cariño</div><div style=\"background-color: #fff5f0; padding:4px; margin:2px\">user sera verdad ya que el pronóstico nunca se sabé qie tengan una hermosa navidad que lindo tu hijo renato se vio en teleton</div><div style=\"background-color: #fff5f0; padding:4px; margin:2px\">user user user lo mejor que el senador cumpla y se preocupe por la ii region done hace falta comunista eso</div><div style=\"background-color: #fff5f0; padding:4px; margin:2px\">user user user user user rogemos para que navidad tenga su nuevo hogar</div><div style=\"background-color: #fff5f0; padding:4px; margin:2px\">user ansias de poder un comunista mas po senador x antofagasta no hace nada en la camara basta de drogas y colombianos prostitucion</div><div style=\"background-color: #fff5f0; padding:4px; margin:2px\">user mi chiquitita linda aún no encuentras un hogar para navidad ya hagamos un reto retuitear para que la maravilla tenga hogar</div><div style=\"background-color: #fff5f0; padding:4px; margin:2px\">user parece que no tienen otra cosa la adriana tiene que dar pantalla porque no buscan gente anonimas eso les haría bien disculpen</div><div style=\"background-color: #fff5f0; padding:4px; margin:2px\">user user user yo tb los amos son lo mas tiernos del mundo dan energia a la casa y este tpo es de ellos la navidad 💋</div><div style=\"background-color: #fff5f0; padding:4px; margin:2px\">user bendiciones para esa cosa linda que encuentre hogar para navidad</div><div style=\"background-color: #fff5f0; padding:4px; margin:2px\">user . jajaja que podia esa niña solo un montaje para ganar unas lucas</div><div style=\"background-color: #fff5f0; padding:4px; margin:2px\">user es super lider pero el caballero que hace la publicidad nos tiene chata lastima que se volviron a repetir</div><div style=\"background-color: #fff5f0; padding:4px; margin:2px\">user user user user paty tu no sabes lo que te admiro somos yunta de edad mis sueños es conocerte felicidad</div><div style=\"background-color: #fff5f0; padding:4px; margin:2px\">user nadien te la creé ya esperemos lo poco que le queda que sea bien transparente y diga la verdad que le esconde a su hijo</div><div style=\"background-color: #fff5f0; padding:4px; margin:2px\">user ya van a estar toda la noche con el tema que cambiado esta lamento que no se hable de lo que pasa en nuestra socialite chilena</div><div style=\"background-color: #fff5f0; padding:4px; margin:2px\">user user user user user por favor encontrar a la dueña no quiero sufrir pensando que esta solita</div><div style=\"background-color: #fff5f0; padding:4px; margin:2px\">user user bendiciones a esa hermosa bebe y a su 👪 que tengan una hermosa navidad y espero pronto estes mi sueño conocert</div><div style=\"background-color: #fff5f0; padding:4px; margin:2px\">user user que lastima hay personas mas interesantes no perder el tpo con ella</div><div style=\"background-color: #fff5f0; padding:4px; margin:2px\">user user me vusta pero tengo 67 años que daria por bailar</div><div style=\"background-color: #fff5f0; padding:4px; margin:2px\">user user . viva la cuarta lastima que no me saque una entrada bueno todos los años es asi el pueblo mira de la tele</div><div style=\"background-color: #fff5f0; padding:4px; margin:2px\">user se padan ya no son los humildes bueno la plata le sube los humo pero los periodistas se ven humanos x lo menos son leales</div><div style=\"background-color: #fff5f0; padding:4px; margin:2px\">user te lo mereces eres capo seco no inventan para hacerce conocido lastima que te canviaste de canal pero igual se te quiere</div><div style=\"background-color: #fff5f0; padding:4px; margin:2px\">user y no es chiste mas lo que vote y no sali sorteada con una entrada los pitutos son reales espero que respetrn las votaciones</div><div style=\"background-color: #fff5f0; padding:4px; margin:2px\">user ya el mega cambio nobson los humildes cdo empezaron ellos viajan y muestran sus vacaciones sus lujos se an reales como empez</div><div style=\"background-color: #fff5f0; padding:4px; margin:2px\">user solita ya que el rafa esta en el matinal</div><div style=\"background-color: #fff5f0; padding:4px; margin:2px\">user exto gary eres grande y toda la fuerza del mundo cuidate para que nos brindes alegria que solo tu tienes un gran abrazo 💋</div><div style=\"background-color: #fff5f0; padding:4px; margin:2px\">user user felicidades a la nueva integrante que integra esa maravillosa 👪 bendiciones recuperate pronto para disfrutar de tu 😂 💋</div><div style=\"background-color: #fff5f0; padding:4px; margin:2px\">user felicifades a ti a tu esposo y familia una gran mujer mis deseos es conocerte hojala se cumplan mis deseos cuidate cariños 💋</div><div style=\"background-color: #fff5f0; padding:4px; margin:2px\">user que lindo felicitaciones pamela se te extraña pone todos tus esfuerzos para pronto verte felicidad exito paz a tu hermosa fmla</div><div style=\"background-color: #fff5f0; padding:4px; margin:2px\">user i ud que sed ambrienta de ser presidente quiere otro sueldito suculento no le basta con lo que gana como petiodista lo celebro</div><div style=\"background-color: #fff5f0; padding:4px; margin:2px\">user mire sr guille preocupese de la ll region que tiene que sacar los delincuebtes indocumentados mi antofa esta sufriendo</div><div style=\"background-color: #fff5f0; padding:4px; margin:2px\">user esta bien pero pamelita para ella la 👑 de reina mas nace una beba que es emocion para navidad la inocencia pura ya ella fue rey</div><div style=\"background-color: #fff5f0; padding:4px; margin:2px\">user que tienes contra acuario que no lo nombras yolandita</div><div style=\"background-color: #67000d; padding:4px; margin:2px\">user . esta bien pero ud preocupese de antofagasta ya que los delincuentes a indocumentados que entran tienen la crema antofa es chile</div><div style=\"background-color: #fff5f0; padding:4px; margin:2px\">user . y acuario yolandita 💋</div><div style=\"background-color: #fff5f0; padding:4px; margin:2px\">user user si marcela te mandaste el condoro porque a tus hijas le gustan viene el grupo los b boy deseandote una linda navidad</div>"
      ],
      "text/plain": [
       "<IPython.core.display.HTML object>"
      ]
     },
     "metadata": {},
     "output_type": "display_data"
    }
   ],
   "source": [
    "from IPython.display import display, HTML\n",
    "import matplotlib\n",
    "import matplotlib.pyplot as plt\n",
    "\n",
    "def colorize_tweets(tweet_list, attn_weights):\n",
    "    cmap = matplotlib.cm.get_cmap('Reds')\n",
    "    template = '<div style=\"background-color: {}; padding:4px; margin:2px\">{}</div>'\n",
    "    colored_output = ''\n",
    "    for tweet, weight in zip(tweet_list, attn_weights):\n",
    "        color = matplotlib.colors.rgb2hex(cmap(weight)[:3])\n",
    "        text = ' '.join(tweet)\n",
    "        colored_output += template.format(color, text)\n",
    "    return colored_output\n",
    "\n",
    "idx2label = {v: k for k, v in train_dataset.label_map.items()}\n",
    "\n",
    "# Escoger los ejemplos con mayor atención máxima\n",
    "max_attn = [np.max(scores) for scores in train_scores]\n",
    "maxi = np.flip(np.argsort(max_attn))\n",
    "\n",
    "# Mostrar los ejemplos seguros\n",
    "max_examples = min(2, len(train_words), len(train_scores), len(train_pred))\n",
    "for j in range(max_examples):\n",
    "    i = maxi[j]\n",
    "    s = colorize_tweets(train_words[i], train_scores[i][:len(train_words[i])])\n",
    "    predicted_label = idx2label[train_pred[i]]\n",
    "    print(f'Predicción: {predicted_label}')\n",
    "    display(HTML(s))"
   ]
  },
  {
   "cell_type": "markdown",
   "id": "1b40545b",
   "metadata": {},
   "source": [
    "Sin embargo, a nivel oracion se resaltan tweets que dan mucho contexto sobre su origen, como la mencion de ciudades del pais de origen.\n",
    "\n",
    "# Preguntas\n",
    "1. ¿Qué representación de términos uso el profesor para participar?\n",
    "    - Se usa una Bag-of-Terms que captura la ocurrencia de las palabras en el espacio de usuario-documentos\n",
    "2. ¿Qué usó el primer lugar de la competencia?\n",
    "    - Uso una SVM lineal con unigramas de palabras y 3-, 4- y 5-gramas\n",
    "3. ¿Cuántos y que competidores usaron deep learning? En una o dos oraciones escriba qué hicieron\n",
    "    - Los autores de [29] usaron RNN; los de [56, 58] usaron una CNN (red convolucional); los de [41] usaron ambos tipos de NN ademas de usar un mecanismo de atencion, una capa de max-pooling y una capa completamente conexa; por su parte, los autores de [45] usaron regresion logistica combinada con un proceso gaussiano entrenado con embeddings de palabras; finalmente, los de [18] usaron Deep Averaging Networks"
   ]
  }
 ],
 "metadata": {
  "kernelspec": {
   "display_name": "Python 3",
   "language": "python",
   "name": "python3"
  },
  "language_info": {
   "codemirror_mode": {
    "name": "ipython",
    "version": 3
   },
   "file_extension": ".py",
   "mimetype": "text/x-python",
   "name": "python",
   "nbconvert_exporter": "python",
   "pygments_lexer": "ipython3",
   "version": "3.10.12"
  }
 },
 "nbformat": 4,
 "nbformat_minor": 5
}
